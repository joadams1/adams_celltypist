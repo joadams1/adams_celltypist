{
 "cells": [
  {
   "cell_type": "markdown",
   "id": "92703507-af16-4961-8db7-f12eb6afc519",
   "metadata": {},
   "source": [
    "# Mapping Function\n",
    "Designing a mapping fxn to allow us to test pretrained models when tested on data they were not trained on.\n",
    "\n",
    "To map to CT_45:"
   ]
  },
  {
   "cell_type": "code",
   "execution_count": null,
   "id": "baabeba4-861e-4a31-821d-5b444349d467",
   "metadata": {},
   "outputs": [],
   "source": [
    "def map_to_CT_45(adata, celltype_list: str):\n",
    "    adata.obs[celltype_list]"
   ]
  }
 ],
 "metadata": {
  "kernelspec": {
   "display_name": "Python 3 (ipykernel)",
   "language": "python",
   "name": "python3"
  },
  "language_info": {
   "codemirror_mode": {
    "name": "ipython",
    "version": 3
   },
   "file_extension": ".py",
   "mimetype": "text/x-python",
   "name": "python",
   "nbconvert_exporter": "python",
   "pygments_lexer": "ipython3",
   "version": "3.8.16"
  }
 },
 "nbformat": 4,
 "nbformat_minor": 5
}
