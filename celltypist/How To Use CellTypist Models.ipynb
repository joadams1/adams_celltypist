{
 "cells": [
  {
   "cell_type": "markdown",
   "id": "3af9eab2-b62a-46c6-8b9b-ae1c53ce63e8",
   "metadata": {},
   "source": [
    "# How to get and use CellTypist models to annotate data"
   ]
  },
  {
   "cell_type": "code",
   "execution_count": 1,
   "id": "58f7b946-f029-4fc7-beab-6b2e642629e7",
   "metadata": {
    "tags": []
   },
   "outputs": [],
   "source": [
    "import scanpy as sc\n",
    "import pandas as pd\n",
    "import anndata as ad\n",
    "from anndata import AnnData\n",
    "import numpy as np\n",
    "import collections\n",
    "\n",
    "from datetime import datetime\n",
    "import itertools\n",
    "\n",
    "from typing import Optional\n",
    "\n",
    "import matplotlib.pyplot as plt\n",
    "import plotly.graph_objects as go\n",
    "from scipy.sparse import spmatrix\n",
    "\n",
    "from annotate import annotate \n",
    "\n",
    "##if you would like to use the original CellTypist package you will need to install then import it \n",
    "##if celltypist is throwing an error with sklearn, install scikit-learn version 1.1.0 & that should fix it\n",
    "#import celltypist as ct\n",
    "#from celltypist import models"
   ]
  },
  {
   "cell_type": "markdown",
   "id": "23867066-d667-4af1-80be-51c1ee6d7a24",
   "metadata": {},
   "source": [
    "## Overview"
   ]
  },
  {
   "cell_type": "markdown",
   "id": "5198d49c-a524-4474-bbb7-722cda3838a5",
   "metadata": {},
   "source": [
    "CellTypist is a tool that allows for easy annotation of scRNAseq data. There are a variety of pretrained models avaliable to use to label data. There are some specifications you can make when training your data, such as whether or not to refine labels based on clusters, whether to cell type based on largest classifier scores or to employ multi-label classification, and more. This notebook will walk you through downloading models, prepping data, using CellTypist to annotate, and the checking the quality of the annotations. "
   ]
  },
  {
   "cell_type": "markdown",
   "id": "a0f65f5a-6a18-489f-8dbe-166bae8afb30",
   "metadata": {},
   "source": [
    "## Models & Data"
   ]
  },
  {
   "cell_type": "markdown",
   "id": "98636aa1-08ee-4562-bd98-eb56f7209e34",
   "metadata": {},
   "source": [
    "CellTypist provides a variety of models avaliable to download from https://www.celltypist.org/models. As of 11/03/23, there are 42 models avaliable. All models are for immune cells, sourced from multiple different organisms and tissues, and vary in health and diseases. Models are saved as pickle files.\n",
    "\n",
    "The models that are trained on the CellTypist data are Immune_All_Low.pkl and Immune_All_High.pkl. They are the same except for the granularity of the data; the Low model has 98 cell types ('low resolution') and the high model has 32 ('high resolution'). You can read more about them and the data they were trained on in original CellTypist paper (https://doi.org/10.1126/science.abl5197). \n",
    "\n",
    "The first step is to identify which model will best suit your needs. Things to consider are what the conditions of your data are (healthy, diseased, injured), what organisms and tissues the data came from, and what cell types you expect to be most represented in your data. Once you have chosen which model to use, the next step is to dowload and load the model into your notebook. For more details on downloading and viewing details of a CellTypist model, see sections 1.2-1.4 of the Usage section of the Github README file (https://github.com/Teichlab/celltypist). If you have access to the lilac or calcifer, you will have access to the SAIL models and will not need to download them; you just need the path to them which is `/home/adamsj5/auto_cell_tyiping/celltypist/Full Models/<Dataset Name>_full.pkl` (placeholder). "
   ]
  },
  {
   "cell_type": "code",
   "execution_count": null,
   "id": "cf690ecc-1253-415a-9250-5861c587c17a",
   "metadata": {},
   "outputs": [],
   "source": [
    "#to download an original CellTypist model \n",
    "models.download_models() #all CellTypist Models\n",
    "models.download_models(model = 'Immune_All_Low.pkl') #download one of them"
   ]
  },
  {
   "cell_type": "markdown",
   "id": "d7b21ac9-5ace-4f42-b90c-9f33efac18ee",
   "metadata": {},
   "source": [
    "Once you have your model, the next step is to confirm that your data is in an appropriate form for CellTypist. CellTypist annotate single-cell RNAseq data and can handle either data in a count table (eg `.csv`, `.txt`, `.mtx`, etc) or as AnnData saved in an `.h5ad` file. We recommend data in `.h5ad` files for easiest use. You will need to load in your data to your notebook or the file you are working in. "
   ]
  },
  {
   "cell_type": "code",
   "execution_count": 2,
   "id": "4787dabb-0abe-4d04-9ece-30eea3630a04",
   "metadata": {},
   "outputs": [],
   "source": [
    "adata = ad.read('/data/peer/adamsj5/cell_typing/train_test_data/Cheong_Full.h5ad')"
   ]
  },
  {
   "cell_type": "markdown",
   "id": "ab74590d-679f-45b6-b1b8-ff7590a5e0c9",
   "metadata": {},
   "source": [
    "Once the data is loaded, there are two quick things to check with your adata. First, you should make sure that the column names are the actual gene names and not the Ensemble IDs since CellTypist models are usually trained on those names. "
   ]
  },
  {
   "cell_type": "code",
   "execution_count": 3,
   "id": "dba19474-c478-4afd-93ff-f9d92279c895",
   "metadata": {},
   "outputs": [
    {
     "data": {
      "text/plain": [
       "Index(['MIR1302-2HG', 'FAM138A', 'OR4F5', 'AL627309.1', 'AL627309.3',\n",
       "       'AL627309.2', 'AL627309.5', 'AL627309.4', 'AP006222.2', 'AL732372.1',\n",
       "       ...\n",
       "       'AC133551.1', 'AC136612.1', 'AC136616.1', 'AC136616.3', 'AC136616.2',\n",
       "       'AC141272.1', 'AC023491.2', 'AC007325.1', 'AC007325.4', 'AC007325.2'],\n",
       "      dtype='object', name='x', length=36601)"
      ]
     },
     "execution_count": 3,
     "metadata": {},
     "output_type": "execute_result"
    }
   ],
   "source": [
    "adata.var_names\n",
    "#adata.var = adata.var.set_index('feature_name') #to rename to gene names based on a column in .var"
   ]
  },
  {
   "cell_type": "markdown",
   "id": "be666a8e-6983-4680-95be-94ffea3dd6cb",
   "metadata": {},
   "source": [
    "The second is to see if `X_umap` is included in `.obsm` of your adata. This will be needed for the annotation QC later on. If it isn't, use `sc.tl.umap()`."
   ]
  },
  {
   "cell_type": "code",
   "execution_count": 4,
   "id": "f0e090bd-66de-45a7-993d-720a60d54b46",
   "metadata": {},
   "outputs": [
    {
     "data": {
      "text/plain": [
       "AnnData object with n_obs × n_vars = 197360 × 36601\n",
       "    obs: 'orig.ident', 'nCount_RNA', 'nFeature_RNA', 'barcodes', 'sample', 'original', 'Final', 'percent.mt', 'nCount_SCT', 'nFeature_SCT', 'SCT_snn_res.0.8', 'seurat_clusters', 'predicted.celltype.l1.score', 'predicted.celltype.l1', 'predicted.celltype.l2.score', 'predicted.celltype.l2', 'Sex', 'Age', 'Status', 'MarkerAnnotations', 'Obesity', 'Diabetes.x', 'MetabolicDisorders', 'ImmuneDisorders.x', 'Bulkguided', 'nCount_DORC', 'nFeature_DORC', 'DeviationScores', 'Bridge', 'BridgeAnnotations', 'PseudoScores', 'DorcAnnotations', 'NewAnnotations', 'NewAnnotations_2', 'ClusterAnnotations', 'anti.IL-6', 'Status2', 'Diabetes.y', 'ImmuneDisorders.y', 'ImmuneDisorders.1', 'thrombotic.event', 'prominent.neuropathy', 'prominent.delirium', 'Kidney.injury', 'discharged.on.oxygen', 'pneumothorax', 'steroids', 'IL-6 blockade', 'imaging.followup'\n",
       "    uns: 'neighbors', 'umap'\n",
       "    obsm: 'X_pca', 'X_umap'\n",
       "    obsp: 'connectivities', 'distances'"
      ]
     },
     "execution_count": 4,
     "metadata": {},
     "output_type": "execute_result"
    }
   ],
   "source": [
    "adata"
   ]
  },
  {
   "cell_type": "markdown",
   "id": "f009f3fc-88f8-4935-8e0b-a9c7c971bc69",
   "metadata": {},
   "source": [
    "You also need to make sure that it is in an approriate format. If you are using AnnData, CellTypist expects the RNAseq count data in `adata.X` with cells as the rows and genes as the columns. The original CellTypist package expects either data normalized to 10,000 counts per cell and then log normalized or that the raw counts are present in `adata.raw`. While the original CellTypist annotate() function would throw an error when these conditions were not met, the SAIL annotation function overrides this and just prints a warning message instead. Because of this, please make sure that your data is normalized how you would like before you begin cell type annotation. You can also imput raw data that will then be normalized for you. "
   ]
  },
  {
   "cell_type": "code",
   "execution_count": null,
   "id": "ebafb554-1a9e-40d5-9a50-6c1fd457ea78",
   "metadata": {},
   "outputs": [],
   "source": [
    "#one way to see how many counts per cell your data is normalized to, assuming it was log normalized after\n",
    "np.expm1(adata.X[0]).sum() #the number this produces should be very close to the value you normalized to (just looking at the first cell)"
   ]
  },
  {
   "cell_type": "markdown",
   "id": "8ac25059-0eef-4667-ab88-93834aa75263",
   "metadata": {},
   "source": [
    "## Annotation"
   ]
  },
  {
   "cell_type": "markdown",
   "id": "95ecd088-9210-4b43-83c9-2c317628237a",
   "metadata": {},
   "source": [
    "Now, you should be ready to annotate you data. There are some arguments for the annotate() function that can have an effect on the output: \n",
    "1. `filename`: Path to the file to be annotate or a AnnData object already loaded into memory.\n",
    "2. `model`: Path to the model file, model name (if a CellTypist model that has been downloaded), or a :class:~celltypist.models.Model object.\n",
    "3. `transpose_input`: Whether to transpose the input matrix (aka if the data is in a genexcell format).\n",
    "4. `gene_file`: *ignore if not `.mtx`* Path to file that contains gene names that correspond to the columns of the input data \n",
    "5. `cell_file`: *ignore if not `.mtx`* Path to file that contains cell names that correspond to rows\n",
    "6. `mode`: The way cell prediction is preformed ('best match' -default or 'prob match')\n",
    "7. `p_thres`: *ignore if `mode = 'best match'`* Probability threshold for the multi-label classification\n",
    "8. `majority_voting`: Whether to provide a second set annotations based on clusters formed by overclustering \n",
    "9. `over_clustering`: *ignore if `majority_voting = False`* A plain file, python list, tuple, numpy array, pandas series or index, or label of AnnData .obs column. If blank it will use a over-clustering approach based on the size of the data. \n",
    "10. `min_prop`: The minimum proportion of cells in a cluster that need to support the dominant cell type for all cells to be assigned that cell type\n",
    "\n",
    "For first passes, we recommend `annotate(filename = <FILENAME>, model = <MODEL>)` for basic, default parameters. If you are unhappy with the results, you can adjust the parameters. It should not take longer than 30 minutes to annotate a dataset smaller than 1 million cells and can be quite quick for small datasets. "
   ]
  },
  {
   "cell_type": "code",
   "execution_count": null,
   "id": "e200cb69-448a-4598-89c7-652300724d39",
   "metadata": {},
   "outputs": [],
   "source": [
    "predictions = annotate.annotate(adata, model = model_loc)"
   ]
  },
  {
   "cell_type": "markdown",
   "id": "6f7ad27f-83b4-45f3-90a3-27241a55a91c",
   "metadata": {},
   "source": [
    "The output of this function is an ~celltypist.classifier.AnnotationResult object which is not particularly easy to work with. For a more workable end result, convert this output into AnnData. This AnnData object will have some important information in `.obs`: a column `predicted_labels` that contains the cell type annotation without majority voting, a column `conf_score` that contains the confidence score for each cell's `predicted_labels` label, and (if you used majority voting) a column `majority_voting` that contains the cell type labels curated through clustering. There should be an easy way to get the confidence score of majority voting instead of predicted labels, however I have found that it is not reliable. It is possible to get it manually. "
   ]
  },
  {
   "cell_type": "code",
   "execution_count": null,
   "id": "64e4cac5-7472-424e-aba1-04b794a12ccc",
   "metadata": {},
   "outputs": [],
   "source": [
    "adata_preds = predictions.to_adata()"
   ]
  },
  {
   "cell_type": "markdown",
   "id": "9bc6d0e0-1a2d-4cc3-85c5-c152ecf5b12b",
   "metadata": {},
   "source": [
    "## QC"
   ]
  },
  {
   "cell_type": "markdown",
   "id": "ac0ce05f-4f3b-40d8-a95d-49748d5cf4ca",
   "metadata": {},
   "source": [
    "It is important to check the annotations that CellTypist outputs before moving forward with your analysis. Assuming your dataset does not have groundtruth cell type annotations, there are a few things that you can check.\n",
    "\n",
    "First, you can see how many cells of each type there are in your dataset. If a large proportion of cells falls into one label (and you were not expecting that), something may have gone wrong. Also check to see if any major cell type that you expected to see is missing (given that it was one of the labels in the model).  "
   ]
  },
  {
   "cell_type": "code",
   "execution_count": null,
   "id": "3be5e6a2-19d9-4598-9ac9-ab37b8b4565e",
   "metadata": {},
   "outputs": [],
   "source": [
    "collections.Counter(adata_preds['predicted_labels'])"
   ]
  },
  {
   "cell_type": "markdown",
   "id": "9600e647-9810-4be9-886e-f6254823b601",
   "metadata": {},
   "source": [
    "Another way to look at the annotations is to make a UMAP coloured by cell type label. You will need `X_umap` in the AnnData's `.obsm` for this. The UMAP will again let you see if a concerning proportion of the cells are labeled with one cell type. It will also let you see if the annotations make sense with the clusters, in a broad sense. If you are colouring the UMAP using `predicted_labels` column, the colouring will likely not match perfectly with the clusters as they were not taken into consideration during the annotation step. However, if there are two clusters very far apart from each other that have the same label, this is a red flag and is worth investigating further. This method will become slightly less effective with models that have very granular cell types (>40 cell types). "
   ]
  },
  {
   "cell_type": "code",
   "execution_count": null,
   "id": "a75099e6-66df-4ace-b214-a6489ac2c653",
   "metadata": {},
   "outputs": [],
   "source": [
    "sc.pl.umap(adata_preds, color = ['predicted_labels'], title = \"UMAP Coloured by Predicted Labels\")"
   ]
  },
  {
   "cell_type": "markdown",
   "id": "710be54c-6207-4215-98ac-0b5f059080d5",
   "metadata": {},
   "source": [
    "Our last QC recommendation is to look at a UMAP coloured by the confidence score as well as the distribution of confidence scores. There will likely be very few cells with 0.1 < confidence score < 0.9, and most will fall to either extreme. It is normal for there to be some proportion of cells with low confidence scores, meaning the model was unsure in its annotation. However, if this number is close to equal to the number of cells with high confidence scores, something may have gone wrong. Also, by looking at the UMAP, you can see if there are certain clusters or cell types that the model had a harder time labelling. By pairing it with the UMAP coloured by cell types, you can look at the relationship between confidence score and your own confidence in the labels. For example, it would be alarming if you identified a cluster whose labels seemed incorrect due to prior knowledge, yet the confidence score for that cluster was very high.   "
   ]
  },
  {
   "cell_type": "code",
   "execution_count": null,
   "id": "d3fef0b4-c452-4859-8ded-6c523eb54b6c",
   "metadata": {},
   "outputs": [],
   "source": [
    "sc.pl.umap(adata_preds, color = ['conf_score'])\n",
    "print(adata_preds.obs['conf_score'].value_counts(bins=4, sort=False)) #how many cells in each quarter of the conf scores"
   ]
  },
  {
   "cell_type": "markdown",
   "id": "3cd4db18-4d74-45cf-9d45-0c5cac519947",
   "metadata": {},
   "source": [
    "If at any of these steps you identified an issues with the annotation, the primary course of action would be to try a different model. The labels the model produces is very dependant on the cell polutation and conditions of the data it was trained on and, if these do not match with your data, the model could mislabel your cells. Unfortunatley a major limitation of CellTypist is the models that have been produced; in order to be able to accurately label cells, CellTypist needs to have been trained on a manually labelled dataset that matches your cell population well enough. If you have an annotated dataset that you would like to use to train a model, see 'How To Train a CellTypist Model.ipynb'.\n",
    "\n",
    "No cell type annotation done by a CellTypist model (or any automatic cell typing model) will be completely accurate and there is bound to be some cells that are incorrectly labeled. It is very important that you judge the quality of the annotations yourself and often CellTypist should just be used as a starting point for labelling data. Incorperating your own expertise into the cell types will only strengthen the quality of your downstream analysis. "
   ]
  }
 ],
 "metadata": {
  "kernelspec": {
   "display_name": "Python [conda env:root]",
   "language": "python",
   "name": "conda-root-py"
  },
  "language_info": {
   "codemirror_mode": {
    "name": "ipython",
    "version": 3
   },
   "file_extension": ".py",
   "mimetype": "text/x-python",
   "name": "python",
   "nbconvert_exporter": "python",
   "pygments_lexer": "ipython3",
   "version": "3.11.4"
  }
 },
 "nbformat": 4,
 "nbformat_minor": 5
}
