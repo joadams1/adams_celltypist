{
 "cells": [
  {
   "cell_type": "markdown",
   "id": "db2b1626-a930-4fff-8343-8cc6796c9f77",
   "metadata": {
    "tags": []
   },
   "source": [
    "# Building New Models to Benchmark Against Celltypist\n",
    "This notebook is primarily used to look at the datasets that the models will be trained on to make sure that the data looks good and all the required features are present. I also split the data into train and test data here for use in train_models_celltypist.py and annotate_data.py (and by extension 'Benchmaking Models.ipynb')\n",
    "\n",
    "### Order of Models: \n",
    "0. Train the basic CellTypist model on this data for easy comparison with other models later\n",
    "1. Remove the feature selection from CellTypist (so it only trains the model once)\n",
    "2. Train the model with L1 regularization instead of L2\n",
    "3. Train the model only once with only Cytopus genes\n",
    "4. At the feature selection step, make sure the Cytopus genes are included in the list of top genes\n",
    "5. Combine models 2 & 4. Use L1 during first step, then make sure Cytopus genes are included, then switch back to L2 regularization\n",
    "6. Pick top 10,000 most variable genes and have dataset include just those genes before scaling data\n",
    "\n",
    "### Data Used: \n",
    "CT_45 \n",
    "- from Conde et al. 2022 ('Cross-tissue immune cell analysis reveals tissue-specific features in humans')\n",
    "- CountAdded_PIP_global_object_for_cellxgene.h5ad\n",
    "- models trained on this data are saved as 'ct_model_#.pkl'\n",
    "\n",
    "CT_98\n",
    "- see CT_45\n",
    "- CellTypist_Immune_Reference_v2_count.h5ad\n",
    "- models trained on this data are saved as '98_model_#.pkl'\n",
    "\n",
    "COV_PBMC\n",
    "- PBMC cells (Infected with COVID)\n",
    "- haniffa21.processed.h5ad\n",
    "- models trained on this are saved as 'COV_model_#.pkl'\n",
    "\n",
    "Glasner\n",
    "- from Glasner et al. 2023 ('Conserved transcriptional connectivity of regulatory T cells in the tumor microenvironment informs new combination cancer therapy strategies')\n",
    "- Lung adenocarcinoma \n",
    "- glasner_etal_globalAnndata_20230112.vHTA.h5ad + annotations from 'ad_endo_LS_20211026.results.h5ad', ad_fib_scranLogNorm_filt_20220113.h5ad', 'glasner_ad_myeloid_celltypist_20230606.h5ad'\n",
    "- models trained on this are saved as 'g_model_#.pkl'\n",
    "\n",
    "HBCA \n",
    "- from Kumar et al. 2023 ('A spatially resolved single-cell genomic atlas of the adult human breast')\n",
    "- Breast (healthy)\n",
    "- local.h5ad from cellxgene (renamed Kumar2023_breast.h5ad)\n",
    "- models produced are saved as 'HBCA_model_#.pkl'\n",
    "\n",
    "LuCA\n",
    "- from Salcher et al. 2022 ('High-resolution single-cell atlas reveals diversity and plasticity of tissue-resident neutrophils in non-small cell lung cancer')\n",
    "- local.h5ad from cellxgene (renamed Salcher2022.h5ad)\n",
    "- Non-small cell lung cancer\n",
    "- models saved as 'LuCA_model_#.pkl'\n",
    "\n",
    "HuBMAP\n",
    "- from Lake et al. 2023 ('An atlas of healthy and injured cell states and niches in the human kidney') \n",
    "- Kidney (healthy and injured)\n",
    "- local.h5ad from cellxgene (remaned Lake2023.h5ad) \n",
    "- models saved as 'HuBMAP_model_#.pkl'\n",
    "\n",
    "Niec/Chu Data \n",
    "- from Niec et al. 2022 ('Lymphatics act as a signaling hub to regulate intestinal stem cell activity')\n",
    "- Colon\n",
    "- SI_adata_paper.h5ad and LI_adata_paper.h5ad -> two models for the two datasets/parts of the intestine \n",
    "- models saved as 'Niec_SI_model_#.pkl' or 'Niec_LI_model_#.pkl'\n",
    "\n",
    "Brown Data\n",
    "- from Brown et al. 2019 ('Transcriptional Basis of Mouse and Human Dendritic Cell Heterogeneity')\n",
    "- Dendritic cells \n",
    "- mouse_spleen_normlog.h5ad\n",
    "- models saved as 'Brown_model_#.pkl'"
   ]
  },
  {
   "cell_type": "code",
   "execution_count": 2,
   "id": "65db09ee-ab3c-4fcc-b697-6458588b8ad5",
   "metadata": {
    "tags": []
   },
   "outputs": [],
   "source": [
    "import scanpy as sc\n",
    "import pandas as pd\n",
    "import anndata as ad\n",
    "import numpy as np\n",
    "import itertools\n",
    "from anndata import AnnData\n",
    "from scipy.sparse import spmatrix\n",
    "from datetime import datetime\n",
    "from typing import Optional, Union\n",
    "from sklearn import __version__ as skv\n",
    "\n",
    "import cytopus as cp\n",
    "\n",
    "from sklearn.linear_model import SGDClassifier\n",
    "from sklearn.preprocessing import StandardScaler\n",
    "from sklearn.metrics import f1_score\n",
    "\n",
    "#import celltypist as ct #if its throwing an error with sklearn, install scikit-learn version 1.1.0 & that should fix\n",
    "#from celltypist import logger \n",
    "#from celltypist.models import Model\n",
    "import logger\n",
    "from models import Model\n",
    "import train"
   ]
  },
  {
   "cell_type": "markdown",
   "id": "fb19cb13-25d0-46aa-8fc1-76128831334c",
   "metadata": {
    "tags": []
   },
   "source": [
    "## Functions \n",
    "From celltypist/train.py with some edits/additions"
   ]
  },
  {
   "cell_type": "code",
   "execution_count": 3,
   "id": "5b54d1a4-606a-4829-83be-4a8b75992538",
   "metadata": {
    "tags": []
   },
   "outputs": [],
   "source": [
    "def train_test_split(adata, frac: int = 0.75):\n",
    "    \"\"\"\n",
    "    USING OUTLINE OF CODE FROM trVAE https://doi.org/10.1093/bioinformatics/btaa800\n",
    "    Split AnnData into test and train datasets - maintains annotations\n",
    "    \n",
    "    Params: \n",
    "    adata\n",
    "        Annotated data matrix (Anndata)\n",
    "    frac\n",
    "        Fraction of cells to be used in the training set\n",
    "    \"\"\"\n",
    "    no_idx_train = int(adata.shape[0] * frac)\n",
    "    indices = np.arange(adata.shape[0])\n",
    "    np.random.shuffle(indices)\n",
    "    train_index = indices[:no_idx_train]\n",
    "    test_index = indices[no_idx_train:]\n",
    "    train = adata[train_index]\n",
    "    test = adata[test_index]\n",
    "    return train, test"
   ]
  },
  {
   "cell_type": "markdown",
   "id": "27e76e44-b0d6-4935-a60d-c38791ed08a8",
   "metadata": {
    "tags": []
   },
   "source": [
    "## Data\n",
    "Loading cytopus cell type dictionary"
   ]
  },
  {
   "cell_type": "code",
   "execution_count": 6,
   "id": "f9de12f7-d24d-4da4-8eb5-232f3a795151",
   "metadata": {
    "tags": []
   },
   "outputs": [
    {
     "name": "stdout",
     "output_type": "stream",
     "text": [
      "KnowledgeBase object containing 75 cell types and 201 cellular processes\n",
      "\n"
     ]
    }
   ],
   "source": [
    "G = cp.kb.KnowledgeBase()\n",
    "cell_dict = G.identities\n",
    "\n",
    "#make a list of genes from cytopus dict & remove NaNs\n",
    "#the celltype information doesn't need to be retained since we're applying this gene list to all celltypes\n",
    "cp_genes = []\n",
    "for i in cell_dict.values():\n",
    "    cp_genes.append(i)\n",
    "cp_genes = list(itertools.chain(*cp_genes)) #make flatlist out of LoL\n",
    "cp_genes = [x for x in cp_genes if str(x) != 'nan']"
   ]
  },
  {
   "cell_type": "markdown",
   "id": "e5c677b0-0a93-4cf4-a5fc-15377389bef9",
   "metadata": {
    "jp-MarkdownHeadingCollapsed": true,
    "tags": []
   },
   "source": [
    "### CT_45\n",
    "Loading in data from celltypist"
   ]
  },
  {
   "cell_type": "code",
   "execution_count": 18,
   "id": "98f63e36-f202-471e-ac1a-2ba5ca87c997",
   "metadata": {
    "tags": []
   },
   "outputs": [],
   "source": [
    "#adatact_45 = ad.read('../../Data/CountAdded_PIP_global_object_for_cellxgene.h5ad') #local location\n",
    "adatact_45 = ad.read('/data/peer/adamsj5/cell_typing/CountAdded_PIP_global_object_for_cellxgene.h5ad') #lilac location\n",
    "#sc.pp.subsample(adata, n_obs = 75000)"
   ]
  },
  {
   "cell_type": "code",
   "execution_count": 4,
   "id": "db491854-bd12-4c95-abaf-383a079988ad",
   "metadata": {
    "tags": []
   },
   "outputs": [],
   "source": [
    "trainct_45, testct_45 = train_test_split(adatact_45)"
   ]
  },
  {
   "cell_type": "code",
   "execution_count": 11,
   "id": "40d1020d-6625-46d0-b26b-41e2c452bf9d",
   "metadata": {
    "tags": []
   },
   "outputs": [
    {
     "data": {
      "text/plain": [
       "View of AnnData object with n_obs × n_vars = 230833 × 36601\n",
       "    obs: 'Organ', 'Donor', 'Chemistry', 'Cell_category', 'Predicted_labels_CellTypist', 'Majority_voting_CellTypist', 'Majority_voting_CellTypist_high', 'Manually_curated_celltype', 'Sex', 'Age_range'\n",
       "    uns: 'Age_range_colors', 'Sex_colors'\n",
       "    obsm: 'X_umap'\n",
       "    layers: 'counts'"
      ]
     },
     "execution_count": 11,
     "metadata": {},
     "output_type": "execute_result"
    }
   ],
   "source": [
    "trainct_45"
   ]
  },
  {
   "cell_type": "code",
   "execution_count": 7,
   "id": "e511c2ff-b471-4435-b378-779960bceb4e",
   "metadata": {
    "tags": []
   },
   "outputs": [],
   "source": [
    "#trainct_45, testct_45 = train_test_split(adatact_45, 0.3)\n",
    "trainct_45 = ad.read('/data/peer/adamsj5/cell_typing/train_test_data/CT_45_Train.h5ad')\n",
    "indatact_45 = trainct_45.X\n",
    "labelsct_45 = trainct_45.obs[\"Manually_curated_celltype\"]\n",
    "genesct_45 = trainct_45.var_names"
   ]
  },
  {
   "cell_type": "code",
   "execution_count": 8,
   "id": "61670d0a-5438-4624-8c4d-46edbb88fabb",
   "metadata": {
    "tags": []
   },
   "outputs": [
    {
     "data": {
      "text/plain": [
       "False"
      ]
     },
     "execution_count": 8,
     "metadata": {},
     "output_type": "execute_result"
    }
   ],
   "source": [
    "(np.abs(np.expm1(indatact_45[0]).sum()-10000) > 1)"
   ]
  },
  {
   "cell_type": "markdown",
   "id": "75e95e72-c754-47ba-9c74-3c93778139a1",
   "metadata": {},
   "source": [
    "Making a data table that only includes genes from cytopus (for model 3)"
   ]
  },
  {
   "cell_type": "code",
   "execution_count": null,
   "id": "6c896692-1e65-4394-8a17-d96de6ebce6d",
   "metadata": {
    "tags": []
   },
   "outputs": [],
   "source": [
    "cp_and_ct_genes_45 = [x for x in cp_genes if x in trainct_45.var_names]\n",
    "cp_and_ct_genes_45 = np.unique(cp_and_ct_genes_45)"
   ]
  },
  {
   "cell_type": "code",
   "execution_count": null,
   "id": "ea0c9110-df45-4cc6-b2d3-932ebf6fc4fb",
   "metadata": {
    "tags": []
   },
   "outputs": [],
   "source": [
    "trainct_45_cp = trainct_45[:, cp_and_ct_genes_45]\n",
    "indatact_45_cp = trainct_45_cp.X\n",
    "labelsct_45_cp = trainct_45_cp.obs[\"Manually_curated_celltype\"]\n",
    "genesct_45_cp = trainct_45_cp.var_names"
   ]
  },
  {
   "cell_type": "code",
   "execution_count": 5,
   "id": "2b4aca0b-d15e-4fec-a933-888abff9e579",
   "metadata": {
    "tags": []
   },
   "outputs": [],
   "source": [
    "trainct_45.write_h5ad('/data/peer/adamsj5/cell_typing/train_test_data/CT_45_Train.h5ad') #lilac location\n",
    "testct_45.write_h5ad('/data/peer/adamsj5/cell_typing/train_test_data/CT_45_Test.h5ad')"
   ]
  },
  {
   "cell_type": "markdown",
   "id": "236ec88d-8007-49f5-9805-5e3fbb7f9b28",
   "metadata": {
    "jp-MarkdownHeadingCollapsed": true,
    "tags": []
   },
   "source": [
    "### CT_98\n",
    "v2 of CellTypist training data that I believe the Immune_All models were trained on. "
   ]
  },
  {
   "cell_type": "code",
   "execution_count": 6,
   "id": "300fdb77-970d-4318-abe5-393e3038faae",
   "metadata": {
    "tags": []
   },
   "outputs": [],
   "source": [
    "#adatact_98 = ad.read('../../Data/CellTypist_Immune_Reference_v2_count.h5ad') #local location\n",
    "adatact_98 = ad.read('/data/peer/adamsj5/cell_typing/CellTypist_Immune_Reference_v2_count.h5ad') #lilac location"
   ]
  },
  {
   "cell_type": "markdown",
   "id": "0b4750d9-3419-460b-b4d4-76218480f42e",
   "metadata": {},
   "source": [
    "This data is not normalized or transformed. In order to get it to a place where we can train the models, we need to normalize the counts from each cell and transform. CellTypist wants data normalized to 10,000 counts per cell. However, it has been shown that this is not the best technique (Ahlmann-Eltze & Huber, 2023). For our models, we will recommend normalizing to the median library size. You can override CellTypist's expected expression by setting the argument 'check_expression' in the train function to False. After normalizing, the standard is to log transform the data with a pseudocount of 1. "
   ]
  },
  {
   "cell_type": "code",
   "execution_count": null,
   "id": "573c9326-808c-48eb-92bf-99df961ef494",
   "metadata": {
    "tags": []
   },
   "outputs": [],
   "source": [
    "#find median library size & normalize to that value\n",
    "lib_size = []\n",
    "for i in range(675607):\n",
    "    col_sum = adatact_98[i].X.sum()\n",
    "    lib_size.append(col_sum)"
   ]
  },
  {
   "cell_type": "code",
   "execution_count": null,
   "id": "ed7dc3d9-c243-4fc6-812a-a6b22fee124e",
   "metadata": {
    "tags": []
   },
   "outputs": [],
   "source": [
    "med_ls = np.median(lib_size) #4725\n",
    "#med_ls = 4725"
   ]
  },
  {
   "cell_type": "code",
   "execution_count": 7,
   "id": "803b2471-dee1-4c17-b9a6-c2228121c33d",
   "metadata": {
    "tags": []
   },
   "outputs": [],
   "source": [
    "sc.pp.normalize_total(adatact_98)"
   ]
  },
  {
   "cell_type": "code",
   "execution_count": null,
   "id": "2feef0e9-1000-4322-9299-d14ffaa6850e",
   "metadata": {
    "tags": []
   },
   "outputs": [],
   "source": [
    "adatact_98.X[0].sum()"
   ]
  },
  {
   "cell_type": "code",
   "execution_count": 8,
   "id": "c179cfb7-4802-4db7-97b1-959fd7f9bb93",
   "metadata": {},
   "outputs": [],
   "source": [
    "#log transform\n",
    "adatact_98.X= np.log1p(adatact_98.X)"
   ]
  },
  {
   "cell_type": "code",
   "execution_count": null,
   "id": "b44e3ea7-706e-43a1-a702-818da2e46fa6",
   "metadata": {
    "tags": []
   },
   "outputs": [],
   "source": [
    "#check that the data looks ok (want this to be less than 1): \n",
    "np.abs(np.expm1(adatact_98.X[0]).sum()-med_ls) "
   ]
  },
  {
   "cell_type": "code",
   "execution_count": null,
   "id": "de59a837-6776-430b-90d1-d492cfb17ddc",
   "metadata": {
    "tags": []
   },
   "outputs": [],
   "source": [
    "\n",
    "trainct_98 = ad.read('/data/peer/adamsj5/cell_typing/train_test_data/CT_98_train.h5ad')\n",
    "indatact_98 = trainct_98.X\n",
    "labelsct_98 = trainct_98.obs[\"Harmonised_detailed_type\"]\n",
    "genesct_98 = trainct_98.var_names"
   ]
  },
  {
   "cell_type": "code",
   "execution_count": null,
   "id": "68539c05-12be-4077-88bf-2960004d08da",
   "metadata": {
    "tags": []
   },
   "outputs": [],
   "source": [
    "cp_and_ct_genes_98 = [x for x in cp_genes if x in trainct_98.var_names]\n",
    "cp_and_ct_genes_98 = np.unique(cp_and_ct_genes_98)"
   ]
  },
  {
   "cell_type": "code",
   "execution_count": null,
   "id": "7dbfae52-e27b-41b1-897f-262138ac018e",
   "metadata": {
    "tags": []
   },
   "outputs": [],
   "source": [
    "trainct_98_cp = trainct_98[:, cp_and_ct_genes_98]\n",
    "indatact_98_cp = trainct_98_cp.X\n",
    "labelsct_98_cp = trainct_98_cp.obs[\"Harmonised_detailed_type\"]\n",
    "genesct_98_cp = trainct_98_cp.var_names"
   ]
  },
  {
   "cell_type": "code",
   "execution_count": 10,
   "id": "3a7ecaf3-ad4b-4a98-ab88-5f48eadb3bca",
   "metadata": {
    "tags": []
   },
   "outputs": [],
   "source": [
    "trainct_98.write_h5ad('/data/peer/adamsj5/cell_typing/train_test_data/CT_98_Train.h5ad') #lilac location\n",
    "testct_98.write_h5ad('/data/peer/adamsj5/cell_typing/train_test_data/CT_98_Test.h5ad') #lilac location"
   ]
  },
  {
   "cell_type": "markdown",
   "id": "d57519b0-2764-4cf3-a5cd-ef452ff32995",
   "metadata": {
    "jp-MarkdownHeadingCollapsed": true,
    "tags": []
   },
   "source": [
    "### COV_PBMC\n",
    "The last 192 features in this matrix are antibodies, not genes. The matrix is normalized to the number of counts per gene, excluding the antibodies and since we don't want to include antibodies in our model either, I will be removing those columns. "
   ]
  },
  {
   "cell_type": "code",
   "execution_count": 12,
   "id": "077637b5-1cb4-4144-86ac-270cc381c276",
   "metadata": {
    "tags": []
   },
   "outputs": [],
   "source": [
    "#adata_COV = ad.read('../../Data/haniffa21.processed.h5ad') #local location\n",
    "adata_COV = ad.read('/data/peer/adamsj5/cell_typing/haniffa21.processed.h5ad') #lilac location"
   ]
  },
  {
   "cell_type": "code",
   "execution_count": 13,
   "id": "424e0691-b4e7-47da-9f33-3cd1f6e728e0",
   "metadata": {
    "tags": []
   },
   "outputs": [],
   "source": [
    "#remove antibody columns\n",
    "rna_only = [j for j in adata_COV.var_names if 'AB_' not in j]\n",
    "rna_col_id = [adata_COV.var_names.get_loc(j) for j in rna_only]\n",
    "adata_COV = adata_COV[:,np.asarray(rna_col_id)]"
   ]
  },
  {
   "cell_type": "code",
   "execution_count": 14,
   "id": "4583956d-573a-4826-a130-88d6bd8b6a15",
   "metadata": {
    "tags": []
   },
   "outputs": [],
   "source": [
    "train_COV, test_COV = train_test_split(adata_COV)"
   ]
  },
  {
   "cell_type": "code",
   "execution_count": null,
   "id": "28127a4c-9178-4196-afaa-9dc582ba6032",
   "metadata": {
    "tags": []
   },
   "outputs": [],
   "source": [
    "train_COV = ad.read('/data/peer/adamsj5/cell_typing/train_test_data/COV_Train.h5ad')\n",
    "indata_COV = train_COV.X\n",
    "labels_COV = train_COV.obs[\"full_clustering\"]\n",
    "genes_COV = train_COV.var_names"
   ]
  },
  {
   "cell_type": "code",
   "execution_count": null,
   "id": "fd8b7efc-d560-4261-9805-6dd36d54164f",
   "metadata": {
    "tags": []
   },
   "outputs": [],
   "source": [
    "cp_and_ct_genes_COV = [x for x in cp_genes if x in train_COV.var_names]\n",
    "cp_and_ct_genes_COV = np.unique(cp_and_ct_genes_COV)"
   ]
  },
  {
   "cell_type": "code",
   "execution_count": null,
   "id": "92c2d902-c88b-4adb-b38e-cc1a2f646b41",
   "metadata": {
    "tags": []
   },
   "outputs": [],
   "source": [
    "train_COV_cp = train_COV[:, cp_and_ct_genes_COV]\n",
    "indata_COV_cp = train_COV_cp.X\n",
    "labels_COV_cp = train_COV_cp.obs[\"full_clustering\"]\n",
    "genes_COV_cp = train_COV_cp.var_names"
   ]
  },
  {
   "cell_type": "code",
   "execution_count": 15,
   "id": "94a249cc-4310-4d3c-834c-b0d6b1c57f24",
   "metadata": {
    "tags": []
   },
   "outputs": [],
   "source": [
    "train_COV.write('/data/peer/adamsj5/cell_typing/train_test_data/COV_Train.h5ad')# lilac location\n",
    "test_COV.write('/data/peer/adamsj5/cell_typing/train_test_data/COV_Test.h5ad')# lilac location"
   ]
  },
  {
   "cell_type": "markdown",
   "id": "eba8a026-0256-420a-980d-266949a4f397",
   "metadata": {
    "jp-MarkdownHeadingCollapsed": true,
    "tags": []
   },
   "source": [
    "### Glasner"
   ]
  },
  {
   "cell_type": "markdown",
   "id": "b45038f5-f6f9-4cd7-9a0b-826753b763a7",
   "metadata": {},
   "source": [
    "This dataset combines the cell type labels from 4 datasets: the overall coarsely annotated data, finely annotated endothelial cells data, finely annotated fibroblast data, and finely annotated myeloid cell data. The coarse dataset is the \"base\" that the other annotations were added to. Because most immune cell types only have very high level labels, and cytopus only contains information about immune cells, at a with a much high resolution of labels, I won't make models 3 & 4 for this data, which rely on that information.  \n",
    "\n",
    "Additionally, this dataset it normalized to the median library sized and then log transformed with a pseudocount of 0.1 (not 1). "
   ]
  },
  {
   "cell_type": "markdown",
   "id": "7c38bbfc-9ec2-40c4-b424-86f5cca09ce9",
   "metadata": {
    "jp-MarkdownHeadingCollapsed": true,
    "tags": []
   },
   "source": [
    "##### To integrate cell type labels"
   ]
  },
  {
   "cell_type": "code",
   "execution_count": null,
   "id": "a25cc0b2-1dfa-477f-8f15-1415497397d8",
   "metadata": {
    "tags": []
   },
   "outputs": [],
   "source": [
    "#adata_g = ad.read('../../Data/glasner_etal_globalAnndata_20230112.vHTA.h5ad') #annotations too coarse, local location\n",
    "adata_g = ad.read('../../Data/cell_typing/glasner_etal_globalAnndata_20230112.vHTA.h5ad') #annotations too coarse, lilac location"
   ]
  },
  {
   "cell_type": "code",
   "execution_count": null,
   "id": "0d534259",
   "metadata": {},
   "outputs": [],
   "source": [
    "adata_g"
   ]
  },
  {
   "cell_type": "code",
   "execution_count": null,
   "id": "05630df0-f89b-495e-8cd3-54f331d07112",
   "metadata": {
    "tags": []
   },
   "outputs": [],
   "source": [
    "adata_g.var = adata_g.var.set_index('gene_name')"
   ]
  },
  {
   "cell_type": "code",
   "execution_count": null,
   "id": "16a98828-fd66-43a8-ab1c-744c64461c7e",
   "metadata": {
    "tags": []
   },
   "outputs": [],
   "source": [
    "#adata_g_endo = ad.read('../../Data/ad_endo_LS_20211026.results.h5ad') #local location\n",
    "#adata_g_fib = ad.read('../../Data/ad_fib_scranLogNorm_filt_20220113.h5ad') #local location\n",
    "#adata_g_myl = ad.read('../../Data/glasner_ad_myeloid_celltypist_20230606.h5ad') #local location\n",
    "\n",
    "adata_g_endo = ad.read('../../Data/cell_typing/ad_endo_LS_20211026.results.h5ad') #lilac location\n",
    "adata_g_fib = ad.read('../../Data/cell_typing/ad_fib_scranLogNorm_filt_20220113.h5ad') #lilac location\n",
    "adata_g_myl = ad.read('../../Data/cell_typing/glasner_ad_myeloid_celltypist_20230606.h5ad') #lilac location"
   ]
  },
  {
   "cell_type": "code",
   "execution_count": null,
   "id": "d1373ca9-9aa8-495e-9cf0-195b82c1c235",
   "metadata": {
    "tags": []
   },
   "outputs": [],
   "source": [
    "adata_glas = adata_g.copy()"
   ]
  },
  {
   "cell_type": "code",
   "execution_count": null,
   "id": "7581bb5c-3947-4d0e-a735-d4a0cf09c5c9",
   "metadata": {
    "tags": []
   },
   "outputs": [],
   "source": [
    "finer_cell_types = []\n",
    "orig_cell_types = [] \n",
    "\n",
    "for x in adata_g.obs_names:\n",
    "    g_idx = np.where(adata_g.obs_names == x)[0][0]\n",
    "    orig_cell_types.append(adata_glas[g_idx].obs[\"cell_lineage\"].values[0])\n",
    "    if x in adata_g_endo.obs_names:\n",
    "        endo_idx = np.where(adata_g_endo.obs_names == x)[0][0]\n",
    "        finer_cell_types.append(adata_g_endo[:,endo_idx].obs[\"granular_cell_type\"].values[0]\n",
    "    elif x in adata_g_myl.obs_names:\n",
    "        myl_idx = np.where(adata_g_myl.obs_names == x)[0][0]\n",
    "        finer_cell_types.append(adata_g_myl[myl_idx].obs[\"cell_type\"].values[0])\n",
    "    elif x in adata_g_fib.obs_names:\n",
    "        fib_idx = np.where(adata_g_fib.obs_names == x)[0][0]\n",
    "        finer_cell_types.append(adata_g_fib[fib_idx].obs[\"granular_cell_type\"].values[0])\n",
    "    else:\n",
    "        finer_cell_types.append(adata_glas[g_idx].obs[\"cell_lineage\"].values[0])"
   ]
  },
  {
   "cell_type": "code",
   "execution_count": null,
   "id": "319cc521-e94b-496b-83db-44c7178b69a6",
   "metadata": {},
   "outputs": [],
   "source": [
    "adata_glas.obs[\"finer_cell_types\"] = finer_cell_types\n",
    "adata_glas.obs[\"orig_cell_types\"] = orig_cell_types"
   ]
  },
  {
   "cell_type": "code",
   "execution_count": null,
   "id": "2eaad2fe-b32d-44cd-ab22-6009df28e37d",
   "metadata": {
    "tags": []
   },
   "outputs": [],
   "source": [
    "#confirm that theyre in generally the right order\n",
    "f1_score(adata_glas.obs[\"cell_lineage\"], adata_glas.obs[\"orig_cell_types\"], average = None)"
   ]
  },
  {
   "cell_type": "code",
   "execution_count": null,
   "id": "b8ef2018",
   "metadata": {},
   "outputs": [],
   "source": [
    "adata_glas.write('../../Data/cell_typing/glasner_fine_annot.h5ad')"
   ]
  },
  {
   "cell_type": "markdown",
   "id": "ed864fb3-d94c-48fd-b441-f5fd5d310dc6",
   "metadata": {},
   "source": [
    "##### More granular dataset: "
   ]
  },
  {
   "cell_type": "code",
   "execution_count": null,
   "id": "64d7e025-e286-4e0a-a9bb-5e55c0af371c",
   "metadata": {
    "tags": []
   },
   "outputs": [],
   "source": [
    "adata_glas = ad.read('/data/peer/adamsj5/cell_typing/glasner_fine_annot.h5ad') #lilac location"
   ]
  },
  {
   "cell_type": "code",
   "execution_count": 3,
   "id": "fd8046b1",
   "metadata": {
    "tags": []
   },
   "outputs": [],
   "source": [
    "#train_glas, test_glas = train_test_split(adata_glas)\n",
    "train_glas = ad.read('/data/peer/adamsj5/cell_typing/train_test_data/test_glas.h5ad')\n",
    "indata_glas = train_glas.X\n",
    "labels_glas = train_glas.obs['finer_cell_types']\n",
    "genes_glas = train_glas.var_names"
   ]
  },
  {
   "cell_type": "code",
   "execution_count": null,
   "id": "caace14b",
   "metadata": {
    "tags": []
   },
   "outputs": [],
   "source": [
    "cp_and_ct_genes_glas = [x for x in cp_genes if x in train_glas.var_names]\n",
    "cp_and_ct_genes_glas = np.unique(cp_and_ct_genes_glas)"
   ]
  },
  {
   "cell_type": "code",
   "execution_count": null,
   "id": "411bf5f6",
   "metadata": {
    "tags": []
   },
   "outputs": [],
   "source": [
    "train_glas_cp = train_glas[:, cp_and_ct_genes_glas]\n",
    "indata_glas_cp = train_glas_cp.X\n",
    "labels_glas_cp = train_glas_cp.obs[\"finer_cell_types\"]\n",
    "genes_glas_cp = train_glas_cp.var_names"
   ]
  },
  {
   "cell_type": "code",
   "execution_count": null,
   "id": "75fbb95e",
   "metadata": {
    "tags": []
   },
   "outputs": [],
   "source": [
    "train_glas.write('/data/peer/adamsj5/cell_typing/train_glas.h5ad')# lilac location\n",
    "test_glas.write('/data/peer/adamsj5/cell_typing/test_glas.h5ad')# lilac location"
   ]
  },
  {
   "cell_type": "code",
   "execution_count": null,
   "id": "14451fed-7ec9-4970-b3d7-32e9c1063f83",
   "metadata": {
    "tags": []
   },
   "outputs": [],
   "source": [
    "model, df = train.train_1(X = indata_glas, labels = labels_glas, genes = genes_glas, check_expression = False, use_SGD = True, mini_batch = True, epochs = 1,  balance_cell_type = True, feature_selection = True)"
   ]
  },
  {
   "cell_type": "markdown",
   "id": "74c84636-c2bd-4298-bdc1-c3f8dcb8f670",
   "metadata": {
    "jp-MarkdownHeadingCollapsed": true,
    "tags": []
   },
   "source": [
    "### HBCA"
   ]
  },
  {
   "cell_type": "code",
   "execution_count": 10,
   "id": "adcb7e6a-2f3c-4b80-bf17-608d3a73fd92",
   "metadata": {
    "tags": []
   },
   "outputs": [],
   "source": [
    "adata_HBCA = ad.read('/data/peer/adamsj5/cell_typing/Kumar2023_breast.h5ad')"
   ]
  },
  {
   "cell_type": "code",
   "execution_count": 11,
   "id": "ef3bf1f8-15ee-4ec0-8c30-c92028bd8b5a",
   "metadata": {
    "tags": []
   },
   "outputs": [],
   "source": [
    "adata_HBCA.var = adata_HBCA.var.set_index('feature_name')"
   ]
  },
  {
   "cell_type": "code",
   "execution_count": 12,
   "id": "6a274900-ff6a-4acf-8b36-31d48b7f185b",
   "metadata": {
    "tags": []
   },
   "outputs": [
    {
     "data": {
      "text/plain": [
       "AnnData object with n_obs × n_vars = 714331 × 33234\n",
       "    obs: 'mapped_reference_assembly', 'mapped_reference_annotation', 'alignment_software', 'donor_id', 'self_reported_ethnicity_ontology_term_id', 'donor_living_at_sample_collection', 'donor_menopausal_status', 'organism_ontology_term_id', 'sample_uuid', 'sample_preservation_method', 'tissue_ontology_term_id', 'development_stage_ontology_term_id', 'sample_derivation_process', 'sample_source', 'donor_BMI_at_collection', 'suspension_depleted_cell_types', 'suspension_derivation_process', 'suspension_dissociation_reagent', 'suspension_dissociation_time', 'suspension_percent_cell_viability', 'suspension_uuid', 'suspension_type', 'library_uuid', 'assay_ontology_term_id', 'sequencing_platform', 'is_primary_data', 'cell_type_ontology_term_id', 'author_cell_type', 'cell_state', 'disease_ontology_term_id', 'sex_ontology_term_id', 'n_count_rna', 'n_feature_rna', 'percent_mito', 'percent_rb', 'tissue_location', 'bmi_group', 'procedure_group', 'age_group', 'broad_cell_type', 'sample_id', 'breast_density', 'cell_type', 'assay', 'disease', 'organism', 'sex', 'tissue', 'self_reported_ethnicity', 'development_stage'\n",
       "    var: 'feature_is_filtered', 'feature_reference', 'feature_biotype'\n",
       "    uns: 'default_embedding', 'schema_version', 'title'\n",
       "    obsm: 'X_pca', 'X_umap'"
      ]
     },
     "execution_count": 12,
     "metadata": {},
     "output_type": "execute_result"
    }
   ],
   "source": [
    "adata_HBCA"
   ]
  },
  {
   "cell_type": "code",
   "execution_count": 18,
   "id": "4ff680ba-0353-4856-8428-e9380c3f1823",
   "metadata": {
    "tags": []
   },
   "outputs": [],
   "source": [
    "train_HBCA, test_HBCA = train_test_split(adata_HBCA)"
   ]
  },
  {
   "cell_type": "code",
   "execution_count": 19,
   "id": "b129db42-86c8-4135-91b1-cae59cb2956b",
   "metadata": {
    "tags": []
   },
   "outputs": [],
   "source": [
    "train_HBCA.write('/data/peer/adamsj5/cell_typing/train_test_data/HBCA_Train.h5ad')# lilac location\n",
    "test_HBCA.write('/data/peer/adamsj5/cell_typing/train_test_data/HBCA_Test.h5ad')# lilac location"
   ]
  },
  {
   "cell_type": "markdown",
   "id": "eb4ba4c1-ead5-40c7-a98b-87ffdda2cebd",
   "metadata": {
    "jp-MarkdownHeadingCollapsed": true,
    "tags": []
   },
   "source": [
    "### LuCA"
   ]
  },
  {
   "cell_type": "code",
   "execution_count": 26,
   "id": "4ea2ecf7-5b6d-473d-b1f1-35a4f49d428c",
   "metadata": {
    "tags": []
   },
   "outputs": [],
   "source": [
    "adata_LUCA = ad.read('/data/peer/adamsj5/cell_typing/Salcher2022.h5ad')"
   ]
  },
  {
   "cell_type": "code",
   "execution_count": 27,
   "id": "d135ed49-4080-4f98-8c67-9bf6efacac3d",
   "metadata": {
    "tags": []
   },
   "outputs": [
    {
     "data": {
      "text/plain": [
       "AnnData object with n_obs × n_vars = 892296 × 17811\n",
       "    obs: 'sample', 'uicc_stage', 'ever_smoker', 'age', 'donor_id', 'origin', 'dataset', 'ann_fine', 'cell_type_predicted', 'doublet_status', 'leiden', 'n_genes_by_counts', 'total_counts', 'total_counts_mito', 'pct_counts_mito', 'ann_coarse', 'cell_type_tumor', 'tumor_stage', 'EGFR_mutation', 'TP53_mutation', 'ALK_mutation', 'BRAF_mutation', 'ERBB2_mutation', 'KRAS_mutation', 'ROS_mutation', 'origin_fine', 'study', 'platform', 'cell_type_major', 'suspension_type', 'assay_ontology_term_id', 'cell_type_ontology_term_id', 'development_stage_ontology_term_id', 'disease_ontology_term_id', 'self_reported_ethnicity_ontology_term_id', 'is_primary_data', 'organism_ontology_term_id', 'sex_ontology_term_id', 'tissue_ontology_term_id', 'cell_type', 'assay', 'disease', 'organism', 'sex', 'tissue', 'self_reported_ethnicity', 'development_stage'\n",
       "    var: 'is_highly_variable', 'mito', 'n_cells_by_counts', 'mean_counts', 'pct_dropout_by_counts', 'total_counts', 'feature_is_filtered', 'feature_name', 'feature_reference', 'feature_biotype'\n",
       "    uns: '_scvi', 'ann_fine_colors', 'batch_condition', 'cell_type_major_colors', 'cell_type_ontology_term_id_colors', 'cell_type_predicted_colors', 'dataset_colors', 'default_embedding', 'hvg', 'leiden_colors', 'neighbors', 'origin_colors', 'platform_colors', 'schema_version', 'title', 'umap'\n",
       "    obsm: 'X_scANVI', 'X_scVI', 'X_umap'\n",
       "    layers: 'count', 'counts_length_scaled'\n",
       "    obsp: 'connectivities', 'distances'"
      ]
     },
     "execution_count": 27,
     "metadata": {},
     "output_type": "execute_result"
    }
   ],
   "source": [
    "adata_LUCA"
   ]
  },
  {
   "cell_type": "code",
   "execution_count": 28,
   "id": "a76f15cf-31a7-4933-ab80-d52101276e1a",
   "metadata": {
    "tags": []
   },
   "outputs": [],
   "source": [
    "adata_LUCA.X = adata_LUCA.raw.X"
   ]
  },
  {
   "cell_type": "code",
   "execution_count": 29,
   "id": "e2bf3837-34e7-4046-a38b-77f7d56f5f89",
   "metadata": {
    "tags": []
   },
   "outputs": [],
   "source": [
    "sc.pp.normalize_total(adata_LUCA)"
   ]
  },
  {
   "cell_type": "code",
   "execution_count": 30,
   "id": "0f34606d-d6fa-41e4-b894-ba4cbeb08dbf",
   "metadata": {
    "tags": []
   },
   "outputs": [],
   "source": [
    "adata_LUCA.X= np.log1p(adata_LUCA.X)"
   ]
  },
  {
   "cell_type": "code",
   "execution_count": 31,
   "id": "b439d0c3-a623-4ba8-bae6-b01173624ed0",
   "metadata": {
    "tags": []
   },
   "outputs": [
    {
     "data": {
      "text/plain": [
       "2969.9846"
      ]
     },
     "execution_count": 31,
     "metadata": {},
     "output_type": "execute_result"
    }
   ],
   "source": [
    "np.expm1(adata_LUCA.X[2]).sum()"
   ]
  },
  {
   "cell_type": "code",
   "execution_count": 32,
   "id": "691dc9a2-5016-4863-a210-a6b30e5e4c1d",
   "metadata": {
    "tags": []
   },
   "outputs": [],
   "source": [
    "adata_LUCA.var = adata_LUCA.var.set_index('feature_name')"
   ]
  },
  {
   "cell_type": "code",
   "execution_count": 34,
   "id": "e675badb-5e82-4100-969b-9bac9df8a95c",
   "metadata": {
    "tags": []
   },
   "outputs": [
    {
     "data": {
      "text/html": [
       "<div>\n",
       "<style scoped>\n",
       "    .dataframe tbody tr th:only-of-type {\n",
       "        vertical-align: middle;\n",
       "    }\n",
       "\n",
       "    .dataframe tbody tr th {\n",
       "        vertical-align: top;\n",
       "    }\n",
       "\n",
       "    .dataframe thead th {\n",
       "        text-align: right;\n",
       "    }\n",
       "</style>\n",
       "<table border=\"1\" class=\"dataframe\">\n",
       "  <thead>\n",
       "    <tr style=\"text-align: right;\">\n",
       "      <th></th>\n",
       "      <th>is_highly_variable</th>\n",
       "      <th>mito</th>\n",
       "      <th>n_cells_by_counts</th>\n",
       "      <th>mean_counts</th>\n",
       "      <th>pct_dropout_by_counts</th>\n",
       "      <th>total_counts</th>\n",
       "      <th>feature_is_filtered</th>\n",
       "      <th>feature_reference</th>\n",
       "      <th>feature_biotype</th>\n",
       "    </tr>\n",
       "    <tr>\n",
       "      <th>feature_name</th>\n",
       "      <th></th>\n",
       "      <th></th>\n",
       "      <th></th>\n",
       "      <th></th>\n",
       "      <th></th>\n",
       "      <th></th>\n",
       "      <th></th>\n",
       "      <th></th>\n",
       "      <th></th>\n",
       "    </tr>\n",
       "  </thead>\n",
       "  <tbody>\n",
       "    <tr>\n",
       "      <th>A1BG</th>\n",
       "      <td>True</td>\n",
       "      <td>False</td>\n",
       "      <td>86866</td>\n",
       "      <td>2.527138</td>\n",
       "      <td>90.681054</td>\n",
       "      <td>2355657.0</td>\n",
       "      <td>False</td>\n",
       "      <td>NCBITaxon:9606</td>\n",
       "      <td>gene</td>\n",
       "    </tr>\n",
       "    <tr>\n",
       "      <th>A1BG-AS1</th>\n",
       "      <td>True</td>\n",
       "      <td>False</td>\n",
       "      <td>12257</td>\n",
       "      <td>0.369194</td>\n",
       "      <td>98.685074</td>\n",
       "      <td>344142.0</td>\n",
       "      <td>False</td>\n",
       "      <td>NCBITaxon:9606</td>\n",
       "      <td>gene</td>\n",
       "    </tr>\n",
       "    <tr>\n",
       "      <th>A2M</th>\n",
       "      <td>True</td>\n",
       "      <td>False</td>\n",
       "      <td>122241</td>\n",
       "      <td>22.579874</td>\n",
       "      <td>86.886039</td>\n",
       "      <td>21047694.0</td>\n",
       "      <td>False</td>\n",
       "      <td>NCBITaxon:9606</td>\n",
       "      <td>gene</td>\n",
       "    </tr>\n",
       "    <tr>\n",
       "      <th>A2M-AS1</th>\n",
       "      <td>False</td>\n",
       "      <td>False</td>\n",
       "      <td>8827</td>\n",
       "      <td>0.172223</td>\n",
       "      <td>99.053043</td>\n",
       "      <td>160537.0</td>\n",
       "      <td>False</td>\n",
       "      <td>NCBITaxon:9606</td>\n",
       "      <td>gene</td>\n",
       "    </tr>\n",
       "    <tr>\n",
       "      <th>A2ML1</th>\n",
       "      <td>True</td>\n",
       "      <td>False</td>\n",
       "      <td>5096</td>\n",
       "      <td>0.038011</td>\n",
       "      <td>99.453303</td>\n",
       "      <td>35432.0</td>\n",
       "      <td>False</td>\n",
       "      <td>NCBITaxon:9606</td>\n",
       "      <td>gene</td>\n",
       "    </tr>\n",
       "    <tr>\n",
       "      <th>...</th>\n",
       "      <td>...</td>\n",
       "      <td>...</td>\n",
       "      <td>...</td>\n",
       "      <td>...</td>\n",
       "      <td>...</td>\n",
       "      <td>...</td>\n",
       "      <td>...</td>\n",
       "      <td>...</td>\n",
       "      <td>...</td>\n",
       "    </tr>\n",
       "    <tr>\n",
       "      <th>ZXDC</th>\n",
       "      <td>False</td>\n",
       "      <td>False</td>\n",
       "      <td>43291</td>\n",
       "      <td>0.442399</td>\n",
       "      <td>95.355760</td>\n",
       "      <td>412380.0</td>\n",
       "      <td>False</td>\n",
       "      <td>NCBITaxon:9606</td>\n",
       "      <td>gene</td>\n",
       "    </tr>\n",
       "    <tr>\n",
       "      <th>ZYG11A</th>\n",
       "      <td>False</td>\n",
       "      <td>False</td>\n",
       "      <td>3517</td>\n",
       "      <td>0.009742</td>\n",
       "      <td>99.622698</td>\n",
       "      <td>9081.0</td>\n",
       "      <td>False</td>\n",
       "      <td>NCBITaxon:9606</td>\n",
       "      <td>gene</td>\n",
       "    </tr>\n",
       "    <tr>\n",
       "      <th>ZYG11B</th>\n",
       "      <td>False</td>\n",
       "      <td>False</td>\n",
       "      <td>71512</td>\n",
       "      <td>0.275276</td>\n",
       "      <td>92.328224</td>\n",
       "      <td>256597.0</td>\n",
       "      <td>False</td>\n",
       "      <td>NCBITaxon:9606</td>\n",
       "      <td>gene</td>\n",
       "    </tr>\n",
       "    <tr>\n",
       "      <th>ZYX</th>\n",
       "      <td>False</td>\n",
       "      <td>False</td>\n",
       "      <td>205370</td>\n",
       "      <td>4.536451</td>\n",
       "      <td>77.967996</td>\n",
       "      <td>4228626.0</td>\n",
       "      <td>False</td>\n",
       "      <td>NCBITaxon:9606</td>\n",
       "      <td>gene</td>\n",
       "    </tr>\n",
       "    <tr>\n",
       "      <th>ZZEF1</th>\n",
       "      <td>False</td>\n",
       "      <td>False</td>\n",
       "      <td>73818</td>\n",
       "      <td>0.488029</td>\n",
       "      <td>92.080837</td>\n",
       "      <td>454913.0</td>\n",
       "      <td>False</td>\n",
       "      <td>NCBITaxon:9606</td>\n",
       "      <td>gene</td>\n",
       "    </tr>\n",
       "  </tbody>\n",
       "</table>\n",
       "<p>17811 rows × 9 columns</p>\n",
       "</div>"
      ],
      "text/plain": [
       "             is_highly_variable   mito  n_cells_by_counts  mean_counts  \\\n",
       "feature_name                                                             \n",
       "A1BG                       True  False              86866     2.527138   \n",
       "A1BG-AS1                   True  False              12257     0.369194   \n",
       "A2M                        True  False             122241    22.579874   \n",
       "A2M-AS1                   False  False               8827     0.172223   \n",
       "A2ML1                      True  False               5096     0.038011   \n",
       "...                         ...    ...                ...          ...   \n",
       "ZXDC                      False  False              43291     0.442399   \n",
       "ZYG11A                    False  False               3517     0.009742   \n",
       "ZYG11B                    False  False              71512     0.275276   \n",
       "ZYX                       False  False             205370     4.536451   \n",
       "ZZEF1                     False  False              73818     0.488029   \n",
       "\n",
       "              pct_dropout_by_counts  total_counts  feature_is_filtered  \\\n",
       "feature_name                                                             \n",
       "A1BG                      90.681054     2355657.0                False   \n",
       "A1BG-AS1                  98.685074      344142.0                False   \n",
       "A2M                       86.886039    21047694.0                False   \n",
       "A2M-AS1                   99.053043      160537.0                False   \n",
       "A2ML1                     99.453303       35432.0                False   \n",
       "...                             ...           ...                  ...   \n",
       "ZXDC                      95.355760      412380.0                False   \n",
       "ZYG11A                    99.622698        9081.0                False   \n",
       "ZYG11B                    92.328224      256597.0                False   \n",
       "ZYX                       77.967996     4228626.0                False   \n",
       "ZZEF1                     92.080837      454913.0                False   \n",
       "\n",
       "             feature_reference feature_biotype  \n",
       "feature_name                                    \n",
       "A1BG            NCBITaxon:9606            gene  \n",
       "A1BG-AS1        NCBITaxon:9606            gene  \n",
       "A2M             NCBITaxon:9606            gene  \n",
       "A2M-AS1         NCBITaxon:9606            gene  \n",
       "A2ML1           NCBITaxon:9606            gene  \n",
       "...                        ...             ...  \n",
       "ZXDC            NCBITaxon:9606            gene  \n",
       "ZYG11A          NCBITaxon:9606            gene  \n",
       "ZYG11B          NCBITaxon:9606            gene  \n",
       "ZYX             NCBITaxon:9606            gene  \n",
       "ZZEF1           NCBITaxon:9606            gene  \n",
       "\n",
       "[17811 rows x 9 columns]"
      ]
     },
     "execution_count": 34,
     "metadata": {},
     "output_type": "execute_result"
    }
   ],
   "source": [
    "adata_LUCA.var"
   ]
  },
  {
   "cell_type": "code",
   "execution_count": 33,
   "id": "b2cd4528-b89f-474b-9754-b855bdffb739",
   "metadata": {
    "tags": []
   },
   "outputs": [],
   "source": [
    "train_LUCA, test_LUCA = train_test_split(adata_LUCA)\n",
    "train_LUCA.write_h5ad('/data/peer/adamsj5/cell_typing/train_test_data/LuCA_Train.h5ad')\n",
    "test_LUCA.write_h5ad('/data/peer/adamsj5/cell_typing/train_test_data/LuCA_Test.h5ad')"
   ]
  },
  {
   "cell_type": "code",
   "execution_count": 23,
   "id": "1d20ed4a-6b53-426f-b5d5-d065f5f5c43b",
   "metadata": {
    "tags": []
   },
   "outputs": [],
   "source": [
    "train_LUCA = ad.read('/data/peer/adamsj5/cell_typing/train_test_data/LuCA_Train.h5ad')\n",
    "test_LUCA = ad.read('/data/peer/adamsj5/cell_typing/train_test_data/LuCA_Test.h5ad')"
   ]
  },
  {
   "cell_type": "code",
   "execution_count": 25,
   "id": "1b362814-6e38-42b4-a27c-2c9fd5f8ec38",
   "metadata": {
    "tags": []
   },
   "outputs": [
    {
     "data": {
      "text/plain": [
       "AnnData object with n_obs × n_vars = 214300 × 33234\n",
       "    obs: 'mapped_reference_assembly', 'mapped_reference_annotation', 'alignment_software', 'donor_id', 'self_reported_ethnicity_ontology_term_id', 'donor_living_at_sample_collection', 'donor_menopausal_status', 'organism_ontology_term_id', 'sample_uuid', 'sample_preservation_method', 'tissue_ontology_term_id', 'development_stage_ontology_term_id', 'sample_derivation_process', 'sample_source', 'donor_BMI_at_collection', 'suspension_depleted_cell_types', 'suspension_derivation_process', 'suspension_dissociation_reagent', 'suspension_dissociation_time', 'suspension_percent_cell_viability', 'suspension_uuid', 'suspension_type', 'library_uuid', 'assay_ontology_term_id', 'sequencing_platform', 'is_primary_data', 'cell_type_ontology_term_id', 'author_cell_type', 'cell_state', 'disease_ontology_term_id', 'sex_ontology_term_id', 'n_count_rna', 'n_feature_rna', 'percent_mito', 'percent_rb', 'tissue_location', 'bmi_group', 'procedure_group', 'age_group', 'broad_cell_type', 'sample_id', 'breast_density', 'cell_type', 'assay', 'disease', 'organism', 'sex', 'tissue', 'self_reported_ethnicity', 'development_stage'\n",
       "    var: 'feature_is_filtered', 'feature_reference', 'feature_biotype'\n",
       "    uns: 'default_embedding', 'pca', 'schema_version', 'title'\n",
       "    obsm: 'X_pca', 'X_umap'\n",
       "    varm: 'PCs'"
      ]
     },
     "execution_count": 25,
     "metadata": {},
     "output_type": "execute_result"
    }
   ],
   "source": [
    "test_HBCA = ad.read('/data/peer/adamsj5/cell_typing/train_test_data/HBCA_Test.h5ad')\n",
    "test_HBCA"
   ]
  },
  {
   "cell_type": "code",
   "execution_count": 12,
   "id": "9d16e01c-8a7e-4b4a-8f8a-115066e60c21",
   "metadata": {
    "tags": []
   },
   "outputs": [
    {
     "data": {
      "text/plain": [
       "17811"
      ]
     },
     "execution_count": 12,
     "metadata": {},
     "output_type": "execute_result"
    }
   ],
   "source": [
    "len(train_LUCA.var_names)"
   ]
  },
  {
   "cell_type": "markdown",
   "id": "898d32c6-bf1e-4711-8009-15bf60644326",
   "metadata": {
    "jp-MarkdownHeadingCollapsed": true,
    "tags": []
   },
   "source": [
    "### HuBMAP"
   ]
  },
  {
   "cell_type": "code",
   "execution_count": 3,
   "id": "bfeee319-0c45-4759-b422-97c216b81c93",
   "metadata": {
    "tags": []
   },
   "outputs": [],
   "source": [
    "adata_HuBMAP = ad.read('/data/peer/adamsj5/cell_typing/Lake2023.h5ad')"
   ]
  },
  {
   "cell_type": "code",
   "execution_count": 9,
   "id": "1c136655-bfc5-421f-bfc5-e39caba8a095",
   "metadata": {
    "tags": []
   },
   "outputs": [
    {
     "data": {
      "text/plain": [
       "AnnData object with n_obs × n_vars = 304652 × 33920\n",
       "    obs: 'nCount_RNA', 'nFeature_RNA', 'library', 'percent.er', 'percent.mt', 'degen.score', 'aEpi.score', 'aStr.score', 'cyc.score', 'matrisome.score', 'collagen.score', 'glycoprotein.score', 'proteoglycan.score', 'S.Score', 'G2M.Score', 'experiment', 'specimen', 'condition.long', 'condition.l1', 'condition.l2', 'donor_id', 'region.l1', 'region.l2', 'percent.cortex', 'percent.medulla', 'tissue_type', 'id', 'pagoda_k100_infomap_coembed', 'subclass.full', 'subclass.l3', 'subclass.l2', 'subclass.l1', 'state.l2', 'state', 'class', 'structure', 'disease_ontology_term_id', 'sex_ontology_term_id', 'development_stage_ontology_term_id', 'self_reported_ethnicity_ontology_term_id', 'eGFR', 'BMI', 'diabetes_history', 'hypertension', 'tissue_ontology_term_id', 'organism_ontology_term_id', 'assay_ontology_term_id', 'cell_type_ontology_term_id', 'is_primary_data', 'suspension_type', 'cell_type', 'assay', 'disease', 'organism', 'sex', 'tissue', 'self_reported_ethnicity', 'development_stage'\n",
       "    var: 'feature_is_filtered', 'feature_name', 'feature_reference', 'feature_biotype'\n",
       "    uns: 'cell_type_ontology_term_id_colors', 'schema_version', 'title'\n",
       "    obsm: 'X_umap'"
      ]
     },
     "execution_count": 9,
     "metadata": {},
     "output_type": "execute_result"
    }
   ],
   "source": [
    "adata_HuBMAP"
   ]
  },
  {
   "cell_type": "code",
   "execution_count": 14,
   "id": "d6948eed-e6a2-4fa5-a132-ab78f8976b4c",
   "metadata": {
    "tags": []
   },
   "outputs": [],
   "source": [
    "adata_HuBMAP.var = adata_HuBMAP.var.set_index('feature_name')"
   ]
  },
  {
   "cell_type": "code",
   "execution_count": 19,
   "id": "e17f3b56-cece-4d79-bb96-2454c085bb38",
   "metadata": {
    "tags": []
   },
   "outputs": [
    {
     "data": {
      "text/plain": [
       "9957.399"
      ]
     },
     "execution_count": 19,
     "metadata": {},
     "output_type": "execute_result"
    }
   ],
   "source": [
    "np.expm1(adata_HuBMAP.X[30000]).sum()"
   ]
  },
  {
   "cell_type": "code",
   "execution_count": 21,
   "id": "9056b1e0-12cc-4551-87ee-c05cf1616493",
   "metadata": {
    "tags": []
   },
   "outputs": [],
   "source": [
    "train_HuBMAP, test_HuBMAP = train_test_split(adata_HuBMAP)\n",
    "train_HuBMAP.write_h5ad('/data/peer/adamsj5/cell_typing/train_test_data/HuBMAP_Train.h5ad')\n",
    "test_HuBMAP.write_h5ad('/data/peer/adamsj5/cell_typing/train_test_data/HuBMAP_Test.h5ad')"
   ]
  },
  {
   "cell_type": "markdown",
   "id": "c3aeb7d6-8013-4f0c-a306-74fcc2879553",
   "metadata": {
    "jp-MarkdownHeadingCollapsed": true,
    "tags": []
   },
   "source": [
    "### Niec/Chu"
   ]
  },
  {
   "cell_type": "code",
   "execution_count": 21,
   "id": "b4fef07f-d973-4ce9-ac32-6049bd738213",
   "metadata": {
    "tags": []
   },
   "outputs": [],
   "source": [
    "adata_Chu_SI = ad.read('/data/peer/adamsj5/cell_typing/SI_adata_paper.h5ad')\n",
    "adata_Chu_LI = ad.read('/data/peer/adamsj5/cell_typing/LI_adata_paper.h5ad')"
   ]
  },
  {
   "cell_type": "code",
   "execution_count": 6,
   "id": "8a3ccb80-78f0-49d4-a6c4-fc5d58438d81",
   "metadata": {
    "tags": []
   },
   "outputs": [
    {
     "data": {
      "text/plain": [
       "AnnData object with n_obs × n_vars = 2239 × 18573\n",
       "    obs: 'latent_cell_probability', 'latent_RT_efficiency', 'n_genes', 'n_genes_by_counts', 'total_counts', 'total_counts_mt', 'pct_counts_mt', 'predicted_doublet', 'doublet_score', 'Phenograph_cluster_k15_dbRM', 'coarse_cluster_dbRM', 'cell_state'\n",
       "    var: 'gene_ids', 'feature_types', 'genome', 'n_cells', 'mt', 'n_cells_by_counts', 'mean_counts', 'pct_dropout_by_counts', 'total_counts', 'highly_variable', 'highly_variable_rank', 'means', 'variances', 'variances_norm'\n",
       "    uns: 'Phenograph_cluster_k15_dbRM_colors', 'cell_state_colors', 'coarse_cluster_dbRM_colors', 'dendrogram_Phenograph_cluster_k15_dbRM', 'hvg', 'neighbors', 'pca', 'test_elbo', 'test_epoch', 'umap'\n",
       "    obsm: 'X_pca', 'X_umap'\n",
       "    varm: 'PCs'\n",
       "    layers: 'counts'\n",
       "    obsp: 'connectivities', 'distances'"
      ]
     },
     "execution_count": 6,
     "metadata": {},
     "output_type": "execute_result"
    }
   ],
   "source": [
    "adata_Chu_SI"
   ]
  },
  {
   "cell_type": "code",
   "execution_count": 12,
   "id": "35ebe962-a302-42f2-b6d0-c5d15be9fb1f",
   "metadata": {
    "tags": []
   },
   "outputs": [
    {
     "data": {
      "text/plain": [
       "9642.598"
      ]
     },
     "execution_count": 12,
     "metadata": {},
     "output_type": "execute_result"
    }
   ],
   "source": [
    "np.expm1(adata_Chu_SI.X[2]).sum()"
   ]
  },
  {
   "cell_type": "code",
   "execution_count": 9,
   "id": "eadf428b-de86-4bb6-ad2a-d13755109f6f",
   "metadata": {
    "tags": []
   },
   "outputs": [
    {
     "data": {
      "text/plain": [
       "AnnData object with n_obs × n_vars = 5163 × 19706\n",
       "    obs: 'latent_cell_probability', 'latent_RT_efficiency', 'n_genes', 'n_genes_by_counts', 'total_counts', 'total_counts_mt', 'pct_counts_mt', 'predicted_doublet', 'doublet_score', 'Phenograph_cluster_k15_dbRM', 'coarse_cluster_dbRM', 'cell_state'\n",
       "    var: 'gene_ids', 'feature_types', 'genome', 'n_cells', 'mt', 'n_cells_by_counts', 'mean_counts', 'pct_dropout_by_counts', 'total_counts', 'highly_variable', 'highly_variable_rank', 'means', 'variances', 'variances_norm'\n",
       "    uns: 'Phenograph_cluster_k15_dbRM_colors', 'cell_state_colors', 'coarse_cluster_dbRM_colors', 'dendrogram_Phenograph_cluster_k15_dbRM', 'hvg', 'neighbors', 'pca', 'test_elbo', 'test_epoch', 'umap'\n",
       "    obsm: 'X_pca', 'X_umap'\n",
       "    varm: 'PCs'\n",
       "    layers: 'counts'\n",
       "    obsp: 'connectivities', 'distances'"
      ]
     },
     "execution_count": 9,
     "metadata": {},
     "output_type": "execute_result"
    }
   ],
   "source": [
    "adata_Chu_LI"
   ]
  },
  {
   "cell_type": "code",
   "execution_count": 10,
   "id": "2e3ded8d-9348-42f6-8182-19a1ed94147f",
   "metadata": {
    "tags": []
   },
   "outputs": [
    {
     "data": {
      "text/plain": [
       "6735.3877"
      ]
     },
     "execution_count": 10,
     "metadata": {},
     "output_type": "execute_result"
    }
   ],
   "source": [
    "np.expm1(adata_Chu_LI.X[0]).sum()"
   ]
  },
  {
   "cell_type": "code",
   "execution_count": 25,
   "id": "bbb6d77c-2b54-41cb-99f4-4b2cf70600de",
   "metadata": {
    "tags": []
   },
   "outputs": [],
   "source": [
    "train_Chu_SI, test_Chu_SI = train_test_split(adata_Chu_SI)\n",
    "train_Chu_SI.write_h5ad('/data/peer/adamsj5/cell_typing/train_test_data/Niec_SI_Train.h5ad')\n",
    "test_Chu_SI.write_h5ad('/data/peer/adamsj5/cell_typing/train_test_data/Niec_SI_Test.h5ad')"
   ]
  },
  {
   "cell_type": "code",
   "execution_count": 26,
   "id": "d7a9822a-39c4-4c74-8fc5-ba502fc6d781",
   "metadata": {
    "tags": []
   },
   "outputs": [],
   "source": [
    "train_Chu_LI, test_Chu_LI = train_test_split(adata_Chu_LI)\n",
    "train_Chu_LI.write_h5ad('/data/peer/adamsj5/cell_typing/train_test_data/Niec_LI_Train.h5ad')\n",
    "test_Chu_LI.write_h5ad('/data/peer/adamsj5/cell_typing/train_test_data/Niec_LI_Test.h5ad')"
   ]
  },
  {
   "cell_type": "markdown",
   "id": "dbddd2f0-913e-4c09-a201-83635175c870",
   "metadata": {
    "jp-MarkdownHeadingCollapsed": true,
    "tags": []
   },
   "source": [
    "### Brown Data"
   ]
  },
  {
   "cell_type": "code",
   "execution_count": 4,
   "id": "cd8ff4e5-33f6-4b12-afcc-2f8dfef09bb2",
   "metadata": {},
   "outputs": [],
   "source": [
    "adata_Brown = ad.read('/data/peer/adamsj5/cell_typing/mouse_spleen_normlog.h5ad')"
   ]
  },
  {
   "cell_type": "code",
   "execution_count": 5,
   "id": "4f955e3f-2669-4235-8836-0973d6f3b832",
   "metadata": {
    "tags": []
   },
   "outputs": [
    {
     "data": {
      "text/plain": [
       "AnnData object with n_obs × n_vars = 4464 × 11755\n",
       "    obs: 'sample', 'background', 'total_counts', 'mitochondrial_fraction', 'cell_type', 'cluster', 'tsne_x', 'tsne_y'\n",
       "    var: 'gene_id'\n",
       "    obsm: 'X_tsne'"
      ]
     },
     "execution_count": 5,
     "metadata": {},
     "output_type": "execute_result"
    }
   ],
   "source": [
    "adata_Brown"
   ]
  },
  {
   "cell_type": "code",
   "execution_count": 6,
   "id": "1e0877d5-e0da-4edc-8c13-1a729d23d294",
   "metadata": {
    "tags": []
   },
   "outputs": [
    {
     "data": {
      "text/plain": [
       "['cDC1', 'CCR7hi DC', 'cDC2 Tbet-', 'cDC2 Tbet+', 'Monocyte', 'Siglec-H DC', 'cDC2 Mixed']\n",
       "Categories (7, object): ['CCR7hi DC', 'Monocyte', 'Siglec-H DC', 'cDC1', 'cDC2 Mixed', 'cDC2 Tbet+', 'cDC2 Tbet-']"
      ]
     },
     "execution_count": 6,
     "metadata": {},
     "output_type": "execute_result"
    }
   ],
   "source": [
    "adata_Brown.obs['cell_type'].unique()"
   ]
  },
  {
   "cell_type": "code",
   "execution_count": 8,
   "id": "9e644e00-560f-4a71-8f3e-c85d8ebbc19a",
   "metadata": {
    "tags": []
   },
   "outputs": [
    {
     "data": {
      "text/plain": [
       "Index(['0610007P14RIK', '0610009B22RIK', '0610009L18RIK', '0610009O20RIK',\n",
       "       '0610010F05RIK', '0610010K14RIK', '0610012G03RIK', '0610030E20RIK',\n",
       "       '0610037L13RIK', '0610040J01RIK',\n",
       "       ...\n",
       "       'ZUFSP', 'ZW10', 'ZWILCH', 'ZWINT', 'ZXDB', 'ZXDC', 'ZYG11B', 'ZYX',\n",
       "       'ZZEF1', 'ZZZ3'],\n",
       "      dtype='object', length=11755)"
      ]
     },
     "execution_count": 8,
     "metadata": {},
     "output_type": "execute_result"
    }
   ],
   "source": [
    "adata_Brown.var_names"
   ]
  },
  {
   "cell_type": "code",
   "execution_count": 10,
   "id": "f59872c7-3ae2-4492-84a2-577ebd4a5ae7",
   "metadata": {
    "tags": []
   },
   "outputs": [
    {
     "data": {
      "text/plain": [
       "731505.8"
      ]
     },
     "execution_count": 10,
     "metadata": {},
     "output_type": "execute_result"
    }
   ],
   "source": [
    "np.expm1(adata_Brown.X[2]).sum()"
   ]
  },
  {
   "cell_type": "code",
   "execution_count": 34,
   "id": "c8c125ab-870d-4424-959c-06d406d97c35",
   "metadata": {
    "tags": []
   },
   "outputs": [],
   "source": [
    "remove_some = [j for j in adata_Brown.var_names if 'RP_' not in j]\n",
    "remove_some_id = [adata_Brown.var_names.get_loc(j) for j in remove_some]\n",
    "adata_Brown_testing = adata_Brown[:,np.asarray(remove_some_id)]"
   ]
  },
  {
   "cell_type": "code",
   "execution_count": 35,
   "id": "cc4a305b-803f-4be7-84db-ce8be060bdc1",
   "metadata": {
    "tags": []
   },
   "outputs": [
    {
     "data": {
      "text/plain": [
       "Index(['0610007P14RIK', '0610009B22RIK', '0610009L18RIK', '0610009O20RIK',\n",
       "       '0610010F05RIK', '0610010K14RIK', '0610012G03RIK', '0610030E20RIK',\n",
       "       '0610037L13RIK', '0610040J01RIK',\n",
       "       ...\n",
       "       'ZUFSP', 'ZW10', 'ZWILCH', 'ZWINT', 'ZXDB', 'ZXDC', 'ZYG11B', 'ZYX',\n",
       "       'ZZEF1', 'ZZZ3'],\n",
       "      dtype='object', length=11755)"
      ]
     },
     "execution_count": 35,
     "metadata": {},
     "output_type": "execute_result"
    }
   ],
   "source": [
    "adata_Brown_testing.var_names"
   ]
  },
  {
   "cell_type": "markdown",
   "id": "b6abf6df-0cb4-40f8-b3dc-640b215b6ab8",
   "metadata": {
    "jp-MarkdownHeadingCollapsed": true,
    "tags": []
   },
   "source": [
    "## Models - All at Once"
   ]
  },
  {
   "cell_type": "code",
   "execution_count": null,
   "id": "f249c0e9-846d-4c2c-a67b-c501e21448d1",
   "metadata": {},
   "outputs": [],
   "source": [
    "make_all_models(adata_45, annot_col = 'Manually_curated_celltype', abrev = 'CT_45', percent_train = 0.20 , write_loc = 'New Models/CT_45 Models/', train_data = '/data/peer/adamsj5/cell_typing/train_test_data/CT_45_Train.h5ad')\n"
   ]
  },
  {
   "cell_type": "code",
   "execution_count": null,
   "id": "d7f36c85-be6d-4d5e-b99b-5d14ff110223",
   "metadata": {},
   "outputs": [],
   "source": [
    "make_all_models(adata_98, annot_col = 'Harmonised_detailed_type', abrev = 'CT_98', percent_train = 0.20 , write_loc = 'New Models/CT_98 Models/', train_data = '/data/peer/adamsj5/cell_typing/train_test_data/CT_98_train.h5ad')\n"
   ]
  },
  {
   "cell_type": "code",
   "execution_count": null,
   "id": "66de0db1-d2c6-4866-b615-eaa988360a14",
   "metadata": {
    "tags": []
   },
   "outputs": [],
   "source": [
    "make_all_models(adata_COV, annot_col = 'full_clustering', abrev = 'COV', percent_train = 0.20, write_loc = 'New Models/COV_PBMC Models/', train_data = '/data/peer/adamsj5/cell_typing/train_test_data/COV_Train.h5ad')\n"
   ]
  },
  {
   "cell_type": "code",
   "execution_count": null,
   "id": "46f774d0-24e3-4f45-a089-43319a5ef8d7",
   "metadata": {},
   "outputs": [],
   "source": [
    "make_all_models(adata_glas, annot_col = 'finer_cell_types', abrev = 'g', write_loc = 'New Models/Glasner Models/', train_data = '/data/peer/adamsj5/cell_typing/train_test_data/train_glas.h5ad')\n"
   ]
  },
  {
   "cell_type": "code",
   "execution_count": null,
   "id": "27900063-c945-43a3-a448-eafe0e2e1e56",
   "metadata": {
    "tags": []
   },
   "outputs": [],
   "source": [
    "make_all_models(adata_HBCA, annot_col = 'cell_type', abrev = 'HBCA', percent_train = 0.15, write_loc = 'New Models/HBCA Models/', train_data = '/data/peer/adamsj5/cell_typing/train_test_data/HBCA_Train.h5ad')\n"
   ]
  },
  {
   "cell_type": "code",
   "execution_count": null,
   "id": "758d19ef-dd86-474e-ac5b-483c60a7f150",
   "metadata": {},
   "outputs": [],
   "source": [
    "make_all_models(adata_LUCA, annot_col = 'cell_type', abrev = 'LuCA', percent_train = 0.15, write_loc = 'New Models/LuCA Models/')\n"
   ]
  }
 ],
 "metadata": {
  "kernelspec": {
   "display_name": "Python 3 (ipykernel)",
   "language": "python",
   "name": "python3"
  },
  "language_info": {
   "codemirror_mode": {
    "name": "ipython",
    "version": 3
   },
   "file_extension": ".py",
   "mimetype": "text/x-python",
   "name": "python",
   "nbconvert_exporter": "python",
   "pygments_lexer": "ipython3",
   "version": "3.11.4"
  }
 },
 "nbformat": 4,
 "nbformat_minor": 5
}
