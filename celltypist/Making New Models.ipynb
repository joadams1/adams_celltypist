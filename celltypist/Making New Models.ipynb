{
 "cells": [
  {
   "cell_type": "markdown",
   "id": "db2b1626-a930-4fff-8343-8cc6796c9f77",
   "metadata": {},
   "source": [
    "# Building New Models to Benchmark Against Celltypist"
   ]
  },
  {
   "cell_type": "code",
   "execution_count": null,
   "id": "65db09ee-ab3c-4fcc-b697-6458588b8ad5",
   "metadata": {},
   "outputs": [],
   "source": []
  }
 ],
 "metadata": {
  "kernelspec": {
   "display_name": "Python 3 (ipykernel)",
   "language": "python",
   "name": "python3"
  },
  "language_info": {
   "codemirror_mode": {
    "name": "ipython",
    "version": 3
   },
   "file_extension": ".py",
   "mimetype": "text/x-python",
   "name": "python",
   "nbconvert_exporter": "python",
   "pygments_lexer": "ipython3",
   "version": "3.8.16"
  }
 },
 "nbformat": 4,
 "nbformat_minor": 5
}
