{
 "cells": [
  {
   "cell_type": "markdown",
   "id": "e14bec32-8dd6-4a91-a998-bc42188c68b9",
   "metadata": {},
   "source": [
    "# Testing/Benchmarking Celltypist Models \n",
    "### List of Models (made in Making New Models.ipynb)\n",
    "1. Remove the feature selection from CellTypist (so it only trains the model once)\n",
    "2. Train the model with L1 regularization instead of L2\n",
    "3. Train the model only once with only Cytopus genes\n",
    "4. At the feature selection step, make sure the Cytopus genes are included in the list of top genes"
   ]
  },
  {
   "cell_type": "code",
   "execution_count": 1,
   "id": "92be23f9-d464-482d-a464-a57f73417c28",
   "metadata": {
    "tags": []
   },
   "outputs": [],
   "source": [
    "import scanpy as sc\n",
    "import pandas as pd\n",
    "import anndata as ad\n",
    "from anndata import AnnData\n",
    "import numpy as np\n",
    "\n",
    "from datetime import datetime\n",
    "import itertools\n",
    "\n",
    "from typing import Optional\n",
    "\n",
    "from sklearn.metrics import f1_score\n",
    "from sklearn.metrics.cluster import adjusted_rand_score\n",
    "import matplotlib.pyplot as plt\n",
    "import plotly.graph_objects as go\n",
    "from scipy.sparse import spmatrix\n",
    "\n",
    "#import celltypist as ct\n",
    "#from celltypist import models\n",
    "\n",
    "from  annotate import annotate"
   ]
  },
  {
   "cell_type": "code",
   "execution_count": null,
   "id": "63bf5f9e-4b48-4a71-9c32-e3182617898e",
   "metadata": {
    "tags": []
   },
   "outputs": [],
   "source": [
    "models.download_models(model = 'Healthy_COVID19_PBMC.pkl')"
   ]
  },
  {
   "cell_type": "code",
   "execution_count": 6,
   "id": "6d882d32-555c-43e3-b231-05929cd16587",
   "metadata": {
    "tags": []
   },
   "outputs": [
    {
     "name": "stdout",
     "output_type": "stream",
     "text": [
      "config:\n",
      "    /lilac/home/adamsj5/.jupyter\n",
      "    /home/adamsj5/.local/etc/jupyter\n",
      "    /home/adamsj5/miniconda3/etc/jupyter\n",
      "    /usr/local/etc/jupyter\n",
      "    /etc/jupyter\n",
      "data:\n",
      "    /lilac/home/adamsj5/.local/share/jupyter\n",
      "    /home/adamsj5/.local/share/jupyter\n",
      "    /home/adamsj5/miniconda3/share/jupyter\n",
      "    /usr/local/share/jupyter\n",
      "    /usr/share/jupyter\n",
      "runtime:\n",
      "    /lilac/home/adamsj5/.local/share/jupyter/runtime\n"
     ]
    }
   ],
   "source": [
    "!jupyter --paths"
   ]
  },
  {
   "cell_type": "code",
   "execution_count": null,
   "id": "9d1484f8-7478-4092-8dce-bec7b2a31e30",
   "metadata": {},
   "outputs": [],
   "source": []
  },
  {
   "cell_type": "markdown",
   "id": "9aad6ec5-4d53-4273-8378-d0edee9ec8ed",
   "metadata": {
    "tags": []
   },
   "source": [
    "## Get celltype predictions from each model\n",
    "When making predictions/annotations the first time, you need to make sure that the kernal is cleared before each new model or else something weird will happen and each set of predictions becomes the same when the result is transformed into ann"
   ]
  },
  {
   "cell_type": "code",
   "execution_count": 6,
   "id": "111c3f9d-4ca8-45ea-9064-7919c6bb1afa",
   "metadata": {
    "tags": []
   },
   "outputs": [],
   "source": [
    "def get_predictions(adata_loc, model_loc, write_loc):\n",
    "    \"\"\"\n",
    "    Annotates a dataset using a CellTypist, transforms the result into AnnData, and then saves the results \n",
    "    \n",
    "    adata_loc - where to find the training data \n",
    "    model_loc - where to find the model \n",
    "    write_loc - where to save the AnnData with predictions \n",
    "    \"\"\"\n",
    "    test = ad.read(adata_loc) \n",
    "    \n",
    "    predictions = annotate(test, model = model_loc, majority_voting = True)\n",
    "    pred_adata = predictions.to_adata()\n",
    "    pred_adata.write_h5ad(write_loc)\n",
    "    return pred_adata"
   ]
  },
  {
   "cell_type": "markdown",
   "id": "50394a79-4041-4dbc-a802-37df78d91f3f",
   "metadata": {
    "jp-MarkdownHeadingCollapsed": true,
    "tags": []
   },
   "source": [
    "### Using CT_45 Models"
   ]
  },
  {
   "cell_type": "markdown",
   "id": "a24f9200-de0a-42fc-83b4-7b70a77c534f",
   "metadata": {},
   "source": [
    "##### Model 0"
   ]
  },
  {
   "cell_type": "code",
   "execution_count": null,
   "id": "e9d28002-434f-42c2-bf9d-247e6c8ca4a9",
   "metadata": {
    "tags": []
   },
   "outputs": [],
   "source": [
    "pred_adatact = get_predictions('/data/peer/adamsj5/cell_typing/train_test_data/CT_45_Test.h5ad', 'New Models/CT_45 Models/ct_model_0.pkl', '/data/peer/adamsj5/cell_typing/Data with Predictions/pred_modelct.h5ad')"
   ]
  },
  {
   "cell_type": "code",
   "execution_count": 6,
   "id": "e774ce29-e0b6-4f24-bc4e-00be76a91d13",
   "metadata": {
    "tags": []
   },
   "outputs": [],
   "source": [
    "pred_adatact = ad.read('/data/peer/adamsj5/cell_typing/Data with Predictions/pred_modelct.h5ad')"
   ]
  },
  {
   "cell_type": "markdown",
   "id": "79e82838-7411-44c5-9a48-30a5ae387861",
   "metadata": {
    "jp-MarkdownHeadingCollapsed": true,
    "tags": []
   },
   "source": [
    "##### Model 1"
   ]
  },
  {
   "cell_type": "code",
   "execution_count": null,
   "id": "10f9c155-ef72-43ff-b324-6472a14b1b4f",
   "metadata": {},
   "outputs": [],
   "source": [
    "predictions_1 = annotate(test, model = 'New Models/CT_45 Models/ct_model_1.pkl', majority_voting = True)\n",
    "predictions_1.predicted_labels"
   ]
  },
  {
   "cell_type": "code",
   "execution_count": null,
   "id": "e04da4d7-1c0b-4028-a054-53d72981cbc5",
   "metadata": {},
   "outputs": [],
   "source": [
    "pred_adata1 = predictions_1.to_adata()\n",
    "pred_adata1.write_h5ad('/data/peer/adamsj5/cell_typing/pred_model1.h5ad')"
   ]
  },
  {
   "cell_type": "markdown",
   "id": "0b2e0318-a609-4e92-b905-92a87a7349b3",
   "metadata": {},
   "source": [
    "##### Model 2"
   ]
  },
  {
   "cell_type": "code",
   "execution_count": null,
   "id": "0eb0713b-7806-46e5-a008-543907318264",
   "metadata": {
    "tags": []
   },
   "outputs": [],
   "source": [
    "pred_adata_2 = get_predictions('/data/peer/adamsj5/cell_typing/train_test_data/CT_45_Test.h5ad', 'New Models/CT_45 Models/ct_model_2.pkl', '/data/peer/adamsj5/cell_typing/Data with Predictions/pred_model2.h5ad')"
   ]
  },
  {
   "cell_type": "code",
   "execution_count": 7,
   "id": "3de224b0-51a0-4ea5-841f-43eef71edbfe",
   "metadata": {
    "tags": []
   },
   "outputs": [],
   "source": [
    "pred_adata2= ad.read('/data/peer/adamsj5/cell_typing/Data with Predictions/pred_model2.h5ad')"
   ]
  },
  {
   "cell_type": "markdown",
   "id": "f53e37b0-87dd-43e8-ab55-2025a2e6d2bd",
   "metadata": {},
   "source": [
    "##### Model 3"
   ]
  },
  {
   "cell_type": "code",
   "execution_count": null,
   "id": "6ef2a212-546c-4853-bfc6-d0437a77aa5d",
   "metadata": {
    "tags": []
   },
   "outputs": [],
   "source": [
    "pred_adata3 = get_predictions('/data/peer/adamsj5/cell_typing/train_test_data/CT_45_Test.h5ad', 'New Models/CT_45 Models/ct_model_3.pkl', '/data/peer/adamsj5/cell_typing/Data with Predictions/pred_model3.h5ad')"
   ]
  },
  {
   "cell_type": "code",
   "execution_count": 8,
   "id": "ce877518-1fad-4e81-bee9-1c1aa636c35e",
   "metadata": {
    "tags": []
   },
   "outputs": [],
   "source": [
    "pred_adata3= ad.read('/data/peer/adamsj5/cell_typing/Data with Predictions/pred_model3.h5ad')"
   ]
  },
  {
   "cell_type": "markdown",
   "id": "001709b7-af33-425c-98ec-bc61cab1da1b",
   "metadata": {},
   "source": [
    "##### Model 4"
   ]
  },
  {
   "cell_type": "code",
   "execution_count": null,
   "id": "043f2d62-8e4e-4a4e-9721-e566d00c50b4",
   "metadata": {
    "tags": []
   },
   "outputs": [],
   "source": [
    "pred_adata4 = get_predictions('/data/peer/adamsj5/cell_typing/train_test_data/CT_45_Test.h5ad', 'New Models/CT_45 Models/ct_model_4.pkl', '/data/peer/adamsj5/cell_typing/Data with Predictions/pred_model4.h5ad')"
   ]
  },
  {
   "cell_type": "code",
   "execution_count": 9,
   "id": "84e48b64-b84a-4713-8228-ee224b6c3261",
   "metadata": {
    "tags": []
   },
   "outputs": [],
   "source": [
    "pred_adata4= ad.read('/data/peer/adamsj5/cell_typing/Data with Predictions/pred_model4.h5ad')"
   ]
  },
  {
   "cell_type": "markdown",
   "id": "918dc256-0286-4192-b374-3afa3ddbd755",
   "metadata": {},
   "source": [
    "##### Model 5"
   ]
  },
  {
   "cell_type": "code",
   "execution_count": null,
   "id": "bdad5448-106a-4b8a-a830-839375240ebc",
   "metadata": {
    "tags": []
   },
   "outputs": [],
   "source": [
    "pred_adata5 = get_predictions('/data/peer/adamsj5/cell_typing/train_test_data/CT_45_Test.h5ad', 'New Models/CT_45 Models/ct_model_5.pkl', '/data/peer/adamsj5/cell_typing/Data with Predictions/pred_model5.h5ad')"
   ]
  },
  {
   "cell_type": "code",
   "execution_count": 10,
   "id": "a23df698-5fc7-4cb9-97c5-81cdb8ff9356",
   "metadata": {
    "tags": []
   },
   "outputs": [],
   "source": [
    "pred_adata5= ad.read('/data/peer/adamsj5/cell_typing/Data with Predictions/pred_model5.h5ad')"
   ]
  },
  {
   "cell_type": "markdown",
   "id": "f279e80a-06ce-4750-bcd5-5819c0509352",
   "metadata": {
    "jp-MarkdownHeadingCollapsed": true,
    "tags": []
   },
   "source": [
    "### Using CT_98 Models"
   ]
  },
  {
   "cell_type": "markdown",
   "id": "8161c97b-30bf-4a28-865d-8520fd674db0",
   "metadata": {},
   "source": [
    "Model 1"
   ]
  },
  {
   "cell_type": "code",
   "execution_count": null,
   "id": "42375c6f-1de4-4dfb-848b-4f8ffe20a4af",
   "metadata": {
    "tags": []
   },
   "outputs": [],
   "source": [
    "pred_adata98_0 = get_predictions('/data/peer/adamsj5/cell_typing/train_test_data/CT_98_Test.h5ad', 'New Models/CT_98 Models/98_model_0.pkl', '/data/peer/adamsj5/cell_typing/Data with Predictions/pred_98_model0.h5ad')"
   ]
  },
  {
   "cell_type": "code",
   "execution_count": 7,
   "id": "5ab077f6-4b61-41af-8375-4aa9be8cb7b6",
   "metadata": {
    "tags": []
   },
   "outputs": [],
   "source": [
    "pred_adata98_0 = ad.read('/data/peer/adamsj5/cell_typing/Data with Predictions/pred_98_model0.h5ad')"
   ]
  },
  {
   "cell_type": "markdown",
   "id": "b862cedc-669a-4f8e-9b5c-b66819aaadc3",
   "metadata": {},
   "source": [
    "Model 2"
   ]
  },
  {
   "cell_type": "code",
   "execution_count": 4,
   "id": "61ce18b4-d970-4797-9323-a59afa26b5fe",
   "metadata": {
    "tags": []
   },
   "outputs": [
    {
     "name": "stderr",
     "output_type": "stream",
     "text": [
      "⚠️ Warning: invalid expression matrix, expect all genes and log1p normalized expression to 10000 counts per cell. The prediction result may not be accurate\n",
      "🔬 Input data has 540487 cells and 38995 genes\n",
      "🔗 Matching reference genes in the model\n",
      "🧬 9121 features used for prediction\n",
      "⚖️ Scaling input data\n",
      "🖋️ Predicting labels\n",
      "✅ Prediction done!\n",
      "👀 Can not detect a neighborhood graph, will construct one before the over-clustering\n",
      "/home/adamsj5/miniconda3/lib/python3.11/site-packages/umap/distances.py:1063: NumbaDeprecationWarning: The 'nopython' keyword argument was not supplied to the 'numba.jit' decorator. The implicit default value for this argument is currently False, but it will be changed to True in Numba 0.59.0. See https://numba.readthedocs.io/en/stable/reference/deprecation.html#deprecation-of-object-mode-fall-back-behaviour-when-using-jit for details.\n",
      "  @numba.jit()\n",
      "/home/adamsj5/miniconda3/lib/python3.11/site-packages/umap/distances.py:1071: NumbaDeprecationWarning: The 'nopython' keyword argument was not supplied to the 'numba.jit' decorator. The implicit default value for this argument is currently False, but it will be changed to True in Numba 0.59.0. See https://numba.readthedocs.io/en/stable/reference/deprecation.html#deprecation-of-object-mode-fall-back-behaviour-when-using-jit for details.\n",
      "  @numba.jit()\n",
      "/home/adamsj5/miniconda3/lib/python3.11/site-packages/umap/distances.py:1086: NumbaDeprecationWarning: The 'nopython' keyword argument was not supplied to the 'numba.jit' decorator. The implicit default value for this argument is currently False, but it will be changed to True in Numba 0.59.0. See https://numba.readthedocs.io/en/stable/reference/deprecation.html#deprecation-of-object-mode-fall-back-behaviour-when-using-jit for details.\n",
      "  @numba.jit()\n",
      "/home/adamsj5/miniconda3/lib/python3.11/site-packages/tqdm/auto.py:21: TqdmWarning: IProgress not found. Please update jupyter and ipywidgets. See https://ipywidgets.readthedocs.io/en/stable/user_install.html\n",
      "  from .autonotebook import tqdm as notebook_tqdm\n",
      "/home/adamsj5/miniconda3/lib/python3.11/site-packages/umap/umap_.py:660: NumbaDeprecationWarning: The 'nopython' keyword argument was not supplied to the 'numba.jit' decorator. The implicit default value for this argument is currently False, but it will be changed to True in Numba 0.59.0. See https://numba.readthedocs.io/en/stable/reference/deprecation.html#deprecation-of-object-mode-fall-back-behaviour-when-using-jit for details.\n",
      "  @numba.jit()\n",
      "⛓️ Over-clustering input data with resolution set to 30\n",
      "🗳️ Majority voting the predictions\n",
      "✅ Majority voting done!\n"
     ]
    }
   ],
   "source": [
    "pred_adata98_2 = get_predictions('/data/peer/adamsj5/cell_typing/train_test_data/CT_98_Test.h5ad', 'New Models/CT_98 Models/98_model_2.pkl', '/data/peer/adamsj5/cell_typing/Data with Predictions/pred_98_model2.h5ad')"
   ]
  },
  {
   "cell_type": "code",
   "execution_count": 5,
   "id": "4f49c2de-c9b1-4ed6-8957-2a1dc9ef4a6e",
   "metadata": {},
   "outputs": [],
   "source": [
    "pred_adata98_2 = ad.read('/data/peer/adamsj5/cell_typing/Data with Predictions/pred_98_model2.h5ad')"
   ]
  },
  {
   "cell_type": "markdown",
   "id": "ca13db37-0bb4-459d-b227-de73ce0a4263",
   "metadata": {},
   "source": [
    "Model 3"
   ]
  },
  {
   "cell_type": "code",
   "execution_count": null,
   "id": "41166166-bfce-40a6-b1b1-7bcafd31f483",
   "metadata": {
    "tags": []
   },
   "outputs": [],
   "source": [
    "pred_adata98_3 = get_predictions('/data/peer/adamsj5/cell_typing/train_test_data/CT_98_Test.h5ad', 'New Models/CT_98 Models/98_model_3.pkl', '/data/peer/adamsj5/cell_typing/Data with Predictions/pred_98_model3.h5ad')"
   ]
  },
  {
   "cell_type": "code",
   "execution_count": 8,
   "id": "f35fa777-e708-4658-9644-1ad7b984f23a",
   "metadata": {
    "tags": []
   },
   "outputs": [],
   "source": [
    "pred_adata98_3 = ad.read('/data/peer/adamsj5/cell_typing/Data with Predictions/pred_98_model3.h5ad')"
   ]
  },
  {
   "cell_type": "markdown",
   "id": "19bdade4-ab47-4391-b149-6b0deaec6078",
   "metadata": {},
   "source": [
    "Model 4"
   ]
  },
  {
   "cell_type": "code",
   "execution_count": null,
   "id": "81e9b56a-340e-4546-9701-9a8d6b597079",
   "metadata": {
    "tags": []
   },
   "outputs": [],
   "source": [
    "pred_adata98_4 = get_predictions('/data/peer/adamsj5/cell_typing/train_test_data/CT_98_Test.h5ad', 'New Models/CT_98 Models/98_model_4.pkl', '/data/peer/adamsj5/cell_typing/Data with Predictions/pred_98_model4.h5ad')"
   ]
  },
  {
   "cell_type": "code",
   "execution_count": 9,
   "id": "14a4aa8d-3521-4eeb-b4ae-533caaa3ae9b",
   "metadata": {
    "tags": []
   },
   "outputs": [],
   "source": [
    "pred_adata98_4 = ad.read('/data/peer/adamsj5/cell_typing/Data with Predictions/pred_98_model4.h5ad')"
   ]
  },
  {
   "cell_type": "markdown",
   "id": "82722fed-281b-427a-9bc4-cb4a64490425",
   "metadata": {},
   "source": [
    "Model 5"
   ]
  },
  {
   "cell_type": "code",
   "execution_count": null,
   "id": "fecf7569-dffd-4483-a1f7-063d6e731746",
   "metadata": {
    "tags": []
   },
   "outputs": [],
   "source": [
    "pred_adata98_5 = get_predictions('/data/peer/adamsj5/cell_typing/train_test_data/CT_98_Test.h5ad', 'New Models/CT_98 Models/98_model_5.pkl', '/data/peer/adamsj5/cell_typing/Data with Predictions/pred_98_model5.h5ad')"
   ]
  },
  {
   "cell_type": "code",
   "execution_count": 12,
   "id": "5215d205-e578-410c-a46c-41a735650865",
   "metadata": {},
   "outputs": [],
   "source": [
    "pred_adata98_5 = ad.read('/data/peer/adamsj5/cell_typing/Data with Predictions/pred_98_model2.h5ad')"
   ]
  },
  {
   "cell_type": "markdown",
   "id": "8f2b0558-ab9e-47ba-a4d8-4278927c32e9",
   "metadata": {
    "jp-MarkdownHeadingCollapsed": true,
    "tags": []
   },
   "source": [
    "### Using COV_PBMC Models"
   ]
  },
  {
   "cell_type": "markdown",
   "id": "043a07f8-30da-403b-8179-cb50b2f26d6d",
   "metadata": {},
   "source": [
    "Model 0"
   ]
  },
  {
   "cell_type": "code",
   "execution_count": null,
   "id": "c210c479-ae2a-4404-b4c1-8c738a38ac23",
   "metadata": {
    "tags": []
   },
   "outputs": [],
   "source": [
    "pred_adataCOV_0 = get_predictions('/data/peer/adamsj5/cell_typing/train_test_data/COV_Test.h5ad', 'New Models/COV_PBMC Models/COV_model_0.pkl', '/data/peer/adamsj5/cell_typing/Data with Predictions/pred_COV_model0.h5ad')"
   ]
  },
  {
   "cell_type": "code",
   "execution_count": null,
   "id": "7a65bdbc-8dc7-4abe-a80e-53ecd0e5ab00",
   "metadata": {},
   "outputs": [],
   "source": [
    "pred_adataCOV_0 = ad.read('/data/peer/adamsj5/cell_typing/Data with Predictions/pred_COV_model0.h5ad')"
   ]
  },
  {
   "cell_type": "markdown",
   "id": "d128aa54-d8dc-4b36-b30d-f7923b538732",
   "metadata": {},
   "source": [
    "Model 2"
   ]
  },
  {
   "cell_type": "code",
   "execution_count": null,
   "id": "3ca7de24-4c59-4b67-91e2-1db5bd8e5a81",
   "metadata": {
    "tags": []
   },
   "outputs": [],
   "source": [
    "pred_adataCOV_2 = get_predictions('/data/peer/adamsj5/cell_typing/train_test_data/COV_Test.h5ad', 'New Models/COV_PBMC Models/COV_model_2.pkl', '/data/peer/adamsj5/cell_typing/Data with Predictions/pred_COV_model2.h5ad')"
   ]
  },
  {
   "cell_type": "code",
   "execution_count": null,
   "id": "bbd45e32-7cf4-4291-8d74-7b1e6ea0ce89",
   "metadata": {},
   "outputs": [],
   "source": [
    "pred_adataCOV_2 = ad.read('/data/peer/adamsj5/cell_typing/Data with Predictions/pred_COV_model2.h5ad')"
   ]
  },
  {
   "cell_type": "markdown",
   "id": "99181af9-0716-442a-92a9-5b117a7c2c33",
   "metadata": {},
   "source": [
    "Model 3"
   ]
  },
  {
   "cell_type": "code",
   "execution_count": null,
   "id": "d1e62f99-80bd-4d71-8f55-6344a81a5374",
   "metadata": {
    "tags": []
   },
   "outputs": [],
   "source": [
    "pred_adataCOV_3 = get_predictions('/data/peer/adamsj5/cell_typing/train_test_data/COV_Test.h5ad', 'New Models/COV_PBMC Models/COV_model_3.pkl', '/data/peer/adamsj5/cell_typing/Data with Predictions/pred_COV_model3.h5ad')"
   ]
  },
  {
   "cell_type": "code",
   "execution_count": null,
   "id": "08381b7f-c860-4a46-a3dc-667b4477f935",
   "metadata": {},
   "outputs": [],
   "source": [
    "pred_adataCOV_3 = ad.read('/data/peer/adamsj5/cell_typing/Data with Predictions/pred_COV_model3.h5ad')"
   ]
  },
  {
   "cell_type": "code",
   "execution_count": null,
   "id": "30affe19-4545-48e8-a37d-6a7991449a24",
   "metadata": {
    "tags": []
   },
   "outputs": [],
   "source": [
    "#making sure the f1 score is the same if we use dataset with all genes vs just cytopus genes \n",
    "#predictions_COV_cp_3 = ct.annotate(test_COV_cp, model = 'New Models/COV_PBMC Models/COV_model_3.pkl', majority_voting = True)\n",
    "#predictions_COV_3.predicted_labels\n",
    "#pred_adataCOV_cp_3 = predictions_COV_cp_3.to_adata()\n",
    "#pred_adataCOV_cp_3.write_h5ad('/data/peer/adamsj5/cell_typing/Data with Predictions/pred_COV_cp_model3.h5ad')"
   ]
  },
  {
   "cell_type": "markdown",
   "id": "39fd57d8-c6f3-4ed0-8c70-8d2ad2621abc",
   "metadata": {},
   "source": [
    "Model 4"
   ]
  },
  {
   "cell_type": "code",
   "execution_count": null,
   "id": "f52f339d-2cf5-4f04-9e0b-422d0668b0b5",
   "metadata": {
    "tags": []
   },
   "outputs": [],
   "source": [
    "pred_adataCOV_4 = get_predictions('/data/peer/adamsj5/cell_typing/train_test_data/COV_Test.h5ad', 'New Models/COV_PBMC Models/COV_model_4.pkl', '/data/peer/adamsj5/cell_typing/Data with Predictions/pred_COV_model4.h5ad')"
   ]
  },
  {
   "cell_type": "code",
   "execution_count": null,
   "id": "4a987196-4ae3-47d9-bced-26776bfa01c2",
   "metadata": {},
   "outputs": [],
   "source": [
    "pred_adataCOV_4 = ad.read('/data/peer/adamsj5/cell_typing/Data with Predictions/pred_COV_model4.h5ad')"
   ]
  },
  {
   "cell_type": "markdown",
   "id": "f1bd70df-46b4-4a1c-849f-6f60802bcbfb",
   "metadata": {},
   "source": [
    "Model 5"
   ]
  },
  {
   "cell_type": "code",
   "execution_count": null,
   "id": "5ad448b5-756e-46e8-ba0a-9d708ad65fa3",
   "metadata": {
    "tags": []
   },
   "outputs": [],
   "source": [
    "pred_adataCOV_5 = get_predictions('/data/peer/adamsj5/cell_typing/train_test_data/COV_Test.h5ad', 'New Models/COV_PBMC Models/COV_model_5.pkl', '/data/peer/adamsj5/cell_typing/Data with Predictions/pred_COV_model5.h5ad')"
   ]
  },
  {
   "cell_type": "code",
   "execution_count": null,
   "id": "efd3651d-97cf-440c-803f-c80c2b8a1d13",
   "metadata": {},
   "outputs": [],
   "source": [
    "pred_adataCOV_5 = ad.read('/data/peer/adamsj5/cell_typing/Data with Predictions/pred_COV_model5.h5ad')"
   ]
  },
  {
   "cell_type": "markdown",
   "id": "f142b3e4-d4cb-491b-a0a6-68e87184d9e5",
   "metadata": {
    "jp-MarkdownHeadingCollapsed": true,
    "tags": []
   },
   "source": [
    "### Using Glasner Models"
   ]
  },
  {
   "cell_type": "markdown",
   "id": "7dc24172-5a7d-420c-a4af-a73d11067f90",
   "metadata": {},
   "source": [
    "Model 0"
   ]
  },
  {
   "cell_type": "code",
   "execution_count": null,
   "id": "1e866625-d213-47b3-8fe4-d9e12d9473d3",
   "metadata": {
    "tags": []
   },
   "outputs": [],
   "source": [
    "pred_adatag_0 = get_predictions('/data/peer/adamsj5/cell_typing/train_test_data/test_glas.h5ad', 'New Models/Glasner Models/COV_model_0.pkl', '/data/peer/adamsj5/cell_typing/Data with Predictions/pred_g_model0.h5ad')"
   ]
  },
  {
   "cell_type": "code",
   "execution_count": 18,
   "id": "ea23e1a5-8533-42de-8e08-526ff7514642",
   "metadata": {
    "tags": []
   },
   "outputs": [],
   "source": [
    "pred_adatag_0 = ad.read('/data/peer/adamsj5/cell_typing/Data with Predictions/pred_g_model0.h5ad')"
   ]
  },
  {
   "cell_type": "markdown",
   "id": "055bbab6-8cd7-4f6a-83e6-561d608d1b83",
   "metadata": {},
   "source": [
    "Model 2"
   ]
  },
  {
   "cell_type": "code",
   "execution_count": null,
   "id": "2ee9b098-62b1-4a84-a21e-731d3ff89e48",
   "metadata": {
    "tags": []
   },
   "outputs": [],
   "source": [
    "pred_adatag_2 = get_predictions('/data/peer/adamsj5/cell_typing/train_test_data/test_glas.h5ad', 'New Models/Glasner Models/COV_model_2.pkl', '/data/peer/adamsj5/cell_typing/Data with Predictions/pred_g_model2.h5ad')"
   ]
  },
  {
   "cell_type": "code",
   "execution_count": 19,
   "id": "4cb3563a-8f44-4a6c-a545-5a16a095ca6a",
   "metadata": {
    "tags": []
   },
   "outputs": [],
   "source": [
    "pred_adatag_2 = ad.read('/data/peer/adamsj5/cell_typing/Data with Predictions/pred_g_model2.h5ad')"
   ]
  },
  {
   "cell_type": "markdown",
   "id": "80e4e6c7-10e5-4310-802c-477a95cb3ed7",
   "metadata": {},
   "source": [
    "Model 3"
   ]
  },
  {
   "cell_type": "code",
   "execution_count": null,
   "id": "5c14df23-59a7-4d60-8213-0421838321ac",
   "metadata": {
    "tags": []
   },
   "outputs": [],
   "source": [
    "pred_adatag_3 = get_predictions('/data/peer/adamsj5/cell_typing/train_test_data/test_glas.h5ad', 'New Models/Glasner Models/COV_model_3.pkl', '/data/peer/adamsj5/cell_typing/Data with Predictions/pred_g_model3.h5ad')"
   ]
  },
  {
   "cell_type": "code",
   "execution_count": 20,
   "id": "2aa39211-2acc-4be7-b407-d5d5d66a9f63",
   "metadata": {
    "tags": []
   },
   "outputs": [],
   "source": [
    "pred_adatag_3 = ad.read('/data/peer/adamsj5/cell_typing/Data with Predictions/pred_g_model3.h5ad')"
   ]
  },
  {
   "cell_type": "markdown",
   "id": "0bfcd79e-e2d5-48df-a563-ca844bb73b6f",
   "metadata": {},
   "source": [
    "Model 4"
   ]
  },
  {
   "cell_type": "code",
   "execution_count": null,
   "id": "dcdf2d9d-e4c6-4b6a-b1ed-d0ace56aad58",
   "metadata": {
    "tags": []
   },
   "outputs": [],
   "source": [
    "pred_adatag_4 = get_predictions('/data/peer/adamsj5/cell_typing/train_test_data/test_glas.h5ad', 'New Models/Glasner Models/COV_model_4.pkl', '/data/peer/adamsj5/cell_typing/Data with Predictions/pred_g_model4.h5ad')"
   ]
  },
  {
   "cell_type": "code",
   "execution_count": 21,
   "id": "ec39d742-42a6-45d0-bc55-451a916e0fd9",
   "metadata": {
    "tags": []
   },
   "outputs": [],
   "source": [
    "pred_adatag_4 = ad.read('/data/peer/adamsj5/cell_typing/Data with Predictions/pred_g_model4.h5ad')"
   ]
  },
  {
   "cell_type": "markdown",
   "id": "19bdd562-14d9-4843-b571-69c223f9bd43",
   "metadata": {},
   "source": [
    "Model 5"
   ]
  },
  {
   "cell_type": "code",
   "execution_count": null,
   "id": "55df60f8-e72b-41e0-8f97-d96f823dc12a",
   "metadata": {
    "tags": []
   },
   "outputs": [],
   "source": [
    "pred_adatag_5 = get_predictions('/data/peer/adamsj5/cell_typing/train_test_data/test_glas.h5ad', 'New Models/Glasner Models/COV_model_5.pkl', '/data/peer/adamsj5/cell_typing/Data with Predictions/pred_g_model5.h5ad')"
   ]
  },
  {
   "cell_type": "code",
   "execution_count": 22,
   "id": "9b1f3a1d-c593-4762-924e-85d589a50d49",
   "metadata": {
    "tags": []
   },
   "outputs": [],
   "source": [
    "pred_adatag_5 = ad.read('/data/peer/adamsj5/cell_typing/Data with Predictions/pred_g_model5.h5ad')"
   ]
  },
  {
   "cell_type": "markdown",
   "id": "30c231ac-5ea9-4122-8f38-1a05a359d6c6",
   "metadata": {
    "tags": []
   },
   "source": [
    "## Benchmarking\n",
    "### F1 scores & Adjusted Rand Index\n",
    "Abdelaal et al. used median F1 scores as their primary statistic"
   ]
  },
  {
   "cell_type": "code",
   "execution_count": 5,
   "id": "e24200bb-8553-4f3d-98e1-9ee8f01d626f",
   "metadata": {
    "tags": []
   },
   "outputs": [],
   "source": [
    "def calc_f1_rand(adata_0, adata_2, adata_3, adata_4, adata_5, acc_col, pred_col: str = 'predicted_labels'):\n",
    "    \"\"\"\n",
    "    Calculates both the median F1 score and the Adjusted Rand Index for all of the benchmarking models for one dataset \n",
    "    \n",
    "    adata_0 - AnnData of test data with predictions from Model 0 \n",
    "    adata_1 - AnnData of test data with predictions from Model 1\n",
    "    adata_2 - AnnData of test data with predictions from Model 2 \n",
    "    adata_3 - AnnData of test data with predictions from Model 3 \n",
    "    adata_4 - AnnData of test data with predictions from Model 4\n",
    "    acc_col - name of the column that contains groundtruth cell type annotations\n",
    "    pred_col - name of the column that contains the model predicted annotations\n",
    "        (Default: 'predicted_labels')\n",
    "    \"\"\"\n",
    "    #calculate & print F1 scores\n",
    "    f1_0 =np.median(f1_score(adata_0.obs[acc_col],adata_0.obs[pred_col], average=None))\n",
    "    print(\"Model 0 F1: \", f1_0)\n",
    "    \n",
    "    f1_2 =np.median(f1_score(adata_2.obs[acc_col],adata_2.obs[pred_col], average=None))\n",
    "    print(\"Model 2 F1: \", f1_2)\n",
    "    \n",
    "    f1_3 =np.median(f1_score(adata_3.obs[acc_col],adata_3.obs[pred_col], average=None))\n",
    "    print(\"Model 3 F1: \", f1_3)\n",
    "    \n",
    "    f1_4 =np.median(f1_score(adata_4.obs[acc_col],adata_4.obs[pred_col], average=None))\n",
    "    print(\"Model 4 F1: \", f1_4)\n",
    "    \n",
    "    f1_5 =np.median(f1_score(adata_5.obs[acc_col],adata_5.obs[pred_col], average=None))\n",
    "    print(\"Model 5 F1: \", f1_5)\n",
    "    \n",
    "    print()\n",
    "    \n",
    "    #calculate Adjusted Rand Index \n",
    "    rand_0 = adjusted_rand_score(adata_0.obs[acc_col], adata_0.obs[pred_col])\n",
    "    print(\"Model 0 Adj. Rand Index: \", rand_0)\n",
    "    \n",
    "    rand_2 = adjusted_rand_score(adata_2.obs[acc_col], adata_2.obs[pred_col])\n",
    "    print(\"Model 2 Adj. Rand Index: \", rand_2)\n",
    "    \n",
    "    rand_3 = adjusted_rand_score(adata_3.obs[acc_col], adata_3.obs[pred_col])\n",
    "    print(\"Model 3 Adj. Rand Index: \", rand_3)\n",
    "    \n",
    "    rand_4 = adjusted_rand_score(adata_4.obs[acc_col], adata_4.obs[pred_col])\n",
    "    print(\"Model 4 Adj. Rand Index: \", rand_4)\n",
    "    \n",
    "    rand_5 = adjusted_rand_score(adata_5.obs[acc_col], adata_5.obs[pred_col])\n",
    "    print(\"Model 5 Adj. Rand Index: \", rand_5)\n",
    "    \n",
    "    "
   ]
  },
  {
   "cell_type": "markdown",
   "id": "cd2cd055-3b41-4d76-a88f-e5cdb7efc072",
   "metadata": {},
   "source": [
    "#### CT_45"
   ]
  },
  {
   "cell_type": "code",
   "execution_count": 15,
   "id": "15060c29-6bca-4cca-8014-91e3d4be04f3",
   "metadata": {
    "tags": []
   },
   "outputs": [
    {
     "name": "stdout",
     "output_type": "stream",
     "text": [
      "Model 0 F1:  0.8845311566792754\n",
      "Model 2 F1:  0.762056850846375\n",
      "Model 3 F1:  0.7911239749155814\n",
      "Model 4 F1:  0.8869928453983913\n",
      "Model 5 F1:  0.8740147932581545\n",
      "\n",
      "Model 0 Adj. Rand Index:  0.8281231552808045\n",
      "Model 2 Adj. Rand Index:  0.7524372002476503\n",
      "Model 3 Adj. Rand Index:  0.7224899190255307\n",
      "Model 4 Adj. Rand Index:  0.8326681774025447\n",
      "Model 5 Adj. Rand Index:  0.8226298556980316\n"
     ]
    }
   ],
   "source": [
    "calc_f1_rand(pred_adatact, pred_adata2, pred_adata3, pred_adata4, pred_adata5, acc_col ='Manually_curated_celltype')"
   ]
  },
  {
   "cell_type": "markdown",
   "id": "01c55974-1a1c-4af3-b458-721817e8eca7",
   "metadata": {},
   "source": [
    "#### CT_98"
   ]
  },
  {
   "cell_type": "code",
   "execution_count": 17,
   "id": "f99b80d0-7511-4717-aa0a-b998dcc6693c",
   "metadata": {
    "tags": []
   },
   "outputs": [
    {
     "name": "stdout",
     "output_type": "stream",
     "text": [
      "Model 0 F1:  0.8129030598043092\n",
      "Model 2 F1:  0.49948507108018214\n",
      "Model 3 F1:  0.43357836138259687\n",
      "Model 4 F1:  0.8059130606080505\n",
      "\n",
      "Model 0 Adj. Rand Index:  0.903624665049307\n",
      "Model 2 Adj. Rand Index:  0.83319062622979\n",
      "Model 3 Adj. Rand Index:  0.7541485851491632\n",
      "Model 4 Adj. Rand Index:  0.9034262158560675\n"
     ]
    }
   ],
   "source": [
    "calc_f1_rand(pred_adata98_0, pred_adata98_2, pred_adata98_3, pred_adata98_4, pred_adata98_5, acc_col = 'Harmonised_detailed_type')"
   ]
  },
  {
   "cell_type": "markdown",
   "id": "2401534a-4f2b-4900-86d2-db3f629e0446",
   "metadata": {},
   "source": [
    "#### COV_PBMC"
   ]
  },
  {
   "cell_type": "code",
   "execution_count": null,
   "id": "eea2ea47-8057-492c-bf2a-3b2da5f927d1",
   "metadata": {
    "tags": []
   },
   "outputs": [],
   "source": [
    "calc_f1_rand(pred_adataCOV_0, pred_adataCOV_2, pred_adataCOV_3, pred_adataCOV_4, pred_adataCOV_5, acc_col = 'full_clustering')"
   ]
  },
  {
   "cell_type": "markdown",
   "id": "05560366-966c-4471-82e0-3346f1ca8738",
   "metadata": {},
   "source": [
    "#### Glasner"
   ]
  },
  {
   "cell_type": "code",
   "execution_count": 24,
   "id": "ad1c74d5-7169-48c7-b427-f894a1151851",
   "metadata": {
    "tags": []
   },
   "outputs": [
    {
     "name": "stdout",
     "output_type": "stream",
     "text": [
      "Model 0 F1:  0.2539842792240571\n",
      "Model 2 F1:  0.39576944022471267\n",
      "Model 3 F1:  0.5966898954703833\n",
      "Model 4 F1:  0.21479497529141045\n",
      "Model 5 F1:  0.4522598598982823\n",
      "\n",
      "Model 0 Adj. Rand Index:  0.9134638805161289\n",
      "Model 2 Adj. Rand Index:  0.5211194783462373\n",
      "Model 3 Adj. Rand Index:  0.8997583137853405\n",
      "Model 4 Adj. Rand Index:  0.9042911114361997\n",
      "Model 5 Adj. Rand Index:  0.9343761999105369\n"
     ]
    }
   ],
   "source": [
    "calc_f1_rand(pred_adatag_0, pred_adatag_2, pred_adatag_3, pred_adatag_4, pred_adatag_5, acc_col = 'finer_cell_types')"
   ]
  },
  {
   "cell_type": "markdown",
   "id": "15a06dc6-19ae-4768-8569-ae1b8df133db",
   "metadata": {
    "tags": []
   },
   "source": [
    "## Plotting"
   ]
  },
  {
   "cell_type": "markdown",
   "id": "1be35364-c388-4b65-856e-e2c662cca368",
   "metadata": {
    "jp-MarkdownHeadingCollapsed": true,
    "tags": []
   },
   "source": [
    "### Stacked barplots"
   ]
  },
  {
   "cell_type": "code",
   "execution_count": null,
   "id": "6d981704-14e6-419a-942f-116ef193e372",
   "metadata": {
    "tags": []
   },
   "outputs": [],
   "source": [
    "def make_stacked_barplot(orig, pred, title):\n",
    "    \"\"\"\n",
    "    Function that transforms data into a format needed for a stacked bar plot then makes said plot\n",
    "    \n",
    "    orig - list \n",
    "        - obs column that has the original (truth) cell type annotations\n",
    "        eg: pred_adatag_0.obs[\"finer_cell_types\"]}\n",
    "    pred - list\n",
    "        - obs column that has the predicted cell type annotations\n",
    "        eg: predictions_g_0.predicted_labels[\"predicted_labels\"].cat.categories\n",
    "    title - title for the plot \n",
    "    \"\"\"\n",
    "    celltypes = celltypes ={\"original\":orig, \"predicted\": pred}\n",
    "    df_lists = pd.DataFrame(data = celltypes)\n",
    "    counts_df = pd.DataFrame(data = {\"original\":orig.cat.categories})\n",
    "    for x in pred.cat.categories: \n",
    "        #print(x)\n",
    "        df = df_lists.loc[df_lists['original'] == x]\n",
    "        labels = []\n",
    "        counts = []\n",
    "        for y in orig.cat.categories:\n",
    "            labels.append(y)\n",
    "            if y in pred.cat.categories:\n",
    "                count = df['predicted'].value_counts()[y]\n",
    "                #print(count)\n",
    "                counts.append(count)\n",
    "            else: \n",
    "                counts.append(0)\n",
    "        #print(counts)\n",
    "        df_1orig = pd.DataFrame(data = {\"original\": labels, x: counts})\n",
    "        #print(df_1orig)\n",
    "        counts_df = pd.merge(counts_df, df_1orig, on ='original')\n",
    "    counts_df\n",
    "    counts_df.plot.bar(x = 'original', title = title, stacked=True, figsize = (14,9), colormap = 'gist_ncar')\n",
    "    plt.legend(loc=(1.04, 0))"
   ]
  },
  {
   "cell_type": "markdown",
   "id": "af530f1d-e817-43f1-bfef-4bfbdd1eb274",
   "metadata": {
    "jp-MarkdownHeadingCollapsed": true,
    "tags": []
   },
   "source": [
    "#### CT_45"
   ]
  },
  {
   "cell_type": "code",
   "execution_count": null,
   "id": "335517ab-68f7-4fc6-a671-6b0858eeea8e",
   "metadata": {
    "tags": []
   },
   "outputs": [],
   "source": [
    "make_stacked_barplot(orig= pred_adatact.obs[\"Manually_curated_celltype\"], pred = pred_adatact.obs[\"predicted_labels\"], title = \"CT_45 0 - 0.884\" )"
   ]
  },
  {
   "cell_type": "code",
   "execution_count": null,
   "id": "c682c1fc-1148-4cf5-ae0e-3ab9622e9861",
   "metadata": {
    "tags": []
   },
   "outputs": [],
   "source": [
    "make_stacked_barplot(orig= pred_adata2.obs[\"Manually_curated_celltype\"], pred = pred_adata2.obs[\"predicted_labels\"], title = \"CT_45 2 - 0.762\" )"
   ]
  },
  {
   "cell_type": "code",
   "execution_count": null,
   "id": "60ed0ba4-3e45-4573-ac24-1368a71d1345",
   "metadata": {
    "tags": []
   },
   "outputs": [],
   "source": [
    "make_stacked_barplot(orig= pred_adata3.obs[\"Manually_curated_celltype\"], pred = pred_adata3.obs[\"predicted_labels\"], title = \"CT_45 3 - 0.791\" )"
   ]
  },
  {
   "cell_type": "code",
   "execution_count": null,
   "id": "a1d08f37-cb3e-429a-82a8-59b714b26da4",
   "metadata": {
    "tags": []
   },
   "outputs": [],
   "source": [
    "make_stacked_barplot(orig= pred_adata4.obs[\"Manually_curated_celltype\"], pred = pred_adata4.obs[\"predicted_labels\"], title = \"CT_45 4 - 0.887\" )"
   ]
  },
  {
   "cell_type": "code",
   "execution_count": null,
   "id": "0d6b75e4-a988-407a-b04b-09149ac3b28b",
   "metadata": {
    "tags": []
   },
   "outputs": [],
   "source": [
    "make_stacked_barplot(orig= pred_adata5.obs[\"Manually_curated_celltype\"], pred = pred_adata5.obs[\"predicted_labels\"], title = \"CT_45 5 - 0.874\" )"
   ]
  },
  {
   "cell_type": "markdown",
   "id": "a10c2f1b-f64b-4052-9fff-61ddf486d93e",
   "metadata": {
    "tags": []
   },
   "source": [
    "#### CT_98"
   ]
  },
  {
   "cell_type": "code",
   "execution_count": null,
   "id": "92337b95-e5fa-4bed-9d86-3b323756c213",
   "metadata": {},
   "outputs": [],
   "source": [
    "make_stacked_barplot(orig= pred_adata98_0.obs[\"Harmonised_detailed_type\"], pred = pred_adata98_0.obs[\"predicted_labels\"], title = \"CT_98 0\" )"
   ]
  },
  {
   "cell_type": "code",
   "execution_count": null,
   "id": "834d2e88-d3b3-42b4-a61d-63aab0bf48a1",
   "metadata": {},
   "outputs": [],
   "source": [
    "make_stacked_barplot(orig= pred_adata98_2.obs[\"Harmonised_detailed_type\"], pred = pred_adata98_2.obs[\"predicted_labels\"], title = \"CT_98 2\" )"
   ]
  },
  {
   "cell_type": "code",
   "execution_count": null,
   "id": "73d2eb03-8471-43d3-badf-2d6bb91ae895",
   "metadata": {},
   "outputs": [],
   "source": [
    "make_stacked_barplot(orig= pred_adata98_3.obs[\"Harmonised_detailed_type\"], pred = pred_adata98_3.obs[\"predicted_labels\"], title = \"CT_98 3\" )"
   ]
  },
  {
   "cell_type": "code",
   "execution_count": null,
   "id": "0ce9bce9-7171-4720-b53a-bbeee0ed44f0",
   "metadata": {},
   "outputs": [],
   "source": [
    "make_stacked_barplot(orig= pred_adata98_4.obs[\"Harmonised_detailed_type\"], pred = pred_adata98_4.obs[\"predicted_labels\"], title = \"CT_98 4\" )"
   ]
  },
  {
   "cell_type": "code",
   "execution_count": null,
   "id": "9eb0acac-a983-49ac-86a4-b586ef430b30",
   "metadata": {},
   "outputs": [],
   "source": [
    "make_stacked_barplot(orig= pred_adata98_5.obs[\"Harmonised_detailed_type\"], pred = pred_adata98_5.obs[\"predicted_labels\"], title = \"CT_98 5\" )"
   ]
  },
  {
   "cell_type": "markdown",
   "id": "1a20ff1e-c924-43be-acc3-da83ed44ed3a",
   "metadata": {
    "jp-MarkdownHeadingCollapsed": true,
    "tags": []
   },
   "source": [
    "#### Glasner Data"
   ]
  },
  {
   "cell_type": "code",
   "execution_count": null,
   "id": "83f6c7ac-100c-48bc-b9c4-90396c63ba8c",
   "metadata": {
    "tags": []
   },
   "outputs": [],
   "source": [
    "make_stacked_barplot(orig= pred_adatag_0.obs[\"finer_cell_types\"], pred = pred_adatag_0.obs[\"predicted_labels\"], title = \"Glasner Model 0 - 0.254\" )"
   ]
  },
  {
   "cell_type": "code",
   "execution_count": null,
   "id": "3b484cd0-4d35-4684-96de-3f917f71d69f",
   "metadata": {
    "tags": []
   },
   "outputs": [],
   "source": [
    "make_stacked_barplot(orig= pred_adatag_2.obs[\"finer_cell_types\"], pred = pred_adatag_2.obs[\"predicted_labels\"], title = \"Glasner Model 2 - 0.396\" )"
   ]
  },
  {
   "cell_type": "code",
   "execution_count": null,
   "id": "bfde1c18-2070-4422-8609-a832c854e59c",
   "metadata": {
    "tags": []
   },
   "outputs": [],
   "source": [
    "make_stacked_barplot(orig= pred_adatag_3.obs[\"finer_cell_types\"], pred = pred_adatag_3.obs[\"predicted_labels\"], title = \"Glasner Model 3 - 0.597\" )"
   ]
  },
  {
   "cell_type": "code",
   "execution_count": null,
   "id": "ed545b7e-547d-449a-ad7a-03f79574acec",
   "metadata": {
    "tags": []
   },
   "outputs": [],
   "source": [
    "make_stacked_barplot(orig= pred_adatag_4.obs[\"finer_cell_types\"], pred = pred_adatag_4.obs[\"predicted_labels\"], title = \"Glasner Model 4 - 0.215\" )"
   ]
  },
  {
   "cell_type": "markdown",
   "id": "23cbdce0-cc6b-4bfa-b9da-630c036cc8c0",
   "metadata": {
    "tags": []
   },
   "source": [
    "### Nested Sankey"
   ]
  },
  {
   "cell_type": "code",
   "execution_count": null,
   "id": "5adfadb9-7f6b-48a2-9980-d063c8024ae6",
   "metadata": {
    "tags": []
   },
   "outputs": [],
   "source": [
    "def assign_nums(df, base_num, col, idx, new_col, index_dict: Optional[dict]  = None, make_dict: bool = True):\n",
    "    \"\"\"\n",
    "    Assigns unique (sequential) numbers/codes to each unique category in a colum \n",
    "    \n",
    "    df - the dataframe (of an AnnData object's obs) \n",
    "    base_num - the number to start assigning codes at - 1\n",
    "    col - which column of the df to find the categories (eg cell type annotations)\n",
    "    idx - ? \n",
    "    new col - a column to make in the df that will hold the same info as col but translated into the new codes\n",
    "    index_dict - An existing dictionary of categories to codes \n",
    "        (Optional, Type = Dict)\n",
    "    make_dict - whether or not to make dict (or use on if passed in)\n",
    "        (Default: True)\n",
    "    \"\"\"\n",
    "    index_list = []\n",
    "    index = int(base_num)\n",
    "    if make_dict:\n",
    "        for x in np.unique(df[col]):\n",
    "            index_list.append([x,index])\n",
    "            index = int(index + 1)\n",
    "        index_dict = dict(index_list)\n",
    "        #print(index_dict)\n",
    "    df[new_col] = np.nan\n",
    "    for i, row in df.iterrows(): \n",
    "        #if idx == 1: \n",
    "        #    cell_type = df.at[i,col]\n",
    "        #elif idx == 2: \n",
    "        #    cell_type = df.at[i,col]\n",
    "        cell_type = df.at[i,col]\n",
    "        df.at[i,new_col] = int(index_dict[cell_type])\n",
    "    if make_dict: \n",
    "        return index_dict"
   ]
  },
  {
   "cell_type": "code",
   "execution_count": null,
   "id": "18c7b700-4ed0-449b-8d13-616c6a91ce1b",
   "metadata": {
    "tags": []
   },
   "outputs": [],
   "source": [
    "def make_sankey_data(adata, pred_col, acc_col, fxn, num_coarse, num_fine):\n",
    "    \"\"\"\n",
    "    Takes AnnData with predicted labels and turn it into the format a Sankey plot needs. \n",
    "    Returns 4 lists: source, target, count, labels \n",
    "    \n",
    "    adata - AnnData with predicted cell type lables\n",
    "    pred_col - name of obs column that holds predicted annotations \n",
    "    acc_col - name of obs column that holds orginal (truth) cell type annotations that model was trained with \n",
    "    fxn - what function for df.apply to use when making cell type annotations more coarse\n",
    "    num_coarse - the number of cell types in the coarse annotation list made by df.apply \n",
    "    num_fine - the number of cell types in the original annotation list \n",
    "    \"\"\"\n",
    "    df = adata.obs\n",
    "    df['acc_coarse'] = df.apply(lambda row: fxn(row, col_name = acc_col), axis=1)\n",
    "    df = df[[ 'acc_coarse', acc_col , pred_col]]\n",
    "    \n",
    "    acc = pd.DataFrame(df.groupby(['acc_coarse', acc_col], as_index=False).size())\n",
    "    pred = pd.DataFrame(df.groupby([acc_col, pred_col],as_index=False).size())\n",
    "    \n",
    "    coarse_dict = assign_nums(acc, 0, 'acc_coarse', 1, 'acc_coarse_nums')\n",
    "    finer_dict = assign_nums(acc, num_coarse+1, acc_col, 2, 'acc_finer_nums')\n",
    "    assign_nums(pred, (num_coarse+1), acc_col, 1, 'acc_finer_nums', finer_dict, make_dict = False)\n",
    "    pred_dict = assign_nums(pred, (num_coarse + num_fine + 1), pred_col, 2, 'pred_finer_nums')\n",
    "    \n",
    "    source = acc['acc_coarse_nums'].tolist()\n",
    "    source.extend(pred['acc_finer_nums'].tolist())\n",
    "    target = acc['acc_finer_nums'].tolist()\n",
    "    target.extend(pred['pred_finer_nums'].tolist())\n",
    "    count = acc['size'].tolist()\n",
    "    count.extend(pred['size'].tolist())\n",
    "     \n",
    "    coarse_dict_keys = list(coarse_dict.keys())\n",
    "    finer_dict_keys = list(finer_dict.keys())\n",
    "    pred_dict_keys = list(pred_dict.keys())\n",
    "    labels = coarse_dict_keys + finer_dict_keys + pred_dict_keys\n",
    "    \n",
    "    return source, target, count, labels"
   ]
  },
  {
   "cell_type": "code",
   "execution_count": 2,
   "id": "f50d82bd-ed03-4218-b780-92bed7f171a0",
   "metadata": {
    "tags": []
   },
   "outputs": [],
   "source": [
    "def make_sankey(source, target, count, labels, width: int = 700, height: int = 500, title: str = 'Sankey Plot'):\n",
    "    \"\"\"\n",
    "    Makes the Nested Sankey plot by plotting using the plotly Sankey function.\n",
    "    Returns the plotly Sankey Plot\n",
    "    \n",
    "    source - list of source nodes for the sankey plot\n",
    "    target - list of target nodes that correspond to the source nodes of the sankey plot\n",
    "    count - list of the amount of flow for a particular source to target \n",
    "    labels - the list of coarse, then original, then predicted cell types to map source and target lists to so the plot has labels\n",
    "    width - width of the sankey plot \n",
    "        (Default: 700)\n",
    "    height - height of the sankey plot \n",
    "        (Default: 500)\n",
    "    title - title for the plot\n",
    "        (Default: 'Sankey Plot')\n",
    "    \"\"\"\n",
    "    \n",
    "    fig = go.Figure(data=[go.Sankey(\n",
    "    node = dict(\n",
    "      pad = 15,\n",
    "      thickness = 20,\n",
    "      line = dict(color = \"black\", width = 0.5),\n",
    "      label = labels\n",
    "    ),\n",
    "    link = dict(\n",
    "      source = source, \n",
    "      target = target,\n",
    "      value = count\n",
    "      ))])\n",
    "\n",
    "    fig.update_layout(\n",
    "        autosize=False,\n",
    "        width=width,\n",
    "        height=height, \n",
    "        title = title)\n",
    "    return fig"
   ]
  },
  {
   "cell_type": "code",
   "execution_count": null,
   "id": "9608aa6f-1a8c-45c9-a785-7b14e31f6fe6",
   "metadata": {
    "tags": []
   },
   "outputs": [],
   "source": [
    "def one_type_sankey(adata, pred_col, acc_col, fxn, show_coarse: bool = True):\n",
    "    \"\"\"\n",
    "    Takes AnnData with predicted labels, focus on just cell type or coarse cell type group, turn it into the format a Sankey plot needs, then turn plot using make_sankey\n",
    "    \n",
    "    adata - AnnData with predicted cell type lables\n",
    "    pred_col - name of obs column that holds predicted annotations \n",
    "    acc_col - name of obs column that holds orginal (truth) cell type annotations that model was trained with \n",
    "    fxn - what function for df.apply to use when making cell type annotations more coarse\n",
    "    show_coarse - whether to plot each coarse cell type (True) or the more granular cell type (False) \n",
    "        (Default: True)\n",
    "    \"\"\"\n",
    "    df = adata.obs\n",
    "    df['acc_coarse'] = df.apply(lambda row: fxn(row, col_name = acc_col), axis=1)\n",
    "    df = df[[ 'acc_coarse', acc_col , pred_col]]\n",
    "    \n",
    "    if show_coarse:\n",
    "        for x in np.unique(df['acc_coarse']):\n",
    "            df_one_type = df.loc[df['acc_coarse'] == x]\n",
    "            acc = pd.DataFrame(df_one_type.groupby(['acc_coarse', acc_col], as_index=False).size())\n",
    "            pred = pd.DataFrame(df_one_type.groupby([acc_col, pred_col],as_index=False).size())\n",
    "\n",
    "\n",
    "            both = pd.merge(acc, pred, on = acc_col)\n",
    "            \"\"\"\n",
    "            coarse_dict = assign_nums(both, 0, 'acc_coarse', 1, 'acc_coarse_nums')\n",
    "            finer_dict = assign_nums(both, 1, acc_col, 2, 'acc_finer_nums')\n",
    "            pred_dict = assign_nums(both, (len(np.unique(both['acc_finer_nums'])) + 1), pred_col, 2, 'pred_finer_nums')\n",
    "\n",
    "            source = both['acc_coarse_nums'].tolist()\n",
    "            source.extend(both['acc_finer_nums'].tolist())\n",
    "            target = both['acc_finer_nums'].tolist()\n",
    "            target.extend(both['pred_finer_nums'].tolist())\n",
    "            count = both['size_x'].tolist()\n",
    "            count.extend(both['size_y'].tolist())\n",
    "            \"\"\"\n",
    "            acc = pd.DataFrame(df.groupby(['acc_coarse', acc_col], as_index=False).size())\n",
    "            pred = pd.DataFrame(df.groupby([acc_col, pred_col],as_index=False).size())\n",
    "\n",
    "            coarse_dict = assign_nums(acc, 0, 'acc_coarse', 1, 'acc_coarse_nums')\n",
    "            finer_dict = assign_nums(acc,  1, acc_col, 2, 'acc_finer_nums')\n",
    "            assign_nums(pred, 1, acc_col, 1, 'acc_finer_nums', finer_dict, make_dict = False)\n",
    "            pred_dict = assign_nums(pred, (len(np.unique(pred[pred_col])) + 2), pred_col, 2, 'pred_finer_nums')\n",
    "\n",
    "            coarse_dict_keys = list(coarse_dict.keys())\n",
    "            finer_dict_keys = list(finer_dict.keys())\n",
    "            pred_dict_keys = list(pred_dict.keys())\n",
    "            labels = coarse_dict_keys + finer_dict_keys + pred_dict_keys\n",
    "            \n",
    "            source = acc['acc_coarse_nums'].tolist()\n",
    "            source.extend(pred['acc_finer_nums'].tolist())\n",
    "            target = acc['acc_finer_nums'].tolist()\n",
    "            target.extend(pred['pred_finer_nums'].tolist())\n",
    "            count = acc['size'].tolist()\n",
    "            count.extend(pred['size'].tolist())\n",
    "            \n",
    "            fig = make_sankey(source, target, count, labels,1000, 700, x)\n",
    "            fig.show()\n",
    "      \n",
    "    else:  \n",
    "        for x in np.unique(df[acc_col]):\n",
    "            df_one_type = df.loc[df[acc_col] == x]\n",
    "            acc = pd.DataFrame(df_one_type.groupby(['acc_coarse', acc_col], as_index=False).size())\n",
    "            pred = pd.DataFrame(df_one_type.groupby([acc_col, pred_col],as_index=False).size())\n",
    "\n",
    "\n",
    "            both = pd.merge(acc, pred, on = acc_col)\n",
    "\n",
    "            finer_dict = assign_nums(both, 0, acc_col, 2, 'acc_finer_nums')\n",
    "            pred_dict = assign_nums(both, 1, pred_col, 2, 'pred_finer_nums')\n",
    "\n",
    "            source = both_select['acc_finer_nums'].tolist()\n",
    "            target = both_select['pred_finer_nums'].tolist()\n",
    "            count = both_select['size_y'].tolist()\n",
    "\n",
    "            finer_dict_keys = list(finer_dict.keys())\n",
    "            pred_dict_keys = list(pred_dict.keys())\n",
    "            labels =  finer_dict_keys + pred_dict_keys\n",
    "\n",
    "\n",
    "            fig = make_sankey(source, target, count, labels,1000, 700, x)\n",
    "            fig.show()\n",
    "    \n",
    "    "
   ]
  },
  {
   "cell_type": "markdown",
   "id": "fd108ea9-9123-4ee6-8e2d-62216e97beea",
   "metadata": {
    "jp-MarkdownHeadingCollapsed": true,
    "tags": []
   },
   "source": [
    "#### CT_45"
   ]
  },
  {
   "cell_type": "code",
   "execution_count": null,
   "id": "9b87a566-f46a-4b06-8e5f-5c4ab6c05039",
   "metadata": {
    "tags": []
   },
   "outputs": [],
   "source": [
    "def categorise_45(row, col_name): \n",
    "    \"\"\"\n",
    "    Function to categories the 45 cell types from CT_45 into more coarse groups (informed by cytopus)\n",
    "    \n",
    "    row - which row we are currently assessing\n",
    "    col_name - the column that holds the cell type annotations\n",
    "    \"\"\"\n",
    "    if row[col_name] == 'ABCs' or row[col_name] == 'GC_B (I)' or row[col_name] == 'GC_B (II)' or row[col_name] == 'Memory B cells' or row[col_name] == 'Naive B cells' or row[col_name] =='Plasma cells' or row[col_name] == 'Plasmablasts':\n",
    "        return 'B cell' \n",
    "    elif row[col_name] == 'Alveolar macrophages' or row[col_name] == 'Classical monocytes' or row[col_name] == 'DC1' or row[col_name] == 'DC2' or row[col_name] == 'Erythrophagocytic macrophages' or row[col_name] == 'Intermediate macrophages'  or row[col_name] == 'Intestinal macrophages' or row[col_name] == 'Mast cells' or row[col_name] == 'Nonclassical monocytes' or row[col_name] == 'migDC' or row[col_name] == 'pDC':\n",
    "        return 'Myeloid'\n",
    "    elif row[col_name] == 'T_CD4/CD8' or row[col_name] == 'Tem/emra_CD8' or row[col_name] == 'Tnaive/CM_CD4' or row[col_name] == 'Tnaive/CM_CD4_activated' or row[col_name] == 'Tnaive/CM_CD8' or row[col_name] == 'Trm/em_CD8' or row[col_name] == 'Trm_Tgd' or row[col_name] == 'Trm_Th1/Th17' or row[col_name] == 'Trm_Th1/Th17' or row[col_name] == 'Tregs' or row[col_name] == 'Teffector/EM_CD4' or row[col_name] == 'Tfh' or row[col_name] == 'Tgd_CRTAM+' or row[col_name] == 'MAIT' or row[col_name] == 'Trm_gut_CD8':   \n",
    "        return 'T cell'\n",
    "    return row[col_name]"
   ]
  },
  {
   "cell_type": "markdown",
   "id": "7d6afe96-ecf4-49be-8605-e1e23d72d7af",
   "metadata": {},
   "source": [
    "##### Model 0"
   ]
  },
  {
   "cell_type": "markdown",
   "id": "18660cd2-a2f3-4e31-92a9-7552748834a9",
   "metadata": {
    "tags": []
   },
   "source": [
    "###### One Cell Type at a Time"
   ]
  },
  {
   "cell_type": "markdown",
   "id": "a5aba986-ff5c-440b-9616-776b7dbce26c",
   "metadata": {
    "jp-MarkdownHeadingCollapsed": true,
    "tags": []
   },
   "source": [
    "###### All Cell Types"
   ]
  },
  {
   "cell_type": "code",
   "execution_count": null,
   "id": "90fd3979-e48b-42b3-a6d1-35a84ac75b21",
   "metadata": {
    "tags": []
   },
   "outputs": [],
   "source": [
    "source_45_0, target_45_0, count_45_0, labels_45_0  = make_sankey_data(pred_adatact, 'predicted_labels', 'Manually_curated_celltype', categorise_45, 16, 45 )"
   ]
  },
  {
   "cell_type": "code",
   "execution_count": null,
   "id": "fdb2d0d8-bcb6-4599-ac92-8cf71d9aac2e",
   "metadata": {
    "tags": []
   },
   "outputs": [],
   "source": [
    "fig_45_0 = make_sankey(source_45_0, target_45_0, count_45_0, labels_45_0, 1200, 900, \"CT_45 Model 0 Sankey Plot (F1 - 0.885)\")\n",
    "fig_45_0.show()"
   ]
  },
  {
   "cell_type": "markdown",
   "id": "bbe77742-4f23-4427-bf88-13111270548f",
   "metadata": {
    "tags": []
   },
   "source": [
    "##### Model 2"
   ]
  },
  {
   "cell_type": "markdown",
   "id": "ff32c8fd-22e4-411e-b501-04a16eca2bc5",
   "metadata": {
    "jp-MarkdownHeadingCollapsed": true,
    "tags": []
   },
   "source": [
    "###### All Cell Types"
   ]
  },
  {
   "cell_type": "code",
   "execution_count": null,
   "id": "645ba809-259a-4d26-acc0-ece23704ec60",
   "metadata": {
    "tags": []
   },
   "outputs": [],
   "source": [
    "source_45_2, target_45_2, count_45_2, labels_45_2 = make_sankey_data(pred_adata2, 'predicted_labels', 'Manually_curated_celltype', categorise_45, 16, 45 )"
   ]
  },
  {
   "cell_type": "code",
   "execution_count": null,
   "id": "e9d54615-7298-4795-8ccd-d7716f1d65b0",
   "metadata": {
    "tags": []
   },
   "outputs": [],
   "source": [
    "fig_45_2 = make_sankey(source_45_2, target_45_2, count_45_2, labels_45_2, 1200, 900, \"CT_45 Model 2 Sankey Plot (F1 - 0.762)\")\n",
    "fig_45_2.show()"
   ]
  },
  {
   "cell_type": "markdown",
   "id": "834727a2-3f4c-4341-b57b-2a928d586d56",
   "metadata": {
    "tags": []
   },
   "source": [
    "##### Model 3"
   ]
  },
  {
   "cell_type": "markdown",
   "id": "03876d75-4ec7-439f-9aa5-1e7e08034e55",
   "metadata": {
    "jp-MarkdownHeadingCollapsed": true,
    "tags": []
   },
   "source": [
    "###### All Cell Types"
   ]
  },
  {
   "cell_type": "code",
   "execution_count": null,
   "id": "3842089b-3a67-4ce6-abfb-f93587860aae",
   "metadata": {
    "tags": []
   },
   "outputs": [],
   "source": [
    "source_45_3, target_45_3, count_45_3, labels_45_3 = make_sankey_data(pred_adata3, 'predicted_labels', 'Manually_curated_celltype', categorise_45, 16, 45)"
   ]
  },
  {
   "cell_type": "code",
   "execution_count": null,
   "id": "d4cda653-6bbb-46e2-ab05-4f2a612628a7",
   "metadata": {
    "tags": []
   },
   "outputs": [],
   "source": [
    "fig_45_3 = make_sankey(source_45_3, target_45_3, count_45_3, labels_45_3, 1500, 900, \"CT_45 Model 3 Sankey Plot (F1 - 0.791)\")\n",
    "fig_45_3.show()"
   ]
  },
  {
   "cell_type": "markdown",
   "id": "674b3f35-4274-4fc7-82bd-9591904b908c",
   "metadata": {
    "tags": []
   },
   "source": [
    "##### Model 4"
   ]
  },
  {
   "cell_type": "markdown",
   "id": "739399aa-dbf3-4393-a9a7-949a866a0174",
   "metadata": {
    "jp-MarkdownHeadingCollapsed": true,
    "tags": []
   },
   "source": [
    "###### All Cell Types"
   ]
  },
  {
   "cell_type": "code",
   "execution_count": null,
   "id": "06034178-0357-4119-ab98-56c72caabd8b",
   "metadata": {
    "tags": []
   },
   "outputs": [],
   "source": [
    "source_45_4, target_45_4, count_45_4, labels_45_4 = make_sankey_data(pred_adata4, 'predicted_labels', 'Manually_curated_celltype', categorise_45, 16, 45)"
   ]
  },
  {
   "cell_type": "code",
   "execution_count": null,
   "id": "51bc9b34-8d37-41d8-99a9-cdf77a190501",
   "metadata": {
    "tags": []
   },
   "outputs": [],
   "source": [
    "fig_45_4 = make_sankey(source_45_4, target_45_4, count_45_4,labels_45_4, 1200, 900, \"CT_45 Model 4 Sankey Plot (F1 - 0.887)\")\n",
    "fig_45_4.show()"
   ]
  },
  {
   "cell_type": "markdown",
   "id": "8f8aa551-dc22-46e1-a2e2-0f5b4e708346",
   "metadata": {
    "tags": []
   },
   "source": [
    "##### Model 5"
   ]
  },
  {
   "cell_type": "markdown",
   "id": "7b2fbf1a-cd56-4cc9-bbff-33e7680a9473",
   "metadata": {
    "tags": []
   },
   "source": [
    "###### All Cell Types"
   ]
  },
  {
   "cell_type": "code",
   "execution_count": null,
   "id": "375f09bc-f68c-4c89-9207-4706f8b1f3ae",
   "metadata": {
    "tags": []
   },
   "outputs": [],
   "source": [
    "source_45_5, target_45_5, count_45_5, labels_45_5 = make_sankey_data(pred_adata5, 'predicted_labels', 'Manually_curated_celltype', categorise_45, 16, 45)"
   ]
  },
  {
   "cell_type": "code",
   "execution_count": null,
   "id": "ec29a02e-da32-42c6-82ce-cb5152968f6a",
   "metadata": {
    "tags": []
   },
   "outputs": [],
   "source": [
    "fig_45_5 = make_sankey(source_45_5, target_45_5, count_45_5, labels_45_5, 1500, 900, \"CT_45 Model 0 Sankey Plot (F1 - 0.874)\")\n",
    "fig_45_5.show()"
   ]
  },
  {
   "cell_type": "markdown",
   "id": "396b904f-a098-4ea9-94de-9593272c20c4",
   "metadata": {},
   "source": [
    "#### CT_98"
   ]
  },
  {
   "cell_type": "code",
   "execution_count": null,
   "id": "2db21182-7cd5-4a3f-8a03-e477cab6268d",
   "metadata": {
    "tags": []
   },
   "outputs": [],
   "source": [
    "def categorise_98(row, col_name): \n",
    "    \"\"\"\n",
    "    Function to categories the 98 cell types from CT_98 into more coarse groups (informed by cytopus)\n",
    "    Returns the new coarse label\n",
    "    \n",
    "    row - which row we are currently assessing\n",
    "    col_name - the column that holds the cell type annotations\n",
    "    \"\"\"\n",
    "    if row[col_name] == 'Age-associated B cells' or row[col_name] == 'B cells' or row[col_name] == 'Cycling B cells' or row[col_name] == 'Memory B cells' or row[col_name] == 'Plasma cells' or row[col_name] == 'Plasmablasts' or row[col_name] == 'Pre-pro-B cells' or row[col_name] == 'Pro-B cells' or row[col_name] =='Proliferative germinal center B cells' or row[col_name] == 'Follicular B cells' or row[col_name] == 'Germinal center B cells' or row[col_name] == 'Naive B cells' or row[col_name] == 'Transitional B cells' or row[col_name] ==  'Large pre-B cells' or row[col_name] ==  'Small pre-B cells':\n",
    "        return 'B cell' \n",
    "    elif row[col_name] == 'Alveolar macrophages' or row[col_name] == 'Classical monocytes' or row[col_name] == 'DC'or row[col_name] == 'DC1' or row[col_name] == 'DC2' or row[col_name] == 'DC3' or row[col_name] == 'DC precursor' or row[col_name] == 'Erythrophagocytic macrophages' or row[col_name] == 'Intermediate macrophages' or row[col_name] == 'Intestinal macrophages' or row[col_name] == 'Macrophages' or row[col_name] == 'Mast cells' or row[col_name] == 'Nonclassical monocytes' or row[col_name] =='Migratory DCs'or row[col_name] == 'Mono-mac' or row[col_name] == 'Monocyte precursor' or row[col_name] == 'Monocytes' or row[col_name] == 'Myelocytes'or row[col_name] == 'Neutrophil-myeloid progenitor'or row[col_name] == 'Neutrophils' or row[col_name] == 'pDC' or row[col_name] == 'pDC precursor' or row[col_name] == 'CMP' or row[col_name] == 'Hofbauer cells' or row[col_name] == 'Cycling monocytes' or row[col_name] == 'Non-classical monocytes' or row[col_name] == 'Transitional DC' or row[col_name] == 'Kidney-resident macrophages' or row[col_name] =='Early erythroid' or row[col_name] ==  'Erythrocytes'or row[col_name] == 'Late erythroid'or row[col_name] == 'Mid erythroid':\n",
    "        return 'Myeloid'\n",
    "    elif row[col_name] == 'CD8a/a' or row[col_name] == 'CD8a/b(entry)' or row[col_name] == 'CRTAM+ gamma-delta T cells' or row[col_name] == 'Follicular helper T cells' or row[col_name] == 'MAIT cells' or row[col_name] == 'Memory CD4+ cytotoxic T cells' or row[col_name] == 'Regulatory T cells' or row[col_name] == 'T(agonist)' or row[col_name] == 'Tcm/Naive cytotoxic T cells' or row[col_name] == 'Tcm/Naive helper T cells' or row[col_name] == 'Tem/Effector helper T cells' or row[col_name] == 'Tem/Effector helper T cells PD1+' or row[col_name] == 'Tem/Temra cytotoxic T cells' or row[col_name] == 'Tem/Trm cytotoxic T cells' or row[col_name] == 'Treg(diff)' or row[col_name] == 'Trm cytotoxic T cells' or row[col_name] == 'Type 1 helper T cells' or row[col_name] == 'Type 17 helper T cells' or row[col_name] == 'gamma-delta T cells'or row[col_name] == 'Cycling T cells' or row[col_name] =='Cycling gamma-delta T cells':   \n",
    "        return 'T cell'\n",
    "    elif row[col_name] == 'CD16+ NK cells' or row[col_name] == 'Cycling NK cells' or row[col_name] == 'ILC' or row[col_name] == 'ILC1' or row[col_name] == 'ILC2' or row[col_name] == 'ILC3' or row[col_name] == 'ILC precursor' or row[col_name] == 'NK cells' or row[col_name] == 'NKT cells' or row[col_name] == 'Transitional NK':\n",
    "        return 'TNK'\n",
    "    return row[col_name]"
   ]
  },
  {
   "cell_type": "code",
   "execution_count": null,
   "id": "61eed1eb-03ad-4481-ae64-7f4bd3983d75",
   "metadata": {
    "tags": []
   },
   "outputs": [],
   "source": [
    "la = pred_adata98_0.obs.apply(lambda row: categorise_98(row, col_name = \"Harmonised_detailed_type\"), axis=1)"
   ]
  },
  {
   "cell_type": "code",
   "execution_count": null,
   "id": "72b7df86-b163-4656-9a13-c41dd6ddd218",
   "metadata": {
    "tags": []
   },
   "outputs": [],
   "source": [
    "np.unique(la)"
   ]
  },
  {
   "cell_type": "markdown",
   "id": "75b9672a-736f-403f-9142-fa8254ce4cf7",
   "metadata": {
    "tags": []
   },
   "source": [
    "##### Model 0"
   ]
  },
  {
   "cell_type": "markdown",
   "id": "b6d31066-ed4e-4084-9d4f-ca625bde20c4",
   "metadata": {},
   "source": [
    "###### One Cell Type at a Time"
   ]
  },
  {
   "cell_type": "code",
   "execution_count": null,
   "id": "b7033bb4-efdd-4f67-a6ae-1f69605f342f",
   "metadata": {
    "tags": []
   },
   "outputs": [],
   "source": [
    "one_type_sankey(pred_adata98_0, 'predicted_labels', 'Harmonised_detailed_type', categorise_98)"
   ]
  },
  {
   "cell_type": "markdown",
   "id": "7a950b12-d20e-4062-a424-72cc14ced700",
   "metadata": {
    "tags": []
   },
   "source": [
    "##### Model 2"
   ]
  },
  {
   "cell_type": "markdown",
   "id": "2c12d4b7-1dee-4488-9e10-d2b7d1aa5494",
   "metadata": {},
   "source": [
    "###### One Cell Type at a Time"
   ]
  },
  {
   "cell_type": "code",
   "execution_count": null,
   "id": "1f6fdbdf-efcc-40b9-8c44-1724fa7c1dc2",
   "metadata": {
    "tags": []
   },
   "outputs": [],
   "source": [
    "one_type_sankey(pred_adata98_2, 'predicted_labels', 'Harmonised_detailed_type', categorise_98)"
   ]
  },
  {
   "cell_type": "markdown",
   "id": "3a08ea2d-711d-4742-9359-18be9cdd9ea4",
   "metadata": {
    "tags": []
   },
   "source": [
    "##### Model 3"
   ]
  },
  {
   "cell_type": "markdown",
   "id": "d92cbc15-9ccf-463c-b826-cde607a6da6b",
   "metadata": {},
   "source": [
    "###### One Cell Type at a Time"
   ]
  },
  {
   "cell_type": "code",
   "execution_count": null,
   "id": "f7d08a0c-c919-4887-85ef-7ffd2c2b8d79",
   "metadata": {
    "tags": []
   },
   "outputs": [],
   "source": [
    "one_type_sankey(pred_adata98_3, 'predicted_labels', 'Harmonised_detailed_type', categorise_98)"
   ]
  },
  {
   "cell_type": "markdown",
   "id": "9db18b98-41c8-4bea-82d9-c294e16a1c21",
   "metadata": {
    "tags": []
   },
   "source": [
    "##### Model 4"
   ]
  },
  {
   "cell_type": "markdown",
   "id": "827a7e59-491b-4848-99bf-8d887ac23b82",
   "metadata": {},
   "source": [
    "###### One Cell Type at a Time"
   ]
  },
  {
   "cell_type": "code",
   "execution_count": null,
   "id": "81fcb8a4-4580-484f-b7d6-516b387696e9",
   "metadata": {
    "tags": []
   },
   "outputs": [],
   "source": [
    "one_type_sankey(pred_adata98_4, 'predicted_labels', 'Harmonised_detailed_type', categorise_98)"
   ]
  },
  {
   "cell_type": "markdown",
   "id": "a1798c69-5c5b-4591-9823-f20cd046b49d",
   "metadata": {
    "tags": []
   },
   "source": [
    "##### Model 5"
   ]
  },
  {
   "cell_type": "markdown",
   "id": "96eaccfe-5d80-4fb4-abac-904a02503d24",
   "metadata": {},
   "source": [
    "###### One Cell Type at a Time"
   ]
  },
  {
   "cell_type": "code",
   "execution_count": null,
   "id": "bd5d1ea7-5196-441e-9fc1-ca4d427dc009",
   "metadata": {
    "tags": []
   },
   "outputs": [],
   "source": [
    "one_type_sankey(pred_adata98_5, 'predicted_labels', 'Harmonised_detailed_type', categorise_98)"
   ]
  },
  {
   "cell_type": "markdown",
   "id": "8da7d97e-2c16-4797-b47c-656f2c09ed75",
   "metadata": {
    "tags": []
   },
   "source": [
    "#### Glanser"
   ]
  },
  {
   "cell_type": "code",
   "execution_count": null,
   "id": "a1d242c5-ec30-4c0b-b817-c755879ff6bc",
   "metadata": {
    "tags": []
   },
   "outputs": [],
   "source": [
    "def categorise_glanser(row, col_name):  \n",
    "    \"\"\"\n",
    "    Function to categories the 45 cell types from CT_45 into more coarse groups (informed by cytopus)\n",
    "    Returns the new coarse label\n",
    "    \n",
    "    row - which row we are currently assessing\n",
    "    col_name - the column that holds the cell type annotations\n",
    "    \"\"\"\n",
    "    if row[col_name] == 'adventitial_fibroblast' or row[col_name] == 'alveolar_lung_fibroblast' or row[col_name] == 'LRRC15_myofibroblast':\n",
    "        return 'Fibroblast'\n",
    "    elif row[col_name] == 'Myeloid' or row[col_name] == 'DC_Langerhans' or row[col_name] == 'DC_Mature' or row[col_name] == 'Macrophage' or row[col_name] == 'Macrophage_Alveolar'or row[col_name] == 'Mast'  or row[col_name] == 'Neutrophil' or row[col_name] == 'cDC1' or row[col_name] == 'cDC2'  or row[col_name] == 'cMonocyte' or row[col_name] == 'cycling_macrophage' or row[col_name] == 'ncMonocyte' or row[col_name] == 'neutrophil':\n",
    "        return 'Myeloid'\n",
    "    return row[col_name]"
   ]
  },
  {
   "cell_type": "markdown",
   "id": "65739db0-800d-4dc4-8e64-8fd1d4c3655b",
   "metadata": {
    "tags": []
   },
   "source": [
    "##### Model 0"
   ]
  },
  {
   "cell_type": "markdown",
   "id": "b1289893-627f-48d8-8ade-6855e253123b",
   "metadata": {},
   "source": [
    "###### One Cell Type at a Time"
   ]
  },
  {
   "cell_type": "code",
   "execution_count": null,
   "id": "8eee4013-46a5-4a8a-891e-48eb285198d9",
   "metadata": {
    "tags": []
   },
   "outputs": [],
   "source": [
    "one_type_sankey(pred_adatag_0, 'predicted_labels', 'finer_cell_types', categorise_glanser)"
   ]
  },
  {
   "cell_type": "markdown",
   "id": "8df54c86-2b1d-478e-a60f-a16f2ce4951d",
   "metadata": {
    "jp-MarkdownHeadingCollapsed": true,
    "tags": []
   },
   "source": [
    "###### All Cell Types"
   ]
  },
  {
   "cell_type": "code",
   "execution_count": null,
   "id": "ca4970fa-7996-4216-811b-ec3a6ee2483c",
   "metadata": {
    "tags": []
   },
   "outputs": [],
   "source": [
    "source_g_0, target_g_0, count_g_0,labels_g_0= make_sankey_data(pred_adatag_0, 'predicted_labels', 'finer_cell_types', categorise_glanser,7, 22)  "
   ]
  },
  {
   "cell_type": "code",
   "execution_count": null,
   "id": "662a51b2-c1d9-4e6a-a13c-b3127f25fa38",
   "metadata": {
    "tags": []
   },
   "outputs": [],
   "source": [
    "fig_g_0 = make_sankey(source_g_0, target_g_0, count_g_0, labels_g_0, 1500, 900, \"Glanser Model 0 Sankey Plot (F1 - 0.254)\")\n",
    "fig_g_0.show()"
   ]
  },
  {
   "cell_type": "markdown",
   "id": "15ba9bc4-3504-40cb-aa79-84c4b71ea9b4",
   "metadata": {},
   "source": [
    "##### Model 2"
   ]
  },
  {
   "cell_type": "markdown",
   "id": "2673dc7d-8126-43e7-badf-83ab50613378",
   "metadata": {
    "tags": []
   },
   "source": [
    "###### One Cell Type at a Time"
   ]
  },
  {
   "cell_type": "code",
   "execution_count": null,
   "id": "3ece0206-32fb-4be1-b3c4-450ecc29249a",
   "metadata": {
    "tags": []
   },
   "outputs": [],
   "source": [
    "one_type_sankey(pred_adatag_2, 'predicted_labels', 'finer_cell_types', categorise_glanser)"
   ]
  },
  {
   "cell_type": "markdown",
   "id": "f2ebcc4e-1d5b-4c4b-8f07-5023fb83ebb2",
   "metadata": {
    "jp-MarkdownHeadingCollapsed": true,
    "tags": []
   },
   "source": [
    "###### All Cell Types"
   ]
  },
  {
   "cell_type": "code",
   "execution_count": null,
   "id": "cd7f97bc-7ad3-4baa-b613-91dc14f3329c",
   "metadata": {
    "tags": []
   },
   "outputs": [],
   "source": [
    "source_g_2, target_g_2, count_g_2,labels_g_2= make_sankey_data(pred_adatag_2, 'predicted_labels', 'finer_cell_types', categorise_glanser,7, 22) "
   ]
  },
  {
   "cell_type": "code",
   "execution_count": null,
   "id": "4c758398-d57d-48b2-834d-28553f2c0e3c",
   "metadata": {
    "tags": []
   },
   "outputs": [],
   "source": [
    "fig_g_2 = make_sankey(source_g_2, target_g_2, count_g_2, labels_g_2, 1500, 900, \"Glanser Model 2 Sankey Plot (F1 - 0.396)\")\n",
    "fig_g_2.show()"
   ]
  },
  {
   "cell_type": "markdown",
   "id": "9a851c91-837b-4aff-90aa-f0cf4da7262a",
   "metadata": {},
   "source": [
    "##### Model 3"
   ]
  },
  {
   "cell_type": "markdown",
   "id": "6d30b083-e0c5-49aa-a879-072ebb154e28",
   "metadata": {
    "tags": []
   },
   "source": [
    "###### One Cell Type at a Time"
   ]
  },
  {
   "cell_type": "code",
   "execution_count": null,
   "id": "cda11cd6-f326-4066-8cc6-97b1b1400dc7",
   "metadata": {
    "tags": []
   },
   "outputs": [],
   "source": [
    "one_type_sankey(pred_adatag_3, 'predicted_labels', 'finer_cell_types', categorise_glanser)"
   ]
  },
  {
   "cell_type": "markdown",
   "id": "d446d432-adfa-4829-a362-2801ac848918",
   "metadata": {
    "jp-MarkdownHeadingCollapsed": true,
    "tags": []
   },
   "source": [
    "###### All Cell Types"
   ]
  },
  {
   "cell_type": "code",
   "execution_count": null,
   "id": "cef91cfa-1c05-4451-9179-66c7b35fb55a",
   "metadata": {
    "tags": []
   },
   "outputs": [],
   "source": [
    "source_g_3, target_g_3, count_g_3,labels_g_3 = make_sankey_data(pred_adatag_3, 'predicted_labels', 'finer_cell_types', categorise_glanser,7, 22) "
   ]
  },
  {
   "cell_type": "code",
   "execution_count": null,
   "id": "fede8625-264a-4d3e-8e10-3e35a6b28a88",
   "metadata": {
    "tags": []
   },
   "outputs": [],
   "source": [
    "fig_g_3 = make_sankey(source_g_3, target_g_3, count_g_3,labels_g_3, 1500, 900, \"Glanser Model 3 Sankey Plot (F1 - 0.597)\")\n",
    "fig_g_3.show()"
   ]
  },
  {
   "cell_type": "markdown",
   "id": "d08fe89a-57f7-41e3-b9d0-0d9f696d8860",
   "metadata": {},
   "source": [
    "##### Model 4"
   ]
  },
  {
   "cell_type": "markdown",
   "id": "12390d7f-c81a-4cb5-8606-6f4a9f66d24c",
   "metadata": {},
   "source": [
    "###### One Cell Type at a Time"
   ]
  },
  {
   "cell_type": "code",
   "execution_count": null,
   "id": "a7d134a9-d94e-4eb0-96c0-e4915f860966",
   "metadata": {
    "tags": []
   },
   "outputs": [],
   "source": [
    "one_type_sankey(pred_adatag_4, 'predicted_labels', 'finer_cell_types', categorise_glanser)"
   ]
  },
  {
   "cell_type": "markdown",
   "id": "31c8c847-07d2-4f84-9e8a-c26b091193f5",
   "metadata": {
    "jp-MarkdownHeadingCollapsed": true,
    "tags": []
   },
   "source": [
    "###### All Cell Types"
   ]
  },
  {
   "cell_type": "code",
   "execution_count": null,
   "id": "07f84b45-d08d-4793-85f6-c4127f83a81c",
   "metadata": {},
   "outputs": [],
   "source": [
    "source_g_4, target_g_4, count_g_4,labels_g_4 = make_sankey_data(pred_adatag_4, 'predicted_labels', 'finer_cell_types', categorise_glanser,7, 22) "
   ]
  },
  {
   "cell_type": "code",
   "execution_count": null,
   "id": "61f21169-a228-44ce-8aaf-28f755289199",
   "metadata": {
    "tags": []
   },
   "outputs": [],
   "source": [
    "fig_g_4 = make_sankey(source_g_4, target_g_4, count_g_4,labels_g_4,1500, 900, \"Glanser Model 4 Sankey Plot (F1 - 0.215)\")\n",
    "fig_g_4.show()"
   ]
  },
  {
   "cell_type": "markdown",
   "id": "5eaa191a-c36c-496c-b1cf-477fdd0c8ae1",
   "metadata": {},
   "source": [
    "##### Model 5"
   ]
  },
  {
   "cell_type": "markdown",
   "id": "471fdd2d-9359-4c28-a58e-14215a012563",
   "metadata": {},
   "source": [
    "###### One Cell Type at a Time"
   ]
  },
  {
   "cell_type": "code",
   "execution_count": null,
   "id": "e2090d56-8dfe-4d4a-941c-31230607e0a2",
   "metadata": {
    "tags": []
   },
   "outputs": [],
   "source": [
    "one_type_sankey(pred_adatag_5, 'predicted_labels', 'finer_cell_types', categorise_glanser)"
   ]
  },
  {
   "cell_type": "markdown",
   "id": "43af2ae4-02fc-4848-bc16-9f5cfecc709c",
   "metadata": {
    "jp-MarkdownHeadingCollapsed": true,
    "tags": []
   },
   "source": [
    "###### All Cell Types"
   ]
  },
  {
   "cell_type": "code",
   "execution_count": null,
   "id": "9107851c-c894-4995-9297-a35ff929f21e",
   "metadata": {
    "tags": []
   },
   "outputs": [],
   "source": [
    "source_g_5, target_g_5, count_g_5, labels_g_5 = make_sankey_data(pred_adatag_5, 'predicted_labels', 'finer_cell_types', categorise_glanser,7, 22)\n"
   ]
  },
  {
   "cell_type": "code",
   "execution_count": null,
   "id": "84d8d3fa-a799-4868-8529-7f4e9336ecf9",
   "metadata": {},
   "outputs": [],
   "source": [
    "fig_g_5 = make_sankey(source_g_5, target_g_5, count_g_5,labels_g_5, 1500, 900, \"Glanser Model 5 Sankey Plot (F1 - 0.452)\")\n",
    "fig_g_5.show()"
   ]
  }
 ],
 "metadata": {
  "kernelspec": {
   "display_name": "Python 3 (ipykernel)",
   "language": "python",
   "name": "python3"
  },
  "language_info": {
   "codemirror_mode": {
    "name": "ipython",
    "version": 3
   },
   "file_extension": ".py",
   "mimetype": "text/x-python",
   "name": "python",
   "nbconvert_exporter": "python",
   "pygments_lexer": "ipython3",
   "version": "3.11.4"
  }
 },
 "nbformat": 4,
 "nbformat_minor": 5
}
