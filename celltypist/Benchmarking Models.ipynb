{
 "cells": [
  {
   "cell_type": "markdown",
   "id": "e14bec32-8dd6-4a91-a998-bc42188c68b9",
   "metadata": {},
   "source": [
    "# Testing/Benchmarking Celltypist Models \n",
    "### List of Models (made in Making New Models.ipynb)\n",
    "1. Remove the feature selection from CellTypist (so it only trains the model once)\n",
    "2. Train the model with L1 regularization instead of L2\n",
    "3. Train the model only once with only Cytopus genes\n",
    "4. At the feature selection step, make sure the Cytopus genes are included in the list of top genes"
   ]
  },
  {
   "cell_type": "code",
   "execution_count": 7,
   "id": "92be23f9-d464-482d-a464-a57f73417c28",
   "metadata": {},
   "outputs": [
    {
     "name": "stderr",
     "output_type": "stream",
     "text": [
      "/Users/labuser/anaconda3/envs/auto_cell_type/lib/python3.8/site-packages/umap/distances.py:1063: NumbaDeprecationWarning: \u001b[1mThe 'nopython' keyword argument was not supplied to the 'numba.jit' decorator. The implicit default value for this argument is currently False, but it will be changed to True in Numba 0.59.0. See https://numba.readthedocs.io/en/stable/reference/deprecation.html#deprecation-of-object-mode-fall-back-behaviour-when-using-jit for details.\u001b[0m\n",
      "  @numba.jit()\n",
      "/Users/labuser/anaconda3/envs/auto_cell_type/lib/python3.8/site-packages/umap/distances.py:1071: NumbaDeprecationWarning: \u001b[1mThe 'nopython' keyword argument was not supplied to the 'numba.jit' decorator. The implicit default value for this argument is currently False, but it will be changed to True in Numba 0.59.0. See https://numba.readthedocs.io/en/stable/reference/deprecation.html#deprecation-of-object-mode-fall-back-behaviour-when-using-jit for details.\u001b[0m\n",
      "  @numba.jit()\n",
      "/Users/labuser/anaconda3/envs/auto_cell_type/lib/python3.8/site-packages/umap/distances.py:1086: NumbaDeprecationWarning: \u001b[1mThe 'nopython' keyword argument was not supplied to the 'numba.jit' decorator. The implicit default value for this argument is currently False, but it will be changed to True in Numba 0.59.0. See https://numba.readthedocs.io/en/stable/reference/deprecation.html#deprecation-of-object-mode-fall-back-behaviour-when-using-jit for details.\u001b[0m\n",
      "  @numba.jit()\n",
      "/Users/labuser/anaconda3/envs/auto_cell_type/lib/python3.8/site-packages/umap/umap_.py:660: NumbaDeprecationWarning: \u001b[1mThe 'nopython' keyword argument was not supplied to the 'numba.jit' decorator. The implicit default value for this argument is currently False, but it will be changed to True in Numba 0.59.0. See https://numba.readthedocs.io/en/stable/reference/deprecation.html#deprecation-of-object-mode-fall-back-behaviour-when-using-jit for details.\u001b[0m\n",
      "  @numba.jit()\n"
     ]
    }
   ],
   "source": [
    "import scanpy as sc\n",
    "import pandas as pd\n",
    "import anndata as ad\n",
    "from anndata import AnnData\n",
    "import numpy as np\n",
    "from scipy.sparse import spmatrix\n",
    "from datetime import datetime\n",
    "import itertools\n",
    "from sklearn.metrics import f1_score\n",
    "import matplotlib.pyplot as plt\n",
    "\n",
    "import celltypist as ct\n",
    "from celltypist import models"
   ]
  },
  {
   "cell_type": "code",
   "execution_count": 18,
   "id": "0b34f247-62ba-41fa-8fb0-832ec8975548",
   "metadata": {
    "tags": []
   },
   "outputs": [
    {
     "name": "stderr",
     "output_type": "stream",
     "text": [
      "📂 Storing models in /Users/labuser/.celltypist/data/models\n",
      "💾 Total models to download: 1\n",
      "⏩ Skipping [1/1]: Immune_All_Low.pkl (file exists)\n"
     ]
    }
   ],
   "source": [
    "#Import models \n",
    "##Celltypist default model \n",
    "models.download_models(model = 'Immune_All_Low.pkl')\n",
    "\n",
    "##New Models\n",
    "model_1 = models.Model.load('New Models/CT_45 Models/ct_model_1.pkl')\n",
    "model_2 = models.Model.load('New Models/CT_45 Models/ct_model_2.pkl')\n",
    "model_3 = models.Model.load('New Models/CT_45 Models/ct_model_3.pkl')\n",
    "model_4 = models.Model.load('New Models/CT_45 Models/ct_model_4.pkl')"
   ]
  },
  {
   "cell_type": "code",
   "execution_count": 102,
   "id": "63bf5f9e-4b48-4a71-9c32-e3182617898e",
   "metadata": {
    "tags": []
   },
   "outputs": [
    {
     "name": "stderr",
     "output_type": "stream",
     "text": [
      "📂 Storing models in /Users/labuser/.celltypist/data/models\n",
      "💾 Total models to download: 1\n",
      "💾 Downloading model [1/1]: Healthy_COVID19_PBMC.pkl\n"
     ]
    }
   ],
   "source": [
    "models.download_models(model = 'Healthy_COVID19_PBMC.pkl')"
   ]
  },
  {
   "cell_type": "markdown",
   "id": "9aad6ec5-4d53-4273-8378-d0edee9ec8ed",
   "metadata": {
    "tags": []
   },
   "source": [
    "## Get celltype predictions from each model"
   ]
  },
  {
   "cell_type": "markdown",
   "id": "50394a79-4041-4dbc-a802-37df78d91f3f",
   "metadata": {
    "jp-MarkdownHeadingCollapsed": true,
    "tags": []
   },
   "source": [
    "### Using CT_45 Models"
   ]
  },
  {
   "cell_type": "code",
   "execution_count": 19,
   "id": "a3ba64c9-21ff-4c85-ab68-758792e2a13f",
   "metadata": {
    "tags": []
   },
   "outputs": [],
   "source": [
    "#Import test data - subset of Celltypist data \n",
    "test= ad.read('../../Data/Celltypist_test.h5ad')"
   ]
  },
  {
   "cell_type": "code",
   "execution_count": 141,
   "id": "1d7299e4-017f-44a3-b285-d0ec88a56f1b",
   "metadata": {
    "tags": []
   },
   "outputs": [
    {
     "name": "stderr",
     "output_type": "stream",
     "text": [
      "🔬 Input data has 263810 cells and 36601 genes\n",
      "🔗 Matching reference genes in the model\n",
      "🧬 4759 features used for prediction\n",
      "⚖️ Scaling input data\n",
      "🖋️ Predicting labels\n",
      "✅ Prediction done!\n",
      "👀 Detected a neighborhood graph in the input object, will run over-clustering on the basis of it\n",
      "⛓️ Over-clustering input data with resolution set to 30\n",
      "🗳️ Majority voting the predictions\n",
      "✅ Majority voting done!\n"
     ]
    },
    {
     "data": {
      "text/html": [
       "<div>\n",
       "<style scoped>\n",
       "    .dataframe tbody tr th:only-of-type {\n",
       "        vertical-align: middle;\n",
       "    }\n",
       "\n",
       "    .dataframe tbody tr th {\n",
       "        vertical-align: top;\n",
       "    }\n",
       "\n",
       "    .dataframe thead th {\n",
       "        text-align: right;\n",
       "    }\n",
       "</style>\n",
       "<table border=\"1\" class=\"dataframe\">\n",
       "  <thead>\n",
       "    <tr style=\"text-align: right;\">\n",
       "      <th></th>\n",
       "      <th>predicted_labels</th>\n",
       "      <th>over_clustering</th>\n",
       "      <th>majority_voting</th>\n",
       "    </tr>\n",
       "  </thead>\n",
       "  <tbody>\n",
       "    <tr>\n",
       "      <th>CZINY-0105_CACCAAAAGTCAACAA</th>\n",
       "      <td>Tem/emra_CD8</td>\n",
       "      <td>71</td>\n",
       "      <td>Tem/emra_CD8</td>\n",
       "    </tr>\n",
       "    <tr>\n",
       "      <th>CZINY-0109_TGCGATACACATAACC</th>\n",
       "      <td>Tem/emra_CD8</td>\n",
       "      <td>101</td>\n",
       "      <td>Tem/emra_CD8</td>\n",
       "    </tr>\n",
       "    <tr>\n",
       "      <th>CZINY-0058_GCATCGGCAAGTCATC</th>\n",
       "      <td>Tnaive/CM_CD4</td>\n",
       "      <td>7</td>\n",
       "      <td>Tnaive/CM_CD4</td>\n",
       "    </tr>\n",
       "    <tr>\n",
       "      <th>CZINY-0057_AACAACCTCATGCTAG</th>\n",
       "      <td>Memory B cells</td>\n",
       "      <td>18</td>\n",
       "      <td>Memory B cells</td>\n",
       "    </tr>\n",
       "    <tr>\n",
       "      <th>CZINY-0106_GTGTTCCAGTGTTGTC</th>\n",
       "      <td>Alveolar macrophages</td>\n",
       "      <td>56</td>\n",
       "      <td>Alveolar macrophages</td>\n",
       "    </tr>\n",
       "    <tr>\n",
       "      <th>...</th>\n",
       "      <td>...</td>\n",
       "      <td>...</td>\n",
       "      <td>...</td>\n",
       "    </tr>\n",
       "    <tr>\n",
       "      <th>CZINY-0104_TCCTCTTTCCGTTTCG</th>\n",
       "      <td>Tfh</td>\n",
       "      <td>206</td>\n",
       "      <td>Teffector/EM_CD4</td>\n",
       "    </tr>\n",
       "    <tr>\n",
       "      <th>Pan_T7980364_CGTGTAACATGCTGGC</th>\n",
       "      <td>Memory B cells</td>\n",
       "      <td>380</td>\n",
       "      <td>Memory B cells</td>\n",
       "    </tr>\n",
       "    <tr>\n",
       "      <th>CZINY-0104_CGGCAGTTCCATGCAA</th>\n",
       "      <td>Tem/emra_CD8</td>\n",
       "      <td>369</td>\n",
       "      <td>Trm/em_CD8</td>\n",
       "    </tr>\n",
       "    <tr>\n",
       "      <th>CZINY-0102_CGAAGTTAGCACTAGG</th>\n",
       "      <td>Tfh</td>\n",
       "      <td>3</td>\n",
       "      <td>Tfh</td>\n",
       "    </tr>\n",
       "    <tr>\n",
       "      <th>CZINY-0061_CGGGACTAGAGGCGGA</th>\n",
       "      <td>Trm_Th1/Th17</td>\n",
       "      <td>216</td>\n",
       "      <td>MAIT</td>\n",
       "    </tr>\n",
       "  </tbody>\n",
       "</table>\n",
       "<p>263810 rows × 3 columns</p>\n",
       "</div>"
      ],
      "text/plain": [
       "                                   predicted_labels over_clustering  \\\n",
       "CZINY-0105_CACCAAAAGTCAACAA            Tem/emra_CD8              71   \n",
       "CZINY-0109_TGCGATACACATAACC            Tem/emra_CD8             101   \n",
       "CZINY-0058_GCATCGGCAAGTCATC           Tnaive/CM_CD4               7   \n",
       "CZINY-0057_AACAACCTCATGCTAG          Memory B cells              18   \n",
       "CZINY-0106_GTGTTCCAGTGTTGTC    Alveolar macrophages              56   \n",
       "...                                             ...             ...   \n",
       "CZINY-0104_TCCTCTTTCCGTTTCG                     Tfh             206   \n",
       "Pan_T7980364_CGTGTAACATGCTGGC        Memory B cells             380   \n",
       "CZINY-0104_CGGCAGTTCCATGCAA            Tem/emra_CD8             369   \n",
       "CZINY-0102_CGAAGTTAGCACTAGG                     Tfh               3   \n",
       "CZINY-0061_CGGGACTAGAGGCGGA            Trm_Th1/Th17             216   \n",
       "\n",
       "                                    majority_voting  \n",
       "CZINY-0105_CACCAAAAGTCAACAA            Tem/emra_CD8  \n",
       "CZINY-0109_TGCGATACACATAACC            Tem/emra_CD8  \n",
       "CZINY-0058_GCATCGGCAAGTCATC           Tnaive/CM_CD4  \n",
       "CZINY-0057_AACAACCTCATGCTAG          Memory B cells  \n",
       "CZINY-0106_GTGTTCCAGTGTTGTC    Alveolar macrophages  \n",
       "...                                             ...  \n",
       "CZINY-0104_TCCTCTTTCCGTTTCG        Teffector/EM_CD4  \n",
       "Pan_T7980364_CGTGTAACATGCTGGC        Memory B cells  \n",
       "CZINY-0104_CGGCAGTTCCATGCAA              Trm/em_CD8  \n",
       "CZINY-0102_CGAAGTTAGCACTAGG                     Tfh  \n",
       "CZINY-0061_CGGGACTAGAGGCGGA                    MAIT  \n",
       "\n",
       "[263810 rows x 3 columns]"
      ]
     },
     "execution_count": 141,
     "metadata": {},
     "output_type": "execute_result"
    }
   ],
   "source": [
    "predictions_ct = ct.annotate(test, model = 'New Models/CT_45 Models/ct_model_0.pkl', majority_voting = True)\n",
    "predictions_ct.predicted_labels"
   ]
  },
  {
   "cell_type": "code",
   "execution_count": 142,
   "id": "e774ce29-e0b6-4f24-bc4e-00be76a91d13",
   "metadata": {
    "tags": []
   },
   "outputs": [],
   "source": [
    "pred_adatact = predictions_ct.to_adata()\n",
    "pred_adatact.write_h5ad('../../pred_modelct.h5ad')"
   ]
  },
  {
   "cell_type": "markdown",
   "id": "79e82838-7411-44c5-9a48-30a5ae387861",
   "metadata": {},
   "source": [
    "Model 1"
   ]
  },
  {
   "cell_type": "code",
   "execution_count": null,
   "id": "10f9c155-ef72-43ff-b324-6472a14b1b4f",
   "metadata": {},
   "outputs": [
    {
     "name": "stderr",
     "output_type": "stream",
     "text": [
      "🔬 Input data has 263810 cells and 36601 genes\n",
      "🔗 Matching reference genes in the model\n",
      "🧬 30123 features used for prediction\n",
      "⚖️ Scaling input data\n"
     ]
    }
   ],
   "source": [
    "predictions_1 = ct.annotate(test, model = 'New Models/CT_45 Models/ct_model_1.pkl', majority_voting = True)\n",
    "predictions_1.predicted_labels"
   ]
  },
  {
   "cell_type": "code",
   "execution_count": null,
   "id": "e04da4d7-1c0b-4028-a054-53d72981cbc5",
   "metadata": {},
   "outputs": [],
   "source": [
    "pred_adata1 = predictions_1.to_adata()\n",
    "pred_adata1.write_h5ad('../../pred_model1.h5ad')"
   ]
  },
  {
   "cell_type": "markdown",
   "id": "0b2e0318-a609-4e92-b905-92a87a7349b3",
   "metadata": {},
   "source": [
    "Model 2"
   ]
  },
  {
   "cell_type": "code",
   "execution_count": 4,
   "id": "bd02f1ac-0a83-45ae-a80c-abbc23e444fe",
   "metadata": {
    "tags": []
   },
   "outputs": [
    {
     "name": "stderr",
     "output_type": "stream",
     "text": [
      "🔬 Input data has 263810 cells and 36601 genes\n",
      "🔗 Matching reference genes in the model\n",
      "🧬 6749 features used for prediction\n",
      "⚖️ Scaling input data\n",
      "🖋️ Predicting labels\n",
      "✅ Prediction done!\n",
      "👀 Can not detect a neighborhood graph, will construct one before the over-clustering\n",
      "⛓️ Over-clustering input data with resolution set to 30\n",
      "🗳️ Majority voting the predictions\n",
      "✅ Majority voting done!\n"
     ]
    },
    {
     "data": {
      "text/html": [
       "<div>\n",
       "<style scoped>\n",
       "    .dataframe tbody tr th:only-of-type {\n",
       "        vertical-align: middle;\n",
       "    }\n",
       "\n",
       "    .dataframe tbody tr th {\n",
       "        vertical-align: top;\n",
       "    }\n",
       "\n",
       "    .dataframe thead th {\n",
       "        text-align: right;\n",
       "    }\n",
       "</style>\n",
       "<table border=\"1\" class=\"dataframe\">\n",
       "  <thead>\n",
       "    <tr style=\"text-align: right;\">\n",
       "      <th></th>\n",
       "      <th>predicted_labels</th>\n",
       "      <th>over_clustering</th>\n",
       "      <th>majority_voting</th>\n",
       "    </tr>\n",
       "  </thead>\n",
       "  <tbody>\n",
       "    <tr>\n",
       "      <th>CZINY-0105_CACCAAAAGTCAACAA</th>\n",
       "      <td>Tem/emra_CD8</td>\n",
       "      <td>71</td>\n",
       "      <td>Tem/emra_CD8</td>\n",
       "    </tr>\n",
       "    <tr>\n",
       "      <th>CZINY-0109_TGCGATACACATAACC</th>\n",
       "      <td>Tem/emra_CD8</td>\n",
       "      <td>101</td>\n",
       "      <td>Tem/emra_CD8</td>\n",
       "    </tr>\n",
       "    <tr>\n",
       "      <th>CZINY-0058_GCATCGGCAAGTCATC</th>\n",
       "      <td>Tnaive/CM_CD4</td>\n",
       "      <td>7</td>\n",
       "      <td>Tnaive/CM_CD4</td>\n",
       "    </tr>\n",
       "    <tr>\n",
       "      <th>CZINY-0057_AACAACCTCATGCTAG</th>\n",
       "      <td>Memory B cells</td>\n",
       "      <td>18</td>\n",
       "      <td>Memory B cells</td>\n",
       "    </tr>\n",
       "    <tr>\n",
       "      <th>CZINY-0106_GTGTTCCAGTGTTGTC</th>\n",
       "      <td>Alveolar macrophages</td>\n",
       "      <td>56</td>\n",
       "      <td>Alveolar macrophages</td>\n",
       "    </tr>\n",
       "    <tr>\n",
       "      <th>...</th>\n",
       "      <td>...</td>\n",
       "      <td>...</td>\n",
       "      <td>...</td>\n",
       "    </tr>\n",
       "    <tr>\n",
       "      <th>CZINY-0104_TCCTCTTTCCGTTTCG</th>\n",
       "      <td>Tfh</td>\n",
       "      <td>206</td>\n",
       "      <td>Teffector/EM_CD4</td>\n",
       "    </tr>\n",
       "    <tr>\n",
       "      <th>Pan_T7980364_CGTGTAACATGCTGGC</th>\n",
       "      <td>Memory B cells</td>\n",
       "      <td>380</td>\n",
       "      <td>Memory B cells</td>\n",
       "    </tr>\n",
       "    <tr>\n",
       "      <th>CZINY-0104_CGGCAGTTCCATGCAA</th>\n",
       "      <td>Tem/emra_CD8</td>\n",
       "      <td>369</td>\n",
       "      <td>Trm/em_CD8</td>\n",
       "    </tr>\n",
       "    <tr>\n",
       "      <th>CZINY-0102_CGAAGTTAGCACTAGG</th>\n",
       "      <td>Tfh</td>\n",
       "      <td>3</td>\n",
       "      <td>Tfh</td>\n",
       "    </tr>\n",
       "    <tr>\n",
       "      <th>CZINY-0061_CGGGACTAGAGGCGGA</th>\n",
       "      <td>Trm_Th1/Th17</td>\n",
       "      <td>216</td>\n",
       "      <td>MAIT</td>\n",
       "    </tr>\n",
       "  </tbody>\n",
       "</table>\n",
       "<p>263810 rows × 3 columns</p>\n",
       "</div>"
      ],
      "text/plain": [
       "                                   predicted_labels over_clustering  \\\n",
       "CZINY-0105_CACCAAAAGTCAACAA            Tem/emra_CD8              71   \n",
       "CZINY-0109_TGCGATACACATAACC            Tem/emra_CD8             101   \n",
       "CZINY-0058_GCATCGGCAAGTCATC           Tnaive/CM_CD4               7   \n",
       "CZINY-0057_AACAACCTCATGCTAG          Memory B cells              18   \n",
       "CZINY-0106_GTGTTCCAGTGTTGTC    Alveolar macrophages              56   \n",
       "...                                             ...             ...   \n",
       "CZINY-0104_TCCTCTTTCCGTTTCG                     Tfh             206   \n",
       "Pan_T7980364_CGTGTAACATGCTGGC        Memory B cells             380   \n",
       "CZINY-0104_CGGCAGTTCCATGCAA            Tem/emra_CD8             369   \n",
       "CZINY-0102_CGAAGTTAGCACTAGG                     Tfh               3   \n",
       "CZINY-0061_CGGGACTAGAGGCGGA            Trm_Th1/Th17             216   \n",
       "\n",
       "                                    majority_voting  \n",
       "CZINY-0105_CACCAAAAGTCAACAA            Tem/emra_CD8  \n",
       "CZINY-0109_TGCGATACACATAACC            Tem/emra_CD8  \n",
       "CZINY-0058_GCATCGGCAAGTCATC           Tnaive/CM_CD4  \n",
       "CZINY-0057_AACAACCTCATGCTAG          Memory B cells  \n",
       "CZINY-0106_GTGTTCCAGTGTTGTC    Alveolar macrophages  \n",
       "...                                             ...  \n",
       "CZINY-0104_TCCTCTTTCCGTTTCG        Teffector/EM_CD4  \n",
       "Pan_T7980364_CGTGTAACATGCTGGC        Memory B cells  \n",
       "CZINY-0104_CGGCAGTTCCATGCAA              Trm/em_CD8  \n",
       "CZINY-0102_CGAAGTTAGCACTAGG                     Tfh  \n",
       "CZINY-0061_CGGGACTAGAGGCGGA                    MAIT  \n",
       "\n",
       "[263810 rows x 3 columns]"
      ]
     },
     "execution_count": 4,
     "metadata": {},
     "output_type": "execute_result"
    }
   ],
   "source": [
    "predictions_2 = ct.annotate(test, model = 'New Models/CT_45 Models/ct_model_2.pkl', majority_voting = True)\n",
    "predictions_2.predicted_labels"
   ]
  },
  {
   "cell_type": "code",
   "execution_count": 5,
   "id": "d58b2e88-5222-49e6-8895-9a79610066a3",
   "metadata": {},
   "outputs": [],
   "source": [
    "pred_adata2 = predictions_2.to_adata()"
   ]
  },
  {
   "cell_type": "code",
   "execution_count": 3,
   "id": "3de224b0-51a0-4ea5-841f-43eef71edbfe",
   "metadata": {
    "tags": []
   },
   "outputs": [],
   "source": [
    "#pred_adata2.write_h5ad('../../pred_model2.h5ad')\n",
    "pred_adata2= ad.read('../../pred_model2.h5ad')"
   ]
  },
  {
   "cell_type": "markdown",
   "id": "f53e37b0-87dd-43e8-ab55-2025a2e6d2bd",
   "metadata": {},
   "source": [
    "Model 3"
   ]
  },
  {
   "cell_type": "code",
   "execution_count": 6,
   "id": "a8a1b849-c873-458b-9f9f-5409db85891f",
   "metadata": {},
   "outputs": [
    {
     "name": "stderr",
     "output_type": "stream",
     "text": [
      "🔬 Input data has 263810 cells and 36601 genes\n",
      "🔗 Matching reference genes in the model\n",
      "🧬 304 features used for prediction\n",
      "⚖️ Scaling input data\n",
      "🖋️ Predicting labels\n",
      "✅ Prediction done!\n",
      "👀 Detected a neighborhood graph in the input object, will run over-clustering on the basis of it\n",
      "⛓️ Over-clustering input data with resolution set to 30\n",
      "🗳️ Majority voting the predictions\n",
      "✅ Majority voting done!\n"
     ]
    },
    {
     "data": {
      "text/html": [
       "<div>\n",
       "<style scoped>\n",
       "    .dataframe tbody tr th:only-of-type {\n",
       "        vertical-align: middle;\n",
       "    }\n",
       "\n",
       "    .dataframe tbody tr th {\n",
       "        vertical-align: top;\n",
       "    }\n",
       "\n",
       "    .dataframe thead th {\n",
       "        text-align: right;\n",
       "    }\n",
       "</style>\n",
       "<table border=\"1\" class=\"dataframe\">\n",
       "  <thead>\n",
       "    <tr style=\"text-align: right;\">\n",
       "      <th></th>\n",
       "      <th>predicted_labels</th>\n",
       "      <th>over_clustering</th>\n",
       "      <th>majority_voting</th>\n",
       "    </tr>\n",
       "  </thead>\n",
       "  <tbody>\n",
       "    <tr>\n",
       "      <th>CZINY-0105_CACCAAAAGTCAACAA</th>\n",
       "      <td>Tem/emra_CD8</td>\n",
       "      <td>71</td>\n",
       "      <td>Tem/emra_CD8</td>\n",
       "    </tr>\n",
       "    <tr>\n",
       "      <th>CZINY-0109_TGCGATACACATAACC</th>\n",
       "      <td>Tem/emra_CD8</td>\n",
       "      <td>101</td>\n",
       "      <td>Tem/emra_CD8</td>\n",
       "    </tr>\n",
       "    <tr>\n",
       "      <th>CZINY-0058_GCATCGGCAAGTCATC</th>\n",
       "      <td>Tnaive/CM_CD4</td>\n",
       "      <td>7</td>\n",
       "      <td>Tnaive/CM_CD4</td>\n",
       "    </tr>\n",
       "    <tr>\n",
       "      <th>CZINY-0057_AACAACCTCATGCTAG</th>\n",
       "      <td>Memory B cells</td>\n",
       "      <td>18</td>\n",
       "      <td>Memory B cells</td>\n",
       "    </tr>\n",
       "    <tr>\n",
       "      <th>CZINY-0106_GTGTTCCAGTGTTGTC</th>\n",
       "      <td>Alveolar macrophages</td>\n",
       "      <td>56</td>\n",
       "      <td>Alveolar macrophages</td>\n",
       "    </tr>\n",
       "    <tr>\n",
       "      <th>...</th>\n",
       "      <td>...</td>\n",
       "      <td>...</td>\n",
       "      <td>...</td>\n",
       "    </tr>\n",
       "    <tr>\n",
       "      <th>CZINY-0104_TCCTCTTTCCGTTTCG</th>\n",
       "      <td>Tfh</td>\n",
       "      <td>206</td>\n",
       "      <td>Teffector/EM_CD4</td>\n",
       "    </tr>\n",
       "    <tr>\n",
       "      <th>Pan_T7980364_CGTGTAACATGCTGGC</th>\n",
       "      <td>Memory B cells</td>\n",
       "      <td>380</td>\n",
       "      <td>Memory B cells</td>\n",
       "    </tr>\n",
       "    <tr>\n",
       "      <th>CZINY-0104_CGGCAGTTCCATGCAA</th>\n",
       "      <td>Trm/em_CD8</td>\n",
       "      <td>369</td>\n",
       "      <td>Trm/em_CD8</td>\n",
       "    </tr>\n",
       "    <tr>\n",
       "      <th>CZINY-0102_CGAAGTTAGCACTAGG</th>\n",
       "      <td>Tfh</td>\n",
       "      <td>3</td>\n",
       "      <td>Tfh</td>\n",
       "    </tr>\n",
       "    <tr>\n",
       "      <th>CZINY-0061_CGGGACTAGAGGCGGA</th>\n",
       "      <td>Trm_Th1/Th17</td>\n",
       "      <td>216</td>\n",
       "      <td>MAIT</td>\n",
       "    </tr>\n",
       "  </tbody>\n",
       "</table>\n",
       "<p>263810 rows × 3 columns</p>\n",
       "</div>"
      ],
      "text/plain": [
       "                                   predicted_labels over_clustering  \\\n",
       "CZINY-0105_CACCAAAAGTCAACAA            Tem/emra_CD8              71   \n",
       "CZINY-0109_TGCGATACACATAACC            Tem/emra_CD8             101   \n",
       "CZINY-0058_GCATCGGCAAGTCATC           Tnaive/CM_CD4               7   \n",
       "CZINY-0057_AACAACCTCATGCTAG          Memory B cells              18   \n",
       "CZINY-0106_GTGTTCCAGTGTTGTC    Alveolar macrophages              56   \n",
       "...                                             ...             ...   \n",
       "CZINY-0104_TCCTCTTTCCGTTTCG                     Tfh             206   \n",
       "Pan_T7980364_CGTGTAACATGCTGGC        Memory B cells             380   \n",
       "CZINY-0104_CGGCAGTTCCATGCAA              Trm/em_CD8             369   \n",
       "CZINY-0102_CGAAGTTAGCACTAGG                     Tfh               3   \n",
       "CZINY-0061_CGGGACTAGAGGCGGA            Trm_Th1/Th17             216   \n",
       "\n",
       "                                    majority_voting  \n",
       "CZINY-0105_CACCAAAAGTCAACAA            Tem/emra_CD8  \n",
       "CZINY-0109_TGCGATACACATAACC            Tem/emra_CD8  \n",
       "CZINY-0058_GCATCGGCAAGTCATC           Tnaive/CM_CD4  \n",
       "CZINY-0057_AACAACCTCATGCTAG          Memory B cells  \n",
       "CZINY-0106_GTGTTCCAGTGTTGTC    Alveolar macrophages  \n",
       "...                                             ...  \n",
       "CZINY-0104_TCCTCTTTCCGTTTCG        Teffector/EM_CD4  \n",
       "Pan_T7980364_CGTGTAACATGCTGGC        Memory B cells  \n",
       "CZINY-0104_CGGCAGTTCCATGCAA              Trm/em_CD8  \n",
       "CZINY-0102_CGAAGTTAGCACTAGG                     Tfh  \n",
       "CZINY-0061_CGGGACTAGAGGCGGA                    MAIT  \n",
       "\n",
       "[263810 rows x 3 columns]"
      ]
     },
     "execution_count": 6,
     "metadata": {},
     "output_type": "execute_result"
    }
   ],
   "source": [
    "predictions_3 = ct.annotate(test, model = 'New Models/CT_45 Models/ct_model_3.pkl', majority_voting = True)\n",
    "predictions_3.predicted_labels"
   ]
  },
  {
   "cell_type": "code",
   "execution_count": 7,
   "id": "279c60fc-3459-410b-a1ac-be1e8c83f507",
   "metadata": {},
   "outputs": [],
   "source": [
    "pred_adata3 = predictions_3.to_adata()"
   ]
  },
  {
   "cell_type": "code",
   "execution_count": 4,
   "id": "ce877518-1fad-4e81-bee9-1c1aa636c35e",
   "metadata": {
    "tags": []
   },
   "outputs": [],
   "source": [
    "#pred_adata3.write_h5ad('../../pred_model3.h5ad')\n",
    "pred_adata3= ad.read('../../pred_model3.h5ad')"
   ]
  },
  {
   "cell_type": "markdown",
   "id": "001709b7-af33-425c-98ec-bc61cab1da1b",
   "metadata": {},
   "source": [
    "Model 4"
   ]
  },
  {
   "cell_type": "code",
   "execution_count": 152,
   "id": "525d93af-53f8-43c7-943d-043a8a0acc2b",
   "metadata": {},
   "outputs": [
    {
     "name": "stderr",
     "output_type": "stream",
     "text": [
      "🔬 Input data has 263810 cells and 36601 genes\n",
      "🔗 Matching reference genes in the model\n",
      "🧬 4804 features used for prediction\n",
      "⚖️ Scaling input data\n",
      "🖋️ Predicting labels\n",
      "✅ Prediction done!\n",
      "👀 Detected a neighborhood graph in the input object, will run over-clustering on the basis of it\n",
      "⛓️ Over-clustering input data with resolution set to 30\n",
      "IOStream.flush timed out\n",
      "IOStream.flush timed out\n",
      "IOStream.flush timed out\n",
      "🗳️ Majority voting the predictions\n",
      "✅ Majority voting done!\n"
     ]
    },
    {
     "data": {
      "text/html": [
       "<div>\n",
       "<style scoped>\n",
       "    .dataframe tbody tr th:only-of-type {\n",
       "        vertical-align: middle;\n",
       "    }\n",
       "\n",
       "    .dataframe tbody tr th {\n",
       "        vertical-align: top;\n",
       "    }\n",
       "\n",
       "    .dataframe thead th {\n",
       "        text-align: right;\n",
       "    }\n",
       "</style>\n",
       "<table border=\"1\" class=\"dataframe\">\n",
       "  <thead>\n",
       "    <tr style=\"text-align: right;\">\n",
       "      <th></th>\n",
       "      <th>predicted_labels</th>\n",
       "      <th>over_clustering</th>\n",
       "      <th>majority_voting</th>\n",
       "    </tr>\n",
       "  </thead>\n",
       "  <tbody>\n",
       "    <tr>\n",
       "      <th>CZINY-0105_CACCAAAAGTCAACAA</th>\n",
       "      <td>Tem/emra_CD8</td>\n",
       "      <td>71</td>\n",
       "      <td>Tem/emra_CD8</td>\n",
       "    </tr>\n",
       "    <tr>\n",
       "      <th>CZINY-0109_TGCGATACACATAACC</th>\n",
       "      <td>Tem/emra_CD8</td>\n",
       "      <td>101</td>\n",
       "      <td>Tem/emra_CD8</td>\n",
       "    </tr>\n",
       "    <tr>\n",
       "      <th>CZINY-0058_GCATCGGCAAGTCATC</th>\n",
       "      <td>Tnaive/CM_CD4</td>\n",
       "      <td>7</td>\n",
       "      <td>Tnaive/CM_CD4</td>\n",
       "    </tr>\n",
       "    <tr>\n",
       "      <th>CZINY-0057_AACAACCTCATGCTAG</th>\n",
       "      <td>Memory B cells</td>\n",
       "      <td>18</td>\n",
       "      <td>Memory B cells</td>\n",
       "    </tr>\n",
       "    <tr>\n",
       "      <th>CZINY-0106_GTGTTCCAGTGTTGTC</th>\n",
       "      <td>Alveolar macrophages</td>\n",
       "      <td>56</td>\n",
       "      <td>Alveolar macrophages</td>\n",
       "    </tr>\n",
       "    <tr>\n",
       "      <th>...</th>\n",
       "      <td>...</td>\n",
       "      <td>...</td>\n",
       "      <td>...</td>\n",
       "    </tr>\n",
       "    <tr>\n",
       "      <th>CZINY-0104_TCCTCTTTCCGTTTCG</th>\n",
       "      <td>Tfh</td>\n",
       "      <td>206</td>\n",
       "      <td>Teffector/EM_CD4</td>\n",
       "    </tr>\n",
       "    <tr>\n",
       "      <th>Pan_T7980364_CGTGTAACATGCTGGC</th>\n",
       "      <td>Memory B cells</td>\n",
       "      <td>380</td>\n",
       "      <td>Memory B cells</td>\n",
       "    </tr>\n",
       "    <tr>\n",
       "      <th>CZINY-0104_CGGCAGTTCCATGCAA</th>\n",
       "      <td>Tem/emra_CD8</td>\n",
       "      <td>369</td>\n",
       "      <td>Trm/em_CD8</td>\n",
       "    </tr>\n",
       "    <tr>\n",
       "      <th>CZINY-0102_CGAAGTTAGCACTAGG</th>\n",
       "      <td>Tfh</td>\n",
       "      <td>3</td>\n",
       "      <td>Tfh</td>\n",
       "    </tr>\n",
       "    <tr>\n",
       "      <th>CZINY-0061_CGGGACTAGAGGCGGA</th>\n",
       "      <td>Trm_Th1/Th17</td>\n",
       "      <td>216</td>\n",
       "      <td>MAIT</td>\n",
       "    </tr>\n",
       "  </tbody>\n",
       "</table>\n",
       "<p>263810 rows × 3 columns</p>\n",
       "</div>"
      ],
      "text/plain": [
       "                                   predicted_labels over_clustering  \\\n",
       "CZINY-0105_CACCAAAAGTCAACAA            Tem/emra_CD8              71   \n",
       "CZINY-0109_TGCGATACACATAACC            Tem/emra_CD8             101   \n",
       "CZINY-0058_GCATCGGCAAGTCATC           Tnaive/CM_CD4               7   \n",
       "CZINY-0057_AACAACCTCATGCTAG          Memory B cells              18   \n",
       "CZINY-0106_GTGTTCCAGTGTTGTC    Alveolar macrophages              56   \n",
       "...                                             ...             ...   \n",
       "CZINY-0104_TCCTCTTTCCGTTTCG                     Tfh             206   \n",
       "Pan_T7980364_CGTGTAACATGCTGGC        Memory B cells             380   \n",
       "CZINY-0104_CGGCAGTTCCATGCAA            Tem/emra_CD8             369   \n",
       "CZINY-0102_CGAAGTTAGCACTAGG                     Tfh               3   \n",
       "CZINY-0061_CGGGACTAGAGGCGGA            Trm_Th1/Th17             216   \n",
       "\n",
       "                                    majority_voting  \n",
       "CZINY-0105_CACCAAAAGTCAACAA            Tem/emra_CD8  \n",
       "CZINY-0109_TGCGATACACATAACC            Tem/emra_CD8  \n",
       "CZINY-0058_GCATCGGCAAGTCATC           Tnaive/CM_CD4  \n",
       "CZINY-0057_AACAACCTCATGCTAG          Memory B cells  \n",
       "CZINY-0106_GTGTTCCAGTGTTGTC    Alveolar macrophages  \n",
       "...                                             ...  \n",
       "CZINY-0104_TCCTCTTTCCGTTTCG        Teffector/EM_CD4  \n",
       "Pan_T7980364_CGTGTAACATGCTGGC        Memory B cells  \n",
       "CZINY-0104_CGGCAGTTCCATGCAA              Trm/em_CD8  \n",
       "CZINY-0102_CGAAGTTAGCACTAGG                     Tfh  \n",
       "CZINY-0061_CGGGACTAGAGGCGGA                    MAIT  \n",
       "\n",
       "[263810 rows x 3 columns]"
      ]
     },
     "execution_count": 152,
     "metadata": {},
     "output_type": "execute_result"
    }
   ],
   "source": [
    "predictions_4 = ct.annotate(test, model = 'New Models/CT_45 Models/ct_model_4.pkl', majority_voting = True)\n",
    "predictions_4.predicted_labels"
   ]
  },
  {
   "cell_type": "code",
   "execution_count": 153,
   "id": "8508ff81-9869-4b08-823a-ae057edfa88c",
   "metadata": {},
   "outputs": [],
   "source": [
    "pred_adata4 = predictions_4.to_adata()"
   ]
  },
  {
   "cell_type": "code",
   "execution_count": 154,
   "id": "84e48b64-b84a-4713-8228-ee224b6c3261",
   "metadata": {
    "tags": []
   },
   "outputs": [],
   "source": [
    "#pred_adata4.write_h5ad('../../pred_model4.h5ad')\n",
    "pred_adata4= ad.read('../../pred_model4.h5ad')"
   ]
  },
  {
   "cell_type": "markdown",
   "id": "f279e80a-06ce-4750-bcd5-5819c0509352",
   "metadata": {
    "tags": []
   },
   "source": [
    "### Using CT_98 Models"
   ]
  },
  {
   "cell_type": "code",
   "execution_count": 112,
   "id": "3028dcfc-154c-4c85-9324-11591dd3ee64",
   "metadata": {},
   "outputs": [],
   "source": [
    "#Import test data - subset of CT_98 data \n",
    "test_98= ad.read('../../Data/CT_98_Test.h5ad')"
   ]
  },
  {
   "cell_type": "markdown",
   "id": "8161c97b-30bf-4a28-865d-8520fd674db0",
   "metadata": {},
   "source": [
    "Model 1"
   ]
  },
  {
   "cell_type": "code",
   "execution_count": null,
   "id": "9f622f5a-071f-4bda-bfb2-b633e152a29f",
   "metadata": {
    "tags": []
   },
   "outputs": [
    {
     "name": "stderr",
     "output_type": "stream",
     "text": [
      "⚠️ Warning: invalid expression matrix, expect all genes and log1p normalized expression to 10000 counts per cell. The prediction result may not be accurate\n",
      "🔬 Input data has 540487 cells and 38995 genes\n",
      "🔗 Matching reference genes in the model\n",
      "🧬 7805 features used for prediction\n",
      "⚖️ Scaling input data\n"
     ]
    }
   ],
   "source": [
    "predictions_98_0 = ct.annotate(test_98, model = 'New Models/CT_98 Models/98_model_0.pkl', majority_voting = True)\n",
    "#predictions_4.predicted_labels\n",
    "pred_adata98_0 = predictions_98_0.to_adata()\n",
    "pred_adata98_0.write_h5ad('../../predictions/pred_98_model0.h5ad')"
   ]
  },
  {
   "cell_type": "markdown",
   "id": "b862cedc-669a-4f8e-9b5c-b66819aaadc3",
   "metadata": {},
   "source": [
    "Model 2"
   ]
  },
  {
   "cell_type": "code",
   "execution_count": null,
   "id": "f43a9393-8dc7-4997-83de-d125f21a94e3",
   "metadata": {},
   "outputs": [],
   "source": [
    "predictions_98_2 = ct.annotate(test_98, model = 'New Models/CT_98 Models/98_model_2.pkl', majority_voting = True)\n",
    "#predictions_4.predicted_labels\n",
    "pred_adata98_2 = predictions_98_2.to_adata()\n",
    "pred_adata98_2.write_h5ad('../../predictions/pred_98_model2.h5ad')"
   ]
  },
  {
   "cell_type": "markdown",
   "id": "ca13db37-0bb4-459d-b227-de73ce0a4263",
   "metadata": {},
   "source": [
    "Model 3"
   ]
  },
  {
   "cell_type": "code",
   "execution_count": null,
   "id": "214d5594-1add-46be-a4ac-5d23353d2de2",
   "metadata": {},
   "outputs": [],
   "source": [
    "predictions_98_3 = ct.annotate(test_98, model = 'New Models/CT_98 Models/98_model_3.pkl', majority_voting = True)\n",
    "#predictions_4.predicted_labels\n",
    "pred_adata98_3 = predictions_98_3.to_adata()\n",
    "pred_adata98_3.write_h5ad('../../predictions/pred_98_model3.h5ad')"
   ]
  },
  {
   "cell_type": "markdown",
   "id": "19bdade4-ab47-4391-b149-6b0deaec6078",
   "metadata": {},
   "source": [
    "Model 4"
   ]
  },
  {
   "cell_type": "code",
   "execution_count": null,
   "id": "b4515f61-e291-4f96-9efc-7d9af8723450",
   "metadata": {},
   "outputs": [],
   "source": [
    "predictions_98_4 = ct.annotate(test_98, model = 'New Models/CT_98 Models/98_model_4.pkl', majority_voting = True)\n",
    "#predictions_4.predicted_labels\n",
    "pred_adata98_4 = predictions_98_4.to_adata()\n",
    "pred_adata98_4.write_h5ad('../../predictions/pred_98_model4.h5ad')"
   ]
  },
  {
   "cell_type": "markdown",
   "id": "8f2b0558-ab9e-47ba-a4d8-4278927c32e9",
   "metadata": {
    "jp-MarkdownHeadingCollapsed": true,
    "tags": []
   },
   "source": [
    "### Using COV_PBMC Models"
   ]
  },
  {
   "cell_type": "code",
   "execution_count": 103,
   "id": "1fb05d27-662e-4282-ae7a-d33493f0729f",
   "metadata": {
    "tags": []
   },
   "outputs": [],
   "source": [
    "#Import test data - subset of CT_98 data \n",
    "test_COV= ad.read('../../Data/test_COV.h5ad')\n",
    "#test_COV_cp = ad.read('../../Data/test_COV_cp.h5ad')"
   ]
  },
  {
   "cell_type": "markdown",
   "id": "d128aa54-d8dc-4b36-b30d-f7923b538732",
   "metadata": {},
   "source": [
    "Model 2"
   ]
  },
  {
   "cell_type": "code",
   "execution_count": 109,
   "id": "6ea6accd-6353-434d-8395-2d5a0f8db0f6",
   "metadata": {
    "tags": []
   },
   "outputs": [
    {
     "name": "stderr",
     "output_type": "stream",
     "text": [
      "🔬 Input data has 517893 cells and 24737 genes\n",
      "🔗 Matching reference genes in the model\n",
      "🧬 5968 features used for prediction\n",
      "⚖️ Scaling input data\n",
      "🖋️ Predicting labels\n",
      "✅ Prediction done!\n",
      "👀 Detected a neighborhood graph in the input object, will run over-clustering on the basis of it\n",
      "⛓️ Over-clustering input data with resolution set to 30\n",
      "IOStream.flush timed out\n",
      "IOStream.flush timed out\n",
      "IOStream.flush timed out\n",
      "IOStream.flush timed out\n",
      "IOStream.flush timed out\n",
      "IOStream.flush timed out\n",
      "IOStream.flush timed out\n",
      "IOStream.flush timed out\n",
      "IOStream.flush timed out\n",
      "IOStream.flush timed out\n",
      "IOStream.flush timed out\n",
      "IOStream.flush timed out\n",
      "🗳️ Majority voting the predictions\n",
      "✅ Majority voting done!\n"
     ]
    }
   ],
   "source": [
    "predictions_COV_2 = ct.annotate(test_COV, model = 'New Models/COV_PBMC Models/COV_model_2.pkl', majority_voting = True)\n",
    "#predictions_4.predicted_labels\n",
    "pred_adataCOV_2 = predictions_COV_2.to_adata()\n",
    "pred_adataCOV_2.write_h5ad('../../predictions/pred_COV_model2.h5ad')"
   ]
  },
  {
   "cell_type": "markdown",
   "id": "99181af9-0716-442a-92a9-5b117a7c2c33",
   "metadata": {},
   "source": [
    "Model 3"
   ]
  },
  {
   "cell_type": "code",
   "execution_count": 105,
   "id": "ea47a8d1-6970-4a15-8787-061a13ae9fa7",
   "metadata": {
    "tags": []
   },
   "outputs": [],
   "source": [
    "predictions_COV_3 = ct.annotate(test_COV, model = 'New Models/COV_PBMC Models/COV_model_3.pkl', majority_voting = True)\n",
    "#predictions_COV_4.predicted_labels\n",
    "pred_adataCOV_3 = predictions_COV_3.to_adata()\n",
    "pred_adataCOV_3.write_h5ad('../../predictions/pred_COV_model3.h5ad')"
   ]
  },
  {
   "cell_type": "code",
   "execution_count": 107,
   "id": "30affe19-4545-48e8-a37d-6a7991449a24",
   "metadata": {
    "tags": []
   },
   "outputs": [
    {
     "name": "stderr",
     "output_type": "stream",
     "text": [
      "⚠️ Warning: invalid expression matrix, expect all genes and log1p normalized expression to 10000 counts per cell. The prediction result may not be accurate\n",
      "🔬 Input data has 517893 cells and 300 genes\n",
      "🔗 Matching reference genes in the model\n",
      "🧬 298 features used for prediction\n",
      "⚖️ Scaling input data\n",
      "🖋️ Predicting labels\n",
      "✅ Prediction done!\n",
      "👀 Can not detect a neighborhood graph, will construct one before the over-clustering\n",
      "⛓️ Over-clustering input data with resolution set to 30\n",
      "IOStream.flush timed out\n",
      "IOStream.flush timed out\n",
      "🗳️ Majority voting the predictions\n",
      "✅ Majority voting done!\n"
     ]
    }
   ],
   "source": [
    "#making sure the f1 score is the same if we use dataset with all genes vs just cytopus genes \n",
    "#predictions_COV_cp_3 = ct.annotate(test_COV_cp, model = 'New Models/COV_PBMC Models/COV_model_3.pkl', majority_voting = True)\n",
    "#predictions_COV_3.predicted_labels\n",
    "#pred_adataCOV_cp_3 = predictions_COV_cp_3.to_adata()\n",
    "#pred_adataCOV_cp_3.write_h5ad('../../predictions/pred_COV_cp_model3.h5ad')"
   ]
  },
  {
   "cell_type": "markdown",
   "id": "39fd57d8-c6f3-4ed0-8c70-8d2ad2621abc",
   "metadata": {},
   "source": [
    "Model 4"
   ]
  },
  {
   "cell_type": "code",
   "execution_count": null,
   "id": "e2e4bd32-d214-4da9-93b8-7dbc5e93225e",
   "metadata": {},
   "outputs": [],
   "source": [
    "predictions_COV_4 = ct.annotate(test_COV, model = 'New Models/COV_PBMC Models/COV_model_4.pkl', majority_voting = True)\n",
    "#predictions_4.predicted_labels\n",
    "pred_adataCOV_4 = predictions_COV_4.to_adata()\n",
    "pred_adataCOV_4.write_h5ad('../../predictions/pred_COV_model4.h5ad')"
   ]
  },
  {
   "cell_type": "markdown",
   "id": "30c231ac-5ea9-4122-8f38-1a05a359d6c6",
   "metadata": {
    "tags": []
   },
   "source": [
    "## Benchmarking\n",
    "### F1 scores\n",
    "Abdelaal et al. used median F1 scores as their primary statistic"
   ]
  },
  {
   "cell_type": "markdown",
   "id": "d44cc763-3977-4627-89be-1837df3299ca",
   "metadata": {
    "jp-MarkdownHeadingCollapsed": true,
    "tags": []
   },
   "source": [
    "#### Train & Test on CT_45"
   ]
  },
  {
   "cell_type": "code",
   "execution_count": 41,
   "id": "ed0eb86a-c564-4846-80e2-b3723a246b3a",
   "metadata": {
    "tags": []
   },
   "outputs": [
    {
     "data": {
      "text/plain": [
       "CZINY-0105_CACCAAAAGTCAACAA      Tem/Temra cytotoxic T cells\n",
       "CZINY-0109_TGCGATACACATAACC      Tem/Temra cytotoxic T cells\n",
       "CZINY-0058_GCATCGGCAAGTCATC         Tcm/Naive helper T cells\n",
       "CZINY-0057_AACAACCTCATGCTAG                   Memory B cells\n",
       "CZINY-0106_GTGTTCCAGTGTTGTC             Alveolar macrophages\n",
       "                                            ...             \n",
       "CZINY-0104_TCCTCTTTCCGTTTCG        Follicular helper T cells\n",
       "Pan_T7980364_CGTGTAACATGCTGGC                 Memory B cells\n",
       "CZINY-0104_CGGCAGTTCCATGCAA      Tem/Temra cytotoxic T cells\n",
       "CZINY-0102_CGAAGTTAGCACTAGG        Follicular helper T cells\n",
       "CZINY-0061_CGGGACTAGAGGCGGA                       MAIT cells\n",
       "Name: predicted_labels, Length: 263810, dtype: category\n",
       "Categories (83, object): ['Age-associated B cells', 'Alveolar macrophages', 'B cells', 'CD16+ NK cells', ..., 'Type 1 helper T cells', 'Type 17 helper T cells', 'gamma-delta T cells', 'pDC']"
      ]
     },
     "execution_count": 41,
     "metadata": {},
     "output_type": "execute_result"
    }
   ],
   "source": [
    "pred_adatact.obs[\"predicted_labels\"]"
   ]
  },
  {
   "cell_type": "code",
   "execution_count": 143,
   "id": "7bbe5885-b3eb-4443-84f5-0cfb9140f027",
   "metadata": {
    "tags": []
   },
   "outputs": [
    {
     "data": {
      "text/plain": [
       "0.8924290052746551"
      ]
     },
     "execution_count": 143,
     "metadata": {},
     "output_type": "execute_result"
    }
   ],
   "source": [
    "#og celltypist  - 0.892\n",
    "np.median(f1_score(pred_adatact.obs[\"Manually_curated_celltype\"], pred_adatact.obs[\"predicted_labels\"], average=None))"
   ]
  },
  {
   "cell_type": "code",
   "execution_count": null,
   "id": "c225960d-b079-4c56-ba20-e338c8aa9bfe",
   "metadata": {},
   "outputs": [],
   "source": [
    "#model 1 - cant get it to run, gets stuck on Scaling for too long \n",
    "#np.median(f1_score(pred_adata1.obs[\"Manually_curated_celltype\"], pred_adata1.obs[\"predicted_labels\"], average=None))"
   ]
  },
  {
   "cell_type": "code",
   "execution_count": 39,
   "id": "ad797106-f025-4509-984d-0f455b7a5360",
   "metadata": {
    "tags": []
   },
   "outputs": [
    {
     "data": {
      "text/plain": [
       "0.7401985360473279"
      ]
     },
     "execution_count": 39,
     "metadata": {},
     "output_type": "execute_result"
    }
   ],
   "source": [
    "#model 2  - 0.74\n",
    "np.median(f1_score(pred_adata2.obs[\"Manually_curated_celltype\"], pred_adata2.obs[\"predicted_labels\"], average=None))"
   ]
  },
  {
   "cell_type": "code",
   "execution_count": 38,
   "id": "16fbefaf-6190-4e38-80fb-b8e82fd56f0f",
   "metadata": {
    "tags": []
   },
   "outputs": [
    {
     "data": {
      "text/plain": [
       "0.7864401520440618"
      ]
     },
     "execution_count": 38,
     "metadata": {},
     "output_type": "execute_result"
    }
   ],
   "source": [
    "#model 3  - 0.79\n",
    "np.median(f1_score(pred_adata3.obs[\"Manually_curated_celltype\"], pred_adata3.obs[\"predicted_labels\"], average=None))"
   ]
  },
  {
   "cell_type": "code",
   "execution_count": 158,
   "id": "60ff92e4-a52d-4c10-adfd-6131687c3c32",
   "metadata": {
    "tags": []
   },
   "outputs": [
    {
     "data": {
      "text/plain": [
       "0.8866913027637537"
      ]
     },
     "execution_count": 158,
     "metadata": {},
     "output_type": "execute_result"
    }
   ],
   "source": [
    "#model 4 - 0.887\n",
    "np.median(f1_score(pred_adata4.obs[\"Manually_curated_celltype\"], pred_adata4.obs[\"predicted_labels\"], average = None))"
   ]
  },
  {
   "cell_type": "markdown",
   "id": "f57f2076-b039-4e97-99dd-88071ab80712",
   "metadata": {
    "tags": []
   },
   "source": [
    "#### Train & Test on CT_98"
   ]
  },
  {
   "cell_type": "code",
   "execution_count": null,
   "id": "38ffd8f0-f4ec-4b99-b030-60c19c83c9fc",
   "metadata": {},
   "outputs": [],
   "source": [
    "#og celltypist  - \n",
    "np.median(f1_score(pred_adata98_0.obs[\"Harmonised_detailed_type\"], pred_adata98_0.obs[\"predicted_labels\"], average=None))"
   ]
  },
  {
   "cell_type": "code",
   "execution_count": null,
   "id": "968f8519-e483-4671-8dde-5f0e2b51e299",
   "metadata": {},
   "outputs": [],
   "source": [
    "#model 2  - \n",
    "np.median(f1_score(pred_adata98_2.obs[\"Harmonised_detailed_type\"], pred_adata98_2.obs[\"predicted_labels\"], average=None))"
   ]
  },
  {
   "cell_type": "code",
   "execution_count": null,
   "id": "7bd74135-d897-4fe2-a39a-6c251e12af39",
   "metadata": {},
   "outputs": [],
   "source": [
    "#model 3  - \n",
    "np.median(f1_score(pred_adata98_3.obs[\"Harmonised_detailed_type\"], pred_adata98_3.obs[\"predicted_labels\"], average=None))"
   ]
  },
  {
   "cell_type": "code",
   "execution_count": null,
   "id": "22f77246-eadf-4c16-b73a-ef0af04aeffe",
   "metadata": {},
   "outputs": [],
   "source": [
    "#model 4 - \n",
    "np.median(f1_score(pred_adata98_4.obs[\"Harmonised_detailed_type\"], pred_adata98_4.obs[\"predicted_labels\"], average = None))"
   ]
  },
  {
   "cell_type": "markdown",
   "id": "580ee3c7-2418-400e-ba16-2330a9670b81",
   "metadata": {
    "tags": []
   },
   "source": [
    "#### Train & Test on COV_45"
   ]
  },
  {
   "cell_type": "code",
   "execution_count": null,
   "id": "03ccf0fc-4246-4dd4-bd6d-22d774cfd883",
   "metadata": {},
   "outputs": [],
   "source": [
    "#og celltypist model - \n",
    "np.median(f1_score(pred_adataCOV_0.obs[\"full_clustering\"], pred_adatact.obs[\"predicted_labels\"], average=None))"
   ]
  },
  {
   "cell_type": "code",
   "execution_count": 110,
   "id": "40ab3852-87d5-40c1-aa87-796d119ee3ef",
   "metadata": {
    "tags": []
   },
   "outputs": [
    {
     "data": {
      "text/plain": [
       "0.5556809631301732"
      ]
     },
     "execution_count": 110,
     "metadata": {},
     "output_type": "execute_result"
    }
   ],
   "source": [
    "#model 2  - \n",
    "np.median(f1_score(pred_adataCOV_2.obs[\"full_clustering\"], pred_adataCOV_2.obs[\"predicted_labels\"], average=None))"
   ]
  },
  {
   "cell_type": "code",
   "execution_count": 106,
   "id": "41e4860e-b576-48ac-8368-2d70d0594f0b",
   "metadata": {
    "tags": []
   },
   "outputs": [
    {
     "data": {
      "text/plain": [
       "0.5069204152249135"
      ]
     },
     "execution_count": 106,
     "metadata": {},
     "output_type": "execute_result"
    }
   ],
   "source": [
    "#model 3 - 0.507\n",
    "np.median(f1_score(pred_adataCOV_3.obs[\"full_clustering\"], pred_adataCOV_3.obs[\"predicted_labels\"], average=None))"
   ]
  },
  {
   "cell_type": "code",
   "execution_count": 108,
   "id": "decd43f1-6686-4dc0-8368-ff69cab5b081",
   "metadata": {
    "tags": []
   },
   "outputs": [
    {
     "data": {
      "text/plain": [
       "0.5069204152249135"
      ]
     },
     "execution_count": 108,
     "metadata": {},
     "output_type": "execute_result"
    }
   ],
   "source": [
    "#model 3 cytopus genes dataset to make sure they are the same - 0.507\n",
    "np.median(f1_score(pred_adataCOV_cp_3.obs[\"full_clustering\"], pred_adataCOV_cp_3.obs[\"predicted_labels\"], average=None))"
   ]
  },
  {
   "cell_type": "code",
   "execution_count": null,
   "id": "637ea315-2e60-4b52-98e1-a65e93ea00b3",
   "metadata": {},
   "outputs": [],
   "source": [
    "#model 4 - \n",
    "np.median(f1_score(pred_adataCOV_4.obs[\"full_clustering\"], pred_adataCOV_4.obs[\"predicted_labels\"], average = None))"
   ]
  },
  {
   "cell_type": "code",
   "execution_count": 70,
   "id": "760ff996-6303-4641-b4dd-bf2640774251",
   "metadata": {
    "tags": []
   },
   "outputs": [
    {
     "name": "stdout",
     "output_type": "stream",
     "text": [
      "10004.135\n",
      "10010.176\n",
      "10009.035\n",
      "10000.411\n",
      "10002.444\n",
      "10007.5\n",
      "10002.46\n",
      "10006.559\n",
      "10003.9795\n",
      "10000.707\n",
      "10001.528\n",
      "10012.495\n",
      "10008.619\n",
      "10004.193\n",
      "10002.339\n",
      "10004.573\n",
      "10007.215\n",
      "10001.952\n",
      "10005.627\n",
      "10009.004\n",
      "10002.221\n",
      "10173.28\n",
      "10004.584\n",
      "10005.443\n",
      "10000.713\n",
      "10003.491\n",
      "10004.548\n",
      "10006.23\n",
      "10004.139\n",
      "10003.272\n",
      "10010.927\n",
      "10011.751\n",
      "10005.096\n",
      "10002.011\n"
     ]
    }
   ],
   "source": [
    "for j in range(100):\n",
    "    x = np.sum(np.expm1(adata.X[j]).toarray().flatten() )\n",
    "    if x > 10000:\n",
    "        print(x)"
   ]
  }
 ],
 "metadata": {
  "kernelspec": {
   "display_name": "Python 3 (ipykernel)",
   "language": "python",
   "name": "python3"
  },
  "language_info": {
   "codemirror_mode": {
    "name": "ipython",
    "version": 3
   },
   "file_extension": ".py",
   "mimetype": "text/x-python",
   "name": "python",
   "nbconvert_exporter": "python",
   "pygments_lexer": "ipython3",
   "version": "3.8.16"
  }
 },
 "nbformat": 4,
 "nbformat_minor": 5
}
