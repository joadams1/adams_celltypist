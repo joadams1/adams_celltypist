{
 "cells": [
  {
   "cell_type": "markdown",
   "id": "e14bec32-8dd6-4a91-a998-bc42188c68b9",
   "metadata": {},
   "source": [
    "# Testing/Benchmarking Celltypist Models \n",
    "### List of Models (made in Making New Models.ipynb)\n",
    "1. Remove the feature selection from CellTypist (so it only trains the model once)\n",
    "2. Train the model with L1 regularization instead of L2\n",
    "3. Train the model only once with only Cytopus genes\n",
    "4. At the feature selection step, make sure the Cytopus genes are included in the list of top genes"
   ]
  },
  {
   "cell_type": "code",
   "execution_count": 1,
   "id": "92be23f9-d464-482d-a464-a57f73417c28",
   "metadata": {
    "tags": []
   },
   "outputs": [],
   "source": [
    "import scanpy as sc\n",
    "import pandas as pd\n",
    "import anndata as ad\n",
    "from anndata import AnnData\n",
    "import numpy as np\n",
    "from scipy.sparse import spmatrix\n",
    "from datetime import datetime\n",
    "import itertools\n",
    "from sklearn.metrics import f1_score\n",
    "import matplotlib.pyplot as plt\n",
    "from typing import Optional\n",
    "import plotly.graph_objects as go\n",
    "\n",
    "#import celltypist as ct\n",
    "#from celltypist import models\n",
    "\n",
    "from  annotate import annotate"
   ]
  },
  {
   "cell_type": "code",
   "execution_count": null,
   "id": "0b34f247-62ba-41fa-8fb0-832ec8975548",
   "metadata": {
    "tags": []
   },
   "outputs": [],
   "source": [
    "#Import models \n",
    "##Celltypist default model \n",
    "models.download_models(model = 'Immune_All_Low.pkl')\n",
    "\n",
    "##New Models\n",
    "model_1 = models.Model.load('New Models/CT_45 Models/ct_model_1.pkl')\n",
    "model_2 = models.Model.load('New Models/CT_45 Models/ct_model_2.pkl')\n",
    "model_3 = models.Model.load('New Models/CT_45 Models/ct_model_3.pkl')\n",
    "model_4 = models.Model.load('New Models/CT_45 Models/ct_model_4.pkl')"
   ]
  },
  {
   "cell_type": "code",
   "execution_count": null,
   "id": "63bf5f9e-4b48-4a71-9c32-e3182617898e",
   "metadata": {
    "tags": []
   },
   "outputs": [],
   "source": [
    "models.download_models(model = 'Healthy_COVID19_PBMC.pkl')"
   ]
  },
  {
   "cell_type": "markdown",
   "id": "9aad6ec5-4d53-4273-8378-d0edee9ec8ed",
   "metadata": {
    "tags": []
   },
   "source": [
    "## Get celltype predictions from each model"
   ]
  },
  {
   "cell_type": "markdown",
   "id": "50394a79-4041-4dbc-a802-37df78d91f3f",
   "metadata": {
    "tags": []
   },
   "source": [
    "### Using CT_45 Models"
   ]
  },
  {
   "cell_type": "code",
   "execution_count": 2,
   "id": "a3ba64c9-21ff-4c85-ab68-758792e2a13f",
   "metadata": {
    "tags": []
   },
   "outputs": [],
   "source": [
    "#Import test data - subset of Celltypist data \n",
    "test= ad.read('/data/peer/adamsj5/cell_typing/CT_45_Test.h5ad')"
   ]
  },
  {
   "cell_type": "code",
   "execution_count": null,
   "id": "1d7299e4-017f-44a3-b285-d0ec88a56f1b",
   "metadata": {
    "tags": []
   },
   "outputs": [
    {
     "name": "stdout",
     "output_type": "stream",
     "text": [
      "ah\n"
     ]
    },
    {
     "name": "stderr",
     "output_type": "stream",
     "text": [
      "🔬 Input data has 230834 cells and 36601 genes\n",
      "🔗 Matching reference genes in the model\n",
      "🧬 4352 features used for prediction\n",
      "⚖️ Scaling input data\n",
      "🖋️ Predicting labels\n"
     ]
    }
   ],
   "source": [
    "predictions_ct = annotate(test, model = 'New Models/CT_45 Models/ct_model_0.pkl', majority_voting = True)\n",
    "predictions_ct.predicted_labels"
   ]
  },
  {
   "cell_type": "code",
   "execution_count": null,
   "id": "e774ce29-e0b6-4f24-bc4e-00be76a91d13",
   "metadata": {
    "tags": []
   },
   "outputs": [],
   "source": [
    "pred_adatact = predictions_ct.to_adata()\n",
    "pred_adatact.write_h5ad('/data/peer/adamsj5/cell_typing/pred_modelct.h5ad')\n",
    "#pred_adatact= ad.read('/data/peer/adamsj5/cell_typing/pred_modelct.h5ad')"
   ]
  },
  {
   "cell_type": "markdown",
   "id": "79e82838-7411-44c5-9a48-30a5ae387861",
   "metadata": {},
   "source": [
    "Model 1"
   ]
  },
  {
   "cell_type": "code",
   "execution_count": null,
   "id": "10f9c155-ef72-43ff-b324-6472a14b1b4f",
   "metadata": {},
   "outputs": [],
   "source": [
    "predictions_1 = annotate(test, model = 'New Models/CT_45 Models/ct_model_1.pkl', majority_voting = True)\n",
    "predictions_1.predicted_labels"
   ]
  },
  {
   "cell_type": "code",
   "execution_count": null,
   "id": "e04da4d7-1c0b-4028-a054-53d72981cbc5",
   "metadata": {},
   "outputs": [],
   "source": [
    "pred_adata1 = predictions_1.to_adata()\n",
    "pred_adata1.write_h5ad('/data/peer/adamsj5/cell_typing/pred_model1.h5ad')"
   ]
  },
  {
   "cell_type": "markdown",
   "id": "0b2e0318-a609-4e92-b905-92a87a7349b3",
   "metadata": {},
   "source": [
    "Model 2"
   ]
  },
  {
   "cell_type": "code",
   "execution_count": null,
   "id": "bd02f1ac-0a83-45ae-a80c-abbc23e444fe",
   "metadata": {
    "tags": []
   },
   "outputs": [],
   "source": [
    "predictions_2 = annotate(test, model = 'New Models/CT_45 Models/ct_model_2.pkl', majority_voting = True)\n",
    "predictions_2.predicted_labels\n",
    "pred_adata2 = predictions_2.to_adata()"
   ]
  },
  {
   "cell_type": "code",
   "execution_count": null,
   "id": "3de224b0-51a0-4ea5-841f-43eef71edbfe",
   "metadata": {
    "tags": []
   },
   "outputs": [],
   "source": [
    "pred_adata2.write_h5ad('/data/peer/adamsj5/cell_typing/pred_model2.h5ad')\n",
    "\n",
    "#pred_adata2= ad.read('/data/peer/adamsj5/cell_typing/pred_model2.h5ad')"
   ]
  },
  {
   "cell_type": "markdown",
   "id": "f53e37b0-87dd-43e8-ab55-2025a2e6d2bd",
   "metadata": {},
   "source": [
    "Model 3"
   ]
  },
  {
   "cell_type": "code",
   "execution_count": null,
   "id": "a8a1b849-c873-458b-9f9f-5409db85891f",
   "metadata": {},
   "outputs": [],
   "source": [
    "predictions_3 = annotate(test, model = 'New Models/CT_45 Models/ct_model_3.pkl', majority_voting = True)\n",
    "predictions_3.predicted_labels"
   ]
  },
  {
   "cell_type": "code",
   "execution_count": null,
   "id": "279c60fc-3459-410b-a1ac-be1e8c83f507",
   "metadata": {},
   "outputs": [],
   "source": [
    "pred_adata3 = predictions_3.to_adata()"
   ]
  },
  {
   "cell_type": "code",
   "execution_count": null,
   "id": "ce877518-1fad-4e81-bee9-1c1aa636c35e",
   "metadata": {
    "tags": []
   },
   "outputs": [],
   "source": [
    "#pred_adata3.write_h5ad('../../pred_model3.h5ad')\n",
    "pred_adata3= ad.read('/data/peer/adamsj5/cell_typing/pred_model3.h5ad')"
   ]
  },
  {
   "cell_type": "markdown",
   "id": "001709b7-af33-425c-98ec-bc61cab1da1b",
   "metadata": {},
   "source": [
    "Model 4"
   ]
  },
  {
   "cell_type": "code",
   "execution_count": null,
   "id": "525d93af-53f8-43c7-943d-043a8a0acc2b",
   "metadata": {},
   "outputs": [],
   "source": [
    "predictions_4 = annotate(test, model = 'New Models/CT_45 Models/ct_model_4.pkl', majority_voting = True)\n",
    "predictions_4.predicted_labels"
   ]
  },
  {
   "cell_type": "code",
   "execution_count": null,
   "id": "8508ff81-9869-4b08-823a-ae057edfa88c",
   "metadata": {},
   "outputs": [],
   "source": [
    "pred_adata4 = predictions_4.to_adata()"
   ]
  },
  {
   "cell_type": "code",
   "execution_count": null,
   "id": "84e48b64-b84a-4713-8228-ee224b6c3261",
   "metadata": {
    "tags": []
   },
   "outputs": [],
   "source": [
    "#pred_adata4.write_h5ad('../../pred_model4.h5ad')\n",
    "pred_adata4= ad.read('/data/peer/adamsj5/cell_typing/pred_model4.h5ad')"
   ]
  },
  {
   "cell_type": "code",
   "execution_count": null,
   "id": "204ac4cf-5b4e-4518-9e24-fa7c58b448b7",
   "metadata": {
    "tags": []
   },
   "outputs": [],
   "source": [
    "pred_adatact.obs[\"predicted_labels\"].equals(pred_adata2.obs[\"predicted_labels\"])"
   ]
  },
  {
   "cell_type": "markdown",
   "id": "f279e80a-06ce-4750-bcd5-5819c0509352",
   "metadata": {
    "jp-MarkdownHeadingCollapsed": true,
    "tags": []
   },
   "source": [
    "### Using CT_98 Models"
   ]
  },
  {
   "cell_type": "code",
   "execution_count": null,
   "id": "3028dcfc-154c-4c85-9324-11591dd3ee64",
   "metadata": {},
   "outputs": [],
   "source": [
    "#Import test data - subset of CT_98 data \n",
    "test_98= ad.read('../../Data/CT_98_Test.h5ad')"
   ]
  },
  {
   "cell_type": "markdown",
   "id": "8161c97b-30bf-4a28-865d-8520fd674db0",
   "metadata": {},
   "source": [
    "Model 1"
   ]
  },
  {
   "cell_type": "code",
   "execution_count": null,
   "id": "9f622f5a-071f-4bda-bfb2-b633e152a29f",
   "metadata": {
    "tags": []
   },
   "outputs": [],
   "source": [
    "predictions_98_0 = ct.annotate(test_98, model = 'New Models/CT_98 Models/98_model_0.pkl', majority_voting = True)\n",
    "#predictions_4.predicted_labels\n",
    "pred_adata98_0 = predictions_98_0.to_adata()\n",
    "pred_adata98_0.write_h5ad('../../predictions/pred_98_model0.h5ad')"
   ]
  },
  {
   "cell_type": "markdown",
   "id": "b862cedc-669a-4f8e-9b5c-b66819aaadc3",
   "metadata": {},
   "source": [
    "Model 2"
   ]
  },
  {
   "cell_type": "code",
   "execution_count": null,
   "id": "f43a9393-8dc7-4997-83de-d125f21a94e3",
   "metadata": {},
   "outputs": [],
   "source": [
    "predictions_98_2 = ct.annotate(test_98, model = 'New Models/CT_98 Models/98_model_2.pkl', majority_voting = True)\n",
    "#predictions_4.pif x in genes:redicted_labels\n",
    "pred_adata98_2 = predictions_98_2.to_adata()\n",
    "pred_adata98_2.write_h5ad('../../predictions/pred_98_model2.h5ad')"
   ]
  },
  {
   "cell_type": "markdown",
   "id": "ca13db37-0bb4-459d-b227-de73ce0a4263",
   "metadata": {},
   "source": [
    "Model 3"
   ]
  },
  {
   "cell_type": "code",
   "execution_count": null,
   "id": "214d5594-1add-46be-a4ac-5d23353d2de2",
   "metadata": {},
   "outputs": [],
   "source": [
    "predictions_98_3 = ct.annotate(test_98, model = 'New Models/CT_98 Models/98_model_3.pkl', majority_voting = True)\n",
    "#predictions_4.predicted_labels\n",
    "pred_adata98_3 = predictions_98_3.to_adata()\n",
    "pred_adata98_3.write_h5ad('../../predictions/pred_98_model3.h5ad')"
   ]
  },
  {
   "cell_type": "markdown",
   "id": "19bdade4-ab47-4391-b149-6b0deaec6078",
   "metadata": {},
   "source": [
    "Model 4"
   ]
  },
  {
   "cell_type": "code",
   "execution_count": null,
   "id": "b4515f61-e291-4f96-9efc-7d9af8723450",
   "metadata": {},
   "outputs": [],
   "source": [
    "predictions_98_4 = ct.annotate(test_98, model = 'New Models/CT_98 Models/98_model_4.pkl', majority_voting = True)\n",
    "#predictions_4.predicted_labels\n",
    "pred_adata98_4 = predictions_98_4.to_adata()\n",
    "pred_adata98_4.write_h5ad('../../predictions/pred_98_model4.h5ad')"
   ]
  },
  {
   "cell_type": "markdown",
   "id": "8f2b0558-ab9e-47ba-a4d8-4278927c32e9",
   "metadata": {
    "jp-MarkdownHeadingCollapsed": true,
    "tags": []
   },
   "source": [
    "### Using COV_PBMC Models"
   ]
  },
  {
   "cell_type": "code",
   "execution_count": null,
   "id": "1fb05d27-662e-4282-ae7a-d33493f0729f",
   "metadata": {
    "tags": []
   },
   "outputs": [],
   "source": [
    "#Import test data - subset of CT_98 data \n",
    "test_COV= ad.read('../../Data/test_COV.h5ad')\n",
    "#test_COV_cp = ad.read('../../Data/test_COV_cp.h5ad')"
   ]
  },
  {
   "cell_type": "markdown",
   "id": "043a07f8-30da-403b-8179-cb50b2f26d6d",
   "metadata": {},
   "source": [
    "Model 0"
   ]
  },
  {
   "cell_type": "code",
   "execution_count": null,
   "id": "85b8a8a9-7ad3-4c66-b75b-6244c77bbdf6",
   "metadata": {
    "tags": []
   },
   "outputs": [],
   "source": [
    "predictions_COV_0 = ct.annotate(test_COV, model = 'New Models/COV_PBMC Models/COV_model_0.pkl', majority_voting = True)\n",
    "#predictions_4.predicted_labels\n",
    "pred_adataCOV_0 = predictions_COV_0.to_adata()\n",
    "pred_adataCOV_0.write_h5ad('../../predictions/pred_COV_model0.h5ad')"
   ]
  },
  {
   "cell_type": "markdown",
   "id": "d128aa54-d8dc-4b36-b30d-f7923b538732",
   "metadata": {},
   "source": [
    "Model 2"
   ]
  },
  {
   "cell_type": "code",
   "execution_count": null,
   "id": "6ea6accd-6353-434d-8395-2d5a0f8db0f6",
   "metadata": {
    "tags": []
   },
   "outputs": [],
   "source": [
    "predictions_COV_2 = ct.annotate(test_COV, model = 'New Models/COV_PBMC Models/COV_model_2.pkl', majority_voting = True)\n",
    "#predictions_4.predicted_labels\n",
    "pred_adataCOV_2 = predictions_COV_2.to_adata()\n",
    "pred_adataCOV_2.write_h5ad('../../predictions/pred_COV_model2.h5ad')"
   ]
  },
  {
   "cell_type": "markdown",
   "id": "99181af9-0716-442a-92a9-5b117a7c2c33",
   "metadata": {},
   "source": [
    "Model 3"
   ]
  },
  {
   "cell_type": "code",
   "execution_count": null,
   "id": "ea47a8d1-6970-4a15-8787-061a13ae9fa7",
   "metadata": {
    "tags": []
   },
   "outputs": [],
   "source": [
    "predictions_COV_3 = ct.annotate(test_COV, model = 'New Models/COV_PBMC Models/COV_model_3.pkl', majority_voting = True)\n",
    "#predictions_COV_4.predicted_labels\n",
    "pred_adataCOV_3 = predictions_COV_3.to_adata()\n",
    "pred_adataCOV_3.write_h5ad('../../predictions/pred_COV_model3.h5ad')"
   ]
  },
  {
   "cell_type": "code",
   "execution_count": null,
   "id": "30affe19-4545-48e8-a37d-6a7991449a24",
   "metadata": {
    "tags": []
   },
   "outputs": [],
   "source": [
    "#making sure the f1 score is the same if we use dataset with all genes vs just cytopus genes \n",
    "#predictions_COV_cp_3 = ct.annotate(test_COV_cp, model = 'New Models/COV_PBMC Models/COV_model_3.pkl', majority_voting = True)\n",
    "#predictions_COV_3.predicted_labels\n",
    "#pred_adataCOV_cp_3 = predictions_COV_cp_3.to_adata()\n",
    "#pred_adataCOV_cp_3.write_h5ad('../../predictions/pred_COV_cp_model3.h5ad')"
   ]
  },
  {
   "cell_type": "markdown",
   "id": "39fd57d8-c6f3-4ed0-8c70-8d2ad2621abc",
   "metadata": {},
   "source": [
    "Model 4"
   ]
  },
  {
   "cell_type": "code",
   "execution_count": null,
   "id": "e2e4bd32-d214-4da9-93b8-7dbc5e93225e",
   "metadata": {},
   "outputs": [],
   "source": [
    "predictions_COV_4 = ct.annotate(test_COV, model = 'New Models/COV_PBMC Models/COV_model_4.pkl', majority_voting = True)\n",
    "#predictions_4.predicted_labels\n",
    "pred_adataCOV_4 = predictions_COV_4.to_adata()\n",
    "pred_adataCOV_4.write_h5ad('../../predictions/pred_COV_model4.h5ad')"
   ]
  },
  {
   "cell_type": "markdown",
   "id": "f142b3e4-d4cb-491b-a0a6-68e87184d9e5",
   "metadata": {
    "tags": []
   },
   "source": [
    "### Using Glasner Models"
   ]
  },
  {
   "cell_type": "code",
   "execution_count": null,
   "id": "38282bfe-fdac-44d3-bc2e-a8eb4897e097",
   "metadata": {
    "tags": []
   },
   "outputs": [],
   "source": [
    "#Import test data \n",
    "test_g= ad.read('/data/peer/adamsj5/cell_typing/test_glas.h5ad') #lilac location"
   ]
  },
  {
   "cell_type": "markdown",
   "id": "7dc24172-5a7d-420c-a4af-a73d11067f90",
   "metadata": {},
   "source": [
    "Model 0"
   ]
  },
  {
   "cell_type": "code",
   "execution_count": null,
   "id": "84b64e98-dcab-4e54-9306-2f1cad7f7f5e",
   "metadata": {
    "tags": []
   },
   "outputs": [],
   "source": [
    "predictions_g_0 = annotate(test_g, model = 'New Models/Glasner Models/g_model_0.pkl', majority_voting = True)\n",
    "pred_adatag_0 = predictions_g_0.to_adata()\n",
    "pred_adatag_0.obs[\"predicted_labels\"] = predictions_g_0.predicted_labels[\"predicted_labels\"]\n",
    "pred_adatag_0.write_h5ad('/data/peer/adamsj5/cell_typing/pred_g_model0.h5ad')"
   ]
  },
  {
   "cell_type": "code",
   "execution_count": null,
   "id": "81f9c010-10c1-4802-bf30-6a4495f707e0",
   "metadata": {
    "tags": []
   },
   "outputs": [],
   "source": [
    "predictions_g_0"
   ]
  },
  {
   "cell_type": "code",
   "execution_count": null,
   "id": "e2cabec5-0ce0-4628-865c-7e8d3fb7e4b2",
   "metadata": {
    "tags": []
   },
   "outputs": [],
   "source": [
    "len(np.unique(predictions_g_0.predicted_labels[\"predicted_labels\"]))"
   ]
  },
  {
   "cell_type": "markdown",
   "id": "055bbab6-8cd7-4f6a-83e6-561d608d1b83",
   "metadata": {},
   "source": [
    "Model 2"
   ]
  },
  {
   "cell_type": "code",
   "execution_count": null,
   "id": "aa38ed27-44ee-45e5-b277-566157c4d944",
   "metadata": {
    "tags": []
   },
   "outputs": [],
   "source": [
    "predictions_g_2 = annotate(test_g, model = 'New Models/Glasner Models/g_model_2.pkl', majority_voting = True)\n",
    "pred_adatag_2 = predictions_g_2.to_adata()\n",
    "pred_adatag_2.obs[\"predicted_labels\"] = predictions_g_2.predicted_labels[\"predicted_labels\"]\n",
    "pred_adatag_2.write_h5ad('/data/peer/adamsj5/cell_typing/pred_g_model2.h5ad')"
   ]
  },
  {
   "cell_type": "markdown",
   "id": "80e4e6c7-10e5-4310-802c-477a95cb3ed7",
   "metadata": {},
   "source": [
    "Model 3"
   ]
  },
  {
   "cell_type": "code",
   "execution_count": null,
   "id": "93a200be-4617-47a0-a60f-80c880a59714",
   "metadata": {
    "tags": []
   },
   "outputs": [],
   "source": [
    "predictions_g_3 = annotate(test_g, model = 'New Models/Glasner Models/g_model_3.pkl', majority_voting = True)\n",
    "pred_adatag_3 = predictions_g_3.to_adata()\n",
    "pred_adatag_3.obs[\"predicted_labels\"] = predictions_g_3.predicted_labels[\"predicted_labels\"]\n",
    "pred_adatag_3.write_h5ad('/data/peer/adamsj5/cell_typing/pred_COV_model3.h5ad')"
   ]
  },
  {
   "cell_type": "markdown",
   "id": "0bfcd79e-e2d5-48df-a563-ca844bb73b6f",
   "metadata": {},
   "source": [
    "Model 4"
   ]
  },
  {
   "cell_type": "code",
   "execution_count": null,
   "id": "e503605e-459e-4c13-b931-99685d415292",
   "metadata": {
    "tags": []
   },
   "outputs": [],
   "source": [
    "predictions_g_4 = annotate(test_g, model = 'New Models/Glasner Models/g_model_4.pkl', majority_voting = True)\n",
    "pred_adatag_4 = predictions_g_4.to_adata()\n",
    "pred_adatag_4.obs[\"predicted_labels\"] = predictions_g_4.predicted_labels[\"predicted_labels\"]\n",
    "pred_adatag_4.write_h5ad('/data/peer/adamsj5/cell_typing/pred_COV_model4.h5ad')"
   ]
  },
  {
   "cell_type": "code",
   "execution_count": null,
   "id": "a1fef545-fbc0-440c-8f29-8624e21da5cc",
   "metadata": {
    "tags": []
   },
   "outputs": [],
   "source": [
    "predictions_g_2.predicted_labels[\"predicted_labels\"].equals(predictions_g_3.predicted_labels[\"predicted_labels\"])"
   ]
  },
  {
   "cell_type": "code",
   "execution_count": null,
   "id": "13040262-32fb-4904-b565-82be7b657e55",
   "metadata": {},
   "outputs": [],
   "source": [
    "col_2 = "
   ]
  },
  {
   "cell_type": "code",
   "execution_count": null,
   "id": "94f6ea9f-7b67-489e-a339-ba7a96a07203",
   "metadata": {
    "tags": []
   },
   "outputs": [],
   "source": [
    "pred_adatag_2.obs[\"pred_labels\"] = predictions_g_2.predicted_labels[\"predicted_labels\"]\n",
    "pred_adatag_3.obs[\"pred_labels\"] = predictions_g_3.predicted_labels[\"predicted_labels\"]\n",
    "pred_adatag_2.obs[\"pred_labels\"].equals(pred_adatag_3.obs[\"pred_labels\"])"
   ]
  },
  {
   "cell_type": "markdown",
   "id": "30c231ac-5ea9-4122-8f38-1a05a359d6c6",
   "metadata": {
    "tags": []
   },
   "source": [
    "## Benchmarking\n",
    "### F1 scores\n",
    "Abdelaal et al. used median F1 scores as their primary statistic"
   ]
  },
  {
   "cell_type": "markdown",
   "id": "d44cc763-3977-4627-89be-1837df3299ca",
   "metadata": {
    "jp-MarkdownHeadingCollapsed": true,
    "tags": []
   },
   "source": [
    "#### Train & Test on CT_45"
   ]
  },
  {
   "cell_type": "code",
   "execution_count": null,
   "id": "ed0eb86a-c564-4846-80e2-b3723a246b3a",
   "metadata": {
    "tags": []
   },
   "outputs": [],
   "source": [
    "pred_adatact.obs[\"predicted_labels\"]"
   ]
  },
  {
   "cell_type": "code",
   "execution_count": null,
   "id": "7bbe5885-b3eb-4443-84f5-0cfb9140f027",
   "metadata": {
    "tags": []
   },
   "outputs": [],
   "source": [
    "#og celltypist  - 0.892\n",
    "np.median(f1_score(pred_adatact.obs[\"Manually_curated_celltype\"], pred_adatact.obs[\"predicted_labels\"], average=None))"
   ]
  },
  {
   "cell_type": "code",
   "execution_count": null,
   "id": "c225960d-b079-4c56-ba20-e338c8aa9bfe",
   "metadata": {},
   "outputs": [],
   "source": [
    "#model 1 - cant get it to run, gets stuck on Scaling for too long \n",
    "#np.median(f1_score(pred_adata1.obs[\"Manually_curated_celltype\"], pred_adata1.obs[\"predicted_labels\"], average=None))"
   ]
  },
  {
   "cell_type": "code",
   "execution_count": null,
   "id": "ad797106-f025-4509-984d-0f455b7a5360",
   "metadata": {
    "tags": []
   },
   "outputs": [],
   "source": [
    "#model 2  - 0.74\n",
    "np.median(f1_score(pred_adata2.obs[\"Manually_curated_celltype\"], pred_adata2.obs[\"predicted_labels\"], average=None))"
   ]
  },
  {
   "cell_type": "code",
   "execution_count": null,
   "id": "16fbefaf-6190-4e38-80fb-b8e82fd56f0f",
   "metadata": {
    "tags": []
   },
   "outputs": [],
   "source": [
    "#model 3  - 0.79\n",
    "np.median(f1_score(pred_adata3.obs[\"Manually_curated_celltype\"], pred_adata3.obs[\"predicted_labels\"], average=None))"
   ]
  },
  {
   "cell_type": "code",
   "execution_count": null,
   "id": "60ff92e4-a52d-4c10-adfd-6131687c3c32",
   "metadata": {
    "tags": []
   },
   "outputs": [],
   "source": [
    "#model 4 - 0.887\n",
    "np.median(f1_score(pred_adata4.obs[\"Manually_curated_celltype\"], pred_adata4.obs[\"predicted_labels\"], average = None))"
   ]
  },
  {
   "cell_type": "markdown",
   "id": "f57f2076-b039-4e97-99dd-88071ab80712",
   "metadata": {
    "jp-MarkdownHeadingCollapsed": true,
    "tags": []
   },
   "source": [
    "#### Train & Test on CT_98"
   ]
  },
  {
   "cell_type": "code",
   "execution_count": null,
   "id": "38ffd8f0-f4ec-4b99-b030-60c19c83c9fc",
   "metadata": {},
   "outputs": [],
   "source": [
    "#og celltypist  - 0.844\n",
    "np.median(f1_score(pred_adata98_0.obs[\"Harmonised_detailed_type\"], pred_adata98_0.obs[\"predicted_labels\"], average=None))"
   ]
  },
  {
   "cell_type": "code",
   "execution_count": null,
   "id": "968f8519-e483-4671-8dde-5f0e2b51e299",
   "metadata": {},
   "outputs": [],
   "source": [
    "#model 2  - 0.508\n",
    "np.median(f1_score(pred_adata98_2.obs[\"Harmonised_detailed_type\"], pred_adata98_2.obs[\"predicted_labels\"], average=None))"
   ]
  },
  {
   "cell_type": "code",
   "execution_count": null,
   "id": "7bd74135-d897-4fe2-a39a-6c251e12af39",
   "metadata": {},
   "outputs": [],
   "source": [
    "#model 3  - 0.810?\n",
    "np.median(f1_score(pred_adata98_3.obs[\"Harmonised_detailed_type\"], pred_adata98_3.obs[\"predicted_labels\"], average=None))"
   ]
  },
  {
   "cell_type": "code",
   "execution_count": null,
   "id": "22f77246-eadf-4c16-b73a-ef0af04aeffe",
   "metadata": {},
   "outputs": [],
   "source": [
    "#model 4 - 0.810?\n",
    "np.median(f1_score(pred_adata98_4.obs[\"Harmonised_detailed_type\"], pred_adata98_4.obs[\"predicted_labels\"], average = None))"
   ]
  },
  {
   "cell_type": "markdown",
   "id": "580ee3c7-2418-400e-ba16-2330a9670b81",
   "metadata": {
    "jp-MarkdownHeadingCollapsed": true,
    "tags": []
   },
   "source": [
    "#### Train & Test on COV_PBMC"
   ]
  },
  {
   "cell_type": "code",
   "execution_count": null,
   "id": "03ccf0fc-4246-4dd4-bd6d-22d774cfd883",
   "metadata": {},
   "outputs": [],
   "source": [
    "#og celltypist model - 0.609\n",
    "np.median(f1_score(pred_adataCOV_0.obs[\"full_clustering\"], pred_adataCOV_0.obs[\"predicted_labels\"], average=None))"
   ]
  },
  {
   "cell_type": "code",
   "execution_count": null,
   "id": "40ab3852-87d5-40c1-aa87-796d119ee3ef",
   "metadata": {
    "tags": []
   },
   "outputs": [],
   "source": [
    "#model 2  - \n",
    "np.median(f1_score(pred_adataCOV_2.obs[\"full_clustering\"], pred_adataCOV_2.obs[\"predicted_labels\"], average=None))"
   ]
  },
  {
   "cell_type": "code",
   "execution_count": null,
   "id": "41e4860e-b576-48ac-8368-2d70d0594f0b",
   "metadata": {
    "tags": []
   },
   "outputs": [],
   "source": [
    "#model 3 - 0.507\n",
    "np.median(f1_score(pred_adataCOV_3.obs[\"full_clustering\"], pred_adataCOV_3.obs[\"predicted_labels\"], average=None))"
   ]
  },
  {
   "cell_type": "code",
   "execution_count": null,
   "id": "decd43f1-6686-4dc0-8368-ff69cab5b081",
   "metadata": {
    "tags": []
   },
   "outputs": [],
   "source": [
    "#model 3 cytopus genes dataset to make sure they are the same - 0.507\n",
    "np.median(f1_score(pred_adataCOV_cp_3.obs[\"full_clustering\"], pred_adataCOV_cp_3.obs[\"predicted_labels\"], average=None))"
   ]
  },
  {
   "cell_type": "code",
   "execution_count": null,
   "id": "637ea315-2e60-4b52-98e1-a65e93ea00b3",
   "metadata": {},
   "outputs": [],
   "source": [
    "#model 4 - \n",
    "np.median(f1_score(pred_adataCOV_4.obs[\"full_clustering\"], pred_adataCOV_4.obs[\"predicted_labels\"], average = None))"
   ]
  },
  {
   "cell_type": "markdown",
   "id": "7e84cc99-809f-41d0-b4a5-0d94bde6e08e",
   "metadata": {
    "tags": []
   },
   "source": [
    "#### Train & Test on Glasner"
   ]
  },
  {
   "cell_type": "code",
   "execution_count": null,
   "id": "2b01d8c6-d030-4ea5-99e2-9d622d72be27",
   "metadata": {
    "tags": []
   },
   "outputs": [],
   "source": [
    "pred_adatag_0.obs[\"predicted_labels\"] = predictions_g_0.predicted_labels[\"predicted_labels\"]"
   ]
  },
  {
   "cell_type": "code",
   "execution_count": null,
   "id": "c73b51ba-ea55-451b-a139-21f9be3fe659",
   "metadata": {
    "tags": []
   },
   "outputs": [],
   "source": [
    "#og celltypist model - 0.254\n",
    "np.median(f1_score(pred_adatag_0.obs[\"finer_cell_types\"], predictions_g_0.predicted_labels[\"predicted_labels\"], average=None))"
   ]
  },
  {
   "cell_type": "code",
   "execution_count": null,
   "id": "86639711-c6b9-4b02-a175-81e6eda21c1b",
   "metadata": {
    "tags": []
   },
   "outputs": [],
   "source": [
    "#model 2 - 0.396\n",
    "np.median(f1_score(pred_adatag_2.obs[\"finer_cell_types\"],predictions_g_2.predicted_labels[\"predicted_labels\"], average=None))"
   ]
  },
  {
   "cell_type": "code",
   "execution_count": null,
   "id": "33350ea5-a64a-410e-8be4-83858d5dc0aa",
   "metadata": {
    "tags": []
   },
   "outputs": [],
   "source": [
    "#model 3 - 0.597\n",
    "np.median(f1_score(pred_adatag_3.obs[\"finer_cell_types\"],predictions_g_3.predicted_labels[\"predicted_labels\"], average=None))"
   ]
  },
  {
   "cell_type": "code",
   "execution_count": null,
   "id": "226021bd-4475-4a8d-86be-6120fb3e7b96",
   "metadata": {
    "tags": []
   },
   "outputs": [],
   "source": [
    "#model 4 - 0.215\n",
    "np.median(f1_score(pred_adatag_4.obs[\"finer_cell_types\"], predictions_g_4.predicted_labels[\"predicted_labels\"], average = None))"
   ]
  },
  {
   "cell_type": "markdown",
   "id": "15a06dc6-19ae-4768-8569-ae1b8df133db",
   "metadata": {},
   "source": [
    "## Plotting"
   ]
  },
  {
   "cell_type": "markdown",
   "id": "1be35364-c388-4b65-856e-e2c662cca368",
   "metadata": {
    "jp-MarkdownHeadingCollapsed": true,
    "tags": []
   },
   "source": [
    "### Stacked barplots"
   ]
  },
  {
   "cell_type": "code",
   "execution_count": null,
   "id": "6d981704-14e6-419a-942f-116ef193e372",
   "metadata": {
    "tags": []
   },
   "outputs": [],
   "source": [
    "def make_stacked_barplot(orig, pred, title):\n",
    "    \"\"\"\n",
    "    orig - list\n",
    "        eg: pred_adatag_0.obs[\"finer_cell_types\"]}\n",
    "    pred - predictions_g_0.predicted_labels[\"predicted_labels\"].cat.categories\n",
    "    title \n",
    "    \"\"\"\n",
    "    celltypes = celltypes ={\"original\":orig, \"predicted\": pred}\n",
    "    df_lists = pd.DataFrame(data = celltypes)\n",
    "    counts_df = pd.DataFrame(data = {\"original\":orig.cat.categories})\n",
    "    for x in pred.cat.categories: \n",
    "        #print(x)\n",
    "        df = df_lists.loc[df_lists['original'] == x]\n",
    "        labels = []\n",
    "        counts = []\n",
    "        for y in orig.cat.categories:\n",
    "            labels.append(y)\n",
    "            if y in pred.cat.categories:\n",
    "                count = df['predicted'].value_counts()[y]\n",
    "                #print(count)\n",
    "                counts.append(count)\n",
    "            else: \n",
    "                counts.append(0)\n",
    "        #print(counts)\n",
    "        df_1orig = pd.DataFrame(data = {\"original\": labels, x: counts})\n",
    "        #print(df_1orig)\n",
    "        counts_df = pd.merge(counts_df, df_1orig, on ='original')\n",
    "    counts_df\n",
    "    counts_df.plot.bar(x = 'original', title = title, stacked=True, figsize = (14,9), colormap = 'gist_ncar')\n",
    "    plt.legend(loc=(1.04, 0))\n",
    "        "
   ]
  },
  {
   "cell_type": "markdown",
   "id": "af530f1d-e817-43f1-bfef-4bfbdd1eb274",
   "metadata": {},
   "source": [
    "#### CT_45"
   ]
  },
  {
   "cell_type": "code",
   "execution_count": null,
   "id": "335517ab-68f7-4fc6-a671-6b0858eeea8e",
   "metadata": {
    "tags": []
   },
   "outputs": [],
   "source": [
    "make_stacked_barplot(orig= pred_adatact.obs[\"Manually_curated_celltype\"], pred = predictions_ct.predicted_labels[\"predicted_labels\"], title = \"CT_45 0 - 0.254\" )"
   ]
  },
  {
   "cell_type": "markdown",
   "id": "1a20ff1e-c924-43be-acc3-da83ed44ed3a",
   "metadata": {
    "tags": []
   },
   "source": [
    "#### Glasner Data"
   ]
  },
  {
   "cell_type": "code",
   "execution_count": null,
   "id": "83f6c7ac-100c-48bc-b9c4-90396c63ba8c",
   "metadata": {
    "tags": []
   },
   "outputs": [],
   "source": [
    "make_stacked_barplot(orig= pred_adatag_0.obs[\"finer_cell_types\"], pred = predictions_g_0.predicted_labels[\"predicted_labels\"], title = \"Glasner Model 0 - 0.254\" )"
   ]
  },
  {
   "cell_type": "code",
   "execution_count": null,
   "id": "3b484cd0-4d35-4684-96de-3f917f71d69f",
   "metadata": {
    "tags": []
   },
   "outputs": [],
   "source": [
    "make_stacked_barplot(orig= pred_adatag_2.obs[\"finer_cell_types\"], pred = predictions_g_2.predicted_labels[\"predicted_labels\"], title = \"Glasner Model 2 - 0.396\" )"
   ]
  },
  {
   "cell_type": "code",
   "execution_count": null,
   "id": "bfde1c18-2070-4422-8609-a832c854e59c",
   "metadata": {
    "tags": []
   },
   "outputs": [],
   "source": [
    "make_stacked_barplot(orig= pred_adatag_3.obs[\"finer_cell_types\"], pred = predictions_g_3.predicted_labels[\"predicted_labels\"], title = \"Glasner Model 3 - 0.597\" )"
   ]
  },
  {
   "cell_type": "code",
   "execution_count": null,
   "id": "ed545b7e-547d-449a-ad7a-03f79574acec",
   "metadata": {
    "tags": []
   },
   "outputs": [],
   "source": [
    "make_stacked_barplot(orig= pred_adatag_4.obs[\"finer_cell_types\"], pred = predictions_g_4.predicted_labels[\"predicted_labels\"], title = \"Glasner Model 4 - 0.215\" )"
   ]
  },
  {
   "cell_type": "markdown",
   "id": "23cbdce0-cc6b-4bfa-b9da-630c036cc8c0",
   "metadata": {},
   "source": [
    "### Nested Sankey"
   ]
  },
  {
   "cell_type": "code",
   "execution_count": null,
   "id": "5adfadb9-7f6b-48a2-9980-d063c8024ae6",
   "metadata": {
    "tags": []
   },
   "outputs": [],
   "source": [
    "def assign_nums(df, base_num, col, idx, new_col, index_dict: Optional[dict]  = None, make_dict: bool = True):\n",
    "    index_list = []\n",
    "    index = int(base_num)\n",
    "    if make_dict:\n",
    "        for x in np.unique(df[col]):\n",
    "            index_list.append([x,index])\n",
    "            index = int(index + 1)\n",
    "        index_dict = dict(index_list)\n",
    "        #print(index_dict)\n",
    "    df[new_col] = np.nan\n",
    "    for i, row in df.iterrows(): \n",
    "        if idx == 1: \n",
    "            cell_type = df.at[i,col]\n",
    "        elif idx == 2: \n",
    "            cell_type = df.at[i,col]\n",
    "        df.at[i,new_col] = int(index_dict[cell_type])\n",
    "    if make_dict: \n",
    "        return index_dict"
   ]
  },
  {
   "cell_type": "code",
   "execution_count": null,
   "id": "18c7b700-4ed0-449b-8d13-616c6a91ce1b",
   "metadata": {
    "tags": []
   },
   "outputs": [],
   "source": [
    "def make_sankey_data(adata, pred_col, acc_col, fxn, num_coarse, num_fine):\n",
    "    df = adata.obs\n",
    "    df['acc_coarse'] = df.apply(lambda row: fxn(row, col_name = acc_col), axis=1)\n",
    "    df = df[[ 'acc_coarse', acc_col , pred_col]]\n",
    "    acc = pd.DataFrame(df.groupby(['acc_coarse', acc_col], as_index=False).size())\n",
    "    pred = pd.DataFrame(df.groupby(['finer_cell_types', 'predicted_labels'],as_index=False).size())\n",
    "    assign_nums(acc, 0, 'acc_coarse', 1, 'acc_coarse_nums')\n",
    "    finer_dict = assign_nums(acc, num_coarse+1, acc_col, 2, 'acc_finer_nums')\n",
    "    print(finer_dict)\n",
    "    assign_nums(pred, (num_coarse+1), acc_col, 1, 'acc_finer_nums', finer_dict, make_dict = False)\n",
    "    assign_nums(pred, (num_coarse + num_fine + 1), pred_col, 2, 'pred_finer_nums')\n",
    "    source = acc['acc_coarse_nums'].tolist()\n",
    "    source.extend(pred['acc_finer_nums'].tolist())\n",
    "    target = acc['acc_finer_nums'].tolist()\n",
    "    target.extend(pred['pred_finer_nums'].tolist())\n",
    "    count = acc['size'].tolist()\n",
    "    count.extend(pred['size'].tolist())\n",
    "    return source, target, count "
   ]
  },
  {
   "cell_type": "code",
   "execution_count": null,
   "id": "f50d82bd-ed03-4218-b780-92bed7f171a0",
   "metadata": {
    "tags": []
   },
   "outputs": [],
   "source": [
    "def make_sankey(adata, pred_col, acc_col, fxn, num_coarse, num_fine, labels):\n",
    "    source, target, count = make_sankey_data(adata, pred_col, acc_col, fxn, num_coarse, num_fine)\n",
    "    \n",
    "    fig = go.Figure(data=[go.Sankey(\n",
    "    node = dict(\n",
    "      pad = 15,\n",
    "      thickness = 20,\n",
    "      line = dict(color = \"black\", width = 0.5),\n",
    "      label = labels\n",
    "    ),\n",
    "    link = dict(\n",
    "      source = source, \n",
    "      target = target,\n",
    "      value = count\n",
    "      ))])\n",
    "\n",
    "    fig.update_layout(\n",
    "        autosize=False,\n",
    "        width=1300,\n",
    "        height=800)\n",
    "    return fig"
   ]
  },
  {
   "cell_type": "markdown",
   "id": "8da7d97e-2c16-4797-b47c-656f2c09ed75",
   "metadata": {},
   "source": [
    "#### Glanser"
   ]
  },
  {
   "cell_type": "code",
   "execution_count": null,
   "id": "a1d242c5-ec30-4c0b-b817-c755879ff6bc",
   "metadata": {
    "tags": []
   },
   "outputs": [],
   "source": [
    "def categorise_glanser(row, col_name):  \n",
    "    if row[col_name] == 'adventitial_fibroblast' or row[col_name] == 'alveolar_lung_fibroblast' or row[col_name] == 'LRRC15_myofibroblast':\n",
    "        return 'Fibroblast'\n",
    "    elif row[col_name] == 'Myeloid' or row[col_name] == 'DC_Langerhans' or row[col_name] == 'DC_Mature' or row[col_name] == 'Macrophage' or row[col_name] == 'Macrophage_Alveolar'or row[col_name] == 'Mast'  or row[col_name] == 'Neutrophil' or row[col_name] == 'cDC1' or row[col_name] == 'cDC2'  or row[col_name] == 'cMonocyte' or row[col_name] == 'cycling_macrophage' or row[col_name] == 'ncMonocyte' or row[col_name] == 'neutrophil':\n",
    "        return 'Myeloid'\n",
    "    return row[col_name]"
   ]
  },
  {
   "cell_type": "code",
   "execution_count": null,
   "id": "ca4970fa-7996-4216-811b-ec3a6ee2483c",
   "metadata": {
    "tags": []
   },
   "outputs": [],
   "source": [
    "labels = ['B cell', 'Epithelial', 'Fibroblast', 'Myeloid', 'Smooth_muscle', 'T/NK', 'pDC', 'pericyte','B cell', 'DC_Langerhans', 'DC_Mature', 'Epithelial', 'LRRC15_myofibroblast', 'Macrophage', 'Macrophage_Alveolar', 'Mast', 'Myeloid', 'Neutrophil', 'Smooth_muscle', 'T/NK', 'adventitial_fibroblast', 'alveolar_lung_fibroblast', 'cDC1', 'cDC2', 'cMonocyte', 'cycling_macrophage', 'ncMonocyte', 'neutrophil', 'pDC', 'pericyte', 'B cell', 'DC_Langerhans', 'DC_Mature', 'Epithelial', 'LRRC15_myofibroblast', 'Macrophage', 'Macrophage_Alveolar', 'Mast', 'Myeloid', 'Neutrophil', 'Smooth_muscle', 'T/NK', 'adventitial_fibroblast', 'alveolar_lung_fibroblast', 'cMonocyte', 'ncMonocyte', 'neutrophil', 'pDC', 'pericyte']  "
   ]
  },
  {
   "cell_type": "markdown",
   "id": "65739db0-800d-4dc4-8e64-8fd1d4c3655b",
   "metadata": {},
   "source": [
    "##### Model 0"
   ]
  },
  {
   "cell_type": "code",
   "execution_count": null,
   "id": "662a51b2-c1d9-4e6a-a13c-b3127f25fa38",
   "metadata": {
    "tags": []
   },
   "outputs": [],
   "source": [
    "fig_g_0 = make_sankey(pred_adatag_0, 'predicted_labels', 'finer_cell_types', categorise_glanser,7, 22, labels)\n",
    "#fig_g_0.show()"
   ]
  },
  {
   "cell_type": "markdown",
   "id": "15ba9bc4-3504-40cb-aa79-84c4b71ea9b4",
   "metadata": {},
   "source": [
    "##### Model 2"
   ]
  },
  {
   "cell_type": "code",
   "execution_count": null,
   "id": "4c758398-d57d-48b2-834d-28553f2c0e3c",
   "metadata": {
    "tags": []
   },
   "outputs": [],
   "source": [
    "fig_g_2 = make_sankey(pred_adatag_2, 'predicted_labels', 'finer_cell_types', categorise_glanser,7, 22, labels)\n",
    "fig_g_2.show()"
   ]
  },
  {
   "cell_type": "markdown",
   "id": "9a851c91-837b-4aff-90aa-f0cf4da7262a",
   "metadata": {},
   "source": [
    "##### Model 3"
   ]
  },
  {
   "cell_type": "code",
   "execution_count": null,
   "id": "fede8625-264a-4d3e-8e10-3e35a6b28a88",
   "metadata": {
    "tags": []
   },
   "outputs": [],
   "source": [
    "fig_g_3 = make_sankey(pred_adatag_3, 'predicted_labels', 'finer_cell_types', categorise_glanser,7, 22, labels)\n",
    "fig_g_3.show()"
   ]
  },
  {
   "cell_type": "markdown",
   "id": "d08fe89a-57f7-41e3-b9d0-0d9f696d8860",
   "metadata": {},
   "source": [
    "##### Model 4"
   ]
  },
  {
   "cell_type": "code",
   "execution_count": null,
   "id": "61f21169-a228-44ce-8aaf-28f755289199",
   "metadata": {
    "tags": []
   },
   "outputs": [],
   "source": [
    "fig_g_4 = make_sankey(pred_adatag_4, 'predicted_labels', 'finer_cell_types', categorise_glanser,7, 22, labels)\n",
    "fig_g_4.show()"
   ]
  },
  {
   "cell_type": "code",
   "execution_count": null,
   "id": "f2ca25a6-05fe-4fa6-97c3-482f186f83d5",
   "metadata": {},
   "outputs": [],
   "source": []
  }
 ],
 "metadata": {
  "kernelspec": {
   "display_name": "Python 3 (ipykernel)",
   "language": "python",
   "name": "python3"
  },
  "language_info": {
   "codemirror_mode": {
    "name": "ipython",
    "version": 3
   },
   "file_extension": ".py",
   "mimetype": "text/x-python",
   "name": "python",
   "nbconvert_exporter": "python",
   "pygments_lexer": "ipython3",
   "version": "3.11.4"
  }
 },
 "nbformat": 4,
 "nbformat_minor": 5
}
