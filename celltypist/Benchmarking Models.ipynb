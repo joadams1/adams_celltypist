{
 "cells": [
  {
   "cell_type": "markdown",
   "id": "e14bec32-8dd6-4a91-a998-bc42188c68b9",
   "metadata": {},
   "source": [
    "# Testing/Benchmarking Celltypist Models \n",
    "### List of Models (made in Making New Models.ipynb)\n",
    "1. Remove the feature selection from CellTypist (so it only trains the model once)\n",
    "2. Train the model with L1 regularization instead of L2\n",
    "3. Train the model only once with only Cytopus genes\n",
    "4. At the feature selection step, make sure the Cytopus genes are included in the list of top genes"
   ]
  },
  {
   "cell_type": "code",
   "execution_count": 1,
   "id": "92be23f9-d464-482d-a464-a57f73417c28",
   "metadata": {
    "tags": []
   },
   "outputs": [],
   "source": [
    "import scanpy as sc\n",
    "import pandas as pd\n",
    "import anndata as ad\n",
    "from anndata import AnnData\n",
    "import numpy as np\n",
    "from scipy.sparse import spmatrix\n",
    "from datetime import datetime\n",
    "import itertools\n",
    "from sklearn.metrics import f1_score\n",
    "import matplotlib.pyplot as plt\n",
    "from typing import Optional\n",
    "import plotly.graph_objects as go\n",
    "\n",
    "#import celltypist as ct\n",
    "#from celltypist import models\n",
    "\n",
    "from  annotate import annotate"
   ]
  },
  {
   "cell_type": "code",
   "execution_count": null,
   "id": "0b34f247-62ba-41fa-8fb0-832ec8975548",
   "metadata": {
    "tags": []
   },
   "outputs": [],
   "source": [
    "#Import models \n",
    "##Celltypist default model \n",
    "models.download_models(model = 'Immune_All_Low.pkl')\n",
    "\n",
    "##New Models\n",
    "model_1 = models.Model.load('New Models/CT_45 Models/ct_model_1.pkl')\n",
    "model_2 = models.Model.load('New Models/CT_45 Models/ct_model_2.pkl')\n",
    "model_3 = models.Model.load('New Models/CT_45 Models/ct_model_3.pkl')\n",
    "model_4 = models.Model.load('New Models/CT_45 Models/ct_model_4.pkl')"
   ]
  },
  {
   "cell_type": "code",
   "execution_count": null,
   "id": "63bf5f9e-4b48-4a71-9c32-e3182617898e",
   "metadata": {
    "tags": []
   },
   "outputs": [],
   "source": [
    "models.download_models(model = 'Healthy_COVID19_PBMC.pkl')"
   ]
  },
  {
   "cell_type": "markdown",
   "id": "9aad6ec5-4d53-4273-8378-d0edee9ec8ed",
   "metadata": {
    "tags": []
   },
   "source": [
    "## Get celltype predictions from each model"
   ]
  },
  {
   "cell_type": "markdown",
   "id": "50394a79-4041-4dbc-a802-37df78d91f3f",
   "metadata": {
    "jp-MarkdownHeadingCollapsed": true,
    "tags": []
   },
   "source": [
    "### Using CT_45 Models"
   ]
  },
  {
   "cell_type": "code",
   "execution_count": null,
   "id": "a3ba64c9-21ff-4c85-ab68-758792e2a13f",
   "metadata": {
    "tags": []
   },
   "outputs": [],
   "source": [
    "#Import test data - subset of Celltypist data \n",
    "test= ad.read('/data/peer/adamsj5/cell_typing/CT_45_Test.h5ad')"
   ]
  },
  {
   "cell_type": "markdown",
   "id": "a24f9200-de0a-42fc-83b4-7b70a77c534f",
   "metadata": {},
   "source": [
    "##### Model 0"
   ]
  },
  {
   "cell_type": "code",
   "execution_count": null,
   "id": "1d7299e4-017f-44a3-b285-d0ec88a56f1b",
   "metadata": {
    "tags": []
   },
   "outputs": [],
   "source": [
    "predictions_ct = annotate(test, model = 'New Models/CT_45 Models/ct_model_0.pkl', majority_voting = True)\n",
    "predictions_ct.predicted_labels\n",
    "pred_adatact = predictions_ct.to_adata()"
   ]
  },
  {
   "cell_type": "code",
   "execution_count": null,
   "id": "e774ce29-e0b6-4f24-bc4e-00be76a91d13",
   "metadata": {
    "tags": []
   },
   "outputs": [],
   "source": [
    "#pred_adatact.write_h5ad('/data/peer/adamsj5/cell_typing/Data with Predictions/pred_modelct.h5ad')\n",
    "pred_adatact= ad.read('/data/peer/adamsj5/cell_typing/Data with Predictions/pred_modelct.h5ad')"
   ]
  },
  {
   "cell_type": "markdown",
   "id": "79e82838-7411-44c5-9a48-30a5ae387861",
   "metadata": {
    "jp-MarkdownHeadingCollapsed": true,
    "tags": []
   },
   "source": [
    "##### Model 1"
   ]
  },
  {
   "cell_type": "code",
   "execution_count": null,
   "id": "10f9c155-ef72-43ff-b324-6472a14b1b4f",
   "metadata": {},
   "outputs": [],
   "source": [
    "predictions_1 = annotate(test, model = 'New Models/CT_45 Models/ct_model_1.pkl', majority_voting = True)\n",
    "predictions_1.predicted_labels"
   ]
  },
  {
   "cell_type": "code",
   "execution_count": null,
   "id": "e04da4d7-1c0b-4028-a054-53d72981cbc5",
   "metadata": {},
   "outputs": [],
   "source": [
    "pred_adata1 = predictions_1.to_adata()\n",
    "pred_adata1.write_h5ad('/data/peer/adamsj5/cell_typing/pred_model1.h5ad')"
   ]
  },
  {
   "cell_type": "markdown",
   "id": "0b2e0318-a609-4e92-b905-92a87a7349b3",
   "metadata": {},
   "source": [
    "##### Model 2"
   ]
  },
  {
   "cell_type": "code",
   "execution_count": null,
   "id": "bd02f1ac-0a83-45ae-a80c-abbc23e444fe",
   "metadata": {
    "tags": []
   },
   "outputs": [],
   "source": [
    "predictions_2 = annotate(test, model = 'New Models/CT_45 Models/ct_model_2.pkl', majority_voting = True)\n",
    "predictions_2.predicted_labels\n",
    "pred_adata2 = predictions_2.to_adata()"
   ]
  },
  {
   "cell_type": "code",
   "execution_count": null,
   "id": "3de224b0-51a0-4ea5-841f-43eef71edbfe",
   "metadata": {
    "tags": []
   },
   "outputs": [],
   "source": [
    "#pred_adata2.write_h5ad('/data/peer/adamsj5/cell_typing/Data with Predictions/pred_model2.h5ad')\n",
    "pred_adata2= ad.read('/data/peer/adamsj5/cell_typing/Data with Predictions/pred_model2.h5ad')"
   ]
  },
  {
   "cell_type": "markdown",
   "id": "f53e37b0-87dd-43e8-ab55-2025a2e6d2bd",
   "metadata": {},
   "source": [
    "##### Model 3"
   ]
  },
  {
   "cell_type": "code",
   "execution_count": null,
   "id": "a8a1b849-c873-458b-9f9f-5409db85891f",
   "metadata": {},
   "outputs": [],
   "source": [
    "predictions_3 = annotate(test, model = 'New Models/CT_45 Models/ct_model_3.pkl', majority_voting = True)\n",
    "predictions_3.predicted_labels\n",
    "pred_adata3 = predictions_3.to_adata()"
   ]
  },
  {
   "cell_type": "code",
   "execution_count": null,
   "id": "ce877518-1fad-4e81-bee9-1c1aa636c35e",
   "metadata": {
    "tags": []
   },
   "outputs": [],
   "source": [
    "#pred_adata3.write_h5ad('/data/peer/adamsj5/cell_typing/Data with Predictions/pred_model3.h5ad')\n",
    "pred_adata3= ad.read('/data/peer/adamsj5/cell_typing/Data with Predictions/pred_model3.h5ad')"
   ]
  },
  {
   "cell_type": "markdown",
   "id": "001709b7-af33-425c-98ec-bc61cab1da1b",
   "metadata": {},
   "source": [
    "##### Model 4"
   ]
  },
  {
   "cell_type": "code",
   "execution_count": null,
   "id": "525d93af-53f8-43c7-943d-043a8a0acc2b",
   "metadata": {},
   "outputs": [],
   "source": [
    "predictions_4 = annotate(test, model = 'New Models/CT_45 Models/ct_model_4.pkl', majority_voting = True)\n",
    "predictions_4.predicted_labels\n",
    "pred_adata4 = predictions_4.to_adata()"
   ]
  },
  {
   "cell_type": "code",
   "execution_count": null,
   "id": "84e48b64-b84a-4713-8228-ee224b6c3261",
   "metadata": {
    "tags": []
   },
   "outputs": [],
   "source": [
    "#pred_adata4.write_h5ad('/data/peer/adamsj5/cell_typing/Data with Predictions/pred_model4.h5ad')\n",
    "pred_adata4= ad.read('/data/peer/adamsj5/cell_typing/Data with Predictions/pred_model4.h5ad')"
   ]
  },
  {
   "cell_type": "markdown",
   "id": "918dc256-0286-4192-b374-3afa3ddbd755",
   "metadata": {},
   "source": [
    "##### Model 5"
   ]
  },
  {
   "cell_type": "code",
   "execution_count": null,
   "id": "cf998d70-e6e5-4676-be06-b1ab642aab11",
   "metadata": {
    "tags": []
   },
   "outputs": [],
   "source": [
    "predictions_5 = annotate(test, model = 'New Models/CT_45 Models/ct_model_5.pkl', majority_voting = True)\n",
    "predictions_5.predicted_labels\n",
    "pred_adata5 = predictions_5.to_adata()"
   ]
  },
  {
   "cell_type": "code",
   "execution_count": null,
   "id": "a23df698-5fc7-4cb9-97c5-81cdb8ff9356",
   "metadata": {
    "tags": []
   },
   "outputs": [],
   "source": [
    "#pred_adata5.write_h5ad('/data/peer/adamsj5/cell_typing/Data with Predictions/pred_model5.h5ad')\n",
    "pred_adata5= ad.read('/data/peer/adamsj5/cell_typing/Data with Predictions/pred_model4.h5ad')"
   ]
  },
  {
   "cell_type": "markdown",
   "id": "f279e80a-06ce-4750-bcd5-5819c0509352",
   "metadata": {
    "tags": []
   },
   "source": [
    "### Using CT_98 Models"
   ]
  },
  {
   "cell_type": "code",
   "execution_count": 2,
   "id": "3028dcfc-154c-4c85-9324-11591dd3ee64",
   "metadata": {},
   "outputs": [],
   "source": [
    "#Import test data - subset of CT_98 data \n",
    "test_98= ad.read('/data/peer/adamsj5/cell_typing/CT_98_Test.h5ad')"
   ]
  },
  {
   "cell_type": "markdown",
   "id": "8161c97b-30bf-4a28-865d-8520fd674db0",
   "metadata": {},
   "source": [
    "Model 1"
   ]
  },
  {
   "cell_type": "code",
   "execution_count": null,
   "id": "9f622f5a-071f-4bda-bfb2-b633e152a29f",
   "metadata": {
    "tags": []
   },
   "outputs": [],
   "source": [
    "predictions_98_0 = annotate(test_98, model = 'New Models/CT_98 Models/98_model_0.pkl', majority_voting = True)\n",
    "#predictions_4.predicted_labels\n",
    "pred_adata98_0 = predictions_98_0.to_adata()"
   ]
  },
  {
   "cell_type": "code",
   "execution_count": null,
   "id": "5ab077f6-4b61-41af-8375-4aa9be8cb7b6",
   "metadata": {
    "tags": []
   },
   "outputs": [],
   "source": [
    "pred_adata98_0.write_h5ad('/data/peer/adamsj5/cell_typing/Data with Predictions/pred_98_model0.h5ad')\n",
    "#pred_adata98_0 = ad.read('/data/peer/adamsj5/cell_typing/Data with Predictions/pred_98_model0.h5ad')"
   ]
  },
  {
   "cell_type": "markdown",
   "id": "b862cedc-669a-4f8e-9b5c-b66819aaadc3",
   "metadata": {},
   "source": [
    "Model 2"
   ]
  },
  {
   "cell_type": "code",
   "execution_count": null,
   "id": "f43a9393-8dc7-4997-83de-d125f21a94e3",
   "metadata": {},
   "outputs": [],
   "source": [
    "predictions_98_2 = annotate(test_98, model = 'New Models/CT_98 Models/98_model_2.pkl', majority_voting = True)\n",
    "pred_adata98_2 = predictions_98_2.to_adata()"
   ]
  },
  {
   "cell_type": "code",
   "execution_count": null,
   "id": "4f49c2de-c9b1-4ed6-8957-2a1dc9ef4a6e",
   "metadata": {},
   "outputs": [],
   "source": [
    "#pred_adata98_2.write_h5ad('/data/peer/adamsj5/cell_typing/Data with Predictions/pred_98_model2.h5ad')\n",
    "pred_adata98_2 = ad.read('/data/peer/adamsj5/cell_typing/Data with Predictions/pred_98_model2.h5ad')"
   ]
  },
  {
   "cell_type": "markdown",
   "id": "ca13db37-0bb4-459d-b227-de73ce0a4263",
   "metadata": {},
   "source": [
    "Model 3"
   ]
  },
  {
   "cell_type": "code",
   "execution_count": null,
   "id": "214d5594-1add-46be-a4ac-5d23353d2de2",
   "metadata": {},
   "outputs": [],
   "source": [
    "predictions_98_3 = annotate(test_98, model = 'New Models/CT_98 Models/98_model_3.pkl', majority_voting = True)\n",
    "#predictions_4.predicted_labels\n",
    "pred_adata98_3 = predictions_98_3.to_adata()"
   ]
  },
  {
   "cell_type": "code",
   "execution_count": 5,
   "id": "f35fa777-e708-4658-9644-1ad7b984f23a",
   "metadata": {
    "tags": []
   },
   "outputs": [],
   "source": [
    "#pred_adata98_3.write_h5ad('/data/peer/adamsj5/cell_typing/Data with Predictions/pred_98_model3.h5ad')\n",
    "pred_adata98_3 = ad.read('/data/peer/adamsj5/cell_typing/Data with Predictions/pred_98_model3.h5ad')"
   ]
  },
  {
   "cell_type": "markdown",
   "id": "19bdade4-ab47-4391-b149-6b0deaec6078",
   "metadata": {},
   "source": [
    "Model 4"
   ]
  },
  {
   "cell_type": "code",
   "execution_count": 3,
   "id": "b4515f61-e291-4f96-9efc-7d9af8723450",
   "metadata": {},
   "outputs": [
    {
     "name": "stderr",
     "output_type": "stream",
     "text": [
      "⚠️ Warning: invalid expression matrix, expect all genes and log1p normalized expression to 10000 counts per cell. The prediction result may not be accurate\n",
      "🔬 Input data has 540487 cells and 38995 genes\n",
      "🔗 Matching reference genes in the model\n",
      "🧬 7924 features used for prediction\n",
      "⚖️ Scaling input data\n",
      "🖋️ Predicting labels\n",
      "✅ Prediction done!\n",
      "👀 Can not detect a neighborhood graph, will construct one before the over-clustering\n",
      "/home/adamsj5/miniconda3/lib/python3.11/site-packages/umap/distances.py:1063: NumbaDeprecationWarning: The 'nopython' keyword argument was not supplied to the 'numba.jit' decorator. The implicit default value for this argument is currently False, but it will be changed to True in Numba 0.59.0. See https://numba.readthedocs.io/en/stable/reference/deprecation.html#deprecation-of-object-mode-fall-back-behaviour-when-using-jit for details.\n",
      "  @numba.jit()\n",
      "/home/adamsj5/miniconda3/lib/python3.11/site-packages/umap/distances.py:1071: NumbaDeprecationWarning: The 'nopython' keyword argument was not supplied to the 'numba.jit' decorator. The implicit default value for this argument is currently False, but it will be changed to True in Numba 0.59.0. See https://numba.readthedocs.io/en/stable/reference/deprecation.html#deprecation-of-object-mode-fall-back-behaviour-when-using-jit for details.\n",
      "  @numba.jit()\n",
      "/home/adamsj5/miniconda3/lib/python3.11/site-packages/umap/distances.py:1086: NumbaDeprecationWarning: The 'nopython' keyword argument was not supplied to the 'numba.jit' decorator. The implicit default value for this argument is currently False, but it will be changed to True in Numba 0.59.0. See https://numba.readthedocs.io/en/stable/reference/deprecation.html#deprecation-of-object-mode-fall-back-behaviour-when-using-jit for details.\n",
      "  @numba.jit()\n",
      "/home/adamsj5/miniconda3/lib/python3.11/site-packages/tqdm/auto.py:21: TqdmWarning: IProgress not found. Please update jupyter and ipywidgets. See https://ipywidgets.readthedocs.io/en/stable/user_install.html\n",
      "  from .autonotebook import tqdm as notebook_tqdm\n",
      "/home/adamsj5/miniconda3/lib/python3.11/site-packages/umap/umap_.py:660: NumbaDeprecationWarning: The 'nopython' keyword argument was not supplied to the 'numba.jit' decorator. The implicit default value for this argument is currently False, but it will be changed to True in Numba 0.59.0. See https://numba.readthedocs.io/en/stable/reference/deprecation.html#deprecation-of-object-mode-fall-back-behaviour-when-using-jit for details.\n",
      "  @numba.jit()\n",
      "⛓️ Over-clustering input data with resolution set to 30\n",
      "🗳️ Majority voting the predictions\n",
      "✅ Majority voting done!\n"
     ]
    }
   ],
   "source": [
    "predictions_98_4 = annotate(test_98, model = 'New Models/CT_98 Models/98_model_4.pkl', majority_voting = True)\n",
    "#predictions_4.predicted_labels\n",
    "pred_adata98_4 = predictions_98_4.to_adata()"
   ]
  },
  {
   "cell_type": "code",
   "execution_count": 4,
   "id": "14a4aa8d-3521-4eeb-b4ae-533caaa3ae9b",
   "metadata": {
    "tags": []
   },
   "outputs": [],
   "source": [
    "#pred_adata98_4.write_h5ad('/data/peer/adamsj5/cell_typing/Data with Predictions/pred_98_model4.h5ad')\n",
    "pred_adata98_4 = ad.read('/data/peer/adamsj5/cell_typing/Data with Predictions/pred_98_model4.h5ad')"
   ]
  },
  {
   "cell_type": "markdown",
   "id": "82722fed-281b-427a-9bc4-cb4a64490425",
   "metadata": {},
   "source": [
    "Model 5"
   ]
  },
  {
   "cell_type": "code",
   "execution_count": null,
   "id": "400c7952-9b16-438f-9e14-888adbd34ff6",
   "metadata": {},
   "outputs": [],
   "source": [
    "predictions_98_5 = annotate(test_98, model = 'New Models/CT_98 Models/98_model_5.pkl', majority_voting = True)\n",
    "#predictions_5.predicted_labels"
   ]
  },
  {
   "cell_type": "code",
   "execution_count": null,
   "id": "5215d205-e578-410c-a46c-41a735650865",
   "metadata": {},
   "outputs": [],
   "source": [
    "pred_adata98_5.write_h5ad('/data/peer/adamsj5/cell_typing/Data with Predictions/pred_98_model5.h5ad')\n",
    "#pred_adata98_5 = ad.read('/data/peer/adamsj5/cell_typing/Data with Predictions/pred_98_model5.h5ad')"
   ]
  },
  {
   "cell_type": "markdown",
   "id": "8f2b0558-ab9e-47ba-a4d8-4278927c32e9",
   "metadata": {
    "jp-MarkdownHeadingCollapsed": true,
    "tags": []
   },
   "source": [
    "### Using COV_PBMC Models"
   ]
  },
  {
   "cell_type": "code",
   "execution_count": null,
   "id": "1fb05d27-662e-4282-ae7a-d33493f0729f",
   "metadata": {
    "tags": []
   },
   "outputs": [],
   "source": [
    "#Import test data - subset of CT_98 data \n",
    "test_COV= ad.read('/data/peer/adamsj5/cell_typing/test_COV.h5ad')"
   ]
  },
  {
   "cell_type": "markdown",
   "id": "043a07f8-30da-403b-8179-cb50b2f26d6d",
   "metadata": {},
   "source": [
    "Model 0"
   ]
  },
  {
   "cell_type": "code",
   "execution_count": null,
   "id": "85b8a8a9-7ad3-4c66-b75b-6244c77bbdf6",
   "metadata": {
    "tags": []
   },
   "outputs": [],
   "source": [
    "predictions_COV_0 = ct.annotate(test_COV, model = 'New Models/COV_PBMC Models/COV_model_0.pkl', majority_voting = True)\n",
    "#predictions_4.predicted_labels\n",
    "pred_adataCOV_0 = predictions_COV_0.to_adata()\n",
    "pred_adataCOV_0.write_h5ad('/data/peer/adamsj5/cell_typing/Data with Predictions/pred_COV_model0.h5ad')"
   ]
  },
  {
   "cell_type": "markdown",
   "id": "d128aa54-d8dc-4b36-b30d-f7923b538732",
   "metadata": {},
   "source": [
    "Model 2"
   ]
  },
  {
   "cell_type": "code",
   "execution_count": null,
   "id": "6ea6accd-6353-434d-8395-2d5a0f8db0f6",
   "metadata": {
    "tags": []
   },
   "outputs": [],
   "source": [
    "predictions_COV_2 = ct.annotate(test_COV, model = 'New Models/COV_PBMC Models/COV_model_2.pkl', majority_voting = True)\n",
    "#predictions_4.predicted_labels\n",
    "pred_adataCOV_2 = predictions_COV_2.to_adata()\n",
    "pred_adataCOV_2.write_h5ad('/data/peer/adamsj5/cell_typing/Data with Predictions/pred_COV_model2.h5ad')"
   ]
  },
  {
   "cell_type": "markdown",
   "id": "99181af9-0716-442a-92a9-5b117a7c2c33",
   "metadata": {},
   "source": [
    "Model 3"
   ]
  },
  {
   "cell_type": "code",
   "execution_count": null,
   "id": "ea47a8d1-6970-4a15-8787-061a13ae9fa7",
   "metadata": {
    "tags": []
   },
   "outputs": [],
   "source": [
    "predictions_COV_3 = ct.annotate(test_COV, model = 'New Models/COV_PBMC Models/COV_model_3.pkl', majority_voting = True)\n",
    "#predictions_COV_4.predicted_labels\n",
    "pred_adataCOV_3 = predictions_COV_3.to_adata()\n",
    "pred_adataCOV_3.write_h5ad('/data/peer/adamsj5/cell_typing/Data with Predictions/pred_COV_model3.h5ad')"
   ]
  },
  {
   "cell_type": "code",
   "execution_count": null,
   "id": "30affe19-4545-48e8-a37d-6a7991449a24",
   "metadata": {
    "tags": []
   },
   "outputs": [],
   "source": [
    "#making sure the f1 score is the same if we use dataset with all genes vs just cytopus genes \n",
    "#predictions_COV_cp_3 = ct.annotate(test_COV_cp, model = 'New Models/COV_PBMC Models/COV_model_3.pkl', majority_voting = True)\n",
    "#predictions_COV_3.predicted_labels\n",
    "#pred_adataCOV_cp_3 = predictions_COV_cp_3.to_adata()\n",
    "#pred_adataCOV_cp_3.write_h5ad('/data/peer/adamsj5/cell_typing/Data with Predictions/pred_COV_cp_model3.h5ad')"
   ]
  },
  {
   "cell_type": "markdown",
   "id": "39fd57d8-c6f3-4ed0-8c70-8d2ad2621abc",
   "metadata": {},
   "source": [
    "Model 4"
   ]
  },
  {
   "cell_type": "code",
   "execution_count": null,
   "id": "e2e4bd32-d214-4da9-93b8-7dbc5e93225e",
   "metadata": {},
   "outputs": [],
   "source": [
    "predictions_COV_4 = ct.annotate(test_COV, model = 'New Models/COV_PBMC Models/COV_model_4.pkl', majority_voting = True)\n",
    "#predictions_4.predicted_labels\n",
    "pred_adataCOV_4 = predictions_COV_4.to_adata()\n",
    "pred_adataCOV_4.write_h5ad('/data/peer/adamsj5/cell_typing/Data with Predictions/predictions/pred_COV_model4.h5ad')"
   ]
  },
  {
   "cell_type": "markdown",
   "id": "f142b3e4-d4cb-491b-a0a6-68e87184d9e5",
   "metadata": {
    "jp-MarkdownHeadingCollapsed": true,
    "tags": []
   },
   "source": [
    "### Using Glasner Models"
   ]
  },
  {
   "cell_type": "code",
   "execution_count": null,
   "id": "38282bfe-fdac-44d3-bc2e-a8eb4897e097",
   "metadata": {
    "tags": []
   },
   "outputs": [],
   "source": [
    "#Import test data \n",
    "test_g= ad.read('/data/peer/adamsj5/cell_typing/test_glas.h5ad') #lilac location"
   ]
  },
  {
   "cell_type": "markdown",
   "id": "7dc24172-5a7d-420c-a4af-a73d11067f90",
   "metadata": {},
   "source": [
    "Model 0"
   ]
  },
  {
   "cell_type": "code",
   "execution_count": null,
   "id": "84b64e98-dcab-4e54-9306-2f1cad7f7f5e",
   "metadata": {
    "tags": []
   },
   "outputs": [],
   "source": [
    "predictions_g_0 = annotate(test_g, model = 'New Models/Glasner Models/g_model_0.pkl', majority_voting = True)\n",
    "pred_adatag_0 = predictions_g_0.to_adata()\n",
    "#pred_adatag_0.obs[\"predicted_labels\"] = predictions_g_0.predicted_labels[\"predicted_labels\"]"
   ]
  },
  {
   "cell_type": "code",
   "execution_count": null,
   "id": "ea23e1a5-8533-42de-8e08-526ff7514642",
   "metadata": {
    "tags": []
   },
   "outputs": [],
   "source": [
    "#pred_adatag_0.write_h5ad('/data/peer/adamsj5/cell_typing/Data with Predictions/pred_g_model0.h5ad')\n",
    "pred_adatag_0 = ad.read('/data/peer/adamsj5/cell_typing/Data with Predictions/pred_g_model0.h5ad')"
   ]
  },
  {
   "cell_type": "markdown",
   "id": "055bbab6-8cd7-4f6a-83e6-561d608d1b83",
   "metadata": {},
   "source": [
    "Model 2"
   ]
  },
  {
   "cell_type": "code",
   "execution_count": null,
   "id": "aa38ed27-44ee-45e5-b277-566157c4d944",
   "metadata": {
    "tags": []
   },
   "outputs": [],
   "source": [
    "predictions_g_2 = annotate(test_g, model = 'New Models/Glasner Models/g_model_2.pkl', majority_voting = True)\n",
    "pred_adatag_2 = predictions_g_2.to_adata()\n",
    "#pred_adatag_2.obs[\"predicted_labels\"] = predictions_g_2.predicted_labels[\"predicted_labels\"]"
   ]
  },
  {
   "cell_type": "code",
   "execution_count": null,
   "id": "4cb3563a-8f44-4a6c-a545-5a16a095ca6a",
   "metadata": {
    "tags": []
   },
   "outputs": [],
   "source": [
    "#pred_adatag_2.write_h5ad('/data/peer/adamsj5/cell_typing/Data with Predictions/pred_g_model2.h5ad')\n",
    "pred_adatag_2 = ad.read('/data/peer/adamsj5/cell_typing/Data with Predictions/pred_g_model2.h5ad')"
   ]
  },
  {
   "cell_type": "markdown",
   "id": "80e4e6c7-10e5-4310-802c-477a95cb3ed7",
   "metadata": {},
   "source": [
    "Model 3"
   ]
  },
  {
   "cell_type": "code",
   "execution_count": null,
   "id": "93a200be-4617-47a0-a60f-80c880a59714",
   "metadata": {
    "tags": []
   },
   "outputs": [],
   "source": [
    "predictions_g_3 = annotate(test_g, model = 'New Models/Glasner Models/g_model_3.pkl', majority_voting = True)\n",
    "pred_adatag_3 = predictions_g_3.to_adata()"
   ]
  },
  {
   "cell_type": "code",
   "execution_count": null,
   "id": "2aa39211-2acc-4be7-b407-d5d5d66a9f63",
   "metadata": {
    "tags": []
   },
   "outputs": [],
   "source": [
    "#pred_adatag_3.write_h5ad('/data/peer/adamsj5/cell_typing/Data with Predictions/pred_g_model3.h5ad')\n",
    "pred_adatag_3 = ad.read('/data/peer/adamsj5/cell_typing/Data with Predictions/pred_g_model3.h5ad')"
   ]
  },
  {
   "cell_type": "markdown",
   "id": "0bfcd79e-e2d5-48df-a563-ca844bb73b6f",
   "metadata": {},
   "source": [
    "Model 4"
   ]
  },
  {
   "cell_type": "code",
   "execution_count": null,
   "id": "e503605e-459e-4c13-b931-99685d415292",
   "metadata": {
    "tags": []
   },
   "outputs": [],
   "source": [
    "predictions_g_4 = annotate(test_g, model = 'New Models/Glasner Models/g_model_4.pkl', majority_voting = True)\n",
    "pred_adatag_4 = predictions_g_4.to_adata()"
   ]
  },
  {
   "cell_type": "code",
   "execution_count": null,
   "id": "ec39d742-42a6-45d0-bc55-451a916e0fd9",
   "metadata": {
    "tags": []
   },
   "outputs": [],
   "source": [
    "#pred_adatag_4.write_h5ad('/data/peer/adamsj5/cell_typing/Data with Predictions/pred_g_model4.h5ad')\n",
    "pred_adatag_4 = ad.read('/data/peer/adamsj5/cell_typing/Data with Predictions/pred_g_model4.h5ad')"
   ]
  },
  {
   "cell_type": "markdown",
   "id": "19bdd562-14d9-4843-b571-69c223f9bd43",
   "metadata": {},
   "source": [
    "Model 5"
   ]
  },
  {
   "cell_type": "code",
   "execution_count": null,
   "id": "49bfa848-ea44-43c3-b43a-c0d4b5f0a1c8",
   "metadata": {
    "tags": []
   },
   "outputs": [],
   "source": [
    "predictions_g_5 = annotate(test_g, model = 'New Models/Glasner Models/g_model_5.pkl', majority_voting = True)\n",
    "pred_adatag_5 = predictions_g_5.to_adata()"
   ]
  },
  {
   "cell_type": "code",
   "execution_count": null,
   "id": "9b1f3a1d-c593-4762-924e-85d589a50d49",
   "metadata": {
    "tags": []
   },
   "outputs": [],
   "source": [
    "#pred_adatag_5.write_h5ad('/data/peer/adamsj5/cell_typing/Data with Predictions/pred_g_model5.h5ad')\n",
    "pred_adatag_5 = ad.read('/data/peer/adamsj5/cell_typing/Data with Predictions/pred_g_model5.h5ad')"
   ]
  },
  {
   "cell_type": "markdown",
   "id": "30c231ac-5ea9-4122-8f38-1a05a359d6c6",
   "metadata": {
    "tags": []
   },
   "source": [
    "## Benchmarking\n",
    "### F1 scores\n",
    "Abdelaal et al. used median F1 scores as their primary statistic"
   ]
  },
  {
   "cell_type": "markdown",
   "id": "d44cc763-3977-4627-89be-1837df3299ca",
   "metadata": {
    "jp-MarkdownHeadingCollapsed": true,
    "tags": []
   },
   "source": [
    "#### Train & Test on CT_45"
   ]
  },
  {
   "cell_type": "code",
   "execution_count": null,
   "id": "7bbe5885-b3eb-4443-84f5-0cfb9140f027",
   "metadata": {
    "tags": []
   },
   "outputs": [],
   "source": [
    "#og celltypist  - 0.884\n",
    "np.median(f1_score(pred_adatact.obs[\"Manually_curated_celltype\"], pred_adatact.obs[\"predicted_labels\"], average=None))"
   ]
  },
  {
   "cell_type": "code",
   "execution_count": null,
   "id": "c225960d-b079-4c56-ba20-e338c8aa9bfe",
   "metadata": {},
   "outputs": [],
   "source": [
    "#model 1 - cant get it to run, gets stuck on Scaling for too long \n",
    "#np.median(f1_score(pred_adata1.obs[\"Manually_curated_celltype\"], pred_adata1.obs[\"predicted_labels\"], average=None))"
   ]
  },
  {
   "cell_type": "code",
   "execution_count": null,
   "id": "ad797106-f025-4509-984d-0f455b7a5360",
   "metadata": {
    "tags": []
   },
   "outputs": [],
   "source": [
    "#model 2  - 0.762\n",
    "np.median(f1_score(pred_adata2.obs[\"Manually_curated_celltype\"], pred_adata2.obs[\"predicted_labels\"], average=None))"
   ]
  },
  {
   "cell_type": "code",
   "execution_count": null,
   "id": "16fbefaf-6190-4e38-80fb-b8e82fd56f0f",
   "metadata": {
    "tags": []
   },
   "outputs": [],
   "source": [
    "#model 3  - 0.791\n",
    "np.median(f1_score(pred_adata3.obs[\"Manually_curated_celltype\"], pred_adata3.obs[\"predicted_labels\"], average=None))"
   ]
  },
  {
   "cell_type": "code",
   "execution_count": null,
   "id": "60ff92e4-a52d-4c10-adfd-6131687c3c32",
   "metadata": {
    "tags": []
   },
   "outputs": [],
   "source": [
    "#model 4 - 0.887\n",
    "np.median(f1_score(pred_adata4.obs[\"Manually_curated_celltype\"], pred_adata4.obs[\"predicted_labels\"], average = None))"
   ]
  },
  {
   "cell_type": "code",
   "execution_count": null,
   "id": "354bd88d-b7ce-4654-81fd-8a835f9d089f",
   "metadata": {
    "tags": []
   },
   "outputs": [],
   "source": [
    "#model 5 - 0.874\n",
    "np.median(f1_score(pred_adata5.obs[\"Manually_curated_celltype\"], pred_adata5.obs[\"predicted_labels\"], average = None))"
   ]
  },
  {
   "cell_type": "markdown",
   "id": "f57f2076-b039-4e97-99dd-88071ab80712",
   "metadata": {
    "jp-MarkdownHeadingCollapsed": true,
    "tags": []
   },
   "source": [
    "#### Train & Test on CT_98"
   ]
  },
  {
   "cell_type": "code",
   "execution_count": null,
   "id": "38ffd8f0-f4ec-4b99-b030-60c19c83c9fc",
   "metadata": {},
   "outputs": [],
   "source": [
    "#og celltypist  - 0.813\n",
    "np.median(f1_score(pred_adata98_0.obs[\"Harmonised_detailed_type\"], pred_adata98_0.obs[\"predicted_labels\"], average=None))"
   ]
  },
  {
   "cell_type": "code",
   "execution_count": null,
   "id": "968f8519-e483-4671-8dde-5f0e2b51e299",
   "metadata": {},
   "outputs": [],
   "source": [
    "#model 2  - 0.508\n",
    "np.median(f1_score(pred_adata98_2.obs[\"Harmonised_detailed_type\"], pred_adata98_2.obs[\"predicted_labels\"], average=None))"
   ]
  },
  {
   "cell_type": "code",
   "execution_count": 6,
   "id": "7bd74135-d897-4fe2-a39a-6c251e12af39",
   "metadata": {},
   "outputs": [
    {
     "data": {
      "text/plain": [
       "0.43357836138259687"
      ]
     },
     "execution_count": 6,
     "metadata": {},
     "output_type": "execute_result"
    }
   ],
   "source": [
    "#model 3  - 0.434?\n",
    "np.median(f1_score(pred_adata98_3.obs[\"Harmonised_detailed_type\"], pred_adata98_3.obs[\"predicted_labels\"], average=None))"
   ]
  },
  {
   "cell_type": "code",
   "execution_count": 7,
   "id": "22f77246-eadf-4c16-b73a-ef0af04aeffe",
   "metadata": {},
   "outputs": [
    {
     "data": {
      "text/plain": [
       "0.8059130606080505"
      ]
     },
     "execution_count": 7,
     "metadata": {},
     "output_type": "execute_result"
    }
   ],
   "source": [
    "#model 4 - 0.806?\n",
    "np.median(f1_score(pred_adata98_4.obs[\"Harmonised_detailed_type\"], pred_adata98_4.obs[\"predicted_labels\"], average = None))"
   ]
  },
  {
   "cell_type": "code",
   "execution_count": null,
   "id": "9caabc94-128a-4701-9f65-0e94958f1868",
   "metadata": {},
   "outputs": [],
   "source": [
    "#model 5 -\n",
    "np.median(f1_score(pred_adata98_5.obs[\"Harmonised_detailed_type\"], pred_adata98_5.obs[\"predicted_labels\"], average = None))"
   ]
  },
  {
   "cell_type": "markdown",
   "id": "580ee3c7-2418-400e-ba16-2330a9670b81",
   "metadata": {
    "jp-MarkdownHeadingCollapsed": true,
    "tags": []
   },
   "source": [
    "#### Train & Test on COV_PBMC"
   ]
  },
  {
   "cell_type": "code",
   "execution_count": null,
   "id": "03ccf0fc-4246-4dd4-bd6d-22d774cfd883",
   "metadata": {},
   "outputs": [],
   "source": [
    "#og celltypist model - 0.609\n",
    "np.median(f1_score(pred_adataCOV_0.obs[\"full_clustering\"], pred_adataCOV_0.obs[\"predicted_labels\"], average=None))"
   ]
  },
  {
   "cell_type": "code",
   "execution_count": null,
   "id": "40ab3852-87d5-40c1-aa87-796d119ee3ef",
   "metadata": {
    "tags": []
   },
   "outputs": [],
   "source": [
    "#model 2  - \n",
    "np.median(f1_score(pred_adataCOV_2.obs[\"full_clustering\"], pred_adataCOV_2.obs[\"predicted_labels\"], average=None))"
   ]
  },
  {
   "cell_type": "code",
   "execution_count": null,
   "id": "41e4860e-b576-48ac-8368-2d70d0594f0b",
   "metadata": {
    "tags": []
   },
   "outputs": [],
   "source": [
    "#model 3 - 0.507\n",
    "np.median(f1_score(pred_adataCOV_3.obs[\"full_clustering\"], pred_adataCOV_3.obs[\"predicted_labels\"], average=None))"
   ]
  },
  {
   "cell_type": "code",
   "execution_count": null,
   "id": "decd43f1-6686-4dc0-8368-ff69cab5b081",
   "metadata": {
    "tags": []
   },
   "outputs": [],
   "source": [
    "#model 3 cytopus genes dataset to make sure they are the same - 0.507\n",
    "np.median(f1_score(pred_adataCOV_cp_3.obs[\"full_clustering\"], pred_adataCOV_cp_3.obs[\"predicted_labels\"], average=None))"
   ]
  },
  {
   "cell_type": "code",
   "execution_count": null,
   "id": "637ea315-2e60-4b52-98e1-a65e93ea00b3",
   "metadata": {},
   "outputs": [],
   "source": [
    "#model 4 - \n",
    "np.median(f1_score(pred_adataCOV_4.obs[\"full_clustering\"], pred_adataCOV_4.obs[\"predicted_labels\"], average = None))"
   ]
  },
  {
   "cell_type": "markdown",
   "id": "7e84cc99-809f-41d0-b4a5-0d94bde6e08e",
   "metadata": {
    "jp-MarkdownHeadingCollapsed": true,
    "tags": []
   },
   "source": [
    "#### Train & Test on Glasner"
   ]
  },
  {
   "cell_type": "code",
   "execution_count": null,
   "id": "c73b51ba-ea55-451b-a139-21f9be3fe659",
   "metadata": {
    "tags": []
   },
   "outputs": [],
   "source": [
    "#og celltypist model - 0.254\n",
    "np.median(f1_score(pred_adatag_0.obs[\"finer_cell_types\"],pred_adatag_0.obs[\"predicted_labels\"], average=None))"
   ]
  },
  {
   "cell_type": "code",
   "execution_count": null,
   "id": "86639711-c6b9-4b02-a175-81e6eda21c1b",
   "metadata": {
    "tags": []
   },
   "outputs": [],
   "source": [
    "#model 2 - 0.396\n",
    "np.median(f1_score(pred_adatag_2.obs[\"finer_cell_types\"],pred_adatag_2.obs[\"predicted_labels\"], average=None))"
   ]
  },
  {
   "cell_type": "code",
   "execution_count": null,
   "id": "33350ea5-a64a-410e-8be4-83858d5dc0aa",
   "metadata": {
    "tags": []
   },
   "outputs": [],
   "source": [
    "#model 3 - 0.597\n",
    "np.median(f1_score(pred_adatag_3.obs[\"finer_cell_types\"],pred_adatag_3.obs[\"predicted_labels\"], average=None))"
   ]
  },
  {
   "cell_type": "code",
   "execution_count": null,
   "id": "226021bd-4475-4a8d-86be-6120fb3e7b96",
   "metadata": {
    "tags": []
   },
   "outputs": [],
   "source": [
    "#model 4 - 0.215\n",
    "np.median(f1_score(pred_adatag_4.obs[\"finer_cell_types\"], pred_adatag_4.obs[\"predicted_labels\"], average = None))"
   ]
  },
  {
   "cell_type": "code",
   "execution_count": null,
   "id": "518238d6-0b7b-4dca-ade6-aedc2dedc7ea",
   "metadata": {
    "tags": []
   },
   "outputs": [],
   "source": [
    "#model 5 - \n",
    "np.median(f1_score(pred_adatag_5.obs[\"finer_cell_types\"], pred_adatag_5.obs[\"predicted_labels\"], average = None))"
   ]
  },
  {
   "cell_type": "markdown",
   "id": "15a06dc6-19ae-4768-8569-ae1b8df133db",
   "metadata": {},
   "source": [
    "## Plotting"
   ]
  },
  {
   "cell_type": "markdown",
   "id": "1be35364-c388-4b65-856e-e2c662cca368",
   "metadata": {
    "jp-MarkdownHeadingCollapsed": true,
    "tags": []
   },
   "source": [
    "### Stacked barplots"
   ]
  },
  {
   "cell_type": "code",
   "execution_count": null,
   "id": "6d981704-14e6-419a-942f-116ef193e372",
   "metadata": {
    "tags": []
   },
   "outputs": [],
   "source": [
    "def make_stacked_barplot(orig, pred, title):\n",
    "    \"\"\"\n",
    "    Function that transforms data into a format needed for a stacked bar plot then makes said plot\n",
    "    \n",
    "    orig - list \n",
    "        - obs column that has the original (truth) cell type annotations\n",
    "        eg: pred_adatag_0.obs[\"finer_cell_types\"]}\n",
    "    pred - list\n",
    "        - obs column that has the predicted cell type annotations\n",
    "        eg: predictions_g_0.predicted_labels[\"predicted_labels\"].cat.categories\n",
    "    title - title for the plot \n",
    "    \"\"\"\n",
    "    celltypes = celltypes ={\"original\":orig, \"predicted\": pred}\n",
    "    df_lists = pd.DataFrame(data = celltypes)\n",
    "    counts_df = pd.DataFrame(data = {\"original\":orig.cat.categories})\n",
    "    for x in pred.cat.categories: \n",
    "        #print(x)\n",
    "        df = df_lists.loc[df_lists['original'] == x]\n",
    "        labels = []\n",
    "        counts = []\n",
    "        for y in orig.cat.categories:\n",
    "            labels.append(y)\n",
    "            if y in pred.cat.categories:\n",
    "                count = df['predicted'].value_counts()[y]\n",
    "                #print(count)\n",
    "                counts.append(count)\n",
    "            else: \n",
    "                counts.append(0)\n",
    "        #print(counts)\n",
    "        df_1orig = pd.DataFrame(data = {\"original\": labels, x: counts})\n",
    "        #print(df_1orig)\n",
    "        counts_df = pd.merge(counts_df, df_1orig, on ='original')\n",
    "    counts_df\n",
    "    counts_df.plot.bar(x = 'original', title = title, stacked=True, figsize = (14,9), colormap = 'gist_ncar')\n",
    "    plt.legend(loc=(1.04, 0))\n",
    "        "
   ]
  },
  {
   "cell_type": "markdown",
   "id": "af530f1d-e817-43f1-bfef-4bfbdd1eb274",
   "metadata": {
    "jp-MarkdownHeadingCollapsed": true,
    "tags": []
   },
   "source": [
    "#### CT_45"
   ]
  },
  {
   "cell_type": "code",
   "execution_count": null,
   "id": "335517ab-68f7-4fc6-a671-6b0858eeea8e",
   "metadata": {
    "tags": []
   },
   "outputs": [],
   "source": [
    "make_stacked_barplot(orig= pred_adatact.obs[\"Manually_curated_celltype\"], pred = pred_adatact.obs[\"predicted_labels\"], title = \"CT_45 0 - 0.884\" )"
   ]
  },
  {
   "cell_type": "code",
   "execution_count": null,
   "id": "c682c1fc-1148-4cf5-ae0e-3ab9622e9861",
   "metadata": {
    "tags": []
   },
   "outputs": [],
   "source": [
    "make_stacked_barplot(orig= pred_adata2.obs[\"Manually_curated_celltype\"], pred = pred_adata2.obs[\"predicted_labels\"], title = \"CT_45 2 - 0.762\" )"
   ]
  },
  {
   "cell_type": "code",
   "execution_count": null,
   "id": "60ed0ba4-3e45-4573-ac24-1368a71d1345",
   "metadata": {
    "tags": []
   },
   "outputs": [],
   "source": [
    "make_stacked_barplot(orig= pred_adata3.obs[\"Manually_curated_celltype\"], pred = pred_adata3.obs[\"predicted_labels\"], title = \"CT_45 3 - 0.791\" )"
   ]
  },
  {
   "cell_type": "code",
   "execution_count": null,
   "id": "a1d08f37-cb3e-429a-82a8-59b714b26da4",
   "metadata": {
    "tags": []
   },
   "outputs": [],
   "source": [
    "make_stacked_barplot(orig= pred_adata4.obs[\"Manually_curated_celltype\"], pred = pred_adata4.obs[\"predicted_labels\"], title = \"CT_45 4 - 0.887\" )"
   ]
  },
  {
   "cell_type": "code",
   "execution_count": null,
   "id": "0d6b75e4-a988-407a-b04b-09149ac3b28b",
   "metadata": {
    "tags": []
   },
   "outputs": [],
   "source": [
    "make_stacked_barplot(orig= pred_adata5.obs[\"Manually_curated_celltype\"], pred = pred_adata5.obs[\"predicted_labels\"], title = \"CT_45 5 - 0.874\" )"
   ]
  },
  {
   "cell_type": "markdown",
   "id": "1a20ff1e-c924-43be-acc3-da83ed44ed3a",
   "metadata": {
    "jp-MarkdownHeadingCollapsed": true,
    "tags": []
   },
   "source": [
    "#### Glasner Data"
   ]
  },
  {
   "cell_type": "code",
   "execution_count": null,
   "id": "83f6c7ac-100c-48bc-b9c4-90396c63ba8c",
   "metadata": {
    "tags": []
   },
   "outputs": [],
   "source": [
    "make_stacked_barplot(orig= pred_adatag_0.obs[\"finer_cell_types\"], pred = pred_adatag_0.obs[\"predicted_labels\"], title = \"Glasner Model 0 - 0.254\" )"
   ]
  },
  {
   "cell_type": "code",
   "execution_count": null,
   "id": "3b484cd0-4d35-4684-96de-3f917f71d69f",
   "metadata": {
    "tags": []
   },
   "outputs": [],
   "source": [
    "make_stacked_barplot(orig= pred_adatag_2.obs[\"finer_cell_types\"], pred = pred_adatag_2.obs[\"predicted_labels\"], title = \"Glasner Model 2 - 0.396\" )"
   ]
  },
  {
   "cell_type": "code",
   "execution_count": null,
   "id": "bfde1c18-2070-4422-8609-a832c854e59c",
   "metadata": {
    "tags": []
   },
   "outputs": [],
   "source": [
    "make_stacked_barplot(orig= pred_adatag_3.obs[\"finer_cell_types\"], pred = pred_adatag_3.obs[\"predicted_labels\"], title = \"Glasner Model 3 - 0.597\" )"
   ]
  },
  {
   "cell_type": "code",
   "execution_count": null,
   "id": "ed545b7e-547d-449a-ad7a-03f79574acec",
   "metadata": {
    "tags": []
   },
   "outputs": [],
   "source": [
    "make_stacked_barplot(orig= pred_adatag_4.obs[\"finer_cell_types\"], pred = pred_adatag_4.obs[\"predicted_labels\"], title = \"Glasner Model 4 - 0.215\" )"
   ]
  },
  {
   "cell_type": "markdown",
   "id": "23cbdce0-cc6b-4bfa-b9da-630c036cc8c0",
   "metadata": {},
   "source": [
    "### Nested Sankey"
   ]
  },
  {
   "cell_type": "code",
   "execution_count": 8,
   "id": "5adfadb9-7f6b-48a2-9980-d063c8024ae6",
   "metadata": {
    "tags": []
   },
   "outputs": [],
   "source": [
    "def assign_nums(df, base_num, col, idx, new_col, index_dict: Optional[dict]  = None, make_dict: bool = True):\n",
    "    \"\"\"\n",
    "    Assigns unique (sequential) numbers/codes to each unique category in a colum \n",
    "    \n",
    "    df - the dataframe (of an AnnData object's obs) \n",
    "    base_num - the number to start assigning codes at - 1\n",
    "    col - which column of the df to find the categories (eg cell type annotations)\n",
    "    idx - ? \n",
    "    new col - a column to make in the df that will hold the same info as col but translated into the new codes\n",
    "    index_dict - An existing dictionary of categories to codes \n",
    "        (Optional, Type = Dict)\n",
    "    make_dict - whether or not to make dict (or use on if passed in)\n",
    "        (Default: True)\n",
    "    \"\"\"\n",
    "    index_list = []\n",
    "    index = int(base_num)\n",
    "    if make_dict:\n",
    "        for x in np.unique(df[col]):\n",
    "            index_list.append([x,index])\n",
    "            index = int(index + 1)\n",
    "        index_dict = dict(index_list)\n",
    "        #print(index_dict)\n",
    "    df[new_col] = np.nan\n",
    "    for i, row in df.iterrows(): \n",
    "        #if idx == 1: \n",
    "        #    cell_type = df.at[i,col]\n",
    "        #elif idx == 2: \n",
    "        #    cell_type = df.at[i,col]\n",
    "        cell_type = df.at[i,col]\n",
    "        df.at[i,new_col] = int(index_dict[cell_type])\n",
    "    if make_dict: \n",
    "        return index_dict"
   ]
  },
  {
   "cell_type": "code",
   "execution_count": 9,
   "id": "18c7b700-4ed0-449b-8d13-616c6a91ce1b",
   "metadata": {
    "tags": []
   },
   "outputs": [],
   "source": [
    "def make_sankey_data(adata, pred_col, acc_col, fxn, num_coarse, num_fine):\n",
    "    \"\"\"\n",
    "    Takes AnnData with predicted labels and turn it into the format a Sankey plot needs\n",
    "    \n",
    "    adata - AnnData with predicted cell type lables\n",
    "    pred_col - name of obs column that holds predicted annotations \n",
    "    acc_col - name of obs column that holds orginal (truth) cell type annotations that model was trained with \n",
    "    fxn - what function for df.apply to use when making cell type annotations more coarse\n",
    "    num_coarse - the number of cell types in the coarse annotation list made by df.apply \n",
    "    num_fine - the number of cell types in the original annotation list \n",
    "    \"\"\"\n",
    "    df = adata.obs\n",
    "    df['acc_coarse'] = df.apply(lambda row: fxn(row, col_name = acc_col), axis=1)\n",
    "    df = df[[ 'acc_coarse', acc_col , pred_col]]\n",
    "    \n",
    "    acc = pd.DataFrame(df.groupby(['acc_coarse', acc_col], as_index=False).size())\n",
    "    pred = pd.DataFrame(df.groupby([acc_col, pred_col],as_index=False).size())\n",
    "    \n",
    "    coarse_dict = assign_nums(acc, 0, 'acc_coarse', 1, 'acc_coarse_nums')\n",
    "    finer_dict = assign_nums(acc, num_coarse+1, acc_col, 2, 'acc_finer_nums')\n",
    "    assign_nums(pred, (num_coarse+1), acc_col, 1, 'acc_finer_nums', finer_dict, make_dict = False)\n",
    "    pred_dict = assign_nums(pred, (num_coarse + num_fine + 1), pred_col, 2, 'pred_finer_nums')\n",
    "    \n",
    "    source = acc['acc_coarse_nums'].tolist()\n",
    "    source.extend(pred['acc_finer_nums'].tolist())\n",
    "    target = acc['acc_finer_nums'].tolist()\n",
    "    target.extend(pred['pred_finer_nums'].tolist())\n",
    "    count = acc['size'].tolist()\n",
    "    count.extend(pred['size'].tolist())\n",
    "     \n",
    "    coarse_dict_keys = list(coarse_dict.keys())\n",
    "    finer_dict_keys = list(finer_dict.keys())\n",
    "    pred_dict_keys = list(pred_dict.keys())\n",
    "    labels = coarse_dict_keys + finer_dict_keys + pred_dict_keys\n",
    "    \n",
    "    return source, target, count, labels"
   ]
  },
  {
   "cell_type": "code",
   "execution_count": 10,
   "id": "f50d82bd-ed03-4218-b780-92bed7f171a0",
   "metadata": {
    "tags": []
   },
   "outputs": [],
   "source": [
    "def make_sankey(source, target, count, labels, width: int = 700, height: int = 500, title: str = 'Sankey Plot'):\n",
    "    \"\"\"\n",
    "    Makes the Nested Sankey plot by plotting using the plotly Sankey function.\n",
    "    \n",
    "    source -\n",
    "    target - \n",
    "    count - \n",
    "    labels - the list of coarse, then original, then predicted cell types to map source and target lists to so the plot has labels\n",
    "    width - \n",
    "    title - title for the plot\n",
    "        (Default\n",
    "    \"\"\"\n",
    "    \n",
    "    fig = go.Figure(data=[go.Sankey(\n",
    "    node = dict(\n",
    "      pad = 15,\n",
    "      thickness = 20,\n",
    "      line = dict(color = \"black\", width = 0.5),\n",
    "      label = labels\n",
    "    ),\n",
    "    link = dict(\n",
    "      source = source, \n",
    "      target = target,\n",
    "      value = count\n",
    "      ))])\n",
    "\n",
    "    fig.update_layout(\n",
    "        autosize=False,\n",
    "        width=width,\n",
    "        height=height, \n",
    "        title = title)\n",
    "    return fig"
   ]
  },
  {
   "cell_type": "code",
   "execution_count": 11,
   "id": "9608aa6f-1a8c-45c9-a785-7b14e31f6fe6",
   "metadata": {
    "tags": []
   },
   "outputs": [],
   "source": [
    "def one_type_sankey(adata, pred_col, acc_col, fxn, show_coarse: bool = True):\n",
    "    \"\"\"\n",
    "    Takes AnnData with predicted labels, focus on just cell type or coarse cell type group, turn it into the format a Sankey plot needs, then turn plot using make_sankey\n",
    "    \n",
    "    adata - AnnData with predicted cell type lables\n",
    "    pred_col - name of obs column that holds predicted annotations \n",
    "    acc_col - name of obs column that holds orginal (truth) cell type annotations that model was trained with \n",
    "    fxn - what function for df.apply to use when making cell type annotations more coarse\n",
    "    show_coarse - whether to plot each coarse cell type (True) or the more granular cell type (False) \n",
    "        (Default: True)\n",
    "    \"\"\"\n",
    "    df = adata.obs\n",
    "    df['acc_coarse'] = df.apply(lambda row: fxn(row, col_name = acc_col), axis=1)\n",
    "    df = df[[ 'acc_coarse', acc_col , pred_col]]\n",
    "    \n",
    "    if show_coarse:\n",
    "        for x in np.unique(df['acc_coarse']):\n",
    "            df_one_type = df.loc[df['acc_coarse'] == x]\n",
    "            acc = pd.DataFrame(df_one_type.groupby(['acc_coarse', acc_col], as_index=False).size())\n",
    "            pred = pd.DataFrame(df_one_type.groupby([acc_col, pred_col],as_index=False).size())\n",
    "\n",
    "\n",
    "            both = pd.merge(acc, pred, on = \"finer_cell_types\")\n",
    "\n",
    "            coarse_dict = assign_nums(both, 0, 'acc_coarse', 1, 'acc_coarse_nums')\n",
    "            finer_dict = assign_nums(both, 1, acc_col, 2, 'acc_finer_nums')\n",
    "            pred_dict = assign_nums(both, (len(np.unique(both['acc_finer_nums'])) + 1), pred_col, 2, 'pred_finer_nums')\n",
    "\n",
    "            source = both['acc_coarse_nums'].tolist()\n",
    "            source.extend(both['acc_finer_nums'].tolist())\n",
    "            target = both['acc_finer_nums'].tolist()\n",
    "            target.extend(both['pred_finer_nums'].tolist())\n",
    "            count = both['size_x'].tolist()\n",
    "            count.extend(both['size_y'].tolist())\n",
    "\n",
    "\n",
    "            coarse_dict_keys = list(coarse_dict.keys())\n",
    "            finer_dict_keys = list(finer_dict.keys())\n",
    "            pred_dict_keys = list(pred_dict.keys())\n",
    "            labels = coarse_dict_keys + finer_dict_keys + pred_dict_keys\n",
    "            \n",
    "            fig = make_sankey(source, target, count, labels,700, 400, x)\n",
    "            fig.show()\n",
    "      \n",
    "    else:  \n",
    "        for x in np.unique(df[acc_col]):\n",
    "            df_one_type = df.loc[df[acc_col] == x]\n",
    "            acc = pd.DataFrame(df_one_type.groupby(['acc_coarse', acc_col], as_index=False).size())\n",
    "            pred = pd.DataFrame(df_one_type.groupby([acc_col, pred_col],as_index=False).size())\n",
    "\n",
    "\n",
    "            both = pd.merge(acc, pred, on = \"finer_cell_types\")\n",
    "\n",
    "            finer_dict = assign_nums(both, 0, acc_col, 2, 'acc_finer_nums')\n",
    "            pred_dict = assign_nums(both, 1, pred_col, 2, 'pred_finer_nums')\n",
    "\n",
    "            source = both_select['acc_finer_nums'].tolist()\n",
    "            target = both_select['pred_finer_nums'].tolist()\n",
    "            count = both_select['size_y'].tolist()\n",
    "\n",
    "            finer_dict_keys = list(finer_dict.keys())\n",
    "            pred_dict_keys = list(pred_dict.keys())\n",
    "            labels =  finer_dict_keys + pred_dict_keys\n",
    "\n",
    "\n",
    "            fig = make_sankey(source, target, count, labels,700, 400, x)\n",
    "            fig.show()\n",
    "    \n",
    "    "
   ]
  },
  {
   "cell_type": "markdown",
   "id": "fd108ea9-9123-4ee6-8e2d-62216e97beea",
   "metadata": {
    "jp-MarkdownHeadingCollapsed": true,
    "tags": []
   },
   "source": [
    "#### CT_45"
   ]
  },
  {
   "cell_type": "code",
   "execution_count": null,
   "id": "9b87a566-f46a-4b06-8e5f-5c4ab6c05039",
   "metadata": {
    "tags": []
   },
   "outputs": [],
   "source": [
    "def categorise_45(row, col_name): \n",
    "    \"\"\"\n",
    "    Function to categories the 45 cell types from CT_45 into more coarse groups (informed by cytopus)\n",
    "    \n",
    "    row - which row we are currently assessing\n",
    "    col_name - the column that holds the cell type annotations\n",
    "    \"\"\"\n",
    "    if row[col_name] == 'ABCs' or row[col_name] == 'GC_B (I)' or row[col_name] == 'GC_B (II)' or row[col_name] == 'Memory B cells' or row[col_name] == 'Naive B cells' or row[col_name] =='Plasma cells' or row[col_name] == 'Plasmablasts':\n",
    "        return 'B cell' \n",
    "    elif row[col_name] == 'Alveolar macrophages' or row[col_name] == 'Classical monocytes' or row[col_name] == 'DC1' or row[col_name] == 'DC2' or row[col_name] == 'Erythrophagocytic macrophages' or row[col_name] == 'Intermediate macrophages'  or row[col_name] == 'Intestinal macrophages' or row[col_name] == 'Mast cells' or row[col_name] == 'Nonclassical monocytes' or row[col_name] == 'migDC' or row[col_name] == 'pDC':\n",
    "        return 'Myeloid'\n",
    "    elif row[col_name] == 'T_CD4/CD8' or row[col_name] == 'Tem/emra_CD8' or row[col_name] == 'Tnaive/CM_CD4' or row[col_name] == 'Tnaive/CM_CD4_activated' or row[col_name] == 'Tnaive/CM_CD8' or row[col_name] == 'Trm/em_CD8' or row[col_name] == 'Trm_Tgd' or row[col_name] == 'Trm_Th1/Th17' or row[col_name] == 'Trm_Th1/Th17' or row[col_name] == 'Tregs' or row[col_name] == 'Teffector/EM_CD4' or row[col_name] == 'Tfh' or row[col_name] == 'Tgd_CRTAM+' or row[col_name] == 'MAIT' or row[col_name] == 'Trm_gut_CD8':   \n",
    "        return 'T cell'\n",
    "    return row[col_name]"
   ]
  },
  {
   "cell_type": "markdown",
   "id": "7d6afe96-ecf4-49be-8605-e1e23d72d7af",
   "metadata": {},
   "source": [
    "##### Model 0"
   ]
  },
  {
   "cell_type": "markdown",
   "id": "18660cd2-a2f3-4e31-92a9-7552748834a9",
   "metadata": {
    "tags": []
   },
   "source": [
    "###### One Cell Type at a Time"
   ]
  },
  {
   "cell_type": "markdown",
   "id": "a5aba986-ff5c-440b-9616-776b7dbce26c",
   "metadata": {
    "jp-MarkdownHeadingCollapsed": true,
    "tags": []
   },
   "source": [
    "###### All Cell Types"
   ]
  },
  {
   "cell_type": "code",
   "execution_count": null,
   "id": "90fd3979-e48b-42b3-a6d1-35a84ac75b21",
   "metadata": {
    "tags": []
   },
   "outputs": [],
   "source": [
    "source_45_0, target_45_0, count_45_0, labels_45_0  = make_sankey_data(pred_adatact, 'predicted_labels', 'Manually_curated_celltype', categorise_45, 16, 45 )"
   ]
  },
  {
   "cell_type": "code",
   "execution_count": null,
   "id": "fdb2d0d8-bcb6-4599-ac92-8cf71d9aac2e",
   "metadata": {
    "tags": []
   },
   "outputs": [],
   "source": [
    "fig_45_0 = make_sankey(source_45_0, target_45_0, count_45_0, labels_45_0, 1200, 900, \"CT_45 Model 0 Sankey Plot (F1 - 0.885)\")\n",
    "fig_45_0.show()"
   ]
  },
  {
   "cell_type": "markdown",
   "id": "bbe77742-4f23-4427-bf88-13111270548f",
   "metadata": {
    "tags": []
   },
   "source": [
    "##### Model 2"
   ]
  },
  {
   "cell_type": "markdown",
   "id": "ff32c8fd-22e4-411e-b501-04a16eca2bc5",
   "metadata": {
    "jp-MarkdownHeadingCollapsed": true,
    "tags": []
   },
   "source": [
    "###### All Cell Types"
   ]
  },
  {
   "cell_type": "code",
   "execution_count": null,
   "id": "645ba809-259a-4d26-acc0-ece23704ec60",
   "metadata": {
    "tags": []
   },
   "outputs": [],
   "source": [
    "source_45_2, target_45_2, count_45_2, labels_45_2 = make_sankey_data(pred_adata2, 'predicted_labels', 'Manually_curated_celltype', categorise_45, 16, 45 )"
   ]
  },
  {
   "cell_type": "code",
   "execution_count": null,
   "id": "e9d54615-7298-4795-8ccd-d7716f1d65b0",
   "metadata": {
    "tags": []
   },
   "outputs": [],
   "source": [
    "fig_45_2 = make_sankey(source_45_2, target_45_2, count_45_2, labels_45_2, 1200, 900, \"CT_45 Model 2 Sankey Plot (F1 - 0.762)\")\n",
    "fig_45_2.show()"
   ]
  },
  {
   "cell_type": "markdown",
   "id": "834727a2-3f4c-4341-b57b-2a928d586d56",
   "metadata": {
    "tags": []
   },
   "source": [
    "##### Model 3"
   ]
  },
  {
   "cell_type": "markdown",
   "id": "03876d75-4ec7-439f-9aa5-1e7e08034e55",
   "metadata": {
    "jp-MarkdownHeadingCollapsed": true,
    "tags": []
   },
   "source": [
    "###### All Cell Types"
   ]
  },
  {
   "cell_type": "code",
   "execution_count": null,
   "id": "3842089b-3a67-4ce6-abfb-f93587860aae",
   "metadata": {
    "tags": []
   },
   "outputs": [],
   "source": [
    "source_45_3, target_45_3, count_45_3, labels_45_3 = make_sankey_data(pred_adata3, 'predicted_labels', 'Manually_curated_celltype', categorise_45, 16, 45)"
   ]
  },
  {
   "cell_type": "code",
   "execution_count": null,
   "id": "d4cda653-6bbb-46e2-ab05-4f2a612628a7",
   "metadata": {
    "tags": []
   },
   "outputs": [],
   "source": [
    "fig_45_3 = make_sankey(source_45_3, target_45_3, count_45_3, labels_45_3, 1500, 900, \"CT_45 Model 3 Sankey Plot (F1 - 0.791)\")\n",
    "fig_45_3.show()"
   ]
  },
  {
   "cell_type": "markdown",
   "id": "674b3f35-4274-4fc7-82bd-9591904b908c",
   "metadata": {
    "tags": []
   },
   "source": [
    "##### Model 4"
   ]
  },
  {
   "cell_type": "markdown",
   "id": "739399aa-dbf3-4393-a9a7-949a866a0174",
   "metadata": {
    "jp-MarkdownHeadingCollapsed": true,
    "tags": []
   },
   "source": [
    "###### All Cell Types"
   ]
  },
  {
   "cell_type": "code",
   "execution_count": null,
   "id": "06034178-0357-4119-ab98-56c72caabd8b",
   "metadata": {
    "tags": []
   },
   "outputs": [],
   "source": [
    "source_45_4, target_45_4, count_45_4, labels_45_4 = make_sankey_data(pred_adata4, 'predicted_labels', 'Manually_curated_celltype', categorise_45, 16, 45)"
   ]
  },
  {
   "cell_type": "code",
   "execution_count": null,
   "id": "51bc9b34-8d37-41d8-99a9-cdf77a190501",
   "metadata": {
    "tags": []
   },
   "outputs": [],
   "source": [
    "fig_45_4 = make_sankey(source_45_4, target_45_4, count_45_4,labels_45_4, 1200, 900, \"CT_45 Model 4 Sankey Plot (F1 - 0.887)\")\n",
    "fig_45_4.show()"
   ]
  },
  {
   "cell_type": "markdown",
   "id": "8f8aa551-dc22-46e1-a2e2-0f5b4e708346",
   "metadata": {
    "tags": []
   },
   "source": [
    "##### Model 5"
   ]
  },
  {
   "cell_type": "markdown",
   "id": "7b2fbf1a-cd56-4cc9-bbff-33e7680a9473",
   "metadata": {
    "tags": []
   },
   "source": [
    "###### All Cell Types"
   ]
  },
  {
   "cell_type": "code",
   "execution_count": null,
   "id": "375f09bc-f68c-4c89-9207-4706f8b1f3ae",
   "metadata": {
    "tags": []
   },
   "outputs": [],
   "source": [
    "source_45_5, target_45_5, count_45_5, labels_45_5 = make_sankey_data(pred_adata5, 'predicted_labels', 'Manually_curated_celltype', categorise_45, 16, 45)"
   ]
  },
  {
   "cell_type": "code",
   "execution_count": null,
   "id": "ec29a02e-da32-42c6-82ce-cb5152968f6a",
   "metadata": {
    "tags": []
   },
   "outputs": [],
   "source": [
    "fig_45_5 = make_sankey(source_45_5, target_45_5, count_45_5, labels_45_5, 1500, 900, \"CT_45 Model 0 Sankey Plot (F1 - 0.874)\")\n",
    "fig_45_5.show()"
   ]
  },
  {
   "cell_type": "markdown",
   "id": "396b904f-a098-4ea9-94de-9593272c20c4",
   "metadata": {},
   "source": [
    "#### CT_98"
   ]
  },
  {
   "cell_type": "code",
   "execution_count": 13,
   "id": "92c8b6bb-e1d0-46b1-97e3-9950758751c0",
   "metadata": {
    "tags": []
   },
   "outputs": [
    {
     "data": {
      "text/plain": [
       "Index(['Age-associated B cells', 'Alveolar macrophages', 'B cells', 'CD8a/a',\n",
       "       'CD8a/b(entry)', 'CD16+ NK cells', 'CD16- NK cells', 'CMP',\n",
       "       'CRTAM+ gamma-delta T cells', 'Classical monocytes', 'Cycling B cells',\n",
       "       'Cycling DCs', 'Cycling NK cells', 'Cycling T cells',\n",
       "       'Cycling gamma-delta T cells', 'Cycling monocytes', 'DC', 'DC1', 'DC2',\n",
       "       'DC3', 'DC precursor', 'Double-negative thymocytes',\n",
       "       'Double-positive thymocytes', 'ELP', 'ETP', 'Early MK',\n",
       "       'Early erythroid', 'Early lymphoid/T lymphoid', 'Endothelial cells',\n",
       "       'Epithelial cells', 'Erythrocytes', 'Erythrophagocytic macrophages',\n",
       "       'Fibroblasts', 'Follicular B cells', 'Follicular helper T cells', 'GMP',\n",
       "       'Germinal center B cells', 'Granulocytes', 'HSC/MPP', 'Hofbauer cells',\n",
       "       'ILC', 'ILC1', 'ILC2', 'ILC3', 'ILC precursor',\n",
       "       'Intermediate macrophages', 'Intestinal macrophages',\n",
       "       'Kidney-resident macrophages', 'Kupffer cells', 'Large pre-B cells',\n",
       "       'Late erythroid', 'MAIT cells', 'MEMP', 'MNP', 'Macrophages',\n",
       "       'Mast cells', 'Megakaryocyte precursor',\n",
       "       'Megakaryocyte-erythroid-mast cell progenitor',\n",
       "       'Megakaryocytes/platelets', 'Memory B cells',\n",
       "       'Memory CD4+ cytotoxic T cells', 'Mid erythroid', 'Migratory DCs',\n",
       "       'Mono-mac', 'Monocyte precursor', 'Monocytes', 'Myelocytes', 'NK cells',\n",
       "       'NKT cells', 'Naive B cells', 'Neutrophil-myeloid progenitor',\n",
       "       'Neutrophils', 'Non-classical monocytes', 'Plasma cells',\n",
       "       'Plasmablasts', 'Pre-pro-B cells', 'Pro-B cells',\n",
       "       'Proliferative germinal center B cells', 'Promyelocytes',\n",
       "       'Regulatory T cells', 'Small pre-B cells', 'T(agonist)',\n",
       "       'Tcm/Naive cytotoxic T cells', 'Tcm/Naive helper T cells',\n",
       "       'Tem/Effector helper T cells', 'Tem/Effector helper T cells PD1+',\n",
       "       'Tem/Temra cytotoxic T cells', 'Tem/Trm cytotoxic T cells',\n",
       "       'Transitional B cells', 'Transitional DC', 'Transitional NK',\n",
       "       'Treg(diff)', 'Trm cytotoxic T cells', 'Type 1 helper T cells',\n",
       "       'Type 17 helper T cells', 'gamma-delta T cells', 'pDC',\n",
       "       'pDC precursor'],\n",
       "      dtype='object')"
      ]
     },
     "execution_count": 13,
     "metadata": {},
     "output_type": "execute_result"
    }
   ],
   "source": [
    "test_98.obs[\"Harmonised_detailed_type\"].cat.categories"
   ]
  },
  {
   "cell_type": "code",
   "execution_count": 16,
   "id": "2db21182-7cd5-4a3f-8a03-e477cab6268d",
   "metadata": {
    "tags": []
   },
   "outputs": [],
   "source": [
    "def categorise_98(row, col_name): \n",
    "    \"\"\"\n",
    "    Function to categories the 98 cell types from CT_98 into more coarse groups (informed by cytopus)\n",
    "    \n",
    "    row - which row we are currently assessing\n",
    "    col_name - the column that holds the cell type annotations\n",
    "    \"\"\"\n",
    "    if row[col_name] == 'Age-associated B cells' or row[col_name] == 'B cells' or row[col_name] == 'Cycling B cells' or row[col_name] == 'Memory B cells' or row[col_name] == 'Plasma cells' or row[col_name] == 'Plasmablasts' or row[col_name] == 'Pre-pro-B cells' or row[col_name] == 'Pro-B cells' or row[col_name] =='Proliferative germinal center B cells' or row[col_name] == 'Follicular B cells' or row[col_name] == 'Germinal center B cells' or row[col_name] == 'Naive B cells' or row[col_name] == 'Transitional B cells':\n",
    "        return 'B cell' \n",
    "    elif row[col_name] == 'Alveolar macrophages' or row[col_name] == 'Classical monocytes' or row[col_name] == 'DC'or row[col_name] == 'DC1' or row[col_name] == 'DC2' or row[col_name] == 'DC3' or row[col_name] == 'DC precursor' or row[col_name] == 'Erythrophagocytic macrophages' or row[col_name] == 'Intermediate macrophages' or row[col_name] == 'Intestinal macrophages' or row[col_name] == 'Macrophages' or row[col_name] == 'Mast cells' or row[col_name] == 'Nonclassical monocytes' or row[col_name] =='Migratory DCs'or row[col_name] == 'Mono-mac' or row[col_name] == 'Monocyte precursor' or row[col_name] == 'Monocytes' or row[col_name] == 'Myelocytes'or row[col_name] == 'Neutrophil-myeloid progenitor'or row[col_name] == 'Neutrophils' or row[col_name] == 'pDC' or row[col_name] == 'pDC precursor':\n",
    "        return 'Myeloid'\n",
    "    elif row[col_name] == 'T_CD4/CD8' or row[col_name] == 'Tem/emra_CD8' or row[col_name] == 'Tnaive/CM_CD4' or row[col_name] == 'Tnaive/CM_CD4_activated' or row[col_name] == 'Tnaive/CM_CD8' or row[col_name] == 'Trm/em_CD8' or row[col_name] == 'Trm_Tgd' or row[col_name] == 'Trm_Th1/Th17' or row[col_name] == 'Trm_Th1/Th17' or row[col_name] == 'Tregs' or row[col_name] == 'Teffector/EM_CD4' or row[col_name] == 'Tfh' or row[col_name] == 'Tgd_CRTAM+' or row[col_name] == 'MAIT' or row[col_name] == 'Trm_gut_CD8':   \n",
    "        return 'T cell'\n",
    "    return row[col_name]"
   ]
  },
  {
   "cell_type": "markdown",
   "id": "8da7d97e-2c16-4797-b47c-656f2c09ed75",
   "metadata": {
    "jp-MarkdownHeadingCollapsed": true,
    "tags": []
   },
   "source": [
    "#### Glanser"
   ]
  },
  {
   "cell_type": "code",
   "execution_count": null,
   "id": "a1d242c5-ec30-4c0b-b817-c755879ff6bc",
   "metadata": {
    "tags": []
   },
   "outputs": [],
   "source": [
    "def categorise_glanser(row, col_name):  \n",
    "    \"\"\"\n",
    "    Function to categories the 45 cell types from CT_45 into more coarse groups (informed by cytopus)\n",
    "    \n",
    "    row - which row we are currently assessing\n",
    "    col_name - the column that holds the cell type annotations\n",
    "    \"\"\"\n",
    "    if row[col_name] == 'adventitial_fibroblast' or row[col_name] == 'alveolar_lung_fibroblast' or row[col_name] == 'LRRC15_myofibroblast':\n",
    "        return 'Fibroblast'\n",
    "    elif row[col_name] == 'Myeloid' or row[col_name] == 'DC_Langerhans' or row[col_name] == 'DC_Mature' or row[col_name] == 'Macrophage' or row[col_name] == 'Macrophage_Alveolar'or row[col_name] == 'Mast'  or row[col_name] == 'Neutrophil' or row[col_name] == 'cDC1' or row[col_name] == 'cDC2'  or row[col_name] == 'cMonocyte' or row[col_name] == 'cycling_macrophage' or row[col_name] == 'ncMonocyte' or row[col_name] == 'neutrophil':\n",
    "        return 'Myeloid'\n",
    "    return row[col_name]"
   ]
  },
  {
   "cell_type": "markdown",
   "id": "65739db0-800d-4dc4-8e64-8fd1d4c3655b",
   "metadata": {
    "tags": []
   },
   "source": [
    "##### Model 0"
   ]
  },
  {
   "cell_type": "markdown",
   "id": "b1289893-627f-48d8-8ade-6855e253123b",
   "metadata": {},
   "source": [
    "###### One Cell Type at a Time"
   ]
  },
  {
   "cell_type": "code",
   "execution_count": null,
   "id": "8eee4013-46a5-4a8a-891e-48eb285198d9",
   "metadata": {
    "tags": []
   },
   "outputs": [],
   "source": [
    "one_type_sankey(pred_adatag_0, 'predicted_labels', 'finer_cell_types', categorise_glanser)"
   ]
  },
  {
   "cell_type": "markdown",
   "id": "8df54c86-2b1d-478e-a60f-a16f2ce4951d",
   "metadata": {
    "jp-MarkdownHeadingCollapsed": true,
    "tags": []
   },
   "source": [
    "###### All Cell Types"
   ]
  },
  {
   "cell_type": "code",
   "execution_count": null,
   "id": "ca4970fa-7996-4216-811b-ec3a6ee2483c",
   "metadata": {
    "tags": []
   },
   "outputs": [],
   "source": [
    "source_g_0, target_g_0, count_g_0,labels_g_0= make_sankey_data(pred_adatag_0, 'predicted_labels', 'finer_cell_types', categorise_glanser,7, 22)  "
   ]
  },
  {
   "cell_type": "code",
   "execution_count": null,
   "id": "662a51b2-c1d9-4e6a-a13c-b3127f25fa38",
   "metadata": {
    "tags": []
   },
   "outputs": [],
   "source": [
    "fig_g_0 = make_sankey(source_g_0, target_g_0, count_g_0, labels_g_0, 1500, 900, \"Glanser Model 0 Sankey Plot (F1 - 0.254)\")\n",
    "fig_g_0.show()"
   ]
  },
  {
   "cell_type": "markdown",
   "id": "15ba9bc4-3504-40cb-aa79-84c4b71ea9b4",
   "metadata": {},
   "source": [
    "##### Model 2"
   ]
  },
  {
   "cell_type": "markdown",
   "id": "2673dc7d-8126-43e7-badf-83ab50613378",
   "metadata": {
    "tags": []
   },
   "source": [
    "###### One Cell Type at a Time"
   ]
  },
  {
   "cell_type": "code",
   "execution_count": null,
   "id": "3ece0206-32fb-4be1-b3c4-450ecc29249a",
   "metadata": {
    "tags": []
   },
   "outputs": [],
   "source": [
    "one_type_sankey(pred_adatag_2, 'predicted_labels', 'finer_cell_types', categorise_glanser)"
   ]
  },
  {
   "cell_type": "markdown",
   "id": "f2ebcc4e-1d5b-4c4b-8f07-5023fb83ebb2",
   "metadata": {
    "jp-MarkdownHeadingCollapsed": true,
    "tags": []
   },
   "source": [
    "###### All Cell Types"
   ]
  },
  {
   "cell_type": "code",
   "execution_count": null,
   "id": "cd7f97bc-7ad3-4baa-b613-91dc14f3329c",
   "metadata": {
    "tags": []
   },
   "outputs": [],
   "source": [
    "source_g_2, target_g_2, count_g_2,labels_g_2= make_sankey_data(pred_adatag_2, 'predicted_labels', 'finer_cell_types', categorise_glanser,7, 22) "
   ]
  },
  {
   "cell_type": "code",
   "execution_count": null,
   "id": "4c758398-d57d-48b2-834d-28553f2c0e3c",
   "metadata": {
    "tags": []
   },
   "outputs": [],
   "source": [
    "fig_g_2 = make_sankey(source_g_2, target_g_2, count_g_2, labels_g_2, 1500, 900, \"Glanser Model 2 Sankey Plot (F1 - 0.396)\")\n",
    "fig_g_2.show()"
   ]
  },
  {
   "cell_type": "markdown",
   "id": "9a851c91-837b-4aff-90aa-f0cf4da7262a",
   "metadata": {},
   "source": [
    "##### Model 3"
   ]
  },
  {
   "cell_type": "markdown",
   "id": "6d30b083-e0c5-49aa-a879-072ebb154e28",
   "metadata": {
    "tags": []
   },
   "source": [
    "###### One Cell Type at a Time"
   ]
  },
  {
   "cell_type": "code",
   "execution_count": null,
   "id": "cda11cd6-f326-4066-8cc6-97b1b1400dc7",
   "metadata": {
    "tags": []
   },
   "outputs": [],
   "source": [
    "one_type_sankey(pred_adatag_3, 'predicted_labels', 'finer_cell_types', categorise_glanser)"
   ]
  },
  {
   "cell_type": "markdown",
   "id": "d446d432-adfa-4829-a362-2801ac848918",
   "metadata": {
    "jp-MarkdownHeadingCollapsed": true,
    "tags": []
   },
   "source": [
    "###### All Cell Types"
   ]
  },
  {
   "cell_type": "code",
   "execution_count": null,
   "id": "cef91cfa-1c05-4451-9179-66c7b35fb55a",
   "metadata": {
    "tags": []
   },
   "outputs": [],
   "source": [
    "source_g_3, target_g_3, count_g_3,labels_g_3 = make_sankey_data(pred_adatag_3, 'predicted_labels', 'finer_cell_types', categorise_glanser,7, 22) "
   ]
  },
  {
   "cell_type": "code",
   "execution_count": null,
   "id": "fede8625-264a-4d3e-8e10-3e35a6b28a88",
   "metadata": {
    "tags": []
   },
   "outputs": [],
   "source": [
    "fig_g_3 = make_sankey(source_g_3, target_g_3, count_g_3,labels_g_3, 1500, 900, \"Glanser Model 3 Sankey Plot (F1 - 0.597)\")\n",
    "fig_g_3.show()"
   ]
  },
  {
   "cell_type": "markdown",
   "id": "d08fe89a-57f7-41e3-b9d0-0d9f696d8860",
   "metadata": {},
   "source": [
    "##### Model 4"
   ]
  },
  {
   "cell_type": "markdown",
   "id": "12390d7f-c81a-4cb5-8606-6f4a9f66d24c",
   "metadata": {},
   "source": [
    "###### One Cell Type at a Time"
   ]
  },
  {
   "cell_type": "code",
   "execution_count": null,
   "id": "a7d134a9-d94e-4eb0-96c0-e4915f860966",
   "metadata": {
    "tags": []
   },
   "outputs": [],
   "source": [
    "one_type_sankey(pred_adatag_4, 'predicted_labels', 'finer_cell_types', categorise_glanser)"
   ]
  },
  {
   "cell_type": "markdown",
   "id": "31c8c847-07d2-4f84-9e8a-c26b091193f5",
   "metadata": {
    "jp-MarkdownHeadingCollapsed": true,
    "tags": []
   },
   "source": [
    "###### All Cell Types"
   ]
  },
  {
   "cell_type": "code",
   "execution_count": null,
   "id": "07f84b45-d08d-4793-85f6-c4127f83a81c",
   "metadata": {},
   "outputs": [],
   "source": [
    "source_g_4, target_g_4, count_g_4,labels_g_4 = make_sankey_data(pred_adatag_4, 'predicted_labels', 'finer_cell_types', categorise_glanser,7, 22) "
   ]
  },
  {
   "cell_type": "code",
   "execution_count": null,
   "id": "61f21169-a228-44ce-8aaf-28f755289199",
   "metadata": {
    "tags": []
   },
   "outputs": [],
   "source": [
    "fig_g_4 = make_sankey(source_g_4, target_g_4, count_g_4,labels_g_4,1500, 900, \"Glanser Model 4 Sankey Plot (F1 - 0.215)\")\n",
    "fig_g_4.show()"
   ]
  },
  {
   "cell_type": "markdown",
   "id": "5eaa191a-c36c-496c-b1cf-477fdd0c8ae1",
   "metadata": {},
   "source": [
    "##### Model 5"
   ]
  },
  {
   "cell_type": "markdown",
   "id": "471fdd2d-9359-4c28-a58e-14215a012563",
   "metadata": {},
   "source": [
    "###### One Cell Type at a Time"
   ]
  },
  {
   "cell_type": "code",
   "execution_count": null,
   "id": "e2090d56-8dfe-4d4a-941c-31230607e0a2",
   "metadata": {
    "tags": []
   },
   "outputs": [],
   "source": [
    "one_type_sankey(pred_adatag_5, 'predicted_labels', 'finer_cell_types', categorise_glanser)"
   ]
  },
  {
   "cell_type": "markdown",
   "id": "43af2ae4-02fc-4848-bc16-9f5cfecc709c",
   "metadata": {
    "jp-MarkdownHeadingCollapsed": true,
    "tags": []
   },
   "source": [
    "###### All Cell Types"
   ]
  },
  {
   "cell_type": "code",
   "execution_count": null,
   "id": "9107851c-c894-4995-9297-a35ff929f21e",
   "metadata": {
    "tags": []
   },
   "outputs": [],
   "source": [
    "source_g_5, target_g_5, count_g_5, labels_g_5 = make_sankey_data(pred_adatag_5, 'predicted_labels', 'finer_cell_types', categorise_glanser,7, 22)\n"
   ]
  },
  {
   "cell_type": "code",
   "execution_count": null,
   "id": "84d8d3fa-a799-4868-8529-7f4e9336ecf9",
   "metadata": {},
   "outputs": [],
   "source": [
    "fig_g_5 = make_sankey(source_g_5, target_g_5, count_g_5,labels_g_5, 1500, 900, \"Glanser Model 5 Sankey Plot (F1 - 0.452)\")\n",
    "fig_g_5.show()"
   ]
  }
 ],
 "metadata": {
  "kernelspec": {
   "display_name": "Python 3 (ipykernel)",
   "language": "python",
   "name": "python3"
  },
  "language_info": {
   "codemirror_mode": {
    "name": "ipython",
    "version": 3
   },
   "file_extension": ".py",
   "mimetype": "text/x-python",
   "name": "python",
   "nbconvert_exporter": "python",
   "pygments_lexer": "ipython3",
   "version": "3.11.4"
  }
 },
 "nbformat": 4,
 "nbformat_minor": 5
}
