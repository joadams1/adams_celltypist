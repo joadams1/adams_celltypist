{
 "cells": [
  {
   "cell_type": "markdown",
   "id": "e14bec32-8dd6-4a91-a998-bc42188c68b9",
   "metadata": {},
   "source": [
    "# Testing/Benchmarking Celltypist Models \n",
    "### List of Models (made in Making New Models.ipynb)\n",
    "1. Remove the feature selection from CellTypist (so it only trains the model once)\n",
    "2. Train the model with L1 regularization instead of L2\n",
    "3. Train the model only once with only Cytopus genes\n",
    "4. At the feature selection step, make sure the Cytopus genes are included in the list of top genes"
   ]
  },
  {
   "cell_type": "code",
   "execution_count": 2,
   "id": "92be23f9-d464-482d-a464-a57f73417c28",
   "metadata": {},
   "outputs": [
    {
     "name": "stderr",
     "output_type": "stream",
     "text": [
      "/Users/labuser/anaconda3/envs/auto_cell_type/lib/python3.8/site-packages/umap/distances.py:1063: NumbaDeprecationWarning: \u001b[1mThe 'nopython' keyword argument was not supplied to the 'numba.jit' decorator. The implicit default value for this argument is currently False, but it will be changed to True in Numba 0.59.0. See https://numba.readthedocs.io/en/stable/reference/deprecation.html#deprecation-of-object-mode-fall-back-behaviour-when-using-jit for details.\u001b[0m\n",
      "  @numba.jit()\n",
      "/Users/labuser/anaconda3/envs/auto_cell_type/lib/python3.8/site-packages/umap/distances.py:1071: NumbaDeprecationWarning: \u001b[1mThe 'nopython' keyword argument was not supplied to the 'numba.jit' decorator. The implicit default value for this argument is currently False, but it will be changed to True in Numba 0.59.0. See https://numba.readthedocs.io/en/stable/reference/deprecation.html#deprecation-of-object-mode-fall-back-behaviour-when-using-jit for details.\u001b[0m\n",
      "  @numba.jit()\n",
      "/Users/labuser/anaconda3/envs/auto_cell_type/lib/python3.8/site-packages/umap/distances.py:1086: NumbaDeprecationWarning: \u001b[1mThe 'nopython' keyword argument was not supplied to the 'numba.jit' decorator. The implicit default value for this argument is currently False, but it will be changed to True in Numba 0.59.0. See https://numba.readthedocs.io/en/stable/reference/deprecation.html#deprecation-of-object-mode-fall-back-behaviour-when-using-jit for details.\u001b[0m\n",
      "  @numba.jit()\n",
      "/Users/labuser/anaconda3/envs/auto_cell_type/lib/python3.8/site-packages/umap/umap_.py:660: NumbaDeprecationWarning: \u001b[1mThe 'nopython' keyword argument was not supplied to the 'numba.jit' decorator. The implicit default value for this argument is currently False, but it will be changed to True in Numba 0.59.0. See https://numba.readthedocs.io/en/stable/reference/deprecation.html#deprecation-of-object-mode-fall-back-behaviour-when-using-jit for details.\u001b[0m\n",
      "  @numba.jit()\n"
     ]
    }
   ],
   "source": [
    "import scanpy as sc\n",
    "import pandas as pd\n",
    "import anndata as ad\n",
    "from anndata import AnnData\n",
    "import numpy as np\n",
    "from scipy.sparse import spmatrix\n",
    "from datetime import datetime\n",
    "import itertools\n",
    "\n",
    "import celltypist as ct\n",
    "from celltypist import models"
   ]
  },
  {
   "cell_type": "code",
   "execution_count": 1,
   "id": "0b34f247-62ba-41fa-8fb0-832ec8975548",
   "metadata": {
    "tags": []
   },
   "outputs": [
    {
     "ename": "NameError",
     "evalue": "name 'models' is not defined",
     "output_type": "error",
     "traceback": [
      "\u001b[0;31m---------------------------------------------------------------------------\u001b[0m",
      "\u001b[0;31mNameError\u001b[0m                                 Traceback (most recent call last)",
      "Cell \u001b[0;32mIn[1], line 3\u001b[0m\n\u001b[1;32m      1\u001b[0m \u001b[38;5;66;03m#Import models \u001b[39;00m\n\u001b[1;32m      2\u001b[0m \u001b[38;5;66;03m##Celltypist default model \u001b[39;00m\n\u001b[0;32m----> 3\u001b[0m \u001b[43mmodels\u001b[49m\u001b[38;5;241m.\u001b[39mdownload_models(model \u001b[38;5;241m=\u001b[39m \u001b[38;5;124m'\u001b[39m\u001b[38;5;124mImmune_All_Low.pkl\u001b[39m\u001b[38;5;124m'\u001b[39m)\n\u001b[1;32m      5\u001b[0m \u001b[38;5;66;03m##New Models\u001b[39;00m\n\u001b[1;32m      6\u001b[0m model_1 \u001b[38;5;241m=\u001b[39m models\u001b[38;5;241m.\u001b[39mModel\u001b[38;5;241m.\u001b[39mload(\u001b[38;5;124m'\u001b[39m\u001b[38;5;124mNew Models/ct_model_1.pkl\u001b[39m\u001b[38;5;124m'\u001b[39m)\n",
      "\u001b[0;31mNameError\u001b[0m: name 'models' is not defined"
     ]
    }
   ],
   "source": [
    "#Import models \n",
    "##Celltypist default model \n",
    "models.download_models(model = 'Immune_All_Low.pkl')\n",
    "\n",
    "##New Models\n",
    "model_1 = models.Model.load('New Models/ct_model_1.pkl')\n",
    "model_2 = models.Model.load('New Models/ct_model_2.pkl')\n",
    "model_3 = models.Model.load('New Models/ct_model_3.pkl')\n",
    "model_4 = models.Model.load('New Models/ct_model_4.pkl')"
   ]
  },
  {
   "cell_type": "code",
   "execution_count": 3,
   "id": "a3ba64c9-21ff-4c85-ab68-758792e2a13f",
   "metadata": {
    "tags": []
   },
   "outputs": [],
   "source": [
    "#Import test data - subset of Celltypist data \n",
    "test= ad.read('../../Celltypist_test.h5ad')"
   ]
  },
  {
   "cell_type": "markdown",
   "id": "9aad6ec5-4d53-4273-8378-d0edee9ec8ed",
   "metadata": {},
   "source": [
    "#### Get celltype predictions from each model\n",
    "Celltypist model"
   ]
  },
  {
   "cell_type": "code",
   "execution_count": null,
   "id": "1d7299e4-017f-44a3-b285-d0ec88a56f1b",
   "metadata": {
    "tags": []
   },
   "outputs": [
    {
     "name": "stderr",
     "output_type": "stream",
     "text": [
      "🔬 Input data has 263810 cells and 36601 genes\n",
      "🔗 Matching reference genes in the model\n",
      "🧬 6147 features used for prediction\n",
      "⚖️ Scaling input data\n",
      "🖋️ Predicting labels\n",
      "✅ Prediction done!\n",
      "👀 Can not detect a neighborhood graph, will construct one before the over-clustering\n",
      "⛓️ Over-clustering input data with resolution set to 30\n"
     ]
    }
   ],
   "source": [
    "predictions_ct = ct.annotate(test, model = 'Immune_All_Low.pkl', majority_voting = True)\n",
    "predictions_ct.predicted_labels"
   ]
  },
  {
   "cell_type": "markdown",
   "id": "79e82838-7411-44c5-9a48-30a5ae387861",
   "metadata": {},
   "source": [
    "Model 1"
   ]
  },
  {
   "cell_type": "code",
   "execution_count": null,
   "id": "10f9c155-ef72-43ff-b324-6472a14b1b4f",
   "metadata": {},
   "outputs": [
    {
     "name": "stderr",
     "output_type": "stream",
     "text": [
      "🔬 Input data has 263810 cells and 36601 genes\n",
      "🔗 Matching reference genes in the model\n",
      "🧬 30123 features used for prediction\n",
      "⚖️ Scaling input data\n"
     ]
    }
   ],
   "source": [
    "predictions_1 = ct.annotate(test, model = 'New Models/ct_model_1.pkl', majority_voting = True)\n",
    "predictions_1.predicted_labels"
   ]
  },
  {
   "cell_type": "code",
   "execution_count": null,
   "id": "e04da4d7-1c0b-4028-a054-53d72981cbc5",
   "metadata": {},
   "outputs": [],
   "source": [
    "pred_adata1 = predictions_1.to_adata()\n",
    "pred_adata1.write_h5ad('../../pred_model1.h5ad')"
   ]
  },
  {
   "cell_type": "markdown",
   "id": "0b2e0318-a609-4e92-b905-92a87a7349b3",
   "metadata": {},
   "source": [
    "Model 2"
   ]
  },
  {
   "cell_type": "code",
   "execution_count": 4,
   "id": "bd02f1ac-0a83-45ae-a80c-abbc23e444fe",
   "metadata": {
    "tags": []
   },
   "outputs": [
    {
     "name": "stderr",
     "output_type": "stream",
     "text": [
      "🔬 Input data has 263810 cells and 36601 genes\n",
      "🔗 Matching reference genes in the model\n",
      "🧬 6749 features used for prediction\n",
      "⚖️ Scaling input data\n",
      "🖋️ Predicting labels\n",
      "✅ Prediction done!\n",
      "👀 Can not detect a neighborhood graph, will construct one before the over-clustering\n",
      "⛓️ Over-clustering input data with resolution set to 30\n",
      "🗳️ Majority voting the predictions\n",
      "✅ Majority voting done!\n"
     ]
    },
    {
     "data": {
      "text/html": [
       "<div>\n",
       "<style scoped>\n",
       "    .dataframe tbody tr th:only-of-type {\n",
       "        vertical-align: middle;\n",
       "    }\n",
       "\n",
       "    .dataframe tbody tr th {\n",
       "        vertical-align: top;\n",
       "    }\n",
       "\n",
       "    .dataframe thead th {\n",
       "        text-align: right;\n",
       "    }\n",
       "</style>\n",
       "<table border=\"1\" class=\"dataframe\">\n",
       "  <thead>\n",
       "    <tr style=\"text-align: right;\">\n",
       "      <th></th>\n",
       "      <th>predicted_labels</th>\n",
       "      <th>over_clustering</th>\n",
       "      <th>majority_voting</th>\n",
       "    </tr>\n",
       "  </thead>\n",
       "  <tbody>\n",
       "    <tr>\n",
       "      <th>CZINY-0105_CACCAAAAGTCAACAA</th>\n",
       "      <td>Tem/emra_CD8</td>\n",
       "      <td>71</td>\n",
       "      <td>Tem/emra_CD8</td>\n",
       "    </tr>\n",
       "    <tr>\n",
       "      <th>CZINY-0109_TGCGATACACATAACC</th>\n",
       "      <td>Tem/emra_CD8</td>\n",
       "      <td>101</td>\n",
       "      <td>Tem/emra_CD8</td>\n",
       "    </tr>\n",
       "    <tr>\n",
       "      <th>CZINY-0058_GCATCGGCAAGTCATC</th>\n",
       "      <td>Tnaive/CM_CD4</td>\n",
       "      <td>7</td>\n",
       "      <td>Tnaive/CM_CD4</td>\n",
       "    </tr>\n",
       "    <tr>\n",
       "      <th>CZINY-0057_AACAACCTCATGCTAG</th>\n",
       "      <td>Memory B cells</td>\n",
       "      <td>18</td>\n",
       "      <td>Memory B cells</td>\n",
       "    </tr>\n",
       "    <tr>\n",
       "      <th>CZINY-0106_GTGTTCCAGTGTTGTC</th>\n",
       "      <td>Alveolar macrophages</td>\n",
       "      <td>56</td>\n",
       "      <td>Alveolar macrophages</td>\n",
       "    </tr>\n",
       "    <tr>\n",
       "      <th>...</th>\n",
       "      <td>...</td>\n",
       "      <td>...</td>\n",
       "      <td>...</td>\n",
       "    </tr>\n",
       "    <tr>\n",
       "      <th>CZINY-0104_TCCTCTTTCCGTTTCG</th>\n",
       "      <td>Tfh</td>\n",
       "      <td>206</td>\n",
       "      <td>Teffector/EM_CD4</td>\n",
       "    </tr>\n",
       "    <tr>\n",
       "      <th>Pan_T7980364_CGTGTAACATGCTGGC</th>\n",
       "      <td>Memory B cells</td>\n",
       "      <td>380</td>\n",
       "      <td>Memory B cells</td>\n",
       "    </tr>\n",
       "    <tr>\n",
       "      <th>CZINY-0104_CGGCAGTTCCATGCAA</th>\n",
       "      <td>Tem/emra_CD8</td>\n",
       "      <td>369</td>\n",
       "      <td>Trm/em_CD8</td>\n",
       "    </tr>\n",
       "    <tr>\n",
       "      <th>CZINY-0102_CGAAGTTAGCACTAGG</th>\n",
       "      <td>Tfh</td>\n",
       "      <td>3</td>\n",
       "      <td>Tfh</td>\n",
       "    </tr>\n",
       "    <tr>\n",
       "      <th>CZINY-0061_CGGGACTAGAGGCGGA</th>\n",
       "      <td>Trm_Th1/Th17</td>\n",
       "      <td>216</td>\n",
       "      <td>MAIT</td>\n",
       "    </tr>\n",
       "  </tbody>\n",
       "</table>\n",
       "<p>263810 rows × 3 columns</p>\n",
       "</div>"
      ],
      "text/plain": [
       "                                   predicted_labels over_clustering  \\\n",
       "CZINY-0105_CACCAAAAGTCAACAA            Tem/emra_CD8              71   \n",
       "CZINY-0109_TGCGATACACATAACC            Tem/emra_CD8             101   \n",
       "CZINY-0058_GCATCGGCAAGTCATC           Tnaive/CM_CD4               7   \n",
       "CZINY-0057_AACAACCTCATGCTAG          Memory B cells              18   \n",
       "CZINY-0106_GTGTTCCAGTGTTGTC    Alveolar macrophages              56   \n",
       "...                                             ...             ...   \n",
       "CZINY-0104_TCCTCTTTCCGTTTCG                     Tfh             206   \n",
       "Pan_T7980364_CGTGTAACATGCTGGC        Memory B cells             380   \n",
       "CZINY-0104_CGGCAGTTCCATGCAA            Tem/emra_CD8             369   \n",
       "CZINY-0102_CGAAGTTAGCACTAGG                     Tfh               3   \n",
       "CZINY-0061_CGGGACTAGAGGCGGA            Trm_Th1/Th17             216   \n",
       "\n",
       "                                    majority_voting  \n",
       "CZINY-0105_CACCAAAAGTCAACAA            Tem/emra_CD8  \n",
       "CZINY-0109_TGCGATACACATAACC            Tem/emra_CD8  \n",
       "CZINY-0058_GCATCGGCAAGTCATC           Tnaive/CM_CD4  \n",
       "CZINY-0057_AACAACCTCATGCTAG          Memory B cells  \n",
       "CZINY-0106_GTGTTCCAGTGTTGTC    Alveolar macrophages  \n",
       "...                                             ...  \n",
       "CZINY-0104_TCCTCTTTCCGTTTCG        Teffector/EM_CD4  \n",
       "Pan_T7980364_CGTGTAACATGCTGGC        Memory B cells  \n",
       "CZINY-0104_CGGCAGTTCCATGCAA              Trm/em_CD8  \n",
       "CZINY-0102_CGAAGTTAGCACTAGG                     Tfh  \n",
       "CZINY-0061_CGGGACTAGAGGCGGA                    MAIT  \n",
       "\n",
       "[263810 rows x 3 columns]"
      ]
     },
     "execution_count": 4,
     "metadata": {},
     "output_type": "execute_result"
    }
   ],
   "source": [
    "predictions_2 = ct.annotate(test, model = 'New Models/ct_model_2.pkl', majority_voting = True)\n",
    "predictions_2.predicted_labels"
   ]
  },
  {
   "cell_type": "code",
   "execution_count": 5,
   "id": "d58b2e88-5222-49e6-8895-9a79610066a3",
   "metadata": {},
   "outputs": [],
   "source": [
    "pred_adata2 = predictions_2.to_adata()\n",
    "#pred_adata2.write_h5ad('../../pred_model2.h5ad')"
   ]
  },
  {
   "cell_type": "markdown",
   "id": "f53e37b0-87dd-43e8-ab55-2025a2e6d2bd",
   "metadata": {},
   "source": [
    "Model 3"
   ]
  },
  {
   "cell_type": "code",
   "execution_count": 6,
   "id": "a8a1b849-c873-458b-9f9f-5409db85891f",
   "metadata": {},
   "outputs": [
    {
     "name": "stderr",
     "output_type": "stream",
     "text": [
      "🔬 Input data has 263810 cells and 36601 genes\n",
      "🔗 Matching reference genes in the model\n",
      "🧬 304 features used for prediction\n",
      "⚖️ Scaling input data\n",
      "🖋️ Predicting labels\n",
      "✅ Prediction done!\n",
      "👀 Detected a neighborhood graph in the input object, will run over-clustering on the basis of it\n",
      "⛓️ Over-clustering input data with resolution set to 30\n",
      "🗳️ Majority voting the predictions\n",
      "✅ Majority voting done!\n"
     ]
    },
    {
     "data": {
      "text/html": [
       "<div>\n",
       "<style scoped>\n",
       "    .dataframe tbody tr th:only-of-type {\n",
       "        vertical-align: middle;\n",
       "    }\n",
       "\n",
       "    .dataframe tbody tr th {\n",
       "        vertical-align: top;\n",
       "    }\n",
       "\n",
       "    .dataframe thead th {\n",
       "        text-align: right;\n",
       "    }\n",
       "</style>\n",
       "<table border=\"1\" class=\"dataframe\">\n",
       "  <thead>\n",
       "    <tr style=\"text-align: right;\">\n",
       "      <th></th>\n",
       "      <th>predicted_labels</th>\n",
       "      <th>over_clustering</th>\n",
       "      <th>majority_voting</th>\n",
       "    </tr>\n",
       "  </thead>\n",
       "  <tbody>\n",
       "    <tr>\n",
       "      <th>CZINY-0105_CACCAAAAGTCAACAA</th>\n",
       "      <td>Tem/emra_CD8</td>\n",
       "      <td>71</td>\n",
       "      <td>Tem/emra_CD8</td>\n",
       "    </tr>\n",
       "    <tr>\n",
       "      <th>CZINY-0109_TGCGATACACATAACC</th>\n",
       "      <td>Tem/emra_CD8</td>\n",
       "      <td>101</td>\n",
       "      <td>Tem/emra_CD8</td>\n",
       "    </tr>\n",
       "    <tr>\n",
       "      <th>CZINY-0058_GCATCGGCAAGTCATC</th>\n",
       "      <td>Tnaive/CM_CD4</td>\n",
       "      <td>7</td>\n",
       "      <td>Tnaive/CM_CD4</td>\n",
       "    </tr>\n",
       "    <tr>\n",
       "      <th>CZINY-0057_AACAACCTCATGCTAG</th>\n",
       "      <td>Memory B cells</td>\n",
       "      <td>18</td>\n",
       "      <td>Memory B cells</td>\n",
       "    </tr>\n",
       "    <tr>\n",
       "      <th>CZINY-0106_GTGTTCCAGTGTTGTC</th>\n",
       "      <td>Alveolar macrophages</td>\n",
       "      <td>56</td>\n",
       "      <td>Alveolar macrophages</td>\n",
       "    </tr>\n",
       "    <tr>\n",
       "      <th>...</th>\n",
       "      <td>...</td>\n",
       "      <td>...</td>\n",
       "      <td>...</td>\n",
       "    </tr>\n",
       "    <tr>\n",
       "      <th>CZINY-0104_TCCTCTTTCCGTTTCG</th>\n",
       "      <td>Tfh</td>\n",
       "      <td>206</td>\n",
       "      <td>Teffector/EM_CD4</td>\n",
       "    </tr>\n",
       "    <tr>\n",
       "      <th>Pan_T7980364_CGTGTAACATGCTGGC</th>\n",
       "      <td>Memory B cells</td>\n",
       "      <td>380</td>\n",
       "      <td>Memory B cells</td>\n",
       "    </tr>\n",
       "    <tr>\n",
       "      <th>CZINY-0104_CGGCAGTTCCATGCAA</th>\n",
       "      <td>Trm/em_CD8</td>\n",
       "      <td>369</td>\n",
       "      <td>Trm/em_CD8</td>\n",
       "    </tr>\n",
       "    <tr>\n",
       "      <th>CZINY-0102_CGAAGTTAGCACTAGG</th>\n",
       "      <td>Tfh</td>\n",
       "      <td>3</td>\n",
       "      <td>Tfh</td>\n",
       "    </tr>\n",
       "    <tr>\n",
       "      <th>CZINY-0061_CGGGACTAGAGGCGGA</th>\n",
       "      <td>Trm_Th1/Th17</td>\n",
       "      <td>216</td>\n",
       "      <td>MAIT</td>\n",
       "    </tr>\n",
       "  </tbody>\n",
       "</table>\n",
       "<p>263810 rows × 3 columns</p>\n",
       "</div>"
      ],
      "text/plain": [
       "                                   predicted_labels over_clustering  \\\n",
       "CZINY-0105_CACCAAAAGTCAACAA            Tem/emra_CD8              71   \n",
       "CZINY-0109_TGCGATACACATAACC            Tem/emra_CD8             101   \n",
       "CZINY-0058_GCATCGGCAAGTCATC           Tnaive/CM_CD4               7   \n",
       "CZINY-0057_AACAACCTCATGCTAG          Memory B cells              18   \n",
       "CZINY-0106_GTGTTCCAGTGTTGTC    Alveolar macrophages              56   \n",
       "...                                             ...             ...   \n",
       "CZINY-0104_TCCTCTTTCCGTTTCG                     Tfh             206   \n",
       "Pan_T7980364_CGTGTAACATGCTGGC        Memory B cells             380   \n",
       "CZINY-0104_CGGCAGTTCCATGCAA              Trm/em_CD8             369   \n",
       "CZINY-0102_CGAAGTTAGCACTAGG                     Tfh               3   \n",
       "CZINY-0061_CGGGACTAGAGGCGGA            Trm_Th1/Th17             216   \n",
       "\n",
       "                                    majority_voting  \n",
       "CZINY-0105_CACCAAAAGTCAACAA            Tem/emra_CD8  \n",
       "CZINY-0109_TGCGATACACATAACC            Tem/emra_CD8  \n",
       "CZINY-0058_GCATCGGCAAGTCATC           Tnaive/CM_CD4  \n",
       "CZINY-0057_AACAACCTCATGCTAG          Memory B cells  \n",
       "CZINY-0106_GTGTTCCAGTGTTGTC    Alveolar macrophages  \n",
       "...                                             ...  \n",
       "CZINY-0104_TCCTCTTTCCGTTTCG        Teffector/EM_CD4  \n",
       "Pan_T7980364_CGTGTAACATGCTGGC        Memory B cells  \n",
       "CZINY-0104_CGGCAGTTCCATGCAA              Trm/em_CD8  \n",
       "CZINY-0102_CGAAGTTAGCACTAGG                     Tfh  \n",
       "CZINY-0061_CGGGACTAGAGGCGGA                    MAIT  \n",
       "\n",
       "[263810 rows x 3 columns]"
      ]
     },
     "execution_count": 6,
     "metadata": {},
     "output_type": "execute_result"
    }
   ],
   "source": [
    "predictions_3 = ct.annotate(test, model = 'New Models/ct_model_3.pkl', majority_voting = True)\n",
    "predictions_3.predicted_labels"
   ]
  },
  {
   "cell_type": "code",
   "execution_count": 7,
   "id": "279c60fc-3459-410b-a1ac-be1e8c83f507",
   "metadata": {},
   "outputs": [],
   "source": [
    "pred_adata3 = predictions_3.to_adata()\n",
    "#pred_adata3.write_h5ad('../../pred_model3.h5ad')"
   ]
  },
  {
   "cell_type": "markdown",
   "id": "001709b7-af33-425c-98ec-bc61cab1da1b",
   "metadata": {},
   "source": [
    "Model 4"
   ]
  },
  {
   "cell_type": "code",
   "execution_count": 8,
   "id": "525d93af-53f8-43c7-943d-043a8a0acc2b",
   "metadata": {},
   "outputs": [
    {
     "name": "stderr",
     "output_type": "stream",
     "text": [
      "🔬 Input data has 263810 cells and 36601 genes\n",
      "🔗 Matching reference genes in the model\n",
      "🧬 4712 features used for prediction\n",
      "⚖️ Scaling input data\n",
      "🖋️ Predicting labels\n",
      "✅ Prediction done!\n",
      "👀 Detected a neighborhood graph in the input object, will run over-clustering on the basis of it\n",
      "⛓️ Over-clustering input data with resolution set to 30\n",
      "🗳️ Majority voting the predictions\n",
      "✅ Majority voting done!\n"
     ]
    },
    {
     "data": {
      "text/html": [
       "<div>\n",
       "<style scoped>\n",
       "    .dataframe tbody tr th:only-of-type {\n",
       "        vertical-align: middle;\n",
       "    }\n",
       "\n",
       "    .dataframe tbody tr th {\n",
       "        vertical-align: top;\n",
       "    }\n",
       "\n",
       "    .dataframe thead th {\n",
       "        text-align: right;\n",
       "    }\n",
       "</style>\n",
       "<table border=\"1\" class=\"dataframe\">\n",
       "  <thead>\n",
       "    <tr style=\"text-align: right;\">\n",
       "      <th></th>\n",
       "      <th>predicted_labels</th>\n",
       "      <th>over_clustering</th>\n",
       "      <th>majority_voting</th>\n",
       "    </tr>\n",
       "  </thead>\n",
       "  <tbody>\n",
       "    <tr>\n",
       "      <th>CZINY-0105_CACCAAAAGTCAACAA</th>\n",
       "      <td>Tem/emra_CD8</td>\n",
       "      <td>71</td>\n",
       "      <td>Tem/emra_CD8</td>\n",
       "    </tr>\n",
       "    <tr>\n",
       "      <th>CZINY-0109_TGCGATACACATAACC</th>\n",
       "      <td>Tem/emra_CD8</td>\n",
       "      <td>101</td>\n",
       "      <td>Tem/emra_CD8</td>\n",
       "    </tr>\n",
       "    <tr>\n",
       "      <th>CZINY-0058_GCATCGGCAAGTCATC</th>\n",
       "      <td>Tnaive/CM_CD4</td>\n",
       "      <td>7</td>\n",
       "      <td>Tnaive/CM_CD4</td>\n",
       "    </tr>\n",
       "    <tr>\n",
       "      <th>CZINY-0057_AACAACCTCATGCTAG</th>\n",
       "      <td>Memory B cells</td>\n",
       "      <td>18</td>\n",
       "      <td>Memory B cells</td>\n",
       "    </tr>\n",
       "    <tr>\n",
       "      <th>CZINY-0106_GTGTTCCAGTGTTGTC</th>\n",
       "      <td>Alveolar macrophages</td>\n",
       "      <td>56</td>\n",
       "      <td>Alveolar macrophages</td>\n",
       "    </tr>\n",
       "    <tr>\n",
       "      <th>...</th>\n",
       "      <td>...</td>\n",
       "      <td>...</td>\n",
       "      <td>...</td>\n",
       "    </tr>\n",
       "    <tr>\n",
       "      <th>CZINY-0104_TCCTCTTTCCGTTTCG</th>\n",
       "      <td>Tfh</td>\n",
       "      <td>206</td>\n",
       "      <td>Teffector/EM_CD4</td>\n",
       "    </tr>\n",
       "    <tr>\n",
       "      <th>Pan_T7980364_CGTGTAACATGCTGGC</th>\n",
       "      <td>Memory B cells</td>\n",
       "      <td>380</td>\n",
       "      <td>Memory B cells</td>\n",
       "    </tr>\n",
       "    <tr>\n",
       "      <th>CZINY-0104_CGGCAGTTCCATGCAA</th>\n",
       "      <td>Tem/emra_CD8</td>\n",
       "      <td>369</td>\n",
       "      <td>Trm/em_CD8</td>\n",
       "    </tr>\n",
       "    <tr>\n",
       "      <th>CZINY-0102_CGAAGTTAGCACTAGG</th>\n",
       "      <td>Tfh</td>\n",
       "      <td>3</td>\n",
       "      <td>Tfh</td>\n",
       "    </tr>\n",
       "    <tr>\n",
       "      <th>CZINY-0061_CGGGACTAGAGGCGGA</th>\n",
       "      <td>Trm_Th1/Th17</td>\n",
       "      <td>216</td>\n",
       "      <td>MAIT</td>\n",
       "    </tr>\n",
       "  </tbody>\n",
       "</table>\n",
       "<p>263810 rows × 3 columns</p>\n",
       "</div>"
      ],
      "text/plain": [
       "                                   predicted_labels over_clustering  \\\n",
       "CZINY-0105_CACCAAAAGTCAACAA            Tem/emra_CD8              71   \n",
       "CZINY-0109_TGCGATACACATAACC            Tem/emra_CD8             101   \n",
       "CZINY-0058_GCATCGGCAAGTCATC           Tnaive/CM_CD4               7   \n",
       "CZINY-0057_AACAACCTCATGCTAG          Memory B cells              18   \n",
       "CZINY-0106_GTGTTCCAGTGTTGTC    Alveolar macrophages              56   \n",
       "...                                             ...             ...   \n",
       "CZINY-0104_TCCTCTTTCCGTTTCG                     Tfh             206   \n",
       "Pan_T7980364_CGTGTAACATGCTGGC        Memory B cells             380   \n",
       "CZINY-0104_CGGCAGTTCCATGCAA            Tem/emra_CD8             369   \n",
       "CZINY-0102_CGAAGTTAGCACTAGG                     Tfh               3   \n",
       "CZINY-0061_CGGGACTAGAGGCGGA            Trm_Th1/Th17             216   \n",
       "\n",
       "                                    majority_voting  \n",
       "CZINY-0105_CACCAAAAGTCAACAA            Tem/emra_CD8  \n",
       "CZINY-0109_TGCGATACACATAACC            Tem/emra_CD8  \n",
       "CZINY-0058_GCATCGGCAAGTCATC           Tnaive/CM_CD4  \n",
       "CZINY-0057_AACAACCTCATGCTAG          Memory B cells  \n",
       "CZINY-0106_GTGTTCCAGTGTTGTC    Alveolar macrophages  \n",
       "...                                             ...  \n",
       "CZINY-0104_TCCTCTTTCCGTTTCG        Teffector/EM_CD4  \n",
       "Pan_T7980364_CGTGTAACATGCTGGC        Memory B cells  \n",
       "CZINY-0104_CGGCAGTTCCATGCAA              Trm/em_CD8  \n",
       "CZINY-0102_CGAAGTTAGCACTAGG                     Tfh  \n",
       "CZINY-0061_CGGGACTAGAGGCGGA                    MAIT  \n",
       "\n",
       "[263810 rows x 3 columns]"
      ]
     },
     "execution_count": 8,
     "metadata": {},
     "output_type": "execute_result"
    }
   ],
   "source": [
    "predictions_4 = ct.annotate(test, model = 'New Models/ct_model_4.pkl', majority_voting = True)\n",
    "predictions_4.predicted_labels"
   ]
  },
  {
   "cell_type": "code",
   "execution_count": 9,
   "id": "8508ff81-9869-4b08-823a-ae057edfa88c",
   "metadata": {},
   "outputs": [],
   "source": [
    "pred_adata4 = predictions_4.to_adata()\n",
    "#pred_adata4.write_h5ad('../../pred_model4.h5ad')"
   ]
  }
 ],
 "metadata": {
  "kernelspec": {
   "display_name": "Python 3 (ipykernel)",
   "language": "python",
   "name": "python3"
  },
  "language_info": {
   "codemirror_mode": {
    "name": "ipython",
    "version": 3
   },
   "file_extension": ".py",
   "mimetype": "text/x-python",
   "name": "python",
   "nbconvert_exporter": "python",
   "pygments_lexer": "ipython3",
   "version": "3.8.16"
  }
 },
 "nbformat": 4,
 "nbformat_minor": 5
}
