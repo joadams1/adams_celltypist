{
 "cells": [
  {
   "cell_type": "markdown",
   "id": "e14bec32-8dd6-4a91-a998-bc42188c68b9",
   "metadata": {},
   "source": [
    "# Testing/Benchmarking Celltypist Models \n",
    "### List of Models (made in Making New Models.ipynb)\n",
    "1. Remove the feature selection from CellTypist (so it only trains the model once)\n",
    "2. Train the model with L1 regularization instead of L2\n",
    "3. Train the model only once with only Cytopus genes\n",
    "4. At the feature selection step, make sure the Cytopus genes are included in the list of top genes"
   ]
  },
  {
   "cell_type": "code",
   "execution_count": 2,
   "id": "92be23f9-d464-482d-a464-a57f73417c28",
   "metadata": {},
   "outputs": [
    {
     "name": "stderr",
     "output_type": "stream",
     "text": [
      "/Users/labuser/anaconda3/envs/auto_cell_type/lib/python3.8/site-packages/umap/distances.py:1063: NumbaDeprecationWarning: \u001b[1mThe 'nopython' keyword argument was not supplied to the 'numba.jit' decorator. The implicit default value for this argument is currently False, but it will be changed to True in Numba 0.59.0. See https://numba.readthedocs.io/en/stable/reference/deprecation.html#deprecation-of-object-mode-fall-back-behaviour-when-using-jit for details.\u001b[0m\n",
      "  @numba.jit()\n",
      "/Users/labuser/anaconda3/envs/auto_cell_type/lib/python3.8/site-packages/umap/distances.py:1071: NumbaDeprecationWarning: \u001b[1mThe 'nopython' keyword argument was not supplied to the 'numba.jit' decorator. The implicit default value for this argument is currently False, but it will be changed to True in Numba 0.59.0. See https://numba.readthedocs.io/en/stable/reference/deprecation.html#deprecation-of-object-mode-fall-back-behaviour-when-using-jit for details.\u001b[0m\n",
      "  @numba.jit()\n",
      "/Users/labuser/anaconda3/envs/auto_cell_type/lib/python3.8/site-packages/umap/distances.py:1086: NumbaDeprecationWarning: \u001b[1mThe 'nopython' keyword argument was not supplied to the 'numba.jit' decorator. The implicit default value for this argument is currently False, but it will be changed to True in Numba 0.59.0. See https://numba.readthedocs.io/en/stable/reference/deprecation.html#deprecation-of-object-mode-fall-back-behaviour-when-using-jit for details.\u001b[0m\n",
      "  @numba.jit()\n",
      "/Users/labuser/anaconda3/envs/auto_cell_type/lib/python3.8/site-packages/umap/umap_.py:660: NumbaDeprecationWarning: \u001b[1mThe 'nopython' keyword argument was not supplied to the 'numba.jit' decorator. The implicit default value for this argument is currently False, but it will be changed to True in Numba 0.59.0. See https://numba.readthedocs.io/en/stable/reference/deprecation.html#deprecation-of-object-mode-fall-back-behaviour-when-using-jit for details.\u001b[0m\n",
      "  @numba.jit()\n"
     ]
    }
   ],
   "source": [
    "import scanpy as sc\n",
    "import pandas as pd\n",
    "import anndata as ad\n",
    "from anndata import AnnData\n",
    "import numpy as np\n",
    "from scipy.sparse import spmatrix\n",
    "from datetime import datetime\n",
    "import itertools\n",
    "from sklearn.metrics import f1_score\n",
    "import matplotlib.pyplot as plt\n",
    "\n",
    "import celltypist as ct\n",
    "from celltypist import models"
   ]
  },
  {
   "cell_type": "code",
   "execution_count": 18,
   "id": "0b34f247-62ba-41fa-8fb0-832ec8975548",
   "metadata": {
    "tags": []
   },
   "outputs": [
    {
     "name": "stderr",
     "output_type": "stream",
     "text": [
      "📂 Storing models in /Users/labuser/.celltypist/data/models\n",
      "💾 Total models to download: 1\n",
      "⏩ Skipping [1/1]: Immune_All_Low.pkl (file exists)\n"
     ]
    }
   ],
   "source": [
    "#Import models \n",
    "##Celltypist default model \n",
    "models.download_models(model = 'Immune_All_Low.pkl')\n",
    "\n",
    "##New Models\n",
    "model_1 = models.Model.load('New Models/CT_45 Models/ct_model_1.pkl')\n",
    "model_2 = models.Model.load('New Models/CT_45 Models/ct_model_2.pkl')\n",
    "model_3 = models.Model.load('New Models/CT_45 Models/ct_model_3.pkl')\n",
    "model_4 = models.Model.load('New Models/CT_45 Models/ct_model_4.pkl')"
   ]
  },
  {
   "cell_type": "code",
   "execution_count": 102,
   "id": "63bf5f9e-4b48-4a71-9c32-e3182617898e",
   "metadata": {
    "tags": []
   },
   "outputs": [
    {
     "name": "stderr",
     "output_type": "stream",
     "text": [
      "📂 Storing models in /Users/labuser/.celltypist/data/models\n",
      "💾 Total models to download: 1\n",
      "💾 Downloading model [1/1]: Healthy_COVID19_PBMC.pkl\n"
     ]
    }
   ],
   "source": [
    "models.download_models(model = 'Healthy_COVID19_PBMC.pkl')"
   ]
  },
  {
   "cell_type": "markdown",
   "id": "9aad6ec5-4d53-4273-8378-d0edee9ec8ed",
   "metadata": {
    "tags": []
   },
   "source": [
    "## Get celltype predictions from each model"
   ]
  },
  {
   "cell_type": "markdown",
   "id": "50394a79-4041-4dbc-a802-37df78d91f3f",
   "metadata": {
    "jp-MarkdownHeadingCollapsed": true,
    "tags": []
   },
   "source": [
    "### Using CT_45 Models"
   ]
  },
  {
   "cell_type": "code",
   "execution_count": 19,
   "id": "a3ba64c9-21ff-4c85-ab68-758792e2a13f",
   "metadata": {
    "tags": []
   },
   "outputs": [],
   "source": [
    "#Import test data - subset of Celltypist data \n",
    "test= ad.read('../../Data/Celltypist_test.h5ad')"
   ]
  },
  {
   "cell_type": "code",
   "execution_count": 141,
   "id": "1d7299e4-017f-44a3-b285-d0ec88a56f1b",
   "metadata": {
    "tags": []
   },
   "outputs": [
    {
     "name": "stderr",
     "output_type": "stream",
     "text": [
      "🔬 Input data has 263810 cells and 36601 genes\n",
      "🔗 Matching reference genes in the model\n",
      "🧬 4759 features used for prediction\n",
      "⚖️ Scaling input data\n",
      "🖋️ Predicting labels\n",
      "✅ Prediction done!\n",
      "👀 Detected a neighborhood graph in the input object, will run over-clustering on the basis of it\n",
      "⛓️ Over-clustering input data with resolution set to 30\n",
      "🗳️ Majority voting the predictions\n",
      "✅ Majority voting done!\n"
     ]
    },
    {
     "data": {
      "text/html": [
       "<div>\n",
       "<style scoped>\n",
       "    .dataframe tbody tr th:only-of-type {\n",
       "        vertical-align: middle;\n",
       "    }\n",
       "\n",
       "    .dataframe tbody tr th {\n",
       "        vertical-align: top;\n",
       "    }\n",
       "\n",
       "    .dataframe thead th {\n",
       "        text-align: right;\n",
       "    }\n",
       "</style>\n",
       "<table border=\"1\" class=\"dataframe\">\n",
       "  <thead>\n",
       "    <tr style=\"text-align: right;\">\n",
       "      <th></th>\n",
       "      <th>predicted_labels</th>\n",
       "      <th>over_clustering</th>\n",
       "      <th>majority_voting</th>\n",
       "    </tr>\n",
       "  </thead>\n",
       "  <tbody>\n",
       "    <tr>\n",
       "      <th>CZINY-0105_CACCAAAAGTCAACAA</th>\n",
       "      <td>Tem/emra_CD8</td>\n",
       "      <td>71</td>\n",
       "      <td>Tem/emra_CD8</td>\n",
       "    </tr>\n",
       "    <tr>\n",
       "      <th>CZINY-0109_TGCGATACACATAACC</th>\n",
       "      <td>Tem/emra_CD8</td>\n",
       "      <td>101</td>\n",
       "      <td>Tem/emra_CD8</td>\n",
       "    </tr>\n",
       "    <tr>\n",
       "      <th>CZINY-0058_GCATCGGCAAGTCATC</th>\n",
       "      <td>Tnaive/CM_CD4</td>\n",
       "      <td>7</td>\n",
       "      <td>Tnaive/CM_CD4</td>\n",
       "    </tr>\n",
       "    <tr>\n",
       "      <th>CZINY-0057_AACAACCTCATGCTAG</th>\n",
       "      <td>Memory B cells</td>\n",
       "      <td>18</td>\n",
       "      <td>Memory B cells</td>\n",
       "    </tr>\n",
       "    <tr>\n",
       "      <th>CZINY-0106_GTGTTCCAGTGTTGTC</th>\n",
       "      <td>Alveolar macrophages</td>\n",
       "      <td>56</td>\n",
       "      <td>Alveolar macrophages</td>\n",
       "    </tr>\n",
       "    <tr>\n",
       "      <th>...</th>\n",
       "      <td>...</td>\n",
       "      <td>...</td>\n",
       "      <td>...</td>\n",
       "    </tr>\n",
       "    <tr>\n",
       "      <th>CZINY-0104_TCCTCTTTCCGTTTCG</th>\n",
       "      <td>Tfh</td>\n",
       "      <td>206</td>\n",
       "      <td>Teffector/EM_CD4</td>\n",
       "    </tr>\n",
       "    <tr>\n",
       "      <th>Pan_T7980364_CGTGTAACATGCTGGC</th>\n",
       "      <td>Memory B cells</td>\n",
       "      <td>380</td>\n",
       "      <td>Memory B cells</td>\n",
       "    </tr>\n",
       "    <tr>\n",
       "      <th>CZINY-0104_CGGCAGTTCCATGCAA</th>\n",
       "      <td>Tem/emra_CD8</td>\n",
       "      <td>369</td>\n",
       "      <td>Trm/em_CD8</td>\n",
       "    </tr>\n",
       "    <tr>\n",
       "      <th>CZINY-0102_CGAAGTTAGCACTAGG</th>\n",
       "      <td>Tfh</td>\n",
       "      <td>3</td>\n",
       "      <td>Tfh</td>\n",
       "    </tr>\n",
       "    <tr>\n",
       "      <th>CZINY-0061_CGGGACTAGAGGCGGA</th>\n",
       "      <td>Trm_Th1/Th17</td>\n",
       "      <td>216</td>\n",
       "      <td>MAIT</td>\n",
       "    </tr>\n",
       "  </tbody>\n",
       "</table>\n",
       "<p>263810 rows × 3 columns</p>\n",
       "</div>"
      ],
      "text/plain": [
       "                                   predicted_labels over_clustering  \\\n",
       "CZINY-0105_CACCAAAAGTCAACAA            Tem/emra_CD8              71   \n",
       "CZINY-0109_TGCGATACACATAACC            Tem/emra_CD8             101   \n",
       "CZINY-0058_GCATCGGCAAGTCATC           Tnaive/CM_CD4               7   \n",
       "CZINY-0057_AACAACCTCATGCTAG          Memory B cells              18   \n",
       "CZINY-0106_GTGTTCCAGTGTTGTC    Alveolar macrophages              56   \n",
       "...                                             ...             ...   \n",
       "CZINY-0104_TCCTCTTTCCGTTTCG                     Tfh             206   \n",
       "Pan_T7980364_CGTGTAACATGCTGGC        Memory B cells             380   \n",
       "CZINY-0104_CGGCAGTTCCATGCAA            Tem/emra_CD8             369   \n",
       "CZINY-0102_CGAAGTTAGCACTAGG                     Tfh               3   \n",
       "CZINY-0061_CGGGACTAGAGGCGGA            Trm_Th1/Th17             216   \n",
       "\n",
       "                                    majority_voting  \n",
       "CZINY-0105_CACCAAAAGTCAACAA            Tem/emra_CD8  \n",
       "CZINY-0109_TGCGATACACATAACC            Tem/emra_CD8  \n",
       "CZINY-0058_GCATCGGCAAGTCATC           Tnaive/CM_CD4  \n",
       "CZINY-0057_AACAACCTCATGCTAG          Memory B cells  \n",
       "CZINY-0106_GTGTTCCAGTGTTGTC    Alveolar macrophages  \n",
       "...                                             ...  \n",
       "CZINY-0104_TCCTCTTTCCGTTTCG        Teffector/EM_CD4  \n",
       "Pan_T7980364_CGTGTAACATGCTGGC        Memory B cells  \n",
       "CZINY-0104_CGGCAGTTCCATGCAA              Trm/em_CD8  \n",
       "CZINY-0102_CGAAGTTAGCACTAGG                     Tfh  \n",
       "CZINY-0061_CGGGACTAGAGGCGGA                    MAIT  \n",
       "\n",
       "[263810 rows x 3 columns]"
      ]
     },
     "execution_count": 141,
     "metadata": {},
     "output_type": "execute_result"
    }
   ],
   "source": [
    "predictions_ct = ct.annotate(test, model = 'New Models/CT_45 Models/ct_model_0.pkl', majority_voting = True)\n",
    "predictions_ct.predicted_labels"
   ]
  },
  {
   "cell_type": "code",
   "execution_count": 142,
   "id": "e774ce29-e0b6-4f24-bc4e-00be76a91d13",
   "metadata": {
    "tags": []
   },
   "outputs": [],
   "source": [
    "pred_adatact = predictions_ct.to_adata()\n",
    "pred_adatact.write_h5ad('../../pred_modelct.h5ad')"
   ]
  },
  {
   "cell_type": "markdown",
   "id": "79e82838-7411-44c5-9a48-30a5ae387861",
   "metadata": {},
   "source": [
    "Model 1"
   ]
  },
  {
   "cell_type": "code",
   "execution_count": null,
   "id": "10f9c155-ef72-43ff-b324-6472a14b1b4f",
   "metadata": {},
   "outputs": [
    {
     "name": "stderr",
     "output_type": "stream",
     "text": [
      "🔬 Input data has 263810 cells and 36601 genes\n",
      "🔗 Matching reference genes in the model\n",
      "🧬 30123 features used for prediction\n",
      "⚖️ Scaling input data\n"
     ]
    }
   ],
   "source": [
    "predictions_1 = ct.annotate(test, model = 'New Models/CT_45 Models/ct_model_1.pkl', majority_voting = True)\n",
    "predictions_1.predicted_labels"
   ]
  },
  {
   "cell_type": "code",
   "execution_count": null,
   "id": "e04da4d7-1c0b-4028-a054-53d72981cbc5",
   "metadata": {},
   "outputs": [],
   "source": [
    "pred_adata1 = predictions_1.to_adata()\n",
    "pred_adata1.write_h5ad('../../pred_model1.h5ad')"
   ]
  },
  {
   "cell_type": "markdown",
   "id": "0b2e0318-a609-4e92-b905-92a87a7349b3",
   "metadata": {},
   "source": [
    "Model 2"
   ]
  },
  {
   "cell_type": "code",
   "execution_count": 4,
   "id": "bd02f1ac-0a83-45ae-a80c-abbc23e444fe",
   "metadata": {
    "tags": []
   },
   "outputs": [
    {
     "name": "stderr",
     "output_type": "stream",
     "text": [
      "🔬 Input data has 263810 cells and 36601 genes\n",
      "🔗 Matching reference genes in the model\n",
      "🧬 6749 features used for prediction\n",
      "⚖️ Scaling input data\n",
      "🖋️ Predicting labels\n",
      "✅ Prediction done!\n",
      "👀 Can not detect a neighborhood graph, will construct one before the over-clustering\n",
      "⛓️ Over-clustering input data with resolution set to 30\n",
      "🗳️ Majority voting the predictions\n",
      "✅ Majority voting done!\n"
     ]
    },
    {
     "data": {
      "text/html": [
       "<div>\n",
       "<style scoped>\n",
       "    .dataframe tbody tr th:only-of-type {\n",
       "        vertical-align: middle;\n",
       "    }\n",
       "\n",
       "    .dataframe tbody tr th {\n",
       "        vertical-align: top;\n",
       "    }\n",
       "\n",
       "    .dataframe thead th {\n",
       "        text-align: right;\n",
       "    }\n",
       "</style>\n",
       "<table border=\"1\" class=\"dataframe\">\n",
       "  <thead>\n",
       "    <tr style=\"text-align: right;\">\n",
       "      <th></th>\n",
       "      <th>predicted_labels</th>\n",
       "      <th>over_clustering</th>\n",
       "      <th>majority_voting</th>\n",
       "    </tr>\n",
       "  </thead>\n",
       "  <tbody>\n",
       "    <tr>\n",
       "      <th>CZINY-0105_CACCAAAAGTCAACAA</th>\n",
       "      <td>Tem/emra_CD8</td>\n",
       "      <td>71</td>\n",
       "      <td>Tem/emra_CD8</td>\n",
       "    </tr>\n",
       "    <tr>\n",
       "      <th>CZINY-0109_TGCGATACACATAACC</th>\n",
       "      <td>Tem/emra_CD8</td>\n",
       "      <td>101</td>\n",
       "      <td>Tem/emra_CD8</td>\n",
       "    </tr>\n",
       "    <tr>\n",
       "      <th>CZINY-0058_GCATCGGCAAGTCATC</th>\n",
       "      <td>Tnaive/CM_CD4</td>\n",
       "      <td>7</td>\n",
       "      <td>Tnaive/CM_CD4</td>\n",
       "    </tr>\n",
       "    <tr>\n",
       "      <th>CZINY-0057_AACAACCTCATGCTAG</th>\n",
       "      <td>Memory B cells</td>\n",
       "      <td>18</td>\n",
       "      <td>Memory B cells</td>\n",
       "    </tr>\n",
       "    <tr>\n",
       "      <th>CZINY-0106_GTGTTCCAGTGTTGTC</th>\n",
       "      <td>Alveolar macrophages</td>\n",
       "      <td>56</td>\n",
       "      <td>Alveolar macrophages</td>\n",
       "    </tr>\n",
       "    <tr>\n",
       "      <th>...</th>\n",
       "      <td>...</td>\n",
       "      <td>...</td>\n",
       "      <td>...</td>\n",
       "    </tr>\n",
       "    <tr>\n",
       "      <th>CZINY-0104_TCCTCTTTCCGTTTCG</th>\n",
       "      <td>Tfh</td>\n",
       "      <td>206</td>\n",
       "      <td>Teffector/EM_CD4</td>\n",
       "    </tr>\n",
       "    <tr>\n",
       "      <th>Pan_T7980364_CGTGTAACATGCTGGC</th>\n",
       "      <td>Memory B cells</td>\n",
       "      <td>380</td>\n",
       "      <td>Memory B cells</td>\n",
       "    </tr>\n",
       "    <tr>\n",
       "      <th>CZINY-0104_CGGCAGTTCCATGCAA</th>\n",
       "      <td>Tem/emra_CD8</td>\n",
       "      <td>369</td>\n",
       "      <td>Trm/em_CD8</td>\n",
       "    </tr>\n",
       "    <tr>\n",
       "      <th>CZINY-0102_CGAAGTTAGCACTAGG</th>\n",
       "      <td>Tfh</td>\n",
       "      <td>3</td>\n",
       "      <td>Tfh</td>\n",
       "    </tr>\n",
       "    <tr>\n",
       "      <th>CZINY-0061_CGGGACTAGAGGCGGA</th>\n",
       "      <td>Trm_Th1/Th17</td>\n",
       "      <td>216</td>\n",
       "      <td>MAIT</td>\n",
       "    </tr>\n",
       "  </tbody>\n",
       "</table>\n",
       "<p>263810 rows × 3 columns</p>\n",
       "</div>"
      ],
      "text/plain": [
       "                                   predicted_labels over_clustering  \\\n",
       "CZINY-0105_CACCAAAAGTCAACAA            Tem/emra_CD8              71   \n",
       "CZINY-0109_TGCGATACACATAACC            Tem/emra_CD8             101   \n",
       "CZINY-0058_GCATCGGCAAGTCATC           Tnaive/CM_CD4               7   \n",
       "CZINY-0057_AACAACCTCATGCTAG          Memory B cells              18   \n",
       "CZINY-0106_GTGTTCCAGTGTTGTC    Alveolar macrophages              56   \n",
       "...                                             ...             ...   \n",
       "CZINY-0104_TCCTCTTTCCGTTTCG                     Tfh             206   \n",
       "Pan_T7980364_CGTGTAACATGCTGGC        Memory B cells             380   \n",
       "CZINY-0104_CGGCAGTTCCATGCAA            Tem/emra_CD8             369   \n",
       "CZINY-0102_CGAAGTTAGCACTAGG                     Tfh               3   \n",
       "CZINY-0061_CGGGACTAGAGGCGGA            Trm_Th1/Th17             216   \n",
       "\n",
       "                                    majority_voting  \n",
       "CZINY-0105_CACCAAAAGTCAACAA            Tem/emra_CD8  \n",
       "CZINY-0109_TGCGATACACATAACC            Tem/emra_CD8  \n",
       "CZINY-0058_GCATCGGCAAGTCATC           Tnaive/CM_CD4  \n",
       "CZINY-0057_AACAACCTCATGCTAG          Memory B cells  \n",
       "CZINY-0106_GTGTTCCAGTGTTGTC    Alveolar macrophages  \n",
       "...                                             ...  \n",
       "CZINY-0104_TCCTCTTTCCGTTTCG        Teffector/EM_CD4  \n",
       "Pan_T7980364_CGTGTAACATGCTGGC        Memory B cells  \n",
       "CZINY-0104_CGGCAGTTCCATGCAA              Trm/em_CD8  \n",
       "CZINY-0102_CGAAGTTAGCACTAGG                     Tfh  \n",
       "CZINY-0061_CGGGACTAGAGGCGGA                    MAIT  \n",
       "\n",
       "[263810 rows x 3 columns]"
      ]
     },
     "execution_count": 4,
     "metadata": {},
     "output_type": "execute_result"
    }
   ],
   "source": [
    "predictions_2 = ct.annotate(test, model = 'New Models/CT_45 Models/ct_model_2.pkl', majority_voting = True)\n",
    "predictions_2.predicted_labels"
   ]
  },
  {
   "cell_type": "code",
   "execution_count": 5,
   "id": "d58b2e88-5222-49e6-8895-9a79610066a3",
   "metadata": {},
   "outputs": [],
   "source": [
    "pred_adata2 = predictions_2.to_adata()"
   ]
  },
  {
   "cell_type": "code",
   "execution_count": 3,
   "id": "3de224b0-51a0-4ea5-841f-43eef71edbfe",
   "metadata": {
    "tags": []
   },
   "outputs": [],
   "source": [
    "#pred_adata2.write_h5ad('../../pred_model2.h5ad')\n",
    "pred_adata2= ad.read('../../pred_model2.h5ad')"
   ]
  },
  {
   "cell_type": "markdown",
   "id": "f53e37b0-87dd-43e8-ab55-2025a2e6d2bd",
   "metadata": {},
   "source": [
    "Model 3"
   ]
  },
  {
   "cell_type": "code",
   "execution_count": 6,
   "id": "a8a1b849-c873-458b-9f9f-5409db85891f",
   "metadata": {},
   "outputs": [
    {
     "name": "stderr",
     "output_type": "stream",
     "text": [
      "🔬 Input data has 263810 cells and 36601 genes\n",
      "🔗 Matching reference genes in the model\n",
      "🧬 304 features used for prediction\n",
      "⚖️ Scaling input data\n",
      "🖋️ Predicting labels\n",
      "✅ Prediction done!\n",
      "👀 Detected a neighborhood graph in the input object, will run over-clustering on the basis of it\n",
      "⛓️ Over-clustering input data with resolution set to 30\n",
      "🗳️ Majority voting the predictions\n",
      "✅ Majority voting done!\n"
     ]
    },
    {
     "data": {
      "text/html": [
       "<div>\n",
       "<style scoped>\n",
       "    .dataframe tbody tr th:only-of-type {\n",
       "        vertical-align: middle;\n",
       "    }\n",
       "\n",
       "    .dataframe tbody tr th {\n",
       "        vertical-align: top;\n",
       "    }\n",
       "\n",
       "    .dataframe thead th {\n",
       "        text-align: right;\n",
       "    }\n",
       "</style>\n",
       "<table border=\"1\" class=\"dataframe\">\n",
       "  <thead>\n",
       "    <tr style=\"text-align: right;\">\n",
       "      <th></th>\n",
       "      <th>predicted_labels</th>\n",
       "      <th>over_clustering</th>\n",
       "      <th>majority_voting</th>\n",
       "    </tr>\n",
       "  </thead>\n",
       "  <tbody>\n",
       "    <tr>\n",
       "      <th>CZINY-0105_CACCAAAAGTCAACAA</th>\n",
       "      <td>Tem/emra_CD8</td>\n",
       "      <td>71</td>\n",
       "      <td>Tem/emra_CD8</td>\n",
       "    </tr>\n",
       "    <tr>\n",
       "      <th>CZINY-0109_TGCGATACACATAACC</th>\n",
       "      <td>Tem/emra_CD8</td>\n",
       "      <td>101</td>\n",
       "      <td>Tem/emra_CD8</td>\n",
       "    </tr>\n",
       "    <tr>\n",
       "      <th>CZINY-0058_GCATCGGCAAGTCATC</th>\n",
       "      <td>Tnaive/CM_CD4</td>\n",
       "      <td>7</td>\n",
       "      <td>Tnaive/CM_CD4</td>\n",
       "    </tr>\n",
       "    <tr>\n",
       "      <th>CZINY-0057_AACAACCTCATGCTAG</th>\n",
       "      <td>Memory B cells</td>\n",
       "      <td>18</td>\n",
       "      <td>Memory B cells</td>\n",
       "    </tr>\n",
       "    <tr>\n",
       "      <th>CZINY-0106_GTGTTCCAGTGTTGTC</th>\n",
       "      <td>Alveolar macrophages</td>\n",
       "      <td>56</td>\n",
       "      <td>Alveolar macrophages</td>\n",
       "    </tr>\n",
       "    <tr>\n",
       "      <th>...</th>\n",
       "      <td>...</td>\n",
       "      <td>...</td>\n",
       "      <td>...</td>\n",
       "    </tr>\n",
       "    <tr>\n",
       "      <th>CZINY-0104_TCCTCTTTCCGTTTCG</th>\n",
       "      <td>Tfh</td>\n",
       "      <td>206</td>\n",
       "      <td>Teffector/EM_CD4</td>\n",
       "    </tr>\n",
       "    <tr>\n",
       "      <th>Pan_T7980364_CGTGTAACATGCTGGC</th>\n",
       "      <td>Memory B cells</td>\n",
       "      <td>380</td>\n",
       "      <td>Memory B cells</td>\n",
       "    </tr>\n",
       "    <tr>\n",
       "      <th>CZINY-0104_CGGCAGTTCCATGCAA</th>\n",
       "      <td>Trm/em_CD8</td>\n",
       "      <td>369</td>\n",
       "      <td>Trm/em_CD8</td>\n",
       "    </tr>\n",
       "    <tr>\n",
       "      <th>CZINY-0102_CGAAGTTAGCACTAGG</th>\n",
       "      <td>Tfh</td>\n",
       "      <td>3</td>\n",
       "      <td>Tfh</td>\n",
       "    </tr>\n",
       "    <tr>\n",
       "      <th>CZINY-0061_CGGGACTAGAGGCGGA</th>\n",
       "      <td>Trm_Th1/Th17</td>\n",
       "      <td>216</td>\n",
       "      <td>MAIT</td>\n",
       "    </tr>\n",
       "  </tbody>\n",
       "</table>\n",
       "<p>263810 rows × 3 columns</p>\n",
       "</div>"
      ],
      "text/plain": [
       "                                   predicted_labels over_clustering  \\\n",
       "CZINY-0105_CACCAAAAGTCAACAA            Tem/emra_CD8              71   \n",
       "CZINY-0109_TGCGATACACATAACC            Tem/emra_CD8             101   \n",
       "CZINY-0058_GCATCGGCAAGTCATC           Tnaive/CM_CD4               7   \n",
       "CZINY-0057_AACAACCTCATGCTAG          Memory B cells              18   \n",
       "CZINY-0106_GTGTTCCAGTGTTGTC    Alveolar macrophages              56   \n",
       "...                                             ...             ...   \n",
       "CZINY-0104_TCCTCTTTCCGTTTCG                     Tfh             206   \n",
       "Pan_T7980364_CGTGTAACATGCTGGC        Memory B cells             380   \n",
       "CZINY-0104_CGGCAGTTCCATGCAA              Trm/em_CD8             369   \n",
       "CZINY-0102_CGAAGTTAGCACTAGG                     Tfh               3   \n",
       "CZINY-0061_CGGGACTAGAGGCGGA            Trm_Th1/Th17             216   \n",
       "\n",
       "                                    majority_voting  \n",
       "CZINY-0105_CACCAAAAGTCAACAA            Tem/emra_CD8  \n",
       "CZINY-0109_TGCGATACACATAACC            Tem/emra_CD8  \n",
       "CZINY-0058_GCATCGGCAAGTCATC           Tnaive/CM_CD4  \n",
       "CZINY-0057_AACAACCTCATGCTAG          Memory B cells  \n",
       "CZINY-0106_GTGTTCCAGTGTTGTC    Alveolar macrophages  \n",
       "...                                             ...  \n",
       "CZINY-0104_TCCTCTTTCCGTTTCG        Teffector/EM_CD4  \n",
       "Pan_T7980364_CGTGTAACATGCTGGC        Memory B cells  \n",
       "CZINY-0104_CGGCAGTTCCATGCAA              Trm/em_CD8  \n",
       "CZINY-0102_CGAAGTTAGCACTAGG                     Tfh  \n",
       "CZINY-0061_CGGGACTAGAGGCGGA                    MAIT  \n",
       "\n",
       "[263810 rows x 3 columns]"
      ]
     },
     "execution_count": 6,
     "metadata": {},
     "output_type": "execute_result"
    }
   ],
   "source": [
    "predictions_3 = ct.annotate(test, model = 'New Models/CT_45 Models/ct_model_3.pkl', majority_voting = True)\n",
    "predictions_3.predicted_labels"
   ]
  },
  {
   "cell_type": "code",
   "execution_count": 7,
   "id": "279c60fc-3459-410b-a1ac-be1e8c83f507",
   "metadata": {},
   "outputs": [],
   "source": [
    "pred_adata3 = predictions_3.to_adata()"
   ]
  },
  {
   "cell_type": "code",
   "execution_count": 4,
   "id": "ce877518-1fad-4e81-bee9-1c1aa636c35e",
   "metadata": {
    "tags": []
   },
   "outputs": [],
   "source": [
    "#pred_adata3.write_h5ad('../../pred_model3.h5ad')\n",
    "pred_adata3= ad.read('../../pred_model3.h5ad')"
   ]
  },
  {
   "cell_type": "markdown",
   "id": "001709b7-af33-425c-98ec-bc61cab1da1b",
   "metadata": {},
   "source": [
    "Model 4"
   ]
  },
  {
   "cell_type": "code",
   "execution_count": 152,
   "id": "525d93af-53f8-43c7-943d-043a8a0acc2b",
   "metadata": {},
   "outputs": [
    {
     "name": "stderr",
     "output_type": "stream",
     "text": [
      "🔬 Input data has 263810 cells and 36601 genes\n",
      "🔗 Matching reference genes in the model\n",
      "🧬 4804 features used for prediction\n",
      "⚖️ Scaling input data\n",
      "🖋️ Predicting labels\n",
      "✅ Prediction done!\n",
      "👀 Detected a neighborhood graph in the input object, will run over-clustering on the basis of it\n",
      "⛓️ Over-clustering input data with resolution set to 30\n",
      "IOStream.flush timed out\n",
      "IOStream.flush timed out\n",
      "IOStream.flush timed out\n",
      "🗳️ Majority voting the predictions\n",
      "✅ Majority voting done!\n"
     ]
    },
    {
     "data": {
      "text/html": [
       "<div>\n",
       "<style scoped>\n",
       "    .dataframe tbody tr th:only-of-type {\n",
       "        vertical-align: middle;\n",
       "    }\n",
       "\n",
       "    .dataframe tbody tr th {\n",
       "        vertical-align: top;\n",
       "    }\n",
       "\n",
       "    .dataframe thead th {\n",
       "        text-align: right;\n",
       "    }\n",
       "</style>\n",
       "<table border=\"1\" class=\"dataframe\">\n",
       "  <thead>\n",
       "    <tr style=\"text-align: right;\">\n",
       "      <th></th>\n",
       "      <th>predicted_labels</th>\n",
       "      <th>over_clustering</th>\n",
       "      <th>majority_voting</th>\n",
       "    </tr>\n",
       "  </thead>\n",
       "  <tbody>\n",
       "    <tr>\n",
       "      <th>CZINY-0105_CACCAAAAGTCAACAA</th>\n",
       "      <td>Tem/emra_CD8</td>\n",
       "      <td>71</td>\n",
       "      <td>Tem/emra_CD8</td>\n",
       "    </tr>\n",
       "    <tr>\n",
       "      <th>CZINY-0109_TGCGATACACATAACC</th>\n",
       "      <td>Tem/emra_CD8</td>\n",
       "      <td>101</td>\n",
       "      <td>Tem/emra_CD8</td>\n",
       "    </tr>\n",
       "    <tr>\n",
       "      <th>CZINY-0058_GCATCGGCAAGTCATC</th>\n",
       "      <td>Tnaive/CM_CD4</td>\n",
       "      <td>7</td>\n",
       "      <td>Tnaive/CM_CD4</td>\n",
       "    </tr>\n",
       "    <tr>\n",
       "      <th>CZINY-0057_AACAACCTCATGCTAG</th>\n",
       "      <td>Memory B cells</td>\n",
       "      <td>18</td>\n",
       "      <td>Memory B cells</td>\n",
       "    </tr>\n",
       "    <tr>\n",
       "      <th>CZINY-0106_GTGTTCCAGTGTTGTC</th>\n",
       "      <td>Alveolar macrophages</td>\n",
       "      <td>56</td>\n",
       "      <td>Alveolar macrophages</td>\n",
       "    </tr>\n",
       "    <tr>\n",
       "      <th>...</th>\n",
       "      <td>...</td>\n",
       "      <td>...</td>\n",
       "      <td>...</td>\n",
       "    </tr>\n",
       "    <tr>\n",
       "      <th>CZINY-0104_TCCTCTTTCCGTTTCG</th>\n",
       "      <td>Tfh</td>\n",
       "      <td>206</td>\n",
       "      <td>Teffector/EM_CD4</td>\n",
       "    </tr>\n",
       "    <tr>\n",
       "      <th>Pan_T7980364_CGTGTAACATGCTGGC</th>\n",
       "      <td>Memory B cells</td>\n",
       "      <td>380</td>\n",
       "      <td>Memory B cells</td>\n",
       "    </tr>\n",
       "    <tr>\n",
       "      <th>CZINY-0104_CGGCAGTTCCATGCAA</th>\n",
       "      <td>Tem/emra_CD8</td>\n",
       "      <td>369</td>\n",
       "      <td>Trm/em_CD8</td>\n",
       "    </tr>\n",
       "    <tr>\n",
       "      <th>CZINY-0102_CGAAGTTAGCACTAGG</th>\n",
       "      <td>Tfh</td>\n",
       "      <td>3</td>\n",
       "      <td>Tfh</td>\n",
       "    </tr>\n",
       "    <tr>\n",
       "      <th>CZINY-0061_CGGGACTAGAGGCGGA</th>\n",
       "      <td>Trm_Th1/Th17</td>\n",
       "      <td>216</td>\n",
       "      <td>MAIT</td>\n",
       "    </tr>\n",
       "  </tbody>\n",
       "</table>\n",
       "<p>263810 rows × 3 columns</p>\n",
       "</div>"
      ],
      "text/plain": [
       "                                   predicted_labels over_clustering  \\\n",
       "CZINY-0105_CACCAAAAGTCAACAA            Tem/emra_CD8              71   \n",
       "CZINY-0109_TGCGATACACATAACC            Tem/emra_CD8             101   \n",
       "CZINY-0058_GCATCGGCAAGTCATC           Tnaive/CM_CD4               7   \n",
       "CZINY-0057_AACAACCTCATGCTAG          Memory B cells              18   \n",
       "CZINY-0106_GTGTTCCAGTGTTGTC    Alveolar macrophages              56   \n",
       "...                                             ...             ...   \n",
       "CZINY-0104_TCCTCTTTCCGTTTCG                     Tfh             206   \n",
       "Pan_T7980364_CGTGTAACATGCTGGC        Memory B cells             380   \n",
       "CZINY-0104_CGGCAGTTCCATGCAA            Tem/emra_CD8             369   \n",
       "CZINY-0102_CGAAGTTAGCACTAGG                     Tfh               3   \n",
       "CZINY-0061_CGGGACTAGAGGCGGA            Trm_Th1/Th17             216   \n",
       "\n",
       "                                    majority_voting  \n",
       "CZINY-0105_CACCAAAAGTCAACAA            Tem/emra_CD8  \n",
       "CZINY-0109_TGCGATACACATAACC            Tem/emra_CD8  \n",
       "CZINY-0058_GCATCGGCAAGTCATC           Tnaive/CM_CD4  \n",
       "CZINY-0057_AACAACCTCATGCTAG          Memory B cells  \n",
       "CZINY-0106_GTGTTCCAGTGTTGTC    Alveolar macrophages  \n",
       "...                                             ...  \n",
       "CZINY-0104_TCCTCTTTCCGTTTCG        Teffector/EM_CD4  \n",
       "Pan_T7980364_CGTGTAACATGCTGGC        Memory B cells  \n",
       "CZINY-0104_CGGCAGTTCCATGCAA              Trm/em_CD8  \n",
       "CZINY-0102_CGAAGTTAGCACTAGG                     Tfh  \n",
       "CZINY-0061_CGGGACTAGAGGCGGA                    MAIT  \n",
       "\n",
       "[263810 rows x 3 columns]"
      ]
     },
     "execution_count": 152,
     "metadata": {},
     "output_type": "execute_result"
    }
   ],
   "source": [
    "predictions_4 = ct.annotate(test, model = 'New Models/CT_45 Models/ct_model_4.pkl', majority_voting = True)\n",
    "predictions_4.predicted_labels"
   ]
  },
  {
   "cell_type": "code",
   "execution_count": 153,
   "id": "8508ff81-9869-4b08-823a-ae057edfa88c",
   "metadata": {},
   "outputs": [],
   "source": [
    "pred_adata4 = predictions_4.to_adata()"
   ]
  },
  {
   "cell_type": "code",
   "execution_count": 154,
   "id": "84e48b64-b84a-4713-8228-ee224b6c3261",
   "metadata": {
    "tags": []
   },
   "outputs": [],
   "source": [
    "#pred_adata4.write_h5ad('../../pred_model4.h5ad')\n",
    "pred_adata4= ad.read('../../pred_model4.h5ad')"
   ]
  },
  {
   "cell_type": "markdown",
   "id": "f279e80a-06ce-4750-bcd5-5819c0509352",
   "metadata": {
    "tags": []
   },
   "source": [
    "### Using CT_98 Models"
   ]
  },
  {
   "cell_type": "code",
   "execution_count": 9,
   "id": "3028dcfc-154c-4c85-9324-11591dd3ee64",
   "metadata": {},
   "outputs": [],
   "source": [
    "#Import test data - subset of CT_98 data \n",
    "test_98= ad.read('../../Data/CT_98_Test.h5ad')"
   ]
  },
  {
   "cell_type": "markdown",
   "id": "8161c97b-30bf-4a28-865d-8520fd674db0",
   "metadata": {},
   "source": [
    "Model 1"
   ]
  },
  {
   "cell_type": "code",
   "execution_count": 3,
   "id": "9f622f5a-071f-4bda-bfb2-b633e152a29f",
   "metadata": {
    "tags": []
   },
   "outputs": [
    {
     "name": "stderr",
     "output_type": "stream",
     "text": [
      "⚠️ Warning: invalid expression matrix, expect all genes and log1p normalized expression to 10000 counts per cell. The prediction result may not be accurate\n",
      "🔬 Input data has 540487 cells and 38995 genes\n",
      "🔗 Matching reference genes in the model\n",
      "🧬 7805 features used for prediction\n",
      "⚖️ Scaling input data\n",
      "🖋️ Predicting labels\n",
      "✅ Prediction done!\n",
      "👀 Can not detect a neighborhood graph, will construct one before the over-clustering\n",
      "⛓️ Over-clustering input data with resolution set to 30\n",
      "IOStream.flush timed out\n",
      "IOStream.flush timed out\n",
      "🗳️ Majority voting the predictions\n",
      "✅ Majority voting done!\n"
     ]
    }
   ],
   "source": [
    "predictions_98_0 = ct.annotate(test_98, model = 'New Models/CT_98 Models/98_model_0.pkl', majority_voting = True)\n",
    "#predictions_4.predicted_labels\n",
    "pred_adata98_0 = predictions_98_0.to_adata()\n",
    "pred_adata98_0.write_h5ad('../../predictions/pred_98_model0.h5ad')"
   ]
  },
  {
   "cell_type": "markdown",
   "id": "b862cedc-669a-4f8e-9b5c-b66819aaadc3",
   "metadata": {},
   "source": [
    "Model 2"
   ]
  },
  {
   "cell_type": "code",
   "execution_count": 5,
   "id": "f43a9393-8dc7-4997-83de-d125f21a94e3",
   "metadata": {},
   "outputs": [
    {
     "name": "stderr",
     "output_type": "stream",
     "text": [
      "⚠️ Warning: invalid expression matrix, expect all genes and log1p normalized expression to 10000 counts per cell. The prediction result may not be accurate\n",
      "🔬 Input data has 540487 cells and 38995 genes\n",
      "🔗 Matching reference genes in the model\n",
      "🧬 9121 features used for prediction\n",
      "⚖️ Scaling input data\n",
      "🖋️ Predicting labels\n",
      "✅ Prediction done!\n",
      "👀 Detected a neighborhood graph in the input object, will run over-clustering on the basis of it\n",
      "⛓️ Over-clustering input data with resolution set to 30\n",
      "🗳️ Majority voting the predictions\n",
      "✅ Majority voting done!\n"
     ]
    }
   ],
   "source": [
    "predictions_98_2 = ct.annotate(test_98, model = 'New Models/CT_98 Models/98_model_2.pkl', majority_voting = True)\n",
    "#predictions_4.pif x in genes:redicted_labels\n",
    "pred_adata98_2 = predictions_98_2.to_adata()\n",
    "pred_adata98_2.write_h5ad('../../predictions/pred_98_model2.h5ad')"
   ]
  },
  {
   "cell_type": "markdown",
   "id": "ca13db37-0bb4-459d-b227-de73ce0a4263",
   "metadata": {},
   "source": [
    "Model 3"
   ]
  },
  {
   "cell_type": "code",
   "execution_count": 10,
   "id": "214d5594-1add-46be-a4ac-5d23353d2de2",
   "metadata": {},
   "outputs": [
    {
     "name": "stderr",
     "output_type": "stream",
     "text": [
      "⚠️ Warning: invalid expression matrix, expect all genes and log1p normalized expression to 10000 counts per cell. The prediction result may not be accurate\n",
      "🔬 Input data has 540487 cells and 38995 genes\n",
      "🔗 Matching reference genes in the model\n",
      "🧬 303 features used for prediction\n",
      "⚖️ Scaling input data\n",
      "🖋️ Predicting labels\n",
      "✅ Prediction done!\n",
      "👀 Can not detect a neighborhood graph, will construct one before the over-clustering\n",
      "⛓️ Over-clustering input data with resolution set to 30\n",
      "IOStream.flush timed out\n",
      "IOStream.flush timed out\n",
      "🗳️ Majority voting the predictions\n",
      "✅ Majority voting done!\n"
     ]
    }
   ],
   "source": [
    "predictions_98_3 = ct.annotate(test_98, model = 'New Models/CT_98 Models/98_model_3.pkl', majority_voting = True)\n",
    "#predictions_4.predicted_labels\n",
    "pred_adata98_3 = predictions_98_3.to_adata()\n",
    "pred_adata98_3.write_h5ad('../../predictions/pred_98_model3.h5ad')"
   ]
  },
  {
   "cell_type": "markdown",
   "id": "19bdade4-ab47-4391-b149-6b0deaec6078",
   "metadata": {},
   "source": [
    "Model 4"
   ]
  },
  {
   "cell_type": "code",
   "execution_count": 11,
   "id": "b4515f61-e291-4f96-9efc-7d9af8723450",
   "metadata": {},
   "outputs": [
    {
     "name": "stderr",
     "output_type": "stream",
     "text": [
      "⚠️ Warning: invalid expression matrix, expect all genes and log1p normalized expression to 10000 counts per cell. The prediction result may not be accurate\n",
      "🔬 Input data has 540487 cells and 38995 genes\n",
      "🔗 Matching reference genes in the model\n",
      "🧬 7710 features used for prediction\n",
      "⚖️ Scaling input data\n",
      "🖋️ Predicting labels\n",
      "✅ Prediction done!\n",
      "👀 Detected a neighborhood graph in the input object, will run over-clustering on the basis of it\n",
      "⛓️ Over-clustering input data with resolution set to 30\n",
      "IOStream.flush timed out\n",
      "IOStream.flush timed out\n",
      "IOStream.flush timed out\n",
      "IOStream.flush timed out\n",
      "🗳️ Majority voting the predictions\n",
      "✅ Majority voting done!\n"
     ]
    }
   ],
   "source": [
    "predictions_98_4 = ct.annotate(test_98, model = 'New Models/CT_98 Models/98_model_4.pkl', majority_voting = True)\n",
    "#predictions_4.predicted_labels\n",
    "pred_adata98_4 = predictions_98_4.to_adata()\n",
    "pred_adata98_4.write_h5ad('../../predictions/pred_98_model4.h5ad')"
   ]
  },
  {
   "cell_type": "markdown",
   "id": "8f2b0558-ab9e-47ba-a4d8-4278927c32e9",
   "metadata": {
    "tags": []
   },
   "source": [
    "### Using COV_PBMC Models"
   ]
  },
  {
   "cell_type": "code",
   "execution_count": 3,
   "id": "1fb05d27-662e-4282-ae7a-d33493f0729f",
   "metadata": {
    "tags": []
   },
   "outputs": [],
   "source": [
    "#Import test data - subset of CT_98 data \n",
    "test_COV= ad.read('../../Data/test_COV.h5ad')\n",
    "#test_COV_cp = ad.read('../../Data/test_COV_cp.h5ad')"
   ]
  },
  {
   "cell_type": "markdown",
   "id": "043a07f8-30da-403b-8179-cb50b2f26d6d",
   "metadata": {},
   "source": [
    "Model 0"
   ]
  },
  {
   "cell_type": "code",
   "execution_count": 5,
   "id": "85b8a8a9-7ad3-4c66-b75b-6244c77bbdf6",
   "metadata": {
    "tags": []
   },
   "outputs": [
    {
     "name": "stderr",
     "output_type": "stream",
     "text": [
      "🔬 Input data has 517893 cells and 24737 genes\n",
      "🔗 Matching reference genes in the model\n",
      "🧬 4716 features used for prediction\n",
      "⚖️ Scaling input data\n",
      "🖋️ Predicting labels\n",
      "✅ Prediction done!\n",
      "👀 Can not detect a neighborhood graph, will construct one before the over-clustering\n",
      "⛓️ Over-clustering input data with resolution set to 30\n",
      "IOStream.flush timed out\n",
      "IOStream.flush timed out\n",
      "IOStream.flush timed out\n",
      "IOStream.flush timed out\n",
      "IOStream.flush timed out\n",
      "IOStream.flush timed out\n",
      "IOStream.flush timed out\n",
      "🗳️ Majority voting the predictions\n",
      "✅ Majority voting done!\n"
     ]
    }
   ],
   "source": [
    "predictions_COV_0 = ct.annotate(test_COV, model = 'New Models/COV_PBMC Models/COV_model_0.pkl', majority_voting = True)\n",
    "#predictions_4.predicted_labels\n",
    "pred_adataCOV_0 = predictions_COV_0.to_adata()\n",
    "pred_adataCOV_0.write_h5ad('../../predictions/pred_COV_model0.h5ad')"
   ]
  },
  {
   "cell_type": "markdown",
   "id": "d128aa54-d8dc-4b36-b30d-f7923b538732",
   "metadata": {},
   "source": [
    "Model 2"
   ]
  },
  {
   "cell_type": "code",
   "execution_count": 109,
   "id": "6ea6accd-6353-434d-8395-2d5a0f8db0f6",
   "metadata": {
    "tags": []
   },
   "outputs": [
    {
     "name": "stderr",
     "output_type": "stream",
     "text": [
      "🔬 Input data has 517893 cells and 24737 genes\n",
      "🔗 Matching reference genes in the model\n",
      "🧬 5968 features used for prediction\n",
      "⚖️ Scaling input data\n",
      "🖋️ Predicting labels\n",
      "✅ Prediction done!\n",
      "👀 Detected a neighborhood graph in the input object, will run over-clustering on the basis of it\n",
      "⛓️ Over-clustering input data with resolution set to 30\n",
      "IOStream.flush timed out\n",
      "IOStream.flush timed out\n",
      "IOStream.flush timed out\n",
      "IOStream.flush timed out\n",
      "IOStream.flush timed out\n",
      "IOStream.flush timed out\n",
      "IOStream.flush timed out\n",
      "IOStream.flush timed out\n",
      "IOStream.flush timed out\n",
      "IOStream.flush timed out\n",
      "IOStream.flush timed out\n",
      "IOStream.flush timed out\n",
      "🗳️ Majority voting the predictions\n",
      "✅ Majority voting done!\n"
     ]
    }
   ],
   "source": [
    "predictions_COV_2 = ct.annotate(test_COV, model = 'New Models/COV_PBMC Models/COV_model_2.pkl', majority_voting = True)\n",
    "#predictions_4.predicted_labels\n",
    "pred_adataCOV_2 = predictions_COV_2.to_adata()\n",
    "pred_adataCOV_2.write_h5ad('../../predictions/pred_COV_model2.h5ad')"
   ]
  },
  {
   "cell_type": "markdown",
   "id": "99181af9-0716-442a-92a9-5b117a7c2c33",
   "metadata": {},
   "source": [
    "Model 3"
   ]
  },
  {
   "cell_type": "code",
   "execution_count": 105,
   "id": "ea47a8d1-6970-4a15-8787-061a13ae9fa7",
   "metadata": {
    "tags": []
   },
   "outputs": [],
   "source": [
    "predictions_COV_3 = ct.annotate(test_COV, model = 'New Models/COV_PBMC Models/COV_model_3.pkl', majority_voting = True)\n",
    "#predictions_COV_4.predicted_labels\n",
    "pred_adataCOV_3 = predictions_COV_3.to_adata()\n",
    "pred_adataCOV_3.write_h5ad('../../predictions/pred_COV_model3.h5ad')"
   ]
  },
  {
   "cell_type": "code",
   "execution_count": 107,
   "id": "30affe19-4545-48e8-a37d-6a7991449a24",
   "metadata": {
    "tags": []
   },
   "outputs": [
    {
     "name": "stderr",
     "output_type": "stream",
     "text": [
      "⚠️ Warning: invalid expression matrix, expect all genes and log1p normalized expression to 10000 counts per cell. The prediction result may not be accurate\n",
      "🔬 Input data has 517893 cells and 300 genes\n",
      "🔗 Matching reference genes in the model\n",
      "🧬 298 features used for prediction\n",
      "⚖️ Scaling input data\n",
      "🖋️ Predicting labels\n",
      "✅ Prediction done!\n",
      "👀 Can not detect a neighborhood graph, will construct one before the over-clustering\n",
      "⛓️ Over-clustering input data with resolution set to 30\n",
      "IOStream.flush timed out\n",
      "IOStream.flush timed out\n",
      "🗳️ Majority voting the predictions\n",
      "✅ Majority voting done!\n"
     ]
    }
   ],
   "source": [
    "#making sure the f1 score is the same if we use dataset with all genes vs just cytopus genes \n",
    "#predictions_COV_cp_3 = ct.annotate(test_COV_cp, model = 'New Models/COV_PBMC Models/COV_model_3.pkl', majority_voting = True)\n",
    "#predictions_COV_3.predicted_labels\n",
    "#pred_adataCOV_cp_3 = predictions_COV_cp_3.to_adata()\n",
    "#pred_adataCOV_cp_3.write_h5ad('../../predictions/pred_COV_cp_model3.h5ad')"
   ]
  },
  {
   "cell_type": "markdown",
   "id": "39fd57d8-c6f3-4ed0-8c70-8d2ad2621abc",
   "metadata": {},
   "source": [
    "Model 4"
   ]
  },
  {
   "cell_type": "code",
   "execution_count": 10,
   "id": "e2e4bd32-d214-4da9-93b8-7dbc5e93225e",
   "metadata": {},
   "outputs": [
    {
     "name": "stderr",
     "output_type": "stream",
     "text": [
      "🔬 Input data has 517893 cells and 24737 genes\n",
      "🔗 Matching reference genes in the model\n",
      "🧬 4832 features used for prediction\n",
      "⚖️ Scaling input data\n",
      "🖋️ Predicting labels\n",
      "✅ Prediction done!\n",
      "👀 Can not detect a neighborhood graph, will construct one before the over-clustering\n",
      "⛓️ Over-clustering input data with resolution set to 30\n",
      "IOStream.flush timed out\n",
      "IOStream.flush timed out\n",
      "IOStream.flush timed out\n",
      "IOStream.flush timed out\n",
      "🗳️ Majority voting the predictions\n",
      "✅ Majority voting done!\n"
     ]
    }
   ],
   "source": [
    "predictions_COV_4 = ct.annotate(test_COV, model = 'New Models/COV_PBMC Models/COV_model_4.pkl', majority_voting = True)\n",
    "#predictions_4.predicted_labels\n",
    "pred_adataCOV_4 = predictions_COV_4.to_adata()\n",
    "pred_adataCOV_4.write_h5ad('../../predictions/pred_COV_model4.h5ad')"
   ]
  },
  {
   "cell_type": "markdown",
   "id": "30c231ac-5ea9-4122-8f38-1a05a359d6c6",
   "metadata": {
    "tags": []
   },
   "source": [
    "## Benchmarking\n",
    "### F1 scores\n",
    "Abdelaal et al. used median F1 scores as their primary statistic"
   ]
  },
  {
   "cell_type": "markdown",
   "id": "d44cc763-3977-4627-89be-1837df3299ca",
   "metadata": {
    "jp-MarkdownHeadingCollapsed": true,
    "tags": []
   },
   "source": [
    "#### Train & Test on CT_45"
   ]
  },
  {
   "cell_type": "code",
   "execution_count": 41,
   "id": "ed0eb86a-c564-4846-80e2-b3723a246b3a",
   "metadata": {
    "tags": []
   },
   "outputs": [
    {
     "data": {
      "text/plain": [
       "CZINY-0105_CACCAAAAGTCAACAA      Tem/Temra cytotoxic T cells\n",
       "CZINY-0109_TGCGATACACATAACC      Tem/Temra cytotoxic T cells\n",
       "CZINY-0058_GCATCGGCAAGTCATC         Tcm/Naive helper T cells\n",
       "CZINY-0057_AACAACCTCATGCTAG                   Memory B cells\n",
       "CZINY-0106_GTGTTCCAGTGTTGTC             Alveolar macrophages\n",
       "                                            ...             \n",
       "CZINY-0104_TCCTCTTTCCGTTTCG        Follicular helper T cells\n",
       "Pan_T7980364_CGTGTAACATGCTGGC                 Memory B cells\n",
       "CZINY-0104_CGGCAGTTCCATGCAA      Tem/Temra cytotoxic T cells\n",
       "CZINY-0102_CGAAGTTAGCACTAGG        Follicular helper T cells\n",
       "CZINY-0061_CGGGACTAGAGGCGGA                       MAIT cells\n",
       "Name: predicted_labels, Length: 263810, dtype: category\n",
       "Categories (83, object): ['Age-associated B cells', 'Alveolar macrophages', 'B cells', 'CD16+ NK cells', ..., 'Type 1 helper T cells', 'Type 17 helper T cells', 'gamma-delta T cells', 'pDC']"
      ]
     },
     "execution_count": 41,
     "metadata": {},
     "output_type": "execute_result"
    }
   ],
   "source": [
    "pred_adatact.obs[\"predicted_labels\"]"
   ]
  },
  {
   "cell_type": "code",
   "execution_count": 143,
   "id": "7bbe5885-b3eb-4443-84f5-0cfb9140f027",
   "metadata": {
    "tags": []
   },
   "outputs": [
    {
     "data": {
      "text/plain": [
       "0.8924290052746551"
      ]
     },
     "execution_count": 143,
     "metadata": {},
     "output_type": "execute_result"
    }
   ],
   "source": [
    "#og celltypist  - 0.892\n",
    "np.median(f1_score(pred_adatact.obs[\"Manually_curated_celltype\"], pred_adatact.obs[\"predicted_labels\"], average=None))"
   ]
  },
  {
   "cell_type": "code",
   "execution_count": null,
   "id": "c225960d-b079-4c56-ba20-e338c8aa9bfe",
   "metadata": {},
   "outputs": [],
   "source": [
    "#model 1 - cant get it to run, gets stuck on Scaling for too long \n",
    "#np.median(f1_score(pred_adata1.obs[\"Manually_curated_celltype\"], pred_adata1.obs[\"predicted_labels\"], average=None))"
   ]
  },
  {
   "cell_type": "code",
   "execution_count": 39,
   "id": "ad797106-f025-4509-984d-0f455b7a5360",
   "metadata": {
    "tags": []
   },
   "outputs": [
    {
     "data": {
      "text/plain": [
       "0.7401985360473279"
      ]
     },
     "execution_count": 39,
     "metadata": {},
     "output_type": "execute_result"
    }
   ],
   "source": [
    "#model 2  - 0.74\n",
    "np.median(f1_score(pred_adata2.obs[\"Manually_curated_celltype\"], pred_adata2.obs[\"predicted_labels\"], average=None))"
   ]
  },
  {
   "cell_type": "code",
   "execution_count": 38,
   "id": "16fbefaf-6190-4e38-80fb-b8e82fd56f0f",
   "metadata": {
    "tags": []
   },
   "outputs": [
    {
     "data": {
      "text/plain": [
       "0.7864401520440618"
      ]
     },
     "execution_count": 38,
     "metadata": {},
     "output_type": "execute_result"
    }
   ],
   "source": [
    "#model 3  - 0.79\n",
    "np.median(f1_score(pred_adata3.obs[\"Manually_curated_celltype\"], pred_adata3.obs[\"predicted_labels\"], average=None))"
   ]
  },
  {
   "cell_type": "code",
   "execution_count": 158,
   "id": "60ff92e4-a52d-4c10-adfd-6131687c3c32",
   "metadata": {
    "tags": []
   },
   "outputs": [
    {
     "data": {
      "text/plain": [
       "0.8866913027637537"
      ]
     },
     "execution_count": 158,
     "metadata": {},
     "output_type": "execute_result"
    }
   ],
   "source": [
    "#model 4 - 0.887\n",
    "np.median(f1_score(pred_adata4.obs[\"Manually_curated_celltype\"], pred_adata4.obs[\"predicted_labels\"], average = None))"
   ]
  },
  {
   "cell_type": "markdown",
   "id": "f57f2076-b039-4e97-99dd-88071ab80712",
   "metadata": {
    "tags": []
   },
   "source": [
    "#### Train & Test on CT_98"
   ]
  },
  {
   "cell_type": "code",
   "execution_count": 4,
   "id": "38ffd8f0-f4ec-4b99-b030-60c19c83c9fc",
   "metadata": {},
   "outputs": [
    {
     "data": {
      "text/plain": [
       "0.8438779688779688"
      ]
     },
     "execution_count": 4,
     "metadata": {},
     "output_type": "execute_result"
    }
   ],
   "source": [
    "#og celltypist  - 0.844\n",
    "np.median(f1_score(pred_adata98_0.obs[\"Harmonised_detailed_type\"], pred_adata98_0.obs[\"predicted_labels\"], average=None))"
   ]
  },
  {
   "cell_type": "code",
   "execution_count": 7,
   "id": "968f8519-e483-4671-8dde-5f0e2b51e299",
   "metadata": {},
   "outputs": [
    {
     "data": {
      "text/plain": [
       "0.5085253579098934"
      ]
     },
     "execution_count": 7,
     "metadata": {},
     "output_type": "execute_result"
    }
   ],
   "source": [
    "#model 2  - 0.508\n",
    "np.median(f1_score(pred_adata98_2.obs[\"Harmonised_detailed_type\"], pred_adata98_2.obs[\"predicted_labels\"], average=None))"
   ]
  },
  {
   "cell_type": "code",
   "execution_count": 14,
   "id": "7bd74135-d897-4fe2-a39a-6c251e12af39",
   "metadata": {},
   "outputs": [
    {
     "data": {
      "text/plain": [
       "0.8097257640640716"
      ]
     },
     "execution_count": 14,
     "metadata": {},
     "output_type": "execute_result"
    }
   ],
   "source": [
    "#model 3  - 0.810?\n",
    "np.median(f1_score(pred_adata98_3.obs[\"Harmonised_detailed_type\"], pred_adata98_3.obs[\"predicted_labels\"], average=None))"
   ]
  },
  {
   "cell_type": "code",
   "execution_count": 15,
   "id": "22f77246-eadf-4c16-b73a-ef0af04aeffe",
   "metadata": {},
   "outputs": [
    {
     "data": {
      "text/plain": [
       "0.8097257640640716"
      ]
     },
     "execution_count": 15,
     "metadata": {},
     "output_type": "execute_result"
    }
   ],
   "source": [
    "#model 4 - 0.810?\n",
    "np.median(f1_score(pred_adata98_4.obs[\"Harmonised_detailed_type\"], pred_adata98_4.obs[\"predicted_labels\"], average = None))"
   ]
  },
  {
   "cell_type": "markdown",
   "id": "580ee3c7-2418-400e-ba16-2330a9670b81",
   "metadata": {
    "jp-MarkdownHeadingCollapsed": true,
    "tags": []
   },
   "source": [
    "#### Train & Test on COV_45"
   ]
  },
  {
   "cell_type": "code",
   "execution_count": 7,
   "id": "03ccf0fc-4246-4dd4-bd6d-22d774cfd883",
   "metadata": {},
   "outputs": [
    {
     "data": {
      "text/plain": [
       "0.6092588150635644"
      ]
     },
     "execution_count": 7,
     "metadata": {},
     "output_type": "execute_result"
    }
   ],
   "source": [
    "#og celltypist model - 0.609\n",
    "np.median(f1_score(pred_adataCOV_0.obs[\"full_clustering\"], pred_adataCOV_0.obs[\"predicted_labels\"], average=None))"
   ]
  },
  {
   "cell_type": "code",
   "execution_count": 8,
   "id": "af3c77ba-6a95-4722-aaf6-105bb92832f8",
   "metadata": {
    "tags": []
   },
   "outputs": [
    {
     "data": {
      "text/html": [
       "<div>\n",
       "<style scoped>\n",
       "    .dataframe tbody tr th:only-of-type {\n",
       "        vertical-align: middle;\n",
       "    }\n",
       "\n",
       "    .dataframe tbody tr th {\n",
       "        vertical-align: top;\n",
       "    }\n",
       "\n",
       "    .dataframe thead th {\n",
       "        text-align: right;\n",
       "    }\n",
       "</style>\n",
       "<table border=\"1\" class=\"dataframe\">\n",
       "  <thead>\n",
       "    <tr style=\"text-align: right;\">\n",
       "      <th></th>\n",
       "      <th>sample_id</th>\n",
       "      <th>n_genes</th>\n",
       "      <th>n_genes_by_counts</th>\n",
       "      <th>total_counts</th>\n",
       "      <th>total_counts_mt</th>\n",
       "      <th>pct_counts_mt</th>\n",
       "      <th>full_clustering</th>\n",
       "      <th>initial_clustering</th>\n",
       "      <th>Resample</th>\n",
       "      <th>Collection_Day</th>\n",
       "      <th>...</th>\n",
       "      <th>Days_from_onset</th>\n",
       "      <th>Site</th>\n",
       "      <th>time_after_LPS</th>\n",
       "      <th>Worst_Clinical_Status</th>\n",
       "      <th>Outcome</th>\n",
       "      <th>patient_id</th>\n",
       "      <th>predicted_labels</th>\n",
       "      <th>over_clustering</th>\n",
       "      <th>majority_voting</th>\n",
       "      <th>conf_score</th>\n",
       "    </tr>\n",
       "    <tr>\n",
       "      <th>covid_index</th>\n",
       "      <th></th>\n",
       "      <th></th>\n",
       "      <th></th>\n",
       "      <th></th>\n",
       "      <th></th>\n",
       "      <th></th>\n",
       "      <th></th>\n",
       "      <th></th>\n",
       "      <th></th>\n",
       "      <th></th>\n",
       "      <th></th>\n",
       "      <th></th>\n",
       "      <th></th>\n",
       "      <th></th>\n",
       "      <th></th>\n",
       "      <th></th>\n",
       "      <th></th>\n",
       "      <th></th>\n",
       "      <th></th>\n",
       "      <th></th>\n",
       "      <th></th>\n",
       "    </tr>\n",
       "  </thead>\n",
       "  <tbody>\n",
       "    <tr>\n",
       "      <th>CATATGGAGGAATGGA-MH9143325</th>\n",
       "      <td>MH9143325</td>\n",
       "      <td>586</td>\n",
       "      <td>586</td>\n",
       "      <td>923.0</td>\n",
       "      <td>27.0</td>\n",
       "      <td>2.925244</td>\n",
       "      <td>CD83_CD14_mono</td>\n",
       "      <td>CD14</td>\n",
       "      <td>Initial</td>\n",
       "      <td>D0</td>\n",
       "      <td>...</td>\n",
       "      <td>7</td>\n",
       "      <td>Ncl</td>\n",
       "      <td>nan</td>\n",
       "      <td>Death</td>\n",
       "      <td>Death</td>\n",
       "      <td>MH9143325</td>\n",
       "      <td>CD14_mono</td>\n",
       "      <td>141</td>\n",
       "      <td>CD14_mono</td>\n",
       "      <td>1.000000e+00</td>\n",
       "    </tr>\n",
       "    <tr>\n",
       "      <th>GGGTCTGGTACGAAAT-MH9143372</th>\n",
       "      <td>MH9143372</td>\n",
       "      <td>1096</td>\n",
       "      <td>1096</td>\n",
       "      <td>3973.0</td>\n",
       "      <td>121.0</td>\n",
       "      <td>3.045557</td>\n",
       "      <td>CD4.Naive</td>\n",
       "      <td>CD4</td>\n",
       "      <td>Initial</td>\n",
       "      <td>D0</td>\n",
       "      <td>...</td>\n",
       "      <td>13</td>\n",
       "      <td>Ncl</td>\n",
       "      <td>nan</td>\n",
       "      <td>Non-covid</td>\n",
       "      <td>Home</td>\n",
       "      <td>MH9143372</td>\n",
       "      <td>CD4.Naive</td>\n",
       "      <td>342</td>\n",
       "      <td>CD4.Naive</td>\n",
       "      <td>1.000000e+00</td>\n",
       "    </tr>\n",
       "    <tr>\n",
       "      <th>S11_ACTATCTTCCAACCAA-1</th>\n",
       "      <td>AP10</td>\n",
       "      <td>1275</td>\n",
       "      <td>1275</td>\n",
       "      <td>2684.0</td>\n",
       "      <td>66.0</td>\n",
       "      <td>2.459016</td>\n",
       "      <td>B_exhausted</td>\n",
       "      <td>B_cell</td>\n",
       "      <td>Initial</td>\n",
       "      <td>D0</td>\n",
       "      <td>...</td>\n",
       "      <td>1</td>\n",
       "      <td>Sanger</td>\n",
       "      <td>nan</td>\n",
       "      <td>nan</td>\n",
       "      <td>unknown</td>\n",
       "      <td>AP10</td>\n",
       "      <td>B_naive</td>\n",
       "      <td>229</td>\n",
       "      <td>B_naive</td>\n",
       "      <td>1.000000e+00</td>\n",
       "    </tr>\n",
       "    <tr>\n",
       "      <th>TGACAACCAACCGCCA-MH9143273</th>\n",
       "      <td>MH9143273</td>\n",
       "      <td>654</td>\n",
       "      <td>654</td>\n",
       "      <td>1361.0</td>\n",
       "      <td>98.0</td>\n",
       "      <td>7.200588</td>\n",
       "      <td>CD8.Naive</td>\n",
       "      <td>CD8</td>\n",
       "      <td>Resample</td>\n",
       "      <td>D7</td>\n",
       "      <td>...</td>\n",
       "      <td>6</td>\n",
       "      <td>Ncl</td>\n",
       "      <td>nan</td>\n",
       "      <td>Critical</td>\n",
       "      <td>Home</td>\n",
       "      <td>MH9143273</td>\n",
       "      <td>CD8.Naive</td>\n",
       "      <td>150</td>\n",
       "      <td>CD8.Naive</td>\n",
       "      <td>1.000000e+00</td>\n",
       "    </tr>\n",
       "    <tr>\n",
       "      <th>GGAATAATCCGAGCCA-MH9143271</th>\n",
       "      <td>MH9143271</td>\n",
       "      <td>1114</td>\n",
       "      <td>1114</td>\n",
       "      <td>2566.0</td>\n",
       "      <td>49.0</td>\n",
       "      <td>1.909587</td>\n",
       "      <td>CD83_CD14_mono</td>\n",
       "      <td>CD14</td>\n",
       "      <td>Initial</td>\n",
       "      <td>D0</td>\n",
       "      <td>...</td>\n",
       "      <td>8</td>\n",
       "      <td>Ncl</td>\n",
       "      <td>nan</td>\n",
       "      <td>Mild</td>\n",
       "      <td>Home</td>\n",
       "      <td>MH9143271</td>\n",
       "      <td>CD83_CD14_mono</td>\n",
       "      <td>80</td>\n",
       "      <td>CD83_CD14_mono</td>\n",
       "      <td>1.000000e+00</td>\n",
       "    </tr>\n",
       "    <tr>\n",
       "      <th>...</th>\n",
       "      <td>...</td>\n",
       "      <td>...</td>\n",
       "      <td>...</td>\n",
       "      <td>...</td>\n",
       "      <td>...</td>\n",
       "      <td>...</td>\n",
       "      <td>...</td>\n",
       "      <td>...</td>\n",
       "      <td>...</td>\n",
       "      <td>...</td>\n",
       "      <td>...</td>\n",
       "      <td>...</td>\n",
       "      <td>...</td>\n",
       "      <td>...</td>\n",
       "      <td>...</td>\n",
       "      <td>...</td>\n",
       "      <td>...</td>\n",
       "      <td>...</td>\n",
       "      <td>...</td>\n",
       "      <td>...</td>\n",
       "      <td>...</td>\n",
       "    </tr>\n",
       "    <tr>\n",
       "      <th>ACACCCTTCGATGAGG-MH9143271</th>\n",
       "      <td>MH9143271</td>\n",
       "      <td>1277</td>\n",
       "      <td>1277</td>\n",
       "      <td>3097.0</td>\n",
       "      <td>42.0</td>\n",
       "      <td>1.356151</td>\n",
       "      <td>CD83_CD14_mono</td>\n",
       "      <td>CD14</td>\n",
       "      <td>Initial</td>\n",
       "      <td>D0</td>\n",
       "      <td>...</td>\n",
       "      <td>8</td>\n",
       "      <td>Ncl</td>\n",
       "      <td>nan</td>\n",
       "      <td>Mild</td>\n",
       "      <td>Home</td>\n",
       "      <td>MH9143271</td>\n",
       "      <td>CD83_CD14_mono</td>\n",
       "      <td>168</td>\n",
       "      <td>CD83_CD14_mono</td>\n",
       "      <td>1.000000e+00</td>\n",
       "    </tr>\n",
       "    <tr>\n",
       "      <th>S14_CAAGATCCAATGGAAT-1</th>\n",
       "      <td>AP2</td>\n",
       "      <td>531</td>\n",
       "      <td>531</td>\n",
       "      <td>750.0</td>\n",
       "      <td>38.0</td>\n",
       "      <td>5.066667</td>\n",
       "      <td>gdT</td>\n",
       "      <td>CD4</td>\n",
       "      <td>Initial</td>\n",
       "      <td>D0</td>\n",
       "      <td>...</td>\n",
       "      <td>47</td>\n",
       "      <td>Sanger</td>\n",
       "      <td>nan</td>\n",
       "      <td>nan</td>\n",
       "      <td>unknown</td>\n",
       "      <td>AP2</td>\n",
       "      <td>CD4.Tfh</td>\n",
       "      <td>223</td>\n",
       "      <td>CD4.Tfh</td>\n",
       "      <td>1.000000e+00</td>\n",
       "    </tr>\n",
       "    <tr>\n",
       "      <th>CAGAGAGGTTGCGTTA-MH9179825</th>\n",
       "      <td>MH9179825</td>\n",
       "      <td>2142</td>\n",
       "      <td>2142</td>\n",
       "      <td>9305.0</td>\n",
       "      <td>191.0</td>\n",
       "      <td>2.052660</td>\n",
       "      <td>CD4.CM</td>\n",
       "      <td>CD4</td>\n",
       "      <td>Initial</td>\n",
       "      <td>D0</td>\n",
       "      <td>...</td>\n",
       "      <td>13</td>\n",
       "      <td>Ncl</td>\n",
       "      <td>nan</td>\n",
       "      <td>Moderate</td>\n",
       "      <td>Home</td>\n",
       "      <td>MH9179825</td>\n",
       "      <td>CD4.CM</td>\n",
       "      <td>256</td>\n",
       "      <td>CD4.CM</td>\n",
       "      <td>1.000000e+00</td>\n",
       "    </tr>\n",
       "    <tr>\n",
       "      <th>BGCV10_CGTAGGCGTTGCTCCT-1</th>\n",
       "      <td>BGCV10_CV0231</td>\n",
       "      <td>568</td>\n",
       "      <td>568</td>\n",
       "      <td>1193.0</td>\n",
       "      <td>59.0</td>\n",
       "      <td>4.945516</td>\n",
       "      <td>CD8.EM</td>\n",
       "      <td>CD8</td>\n",
       "      <td>Initial</td>\n",
       "      <td>D0</td>\n",
       "      <td>...</td>\n",
       "      <td>Healthy</td>\n",
       "      <td>Cambridge</td>\n",
       "      <td>nan</td>\n",
       "      <td>Asymptomatic</td>\n",
       "      <td>Home</td>\n",
       "      <td>CV0231</td>\n",
       "      <td>CD8.TE</td>\n",
       "      <td>50</td>\n",
       "      <td>CD8.TE</td>\n",
       "      <td>2.616917e-19</td>\n",
       "    </tr>\n",
       "    <tr>\n",
       "      <th>ACCCACTGTTTGTTTC-MH9143272</th>\n",
       "      <td>MH9143272</td>\n",
       "      <td>1721</td>\n",
       "      <td>1721</td>\n",
       "      <td>4201.0</td>\n",
       "      <td>92.0</td>\n",
       "      <td>2.189955</td>\n",
       "      <td>CD8.TE</td>\n",
       "      <td>CD8</td>\n",
       "      <td>Initial</td>\n",
       "      <td>D0</td>\n",
       "      <td>...</td>\n",
       "      <td>1</td>\n",
       "      <td>Ncl</td>\n",
       "      <td>nan</td>\n",
       "      <td>Mild</td>\n",
       "      <td>Home</td>\n",
       "      <td>MH9143272</td>\n",
       "      <td>CD8.TE</td>\n",
       "      <td>138</td>\n",
       "      <td>CD8.TE</td>\n",
       "      <td>1.000000e+00</td>\n",
       "    </tr>\n",
       "  </tbody>\n",
       "</table>\n",
       "<p>517893 rows × 27 columns</p>\n",
       "</div>"
      ],
      "text/plain": [
       "                                sample_id  n_genes  n_genes_by_counts  \\\n",
       "covid_index                                                             \n",
       "CATATGGAGGAATGGA-MH9143325      MH9143325      586                586   \n",
       "GGGTCTGGTACGAAAT-MH9143372      MH9143372     1096               1096   \n",
       "S11_ACTATCTTCCAACCAA-1               AP10     1275               1275   \n",
       "TGACAACCAACCGCCA-MH9143273      MH9143273      654                654   \n",
       "GGAATAATCCGAGCCA-MH9143271      MH9143271     1114               1114   \n",
       "...                                   ...      ...                ...   \n",
       "ACACCCTTCGATGAGG-MH9143271      MH9143271     1277               1277   \n",
       "S14_CAAGATCCAATGGAAT-1                AP2      531                531   \n",
       "CAGAGAGGTTGCGTTA-MH9179825      MH9179825     2142               2142   \n",
       "BGCV10_CGTAGGCGTTGCTCCT-1   BGCV10_CV0231      568                568   \n",
       "ACCCACTGTTTGTTTC-MH9143272      MH9143272     1721               1721   \n",
       "\n",
       "                            total_counts  total_counts_mt  pct_counts_mt  \\\n",
       "covid_index                                                                \n",
       "CATATGGAGGAATGGA-MH9143325         923.0             27.0       2.925244   \n",
       "GGGTCTGGTACGAAAT-MH9143372        3973.0            121.0       3.045557   \n",
       "S11_ACTATCTTCCAACCAA-1            2684.0             66.0       2.459016   \n",
       "TGACAACCAACCGCCA-MH9143273        1361.0             98.0       7.200588   \n",
       "GGAATAATCCGAGCCA-MH9143271        2566.0             49.0       1.909587   \n",
       "...                                  ...              ...            ...   \n",
       "ACACCCTTCGATGAGG-MH9143271        3097.0             42.0       1.356151   \n",
       "S14_CAAGATCCAATGGAAT-1             750.0             38.0       5.066667   \n",
       "CAGAGAGGTTGCGTTA-MH9179825        9305.0            191.0       2.052660   \n",
       "BGCV10_CGTAGGCGTTGCTCCT-1         1193.0             59.0       4.945516   \n",
       "ACCCACTGTTTGTTTC-MH9143272        4201.0             92.0       2.189955   \n",
       "\n",
       "                           full_clustering initial_clustering  Resample  \\\n",
       "covid_index                                                               \n",
       "CATATGGAGGAATGGA-MH9143325  CD83_CD14_mono               CD14   Initial   \n",
       "GGGTCTGGTACGAAAT-MH9143372       CD4.Naive                CD4   Initial   \n",
       "S11_ACTATCTTCCAACCAA-1         B_exhausted             B_cell   Initial   \n",
       "TGACAACCAACCGCCA-MH9143273       CD8.Naive                CD8  Resample   \n",
       "GGAATAATCCGAGCCA-MH9143271  CD83_CD14_mono               CD14   Initial   \n",
       "...                                    ...                ...       ...   \n",
       "ACACCCTTCGATGAGG-MH9143271  CD83_CD14_mono               CD14   Initial   \n",
       "S14_CAAGATCCAATGGAAT-1                 gdT                CD4   Initial   \n",
       "CAGAGAGGTTGCGTTA-MH9179825          CD4.CM                CD4   Initial   \n",
       "BGCV10_CGTAGGCGTTGCTCCT-1           CD8.EM                CD8   Initial   \n",
       "ACCCACTGTTTGTTTC-MH9143272          CD8.TE                CD8   Initial   \n",
       "\n",
       "                           Collection_Day  ... Days_from_onset       Site  \\\n",
       "covid_index                                ...                              \n",
       "CATATGGAGGAATGGA-MH9143325             D0  ...               7        Ncl   \n",
       "GGGTCTGGTACGAAAT-MH9143372             D0  ...              13        Ncl   \n",
       "S11_ACTATCTTCCAACCAA-1                 D0  ...               1     Sanger   \n",
       "TGACAACCAACCGCCA-MH9143273             D7  ...               6        Ncl   \n",
       "GGAATAATCCGAGCCA-MH9143271             D0  ...               8        Ncl   \n",
       "...                                   ...  ...             ...        ...   \n",
       "ACACCCTTCGATGAGG-MH9143271             D0  ...               8        Ncl   \n",
       "S14_CAAGATCCAATGGAAT-1                 D0  ...              47     Sanger   \n",
       "CAGAGAGGTTGCGTTA-MH9179825             D0  ...              13        Ncl   \n",
       "BGCV10_CGTAGGCGTTGCTCCT-1              D0  ...         Healthy  Cambridge   \n",
       "ACCCACTGTTTGTTTC-MH9143272             D0  ...               1        Ncl   \n",
       "\n",
       "                           time_after_LPS Worst_Clinical_Status  Outcome  \\\n",
       "covid_index                                                                \n",
       "CATATGGAGGAATGGA-MH9143325            nan                 Death    Death   \n",
       "GGGTCTGGTACGAAAT-MH9143372            nan             Non-covid     Home   \n",
       "S11_ACTATCTTCCAACCAA-1                nan                   nan  unknown   \n",
       "TGACAACCAACCGCCA-MH9143273            nan             Critical      Home   \n",
       "GGAATAATCCGAGCCA-MH9143271            nan                  Mild     Home   \n",
       "...                                   ...                   ...      ...   \n",
       "ACACCCTTCGATGAGG-MH9143271            nan                  Mild     Home   \n",
       "S14_CAAGATCCAATGGAAT-1                nan                   nan  unknown   \n",
       "CAGAGAGGTTGCGTTA-MH9179825            nan              Moderate     Home   \n",
       "BGCV10_CGTAGGCGTTGCTCCT-1             nan          Asymptomatic     Home   \n",
       "ACCCACTGTTTGTTTC-MH9143272            nan                  Mild     Home   \n",
       "\n",
       "                           patient_id predicted_labels over_clustering  \\\n",
       "covid_index                                                              \n",
       "CATATGGAGGAATGGA-MH9143325  MH9143325        CD14_mono             141   \n",
       "GGGTCTGGTACGAAAT-MH9143372  MH9143372        CD4.Naive             342   \n",
       "S11_ACTATCTTCCAACCAA-1           AP10          B_naive             229   \n",
       "TGACAACCAACCGCCA-MH9143273  MH9143273        CD8.Naive             150   \n",
       "GGAATAATCCGAGCCA-MH9143271  MH9143271   CD83_CD14_mono              80   \n",
       "...                               ...              ...             ...   \n",
       "ACACCCTTCGATGAGG-MH9143271  MH9143271   CD83_CD14_mono             168   \n",
       "S14_CAAGATCCAATGGAAT-1            AP2          CD4.Tfh             223   \n",
       "CAGAGAGGTTGCGTTA-MH9179825  MH9179825           CD4.CM             256   \n",
       "BGCV10_CGTAGGCGTTGCTCCT-1      CV0231           CD8.TE              50   \n",
       "ACCCACTGTTTGTTTC-MH9143272  MH9143272           CD8.TE             138   \n",
       "\n",
       "                           majority_voting    conf_score  \n",
       "covid_index                                               \n",
       "CATATGGAGGAATGGA-MH9143325       CD14_mono  1.000000e+00  \n",
       "GGGTCTGGTACGAAAT-MH9143372       CD4.Naive  1.000000e+00  \n",
       "S11_ACTATCTTCCAACCAA-1             B_naive  1.000000e+00  \n",
       "TGACAACCAACCGCCA-MH9143273       CD8.Naive  1.000000e+00  \n",
       "GGAATAATCCGAGCCA-MH9143271  CD83_CD14_mono  1.000000e+00  \n",
       "...                                    ...           ...  \n",
       "ACACCCTTCGATGAGG-MH9143271  CD83_CD14_mono  1.000000e+00  \n",
       "S14_CAAGATCCAATGGAAT-1             CD4.Tfh  1.000000e+00  \n",
       "CAGAGAGGTTGCGTTA-MH9179825          CD4.CM  1.000000e+00  \n",
       "BGCV10_CGTAGGCGTTGCTCCT-1           CD8.TE  2.616917e-19  \n",
       "ACCCACTGTTTGTTTC-MH9143272          CD8.TE  1.000000e+00  \n",
       "\n",
       "[517893 rows x 27 columns]"
      ]
     },
     "execution_count": 8,
     "metadata": {},
     "output_type": "execute_result"
    }
   ],
   "source": [
    "pred_adataCOV_0.obs"
   ]
  },
  {
   "cell_type": "code",
   "execution_count": 110,
   "id": "40ab3852-87d5-40c1-aa87-796d119ee3ef",
   "metadata": {
    "tags": []
   },
   "outputs": [
    {
     "data": {
      "text/plain": [
       "0.5556809631301732"
      ]
     },
     "execution_count": 110,
     "metadata": {},
     "output_type": "execute_result"
    }
   ],
   "source": [
    "#model 2  - \n",
    "np.median(f1_score(pred_adataCOV_2.obs[\"full_clustering\"], pred_adataCOV_2.obs[\"predicted_labels\"], average=None))"
   ]
  },
  {
   "cell_type": "code",
   "execution_count": 106,
   "id": "41e4860e-b576-48ac-8368-2d70d0594f0b",
   "metadata": {
    "tags": []
   },
   "outputs": [
    {
     "data": {
      "text/plain": [
       "0.5069204152249135"
      ]
     },
     "execution_count": 106,
     "metadata": {},
     "output_type": "execute_result"
    }
   ],
   "source": [
    "#model 3 - 0.507\n",
    "np.median(f1_score(pred_adataCOV_3.obs[\"full_clustering\"], pred_adataCOV_3.obs[\"predicted_labels\"], average=None))"
   ]
  },
  {
   "cell_type": "code",
   "execution_count": 108,
   "id": "decd43f1-6686-4dc0-8368-ff69cab5b081",
   "metadata": {
    "tags": []
   },
   "outputs": [
    {
     "data": {
      "text/plain": [
       "0.5069204152249135"
      ]
     },
     "execution_count": 108,
     "metadata": {},
     "output_type": "execute_result"
    }
   ],
   "source": [
    "#model 3 cytopus genes dataset to make sure they are the same - 0.507\n",
    "np.median(f1_score(pred_adataCOV_cp_3.obs[\"full_clustering\"], pred_adataCOV_cp_3.obs[\"predicted_labels\"], average=None))"
   ]
  },
  {
   "cell_type": "code",
   "execution_count": null,
   "id": "637ea315-2e60-4b52-98e1-a65e93ea00b3",
   "metadata": {},
   "outputs": [
    {
     "data": {
      "text/plain": [
       "0.5759539236861051"
      ]
     },
     "execution_count": 11,
     "metadata": {},
     "output_type": "execute_result"
    }
   ],
   "source": [
    "#model 4 - \n",
    "np.median(f1_score(pred_adataCOV_4.obs[\"full_clustering\"], pred_adataCOV_4.obs[\"predicted_labels\"], average = None))"
   ]
  }
 ],
 "metadata": {
  "kernelspec": {
   "display_name": "Python 3 (ipykernel)",
   "language": "python",
   "name": "python3"
  },
  "language_info": {
   "codemirror_mode": {
    "name": "ipython",
    "version": 3
   },
   "file_extension": ".py",
   "mimetype": "text/x-python",
   "name": "python",
   "nbconvert_exporter": "python",
   "pygments_lexer": "ipython3",
   "version": "3.8.16"
  }
 },
 "nbformat": 4,
 "nbformat_minor": 5
}
