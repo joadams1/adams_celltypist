{
 "cells": [
  {
   "cell_type": "markdown",
   "id": "e14bec32-8dd6-4a91-a998-bc42188c68b9",
   "metadata": {},
   "source": [
    "# Testing/Benchmarking Celltypist Models \n",
    "### List of Models (made in Making New Models.ipynb)\n",
    "1. Remove the feature selection from CellTypist (so it only trains the model once)\n",
    "2. Train the model with L1 regularization instead of L2\n",
    "3. Train the model only once with only Cytopus genes\n",
    "4. At the feature selection step, make sure the Cytopus genes are included in the list of top genes"
   ]
  },
  {
   "cell_type": "code",
   "execution_count": 1,
   "id": "92be23f9-d464-482d-a464-a57f73417c28",
   "metadata": {
    "tags": []
   },
   "outputs": [],
   "source": [
    "import scanpy as sc\n",
    "import pandas as pd\n",
    "import anndata as ad\n",
    "from anndata import AnnData\n",
    "import numpy as np\n",
    "from scipy.sparse import spmatrix\n",
    "from datetime import datetime\n",
    "import itertools\n",
    "from sklearn.metrics import f1_score\n",
    "import matplotlib.pyplot as plt\n",
    "\n",
    "#import celltypist as ct\n",
    "#from celltypist import models\n",
    "\n",
    "from  annotate import annotate\n"
   ]
  },
  {
   "cell_type": "code",
   "execution_count": null,
   "id": "0b34f247-62ba-41fa-8fb0-832ec8975548",
   "metadata": {
    "tags": []
   },
   "outputs": [],
   "source": [
    "#Import models \n",
    "##Celltypist default model \n",
    "models.download_models(model = 'Immune_All_Low.pkl')\n",
    "\n",
    "##New Models\n",
    "model_1 = models.Model.load('New Models/CT_45 Models/ct_model_1.pkl')\n",
    "model_2 = models.Model.load('New Models/CT_45 Models/ct_model_2.pkl')\n",
    "model_3 = models.Model.load('New Models/CT_45 Models/ct_model_3.pkl')\n",
    "model_4 = models.Model.load('New Models/CT_45 Models/ct_model_4.pkl')"
   ]
  },
  {
   "cell_type": "code",
   "execution_count": null,
   "id": "63bf5f9e-4b48-4a71-9c32-e3182617898e",
   "metadata": {
    "tags": []
   },
   "outputs": [],
   "source": [
    "models.download_models(model = 'Healthy_COVID19_PBMC.pkl')"
   ]
  },
  {
   "cell_type": "markdown",
   "id": "9aad6ec5-4d53-4273-8378-d0edee9ec8ed",
   "metadata": {
    "tags": []
   },
   "source": [
    "## Get celltype predictions from each model"
   ]
  },
  {
   "cell_type": "markdown",
   "id": "50394a79-4041-4dbc-a802-37df78d91f3f",
   "metadata": {
    "jp-MarkdownHeadingCollapsed": true,
    "tags": []
   },
   "source": [
    "### Using CT_45 Models"
   ]
  },
  {
   "cell_type": "code",
   "execution_count": null,
   "id": "a3ba64c9-21ff-4c85-ab68-758792e2a13f",
   "metadata": {
    "tags": []
   },
   "outputs": [],
   "source": [
    "#Import test data - subset of Celltypist data \n",
    "test= ad.read('../../Data/Celltypist_test.h5ad')"
   ]
  },
  {
   "cell_type": "code",
   "execution_count": null,
   "id": "1d7299e4-017f-44a3-b285-d0ec88a56f1b",
   "metadata": {
    "tags": []
   },
   "outputs": [],
   "source": [
    "predictions_ct = ct.annotate(test, model = 'New Models/CT_45 Models/ct_model_0.pkl', majority_voting = True)\n",
    "predictions_ct.predicted_labels"
   ]
  },
  {
   "cell_type": "code",
   "execution_count": null,
   "id": "e774ce29-e0b6-4f24-bc4e-00be76a91d13",
   "metadata": {
    "tags": []
   },
   "outputs": [],
   "source": [
    "pred_adatact = predictions_ct.to_adata()\n",
    "pred_adatact.write_h5ad('../../pred_modelct.h5ad')"
   ]
  },
  {
   "cell_type": "markdown",
   "id": "79e82838-7411-44c5-9a48-30a5ae387861",
   "metadata": {},
   "source": [
    "Model 1"
   ]
  },
  {
   "cell_type": "code",
   "execution_count": null,
   "id": "10f9c155-ef72-43ff-b324-6472a14b1b4f",
   "metadata": {},
   "outputs": [],
   "source": [
    "predictions_1 = ct.annotate(test, model = 'New Models/CT_45 Models/ct_model_1.pkl', majority_voting = True)\n",
    "predictions_1.predicted_labels"
   ]
  },
  {
   "cell_type": "code",
   "execution_count": null,
   "id": "e04da4d7-1c0b-4028-a054-53d72981cbc5",
   "metadata": {},
   "outputs": [],
   "source": [
    "pred_adata1 = predictions_1.to_adata()\n",
    "pred_adata1.write_h5ad('../../pred_model1.h5ad')"
   ]
  },
  {
   "cell_type": "markdown",
   "id": "0b2e0318-a609-4e92-b905-92a87a7349b3",
   "metadata": {},
   "source": [
    "Model 2"
   ]
  },
  {
   "cell_type": "code",
   "execution_count": null,
   "id": "bd02f1ac-0a83-45ae-a80c-abbc23e444fe",
   "metadata": {
    "tags": []
   },
   "outputs": [],
   "source": [
    "predictions_2 = ct.annotate(test, model = 'New Models/CT_45 Models/ct_model_2.pkl', majority_voting = True)\n",
    "predictions_2.predicted_labels"
   ]
  },
  {
   "cell_type": "code",
   "execution_count": null,
   "id": "d58b2e88-5222-49e6-8895-9a79610066a3",
   "metadata": {},
   "outputs": [],
   "source": [
    "pred_adata2 = predictions_2.to_adata()"
   ]
  },
  {
   "cell_type": "code",
   "execution_count": null,
   "id": "3de224b0-51a0-4ea5-841f-43eef71edbfe",
   "metadata": {
    "tags": []
   },
   "outputs": [],
   "source": [
    "#pred_adata2.write_h5ad('../../pred_model2.h5ad')\n",
    "pred_adata2= ad.read('../../pred_model2.h5ad')"
   ]
  },
  {
   "cell_type": "markdown",
   "id": "f53e37b0-87dd-43e8-ab55-2025a2e6d2bd",
   "metadata": {},
   "source": [
    "Model 3"
   ]
  },
  {
   "cell_type": "code",
   "execution_count": null,
   "id": "a8a1b849-c873-458b-9f9f-5409db85891f",
   "metadata": {},
   "outputs": [],
   "source": [
    "predictions_3 = ct.annotate(test, model = 'New Models/CT_45 Models/ct_model_3.pkl', majority_voting = True)\n",
    "predictions_3.predicted_labels"
   ]
  },
  {
   "cell_type": "code",
   "execution_count": null,
   "id": "279c60fc-3459-410b-a1ac-be1e8c83f507",
   "metadata": {},
   "outputs": [],
   "source": [
    "pred_adata3 = predictions_3.to_adata()"
   ]
  },
  {
   "cell_type": "code",
   "execution_count": null,
   "id": "ce877518-1fad-4e81-bee9-1c1aa636c35e",
   "metadata": {
    "tags": []
   },
   "outputs": [],
   "source": [
    "#pred_adata3.write_h5ad('../../pred_model3.h5ad')\n",
    "pred_adata3= ad.read('../../pred_model3.h5ad')"
   ]
  },
  {
   "cell_type": "markdown",
   "id": "001709b7-af33-425c-98ec-bc61cab1da1b",
   "metadata": {},
   "source": [
    "Model 4"
   ]
  },
  {
   "cell_type": "code",
   "execution_count": null,
   "id": "525d93af-53f8-43c7-943d-043a8a0acc2b",
   "metadata": {},
   "outputs": [],
   "source": [
    "predictions_4 = ct.annotate(test, model = 'New Models/CT_45 Models/ct_model_4.pkl', majority_voting = True)\n",
    "predictions_4.predicted_labels"
   ]
  },
  {
   "cell_type": "code",
   "execution_count": null,
   "id": "8508ff81-9869-4b08-823a-ae057edfa88c",
   "metadata": {},
   "outputs": [],
   "source": [
    "pred_adata4 = predictions_4.to_adata()"
   ]
  },
  {
   "cell_type": "code",
   "execution_count": null,
   "id": "84e48b64-b84a-4713-8228-ee224b6c3261",
   "metadata": {
    "tags": []
   },
   "outputs": [],
   "source": [
    "#pred_adata4.write_h5ad('../../pred_model4.h5ad')\n",
    "pred_adata4= ad.read('../../pred_model4.h5ad')"
   ]
  },
  {
   "cell_type": "markdown",
   "id": "f279e80a-06ce-4750-bcd5-5819c0509352",
   "metadata": {
    "jp-MarkdownHeadingCollapsed": true,
    "tags": []
   },
   "source": [
    "### Using CT_98 Models"
   ]
  },
  {
   "cell_type": "code",
   "execution_count": null,
   "id": "3028dcfc-154c-4c85-9324-11591dd3ee64",
   "metadata": {},
   "outputs": [],
   "source": [
    "#Import test data - subset of CT_98 data \n",
    "test_98= ad.read('../../Data/CT_98_Test.h5ad')"
   ]
  },
  {
   "cell_type": "markdown",
   "id": "8161c97b-30bf-4a28-865d-8520fd674db0",
   "metadata": {},
   "source": [
    "Model 1"
   ]
  },
  {
   "cell_type": "code",
   "execution_count": null,
   "id": "9f622f5a-071f-4bda-bfb2-b633e152a29f",
   "metadata": {
    "tags": []
   },
   "outputs": [],
   "source": [
    "predictions_98_0 = ct.annotate(test_98, model = 'New Models/CT_98 Models/98_model_0.pkl', majority_voting = True)\n",
    "#predictions_4.predicted_labels\n",
    "pred_adata98_0 = predictions_98_0.to_adata()\n",
    "pred_adata98_0.write_h5ad('../../predictions/pred_98_model0.h5ad')"
   ]
  },
  {
   "cell_type": "markdown",
   "id": "b862cedc-669a-4f8e-9b5c-b66819aaadc3",
   "metadata": {},
   "source": [
    "Model 2"
   ]
  },
  {
   "cell_type": "code",
   "execution_count": null,
   "id": "f43a9393-8dc7-4997-83de-d125f21a94e3",
   "metadata": {},
   "outputs": [],
   "source": [
    "predictions_98_2 = ct.annotate(test_98, model = 'New Models/CT_98 Models/98_model_2.pkl', majority_voting = True)\n",
    "#predictions_4.pif x in genes:redicted_labels\n",
    "pred_adata98_2 = predictions_98_2.to_adata()\n",
    "pred_adata98_2.write_h5ad('../../predictions/pred_98_model2.h5ad')"
   ]
  },
  {
   "cell_type": "markdown",
   "id": "ca13db37-0bb4-459d-b227-de73ce0a4263",
   "metadata": {},
   "source": [
    "Model 3"
   ]
  },
  {
   "cell_type": "code",
   "execution_count": null,
   "id": "214d5594-1add-46be-a4ac-5d23353d2de2",
   "metadata": {},
   "outputs": [],
   "source": [
    "predictions_98_3 = ct.annotate(test_98, model = 'New Models/CT_98 Models/98_model_3.pkl', majority_voting = True)\n",
    "#predictions_4.predicted_labels\n",
    "pred_adata98_3 = predictions_98_3.to_adata()\n",
    "pred_adata98_3.write_h5ad('../../predictions/pred_98_model3.h5ad')"
   ]
  },
  {
   "cell_type": "markdown",
   "id": "19bdade4-ab47-4391-b149-6b0deaec6078",
   "metadata": {},
   "source": [
    "Model 4"
   ]
  },
  {
   "cell_type": "code",
   "execution_count": null,
   "id": "b4515f61-e291-4f96-9efc-7d9af8723450",
   "metadata": {},
   "outputs": [],
   "source": [
    "predictions_98_4 = ct.annotate(test_98, model = 'New Models/CT_98 Models/98_model_4.pkl', majority_voting = True)\n",
    "#predictions_4.predicted_labels\n",
    "pred_adata98_4 = predictions_98_4.to_adata()\n",
    "pred_adata98_4.write_h5ad('../../predictions/pred_98_model4.h5ad')"
   ]
  },
  {
   "cell_type": "markdown",
   "id": "8f2b0558-ab9e-47ba-a4d8-4278927c32e9",
   "metadata": {
    "jp-MarkdownHeadingCollapsed": true,
    "tags": []
   },
   "source": [
    "### Using COV_PBMC Models"
   ]
  },
  {
   "cell_type": "code",
   "execution_count": null,
   "id": "1fb05d27-662e-4282-ae7a-d33493f0729f",
   "metadata": {
    "tags": []
   },
   "outputs": [],
   "source": [
    "#Import test data - subset of CT_98 data \n",
    "test_COV= ad.read('../../Data/test_COV.h5ad')\n",
    "#test_COV_cp = ad.read('../../Data/test_COV_cp.h5ad')"
   ]
  },
  {
   "cell_type": "markdown",
   "id": "043a07f8-30da-403b-8179-cb50b2f26d6d",
   "metadata": {},
   "source": [
    "Model 0"
   ]
  },
  {
   "cell_type": "code",
   "execution_count": null,
   "id": "85b8a8a9-7ad3-4c66-b75b-6244c77bbdf6",
   "metadata": {
    "tags": []
   },
   "outputs": [],
   "source": [
    "predictions_COV_0 = ct.annotate(test_COV, model = 'New Models/COV_PBMC Models/COV_model_0.pkl', majority_voting = True)\n",
    "#predictions_4.predicted_labels\n",
    "pred_adataCOV_0 = predictions_COV_0.to_adata()\n",
    "pred_adataCOV_0.write_h5ad('../../predictions/pred_COV_model0.h5ad')"
   ]
  },
  {
   "cell_type": "markdown",
   "id": "d128aa54-d8dc-4b36-b30d-f7923b538732",
   "metadata": {},
   "source": [
    "Model 2"
   ]
  },
  {
   "cell_type": "code",
   "execution_count": null,
   "id": "6ea6accd-6353-434d-8395-2d5a0f8db0f6",
   "metadata": {
    "tags": []
   },
   "outputs": [],
   "source": [
    "predictions_COV_2 = ct.annotate(test_COV, model = 'New Models/COV_PBMC Models/COV_model_2.pkl', majority_voting = True)\n",
    "#predictions_4.predicted_labels\n",
    "pred_adataCOV_2 = predictions_COV_2.to_adata()\n",
    "pred_adataCOV_2.write_h5ad('../../predictions/pred_COV_model2.h5ad')"
   ]
  },
  {
   "cell_type": "markdown",
   "id": "99181af9-0716-442a-92a9-5b117a7c2c33",
   "metadata": {},
   "source": [
    "Model 3"
   ]
  },
  {
   "cell_type": "code",
   "execution_count": null,
   "id": "ea47a8d1-6970-4a15-8787-061a13ae9fa7",
   "metadata": {
    "tags": []
   },
   "outputs": [],
   "source": [
    "predictions_COV_3 = ct.annotate(test_COV, model = 'New Models/COV_PBMC Models/COV_model_3.pkl', majority_voting = True)\n",
    "#predictions_COV_4.predicted_labels\n",
    "pred_adataCOV_3 = predictions_COV_3.to_adata()\n",
    "pred_adataCOV_3.write_h5ad('../../predictions/pred_COV_model3.h5ad')"
   ]
  },
  {
   "cell_type": "code",
   "execution_count": null,
   "id": "30affe19-4545-48e8-a37d-6a7991449a24",
   "metadata": {
    "tags": []
   },
   "outputs": [],
   "source": [
    "#making sure the f1 score is the same if we use dataset with all genes vs just cytopus genes \n",
    "#predictions_COV_cp_3 = ct.annotate(test_COV_cp, model = 'New Models/COV_PBMC Models/COV_model_3.pkl', majority_voting = True)\n",
    "#predictions_COV_3.predicted_labels\n",
    "#pred_adataCOV_cp_3 = predictions_COV_cp_3.to_adata()\n",
    "#pred_adataCOV_cp_3.write_h5ad('../../predictions/pred_COV_cp_model3.h5ad')"
   ]
  },
  {
   "cell_type": "markdown",
   "id": "39fd57d8-c6f3-4ed0-8c70-8d2ad2621abc",
   "metadata": {},
   "source": [
    "Model 4"
   ]
  },
  {
   "cell_type": "code",
   "execution_count": null,
   "id": "e2e4bd32-d214-4da9-93b8-7dbc5e93225e",
   "metadata": {},
   "outputs": [],
   "source": [
    "predictions_COV_4 = ct.annotate(test_COV, model = 'New Models/COV_PBMC Models/COV_model_4.pkl', majority_voting = True)\n",
    "#predictions_4.predicted_labels\n",
    "pred_adataCOV_4 = predictions_COV_4.to_adata()\n",
    "pred_adataCOV_4.write_h5ad('../../predictions/pred_COV_model4.h5ad')"
   ]
  },
  {
   "cell_type": "markdown",
   "id": "f142b3e4-d4cb-491b-a0a6-68e87184d9e5",
   "metadata": {},
   "source": [
    "### Using Glasner Models"
   ]
  },
  {
   "cell_type": "code",
   "execution_count": 3,
   "id": "38282bfe-fdac-44d3-bc2e-a8eb4897e097",
   "metadata": {
    "tags": []
   },
   "outputs": [],
   "source": [
    "#Import test data \n",
    "test_g= ad.read('/data/peer/adamsj5/cell_typing/test_glas.h5ad') #lilac location"
   ]
  },
  {
   "cell_type": "markdown",
   "id": "7dc24172-5a7d-420c-a4af-a73d11067f90",
   "metadata": {},
   "source": [
    "Model 0"
   ]
  },
  {
   "cell_type": "code",
   "execution_count": 22,
   "id": "84b64e98-dcab-4e54-9306-2f1cad7f7f5e",
   "metadata": {
    "tags": []
   },
   "outputs": [
    {
     "name": "stderr",
     "output_type": "stream",
     "text": [
      "👀 Invalid expression matrix in `.X`, expect log1p normalized expression to 10000 counts per cell; will try the `.raw` attribute\n",
      "🛑 Invalid expression matrix in both `.X` and `.raw.X`, expect log1p normalized expression to 10000 counts per cell\n",
      "⚠️ Warning: invalid expression matrix, expect all genes and log1p normalized expression to 10000 counts per cell. The prediction result may not be accurate\n",
      "🔬 Input data has 24898 cells and 25944 genes\n",
      "🔗 Matching reference genes in the model\n"
     ]
    },
    {
     "name": "stdout",
     "output_type": "stream",
     "text": [
      "ah\n"
     ]
    },
    {
     "name": "stderr",
     "output_type": "stream",
     "text": [
      "🧬 3661 features used for prediction\n",
      "⚖️ Scaling input data\n",
      "🖋️ Predicting labels\n",
      "✅ Prediction done!\n",
      "👀 Detected a neighborhood graph in the input object, will run over-clustering on the basis of it\n",
      "⛓️ Over-clustering input data with resolution set to 15\n",
      "🗳️ Majority voting the predictions\n",
      "✅ Majority voting done!\n"
     ]
    }
   ],
   "source": [
    "predictions_g_0 = annotate(test_g, model = 'New Models/Glasner Models/g_model_0.pkl', majority_voting = True)\n",
    "pred_adatag_0 = predictions_g_0.to_adata()\n",
    "pred_adatag_0.write_h5ad('/data/peer/adamsj5/cell_typing/pred_g_model0.h5ad')"
   ]
  },
  {
   "cell_type": "code",
   "execution_count": 42,
   "id": "73eef61c-7636-42e7-8e29-cfc271c7289c",
   "metadata": {
    "tags": []
   },
   "outputs": [
    {
     "data": {
      "text/plain": [
       "False"
      ]
     },
     "execution_count": 42,
     "metadata": {},
     "output_type": "execute_result"
    }
   ],
   "source": [
    "predictions_g_0.predicted_labels[\"predicted_labels\"].equals(predictions_g_2.predicted_labels[\"predicted_labels\"])"
   ]
  },
  {
   "cell_type": "code",
   "execution_count": null,
   "id": "e2cabec5-0ce0-4628-865c-7e8d3fb7e4b2",
   "metadata": {
    "tags": []
   },
   "outputs": [],
   "source": [
    "np.log1p(10000)"
   ]
  },
  {
   "cell_type": "markdown",
   "id": "055bbab6-8cd7-4f6a-83e6-561d608d1b83",
   "metadata": {},
   "source": [
    "Model 2"
   ]
  },
  {
   "cell_type": "code",
   "execution_count": 5,
   "id": "aa38ed27-44ee-45e5-b277-566157c4d944",
   "metadata": {
    "tags": []
   },
   "outputs": [
    {
     "name": "stderr",
     "output_type": "stream",
     "text": [
      "👀 Invalid expression matrix in `.X`, expect log1p normalized expression to 10000 counts per cell; will try the `.raw` attribute\n",
      "🛑 Invalid expression matrix in both `.X` and `.raw.X`, expect log1p normalized expression to 10000 counts per cell\n",
      "⚠️ Warning: invalid expression matrix, expect all genes and log1p normalized expression to 10000 counts per cell. The prediction result may not be accurate\n",
      "🔬 Input data has 24898 cells and 25944 genes\n",
      "🔗 Matching reference genes in the model\n"
     ]
    },
    {
     "name": "stdout",
     "output_type": "stream",
     "text": [
      "ah\n"
     ]
    },
    {
     "name": "stderr",
     "output_type": "stream",
     "text": [
      "🧬 4128 features used for prediction\n",
      "⚖️ Scaling input data\n",
      "🖋️ Predicting labels\n",
      "✅ Prediction done!\n",
      "👀 Detected a neighborhood graph in the input object, will run over-clustering on the basis of it\n",
      "⛓️ Over-clustering input data with resolution set to 15\n",
      "🗳️ Majority voting the predictions\n",
      "✅ Majority voting done!\n"
     ]
    }
   ],
   "source": [
    "predictions_g_2 = annotate(test_g, model = 'New Models/Glasner Models/g_model_2.pkl', majority_voting = True)\n",
    "pred_adatag_2 = predictions_g_2.to_adata()\n",
    "pred_adatag_2.write_h5ad('/data/peer/adamsj5/cell_typing/pred_g_model2.h5ad')"
   ]
  },
  {
   "cell_type": "markdown",
   "id": "80e4e6c7-10e5-4310-802c-477a95cb3ed7",
   "metadata": {},
   "source": [
    "Model 3"
   ]
  },
  {
   "cell_type": "code",
   "execution_count": 6,
   "id": "93a200be-4617-47a0-a60f-80c880a59714",
   "metadata": {
    "tags": []
   },
   "outputs": [
    {
     "name": "stderr",
     "output_type": "stream",
     "text": [
      "👀 Invalid expression matrix in `.X`, expect log1p normalized expression to 10000 counts per cell; will try the `.raw` attribute\n",
      "🛑 Invalid expression matrix in both `.X` and `.raw.X`, expect log1p normalized expression to 10000 counts per cell\n",
      "⚠️ Warning: invalid expression matrix, expect all genes and log1p normalized expression to 10000 counts per cell. The prediction result may not be accurate\n",
      "🔬 Input data has 24898 cells and 25944 genes\n",
      "🔗 Matching reference genes in the model\n"
     ]
    },
    {
     "name": "stdout",
     "output_type": "stream",
     "text": [
      "ah\n"
     ]
    },
    {
     "name": "stderr",
     "output_type": "stream",
     "text": [
      "🧬 304 features used for prediction\n",
      "⚖️ Scaling input data\n",
      "🖋️ Predicting labels\n",
      "✅ Prediction done!\n",
      "👀 Detected a neighborhood graph in the input object, will run over-clustering on the basis of it\n",
      "⛓️ Over-clustering input data with resolution set to 15\n",
      "🗳️ Majority voting the predictions\n",
      "✅ Majority voting done!\n"
     ]
    }
   ],
   "source": [
    "predictions_g_3 = annotate(test_g, model = 'New Models/Glasner Models/g_model_3.pkl', majority_voting = True)\n",
    "pred_adatag_3 = predictions_g_3.to_adata()\n",
    "pred_adatag_3.write_h5ad('/data/peer/adamsj5/cell_typing/pred_COV_model3.h5ad')"
   ]
  },
  {
   "cell_type": "markdown",
   "id": "0bfcd79e-e2d5-48df-a563-ca844bb73b6f",
   "metadata": {},
   "source": [
    "Model 4"
   ]
  },
  {
   "cell_type": "code",
   "execution_count": 8,
   "id": "e503605e-459e-4c13-b931-99685d415292",
   "metadata": {
    "tags": []
   },
   "outputs": [
    {
     "name": "stderr",
     "output_type": "stream",
     "text": [
      "👀 Invalid expression matrix in `.X`, expect log1p normalized expression to 10000 counts per cell; will try the `.raw` attribute\n",
      "🛑 Invalid expression matrix in both `.X` and `.raw.X`, expect log1p normalized expression to 10000 counts per cell\n",
      "⚠️ Warning: invalid expression matrix, expect all genes and log1p normalized expression to 10000 counts per cell. The prediction result may not be accurate\n",
      "🔬 Input data has 24898 cells and 25944 genes\n",
      "🔗 Matching reference genes in the model\n"
     ]
    },
    {
     "name": "stdout",
     "output_type": "stream",
     "text": [
      "ah\n"
     ]
    },
    {
     "name": "stderr",
     "output_type": "stream",
     "text": [
      "🧬 3780 features used for prediction\n",
      "⚖️ Scaling input data\n",
      "🖋️ Predicting labels\n",
      "✅ Prediction done!\n",
      "👀 Detected a neighborhood graph in the input object, will run over-clustering on the basis of it\n",
      "⛓️ Over-clustering input data with resolution set to 15\n",
      "🗳️ Majority voting the predictions\n",
      "✅ Majority voting done!\n"
     ]
    }
   ],
   "source": [
    "predictions_g_4 = annotate(test_g, model = 'New Models/Glasner Models/g_model_4.pkl', majority_voting = True)\n",
    "pred_adatag_4 = predictions_g_4.to_adata()\n",
    "pred_adatag_4.write_h5ad('/data/peer/adamsj5/cell_typing/pred_COV_model4.h5ad')"
   ]
  },
  {
   "cell_type": "markdown",
   "id": "30c231ac-5ea9-4122-8f38-1a05a359d6c6",
   "metadata": {
    "tags": []
   },
   "source": [
    "## Benchmarking\n",
    "### F1 scores\n",
    "Abdelaal et al. used median F1 scores as their primary statistic"
   ]
  },
  {
   "cell_type": "markdown",
   "id": "d44cc763-3977-4627-89be-1837df3299ca",
   "metadata": {
    "jp-MarkdownHeadingCollapsed": true,
    "tags": []
   },
   "source": [
    "#### Train & Test on CT_45"
   ]
  },
  {
   "cell_type": "code",
   "execution_count": null,
   "id": "ed0eb86a-c564-4846-80e2-b3723a246b3a",
   "metadata": {
    "tags": []
   },
   "outputs": [],
   "source": [
    "pred_adatact.obs[\"predicted_labels\"]"
   ]
  },
  {
   "cell_type": "code",
   "execution_count": null,
   "id": "7bbe5885-b3eb-4443-84f5-0cfb9140f027",
   "metadata": {
    "tags": []
   },
   "outputs": [],
   "source": [
    "#og celltypist  - 0.892\n",
    "np.median(f1_score(pred_adatact.obs[\"Manually_curated_celltype\"], pred_adatact.obs[\"predicted_labels\"], average=None))"
   ]
  },
  {
   "cell_type": "code",
   "execution_count": null,
   "id": "c225960d-b079-4c56-ba20-e338c8aa9bfe",
   "metadata": {},
   "outputs": [],
   "source": [
    "#model 1 - cant get it to run, gets stuck on Scaling for too long \n",
    "#np.median(f1_score(pred_adata1.obs[\"Manually_curated_celltype\"], pred_adata1.obs[\"predicted_labels\"], average=None))"
   ]
  },
  {
   "cell_type": "code",
   "execution_count": null,
   "id": "ad797106-f025-4509-984d-0f455b7a5360",
   "metadata": {
    "tags": []
   },
   "outputs": [],
   "source": [
    "#model 2  - 0.74\n",
    "np.median(f1_score(pred_adata2.obs[\"Manually_curated_celltype\"], pred_adata2.obs[\"predicted_labels\"], average=None))"
   ]
  },
  {
   "cell_type": "code",
   "execution_count": null,
   "id": "16fbefaf-6190-4e38-80fb-b8e82fd56f0f",
   "metadata": {
    "tags": []
   },
   "outputs": [],
   "source": [
    "#model 3  - 0.79\n",
    "np.median(f1_score(pred_adata3.obs[\"Manually_curated_celltype\"], pred_adata3.obs[\"predicted_labels\"], average=None))"
   ]
  },
  {
   "cell_type": "code",
   "execution_count": null,
   "id": "60ff92e4-a52d-4c10-adfd-6131687c3c32",
   "metadata": {
    "tags": []
   },
   "outputs": [],
   "source": [
    "#model 4 - 0.887\n",
    "np.median(f1_score(pred_adata4.obs[\"Manually_curated_celltype\"], pred_adata4.obs[\"predicted_labels\"], average = None))"
   ]
  },
  {
   "cell_type": "markdown",
   "id": "f57f2076-b039-4e97-99dd-88071ab80712",
   "metadata": {
    "jp-MarkdownHeadingCollapsed": true,
    "tags": []
   },
   "source": [
    "#### Train & Test on CT_98"
   ]
  },
  {
   "cell_type": "code",
   "execution_count": null,
   "id": "38ffd8f0-f4ec-4b99-b030-60c19c83c9fc",
   "metadata": {},
   "outputs": [],
   "source": [
    "#og celltypist  - 0.844\n",
    "np.median(f1_score(pred_adata98_0.obs[\"Harmonised_detailed_type\"], pred_adata98_0.obs[\"predicted_labels\"], average=None))"
   ]
  },
  {
   "cell_type": "code",
   "execution_count": null,
   "id": "968f8519-e483-4671-8dde-5f0e2b51e299",
   "metadata": {},
   "outputs": [],
   "source": [
    "#model 2  - 0.508\n",
    "np.median(f1_score(pred_adata98_2.obs[\"Harmonised_detailed_type\"], pred_adata98_2.obs[\"predicted_labels\"], average=None))"
   ]
  },
  {
   "cell_type": "code",
   "execution_count": null,
   "id": "7bd74135-d897-4fe2-a39a-6c251e12af39",
   "metadata": {},
   "outputs": [],
   "source": [
    "#model 3  - 0.810?\n",
    "np.median(f1_score(pred_adata98_3.obs[\"Harmonised_detailed_type\"], pred_adata98_3.obs[\"predicted_labels\"], average=None))"
   ]
  },
  {
   "cell_type": "code",
   "execution_count": null,
   "id": "22f77246-eadf-4c16-b73a-ef0af04aeffe",
   "metadata": {},
   "outputs": [],
   "source": [
    "#model 4 - 0.810?\n",
    "np.median(f1_score(pred_adata98_4.obs[\"Harmonised_detailed_type\"], pred_adata98_4.obs[\"predicted_labels\"], average = None))"
   ]
  },
  {
   "cell_type": "markdown",
   "id": "580ee3c7-2418-400e-ba16-2330a9670b81",
   "metadata": {
    "jp-MarkdownHeadingCollapsed": true,
    "tags": []
   },
   "source": [
    "#### Train & Test on COV_45"
   ]
  },
  {
   "cell_type": "code",
   "execution_count": null,
   "id": "03ccf0fc-4246-4dd4-bd6d-22d774cfd883",
   "metadata": {},
   "outputs": [],
   "source": [
    "#og celltypist model - 0.609\n",
    "np.median(f1_score(pred_adataCOV_0.obs[\"full_clustering\"], pred_adataCOV_0.obs[\"predicted_labels\"], average=None))"
   ]
  },
  {
   "cell_type": "code",
   "execution_count": null,
   "id": "40ab3852-87d5-40c1-aa87-796d119ee3ef",
   "metadata": {
    "tags": []
   },
   "outputs": [],
   "source": [
    "#model 2  - \n",
    "np.median(f1_score(pred_adataCOV_2.obs[\"full_clustering\"], pred_adataCOV_2.obs[\"predicted_labels\"], average=None))"
   ]
  },
  {
   "cell_type": "code",
   "execution_count": null,
   "id": "41e4860e-b576-48ac-8368-2d70d0594f0b",
   "metadata": {
    "tags": []
   },
   "outputs": [],
   "source": [
    "#model 3 - 0.507\n",
    "np.median(f1_score(pred_adataCOV_3.obs[\"full_clustering\"], pred_adataCOV_3.obs[\"predicted_labels\"], average=None))"
   ]
  },
  {
   "cell_type": "code",
   "execution_count": null,
   "id": "decd43f1-6686-4dc0-8368-ff69cab5b081",
   "metadata": {
    "tags": []
   },
   "outputs": [],
   "source": [
    "#model 3 cytopus genes dataset to make sure they are the same - 0.507\n",
    "np.median(f1_score(pred_adataCOV_cp_3.obs[\"full_clustering\"], pred_adataCOV_cp_3.obs[\"predicted_labels\"], average=None))"
   ]
  },
  {
   "cell_type": "code",
   "execution_count": null,
   "id": "637ea315-2e60-4b52-98e1-a65e93ea00b3",
   "metadata": {},
   "outputs": [],
   "source": [
    "#model 4 - \n",
    "np.median(f1_score(pred_adataCOV_4.obs[\"full_clustering\"], pred_adataCOV_4.obs[\"predicted_labels\"], average = None))"
   ]
  },
  {
   "cell_type": "markdown",
   "id": "7e84cc99-809f-41d0-b4a5-0d94bde6e08e",
   "metadata": {},
   "source": [
    "#### Train & Test on Glasner"
   ]
  },
  {
   "cell_type": "code",
   "execution_count": 44,
   "id": "c73b51ba-ea55-451b-a139-21f9be3fe659",
   "metadata": {
    "tags": []
   },
   "outputs": [
    {
     "data": {
      "text/plain": [
       "0.2539842792240571"
      ]
     },
     "execution_count": 44,
     "metadata": {},
     "output_type": "execute_result"
    }
   ],
   "source": [
    "#og celltypist model - \n",
    "np.median(f1_score(pred_adatag_0.obs[\"finer_cell_types\"], predictions_g_0.predicted_labels[\"predicted_labels\"], average=None))"
   ]
  },
  {
   "cell_type": "code",
   "execution_count": 18,
   "id": "2f5de798-0616-467a-8ecf-bc0ce3e99909",
   "metadata": {
    "tags": []
   },
   "outputs": [
    {
     "data": {
      "text/html": [
       "<div>\n",
       "<style scoped>\n",
       "    .dataframe tbody tr th:only-of-type {\n",
       "        vertical-align: middle;\n",
       "    }\n",
       "\n",
       "    .dataframe tbody tr th {\n",
       "        vertical-align: top;\n",
       "    }\n",
       "\n",
       "    .dataframe thead th {\n",
       "        text-align: right;\n",
       "    }\n",
       "</style>\n",
       "<table border=\"1\" class=\"dataframe\">\n",
       "  <thead>\n",
       "    <tr style=\"text-align: right;\">\n",
       "      <th></th>\n",
       "      <th>histology</th>\n",
       "      <th>Procedure_Type</th>\n",
       "      <th>n_genes_by_counts</th>\n",
       "      <th>total_counts</th>\n",
       "      <th>total_counts_mt</th>\n",
       "      <th>pct_counts_mt</th>\n",
       "      <th>total_counts_ribo</th>\n",
       "      <th>pct_counts_ribo</th>\n",
       "      <th>Phenograph_cluster</th>\n",
       "      <th>sample_number</th>\n",
       "      <th>...</th>\n",
       "      <th>development_stage</th>\n",
       "      <th>suspension_type</th>\n",
       "      <th>assay</th>\n",
       "      <th>cell_lineage</th>\n",
       "      <th>finer_cell_types</th>\n",
       "      <th>orig_cell_types</th>\n",
       "      <th>predicted_labels</th>\n",
       "      <th>majority_voting</th>\n",
       "      <th>conf_score</th>\n",
       "      <th>over_clustering</th>\n",
       "    </tr>\n",
       "  </thead>\n",
       "  <tbody>\n",
       "    <tr>\n",
       "      <th>236175618587446</th>\n",
       "      <td>LUAD</td>\n",
       "      <td>NaN</td>\n",
       "      <td>2965</td>\n",
       "      <td>12123.0</td>\n",
       "      <td>203.0</td>\n",
       "      <td>1.674503</td>\n",
       "      <td>1932.0</td>\n",
       "      <td>15.936649</td>\n",
       "      <td>C19</td>\n",
       "      <td>25</td>\n",
       "      <td>...</td>\n",
       "      <td>unknown</td>\n",
       "      <td>cell</td>\n",
       "      <td>10xV2</td>\n",
       "      <td>T/NK</td>\n",
       "      <td>T/NK</td>\n",
       "      <td>T/NK</td>\n",
       "      <td>Myeloid</td>\n",
       "      <td>Myeloid</td>\n",
       "      <td>1.000000e+00</td>\n",
       "      <td>89</td>\n",
       "    </tr>\n",
       "    <tr>\n",
       "      <th>126834221116188</th>\n",
       "      <td>LUAD</td>\n",
       "      <td>Resection</td>\n",
       "      <td>1380</td>\n",
       "      <td>6730.0</td>\n",
       "      <td>226.0</td>\n",
       "      <td>3.358098</td>\n",
       "      <td>3517.0</td>\n",
       "      <td>52.258545</td>\n",
       "      <td>C6</td>\n",
       "      <td>8</td>\n",
       "      <td>...</td>\n",
       "      <td>unknown</td>\n",
       "      <td>cell</td>\n",
       "      <td>10xV2</td>\n",
       "      <td>B cell</td>\n",
       "      <td>B cell</td>\n",
       "      <td>B cell</td>\n",
       "      <td>B cell</td>\n",
       "      <td>B cell</td>\n",
       "      <td>1.000000e+00</td>\n",
       "      <td>59</td>\n",
       "    </tr>\n",
       "    <tr>\n",
       "      <th>133898354183475</th>\n",
       "      <td>LUAD</td>\n",
       "      <td>Resection</td>\n",
       "      <td>5268</td>\n",
       "      <td>34037.0</td>\n",
       "      <td>4274.0</td>\n",
       "      <td>12.556924</td>\n",
       "      <td>3030.0</td>\n",
       "      <td>8.902078</td>\n",
       "      <td>C24</td>\n",
       "      <td>14</td>\n",
       "      <td>...</td>\n",
       "      <td>unknown</td>\n",
       "      <td>cell</td>\n",
       "      <td>10xV3</td>\n",
       "      <td>Epithelial</td>\n",
       "      <td>Epithelial</td>\n",
       "      <td>Epithelial</td>\n",
       "      <td>Epithelial</td>\n",
       "      <td>Epithelial</td>\n",
       "      <td>1.000000e+00</td>\n",
       "      <td>80</td>\n",
       "    </tr>\n",
       "    <tr>\n",
       "      <th>200563776941364</th>\n",
       "      <td>LUAD</td>\n",
       "      <td>NaN</td>\n",
       "      <td>1034</td>\n",
       "      <td>2579.0</td>\n",
       "      <td>23.0</td>\n",
       "      <td>0.891819</td>\n",
       "      <td>716.0</td>\n",
       "      <td>27.762699</td>\n",
       "      <td>C1</td>\n",
       "      <td>20</td>\n",
       "      <td>...</td>\n",
       "      <td>unknown</td>\n",
       "      <td>cell</td>\n",
       "      <td>10xV2</td>\n",
       "      <td>T/NK</td>\n",
       "      <td>T/NK</td>\n",
       "      <td>T/NK</td>\n",
       "      <td>T/NK</td>\n",
       "      <td>T/NK</td>\n",
       "      <td>1.000000e+00</td>\n",
       "      <td>228</td>\n",
       "    </tr>\n",
       "    <tr>\n",
       "      <th>155842595900140</th>\n",
       "      <td>LUAD</td>\n",
       "      <td>Resection</td>\n",
       "      <td>1485</td>\n",
       "      <td>6816.0</td>\n",
       "      <td>652.0</td>\n",
       "      <td>9.565727</td>\n",
       "      <td>3162.0</td>\n",
       "      <td>46.390846</td>\n",
       "      <td>C6</td>\n",
       "      <td>15</td>\n",
       "      <td>...</td>\n",
       "      <td>unknown</td>\n",
       "      <td>cell</td>\n",
       "      <td>10xV3</td>\n",
       "      <td>B cell</td>\n",
       "      <td>B cell</td>\n",
       "      <td>B cell</td>\n",
       "      <td>B cell</td>\n",
       "      <td>B cell</td>\n",
       "      <td>1.000000e+00</td>\n",
       "      <td>57</td>\n",
       "    </tr>\n",
       "    <tr>\n",
       "      <th>...</th>\n",
       "      <td>...</td>\n",
       "      <td>...</td>\n",
       "      <td>...</td>\n",
       "      <td>...</td>\n",
       "      <td>...</td>\n",
       "      <td>...</td>\n",
       "      <td>...</td>\n",
       "      <td>...</td>\n",
       "      <td>...</td>\n",
       "      <td>...</td>\n",
       "      <td>...</td>\n",
       "      <td>...</td>\n",
       "      <td>...</td>\n",
       "      <td>...</td>\n",
       "      <td>...</td>\n",
       "      <td>...</td>\n",
       "      <td>...</td>\n",
       "      <td>...</td>\n",
       "      <td>...</td>\n",
       "      <td>...</td>\n",
       "      <td>...</td>\n",
       "    </tr>\n",
       "    <tr>\n",
       "      <th>125677948062430</th>\n",
       "      <td>LUAD</td>\n",
       "      <td>Resection</td>\n",
       "      <td>1820</td>\n",
       "      <td>7921.0</td>\n",
       "      <td>190.0</td>\n",
       "      <td>2.398687</td>\n",
       "      <td>3035.0</td>\n",
       "      <td>38.315868</td>\n",
       "      <td>C5</td>\n",
       "      <td>3</td>\n",
       "      <td>...</td>\n",
       "      <td>unknown</td>\n",
       "      <td>cell</td>\n",
       "      <td>10xV2</td>\n",
       "      <td>T/NK</td>\n",
       "      <td>T/NK</td>\n",
       "      <td>T/NK</td>\n",
       "      <td>T/NK</td>\n",
       "      <td>T/NK</td>\n",
       "      <td>1.000000e+00</td>\n",
       "      <td>49</td>\n",
       "    </tr>\n",
       "    <tr>\n",
       "      <th>169151741418203</th>\n",
       "      <td>LUAD</td>\n",
       "      <td>Resection</td>\n",
       "      <td>1281</td>\n",
       "      <td>3813.0</td>\n",
       "      <td>90.0</td>\n",
       "      <td>2.360346</td>\n",
       "      <td>1194.0</td>\n",
       "      <td>31.313927</td>\n",
       "      <td>C3</td>\n",
       "      <td>5</td>\n",
       "      <td>...</td>\n",
       "      <td>unknown</td>\n",
       "      <td>cell</td>\n",
       "      <td>10xV2</td>\n",
       "      <td>T/NK</td>\n",
       "      <td>T/NK</td>\n",
       "      <td>T/NK</td>\n",
       "      <td>T/NK</td>\n",
       "      <td>T/NK</td>\n",
       "      <td>1.000000e+00</td>\n",
       "      <td>98</td>\n",
       "    </tr>\n",
       "    <tr>\n",
       "      <th>192721152298270</th>\n",
       "      <td>LUAD</td>\n",
       "      <td>Biopsy</td>\n",
       "      <td>1363</td>\n",
       "      <td>4044.0</td>\n",
       "      <td>286.0</td>\n",
       "      <td>7.072206</td>\n",
       "      <td>1078.0</td>\n",
       "      <td>26.656776</td>\n",
       "      <td>C15</td>\n",
       "      <td>18</td>\n",
       "      <td>...</td>\n",
       "      <td>unknown</td>\n",
       "      <td>cell</td>\n",
       "      <td>10xV3</td>\n",
       "      <td>T/NK</td>\n",
       "      <td>T/NK</td>\n",
       "      <td>T/NK</td>\n",
       "      <td>T/NK</td>\n",
       "      <td>T/NK</td>\n",
       "      <td>1.000000e+00</td>\n",
       "      <td>2</td>\n",
       "    </tr>\n",
       "    <tr>\n",
       "      <th>130675161807715</th>\n",
       "      <td>LUAD</td>\n",
       "      <td>Resection</td>\n",
       "      <td>4363</td>\n",
       "      <td>28569.0</td>\n",
       "      <td>938.0</td>\n",
       "      <td>3.283279</td>\n",
       "      <td>7121.0</td>\n",
       "      <td>24.925619</td>\n",
       "      <td>C11</td>\n",
       "      <td>11</td>\n",
       "      <td>...</td>\n",
       "      <td>unknown</td>\n",
       "      <td>cell</td>\n",
       "      <td>10xV2</td>\n",
       "      <td>Fibroblast</td>\n",
       "      <td>alveolar_lung_fibroblast</td>\n",
       "      <td>Fibroblast</td>\n",
       "      <td>alveolar_lung_fibroblast</td>\n",
       "      <td>alveolar_lung_fibroblast</td>\n",
       "      <td>1.000000e+00</td>\n",
       "      <td>67</td>\n",
       "    </tr>\n",
       "    <tr>\n",
       "      <th>197135439148781</th>\n",
       "      <td>LUAD</td>\n",
       "      <td>NaN</td>\n",
       "      <td>352</td>\n",
       "      <td>899.0</td>\n",
       "      <td>60.0</td>\n",
       "      <td>6.674083</td>\n",
       "      <td>424.0</td>\n",
       "      <td>47.163517</td>\n",
       "      <td>C6</td>\n",
       "      <td>26</td>\n",
       "      <td>...</td>\n",
       "      <td>unknown</td>\n",
       "      <td>cell</td>\n",
       "      <td>10xV2</td>\n",
       "      <td>B cell</td>\n",
       "      <td>B cell</td>\n",
       "      <td>B cell</td>\n",
       "      <td>T/NK</td>\n",
       "      <td>B cell</td>\n",
       "      <td>1.887453e-62</td>\n",
       "      <td>60</td>\n",
       "    </tr>\n",
       "  </tbody>\n",
       "</table>\n",
       "<p>24898 rows × 35 columns</p>\n",
       "</div>"
      ],
      "text/plain": [
       "                histology Procedure_Type  n_genes_by_counts  total_counts  \\\n",
       "236175618587446      LUAD            NaN               2965       12123.0   \n",
       "126834221116188      LUAD      Resection               1380        6730.0   \n",
       "133898354183475      LUAD      Resection               5268       34037.0   \n",
       "200563776941364      LUAD            NaN               1034        2579.0   \n",
       "155842595900140      LUAD      Resection               1485        6816.0   \n",
       "...                   ...            ...                ...           ...   \n",
       "125677948062430      LUAD      Resection               1820        7921.0   \n",
       "169151741418203      LUAD      Resection               1281        3813.0   \n",
       "192721152298270      LUAD         Biopsy               1363        4044.0   \n",
       "130675161807715      LUAD      Resection               4363       28569.0   \n",
       "197135439148781      LUAD            NaN                352         899.0   \n",
       "\n",
       "                 total_counts_mt  pct_counts_mt  total_counts_ribo  \\\n",
       "236175618587446            203.0       1.674503             1932.0   \n",
       "126834221116188            226.0       3.358098             3517.0   \n",
       "133898354183475           4274.0      12.556924             3030.0   \n",
       "200563776941364             23.0       0.891819              716.0   \n",
       "155842595900140            652.0       9.565727             3162.0   \n",
       "...                          ...            ...                ...   \n",
       "125677948062430            190.0       2.398687             3035.0   \n",
       "169151741418203             90.0       2.360346             1194.0   \n",
       "192721152298270            286.0       7.072206             1078.0   \n",
       "130675161807715            938.0       3.283279             7121.0   \n",
       "197135439148781             60.0       6.674083              424.0   \n",
       "\n",
       "                 pct_counts_ribo Phenograph_cluster sample_number  ...  \\\n",
       "236175618587446        15.936649                C19            25  ...   \n",
       "126834221116188        52.258545                 C6             8  ...   \n",
       "133898354183475         8.902078                C24            14  ...   \n",
       "200563776941364        27.762699                 C1            20  ...   \n",
       "155842595900140        46.390846                 C6            15  ...   \n",
       "...                          ...                ...           ...  ...   \n",
       "125677948062430        38.315868                 C5             3  ...   \n",
       "169151741418203        31.313927                 C3             5  ...   \n",
       "192721152298270        26.656776                C15            18  ...   \n",
       "130675161807715        24.925619                C11            11  ...   \n",
       "197135439148781        47.163517                 C6            26  ...   \n",
       "\n",
       "                development_stage suspension_type  assay cell_lineage  \\\n",
       "236175618587446           unknown            cell  10xV2         T/NK   \n",
       "126834221116188           unknown            cell  10xV2       B cell   \n",
       "133898354183475           unknown            cell  10xV3   Epithelial   \n",
       "200563776941364           unknown            cell  10xV2         T/NK   \n",
       "155842595900140           unknown            cell  10xV3       B cell   \n",
       "...                           ...             ...    ...          ...   \n",
       "125677948062430           unknown            cell  10xV2         T/NK   \n",
       "169151741418203           unknown            cell  10xV2         T/NK   \n",
       "192721152298270           unknown            cell  10xV3         T/NK   \n",
       "130675161807715           unknown            cell  10xV2   Fibroblast   \n",
       "197135439148781           unknown            cell  10xV2       B cell   \n",
       "\n",
       "                         finer_cell_types  orig_cell_types  \\\n",
       "236175618587446                      T/NK             T/NK   \n",
       "126834221116188                    B cell           B cell   \n",
       "133898354183475                Epithelial       Epithelial   \n",
       "200563776941364                      T/NK             T/NK   \n",
       "155842595900140                    B cell           B cell   \n",
       "...                                   ...              ...   \n",
       "125677948062430                      T/NK             T/NK   \n",
       "169151741418203                      T/NK             T/NK   \n",
       "192721152298270                      T/NK             T/NK   \n",
       "130675161807715  alveolar_lung_fibroblast       Fibroblast   \n",
       "197135439148781                    B cell           B cell   \n",
       "\n",
       "                         predicted_labels           majority_voting  \\\n",
       "236175618587446                   Myeloid                   Myeloid   \n",
       "126834221116188                    B cell                    B cell   \n",
       "133898354183475                Epithelial                Epithelial   \n",
       "200563776941364                      T/NK                      T/NK   \n",
       "155842595900140                    B cell                    B cell   \n",
       "...                                   ...                       ...   \n",
       "125677948062430                      T/NK                      T/NK   \n",
       "169151741418203                      T/NK                      T/NK   \n",
       "192721152298270                      T/NK                      T/NK   \n",
       "130675161807715  alveolar_lung_fibroblast  alveolar_lung_fibroblast   \n",
       "197135439148781                      T/NK                    B cell   \n",
       "\n",
       "                   conf_score over_clustering  \n",
       "236175618587446  1.000000e+00              89  \n",
       "126834221116188  1.000000e+00              59  \n",
       "133898354183475  1.000000e+00              80  \n",
       "200563776941364  1.000000e+00             228  \n",
       "155842595900140  1.000000e+00              57  \n",
       "...                       ...             ...  \n",
       "125677948062430  1.000000e+00              49  \n",
       "169151741418203  1.000000e+00              98  \n",
       "192721152298270  1.000000e+00               2  \n",
       "130675161807715  1.000000e+00              67  \n",
       "197135439148781  1.887453e-62              60  \n",
       "\n",
       "[24898 rows x 35 columns]"
      ]
     },
     "execution_count": 18,
     "metadata": {},
     "output_type": "execute_result"
    }
   ],
   "source": [
    "pred_adatag_3.obs"
   ]
  },
  {
   "cell_type": "code",
   "execution_count": 45,
   "id": "86639711-c6b9-4b02-a175-81e6eda21c1b",
   "metadata": {
    "tags": []
   },
   "outputs": [
    {
     "data": {
      "text/plain": [
       "0.39576944022471267"
      ]
     },
     "execution_count": 45,
     "metadata": {},
     "output_type": "execute_result"
    }
   ],
   "source": [
    "#model 2  - \n",
    "np.median(f1_score(pred_adatag_2.obs[\"finer_cell_types\"],predictions_g_2.predicted_labels[\"predicted_labels\"], average=None))"
   ]
  },
  {
   "cell_type": "code",
   "execution_count": 46,
   "id": "33350ea5-a64a-410e-8be4-83858d5dc0aa",
   "metadata": {
    "tags": []
   },
   "outputs": [
    {
     "data": {
      "text/plain": [
       "0.5966898954703833"
      ]
     },
     "execution_count": 46,
     "metadata": {},
     "output_type": "execute_result"
    }
   ],
   "source": [
    "#model 3 - \n",
    "np.median(f1_score(pred_adatag_3.obs[\"finer_cell_types\"],predictions_g_3.predicted_labels[\"predicted_labels\"], average=None))"
   ]
  },
  {
   "cell_type": "code",
   "execution_count": 47,
   "id": "226021bd-4475-4a8d-86be-6120fb3e7b96",
   "metadata": {
    "tags": []
   },
   "outputs": [
    {
     "data": {
      "text/plain": [
       "0.21479497529141045"
      ]
     },
     "execution_count": 47,
     "metadata": {},
     "output_type": "execute_result"
    }
   ],
   "source": [
    "#model 4 - \n",
    "np.median(f1_score(pred_adatag_4.obs[\"finer_cell_types\"], predictions_g_4.predicted_labels[\"predicted_labels\"], average = None))"
   ]
  },
  {
   "cell_type": "code",
   "execution_count": 49,
   "id": "d232ea81-afe6-485e-9de1-ccc57f77d36f",
   "metadata": {
    "tags": []
   },
   "outputs": [
    {
     "data": {
      "text/plain": [
       "True"
      ]
     },
     "execution_count": 49,
     "metadata": {},
     "output_type": "execute_result"
    }
   ],
   "source": [
    "pred_adatag_2.obs[\"finer_cell_types\"].equals(test_g.obs[\"finer_cell_types\"])"
   ]
  },
  {
   "cell_type": "code",
   "execution_count": null,
   "id": "db1359aa-1a75-40be-8356-fe281c8e891a",
   "metadata": {
    "tags": []
   },
   "outputs": [],
   "source": [
    "!pip show celltypist"
   ]
  },
  {
   "cell_type": "code",
   "execution_count": null,
   "id": "503058a6-5b55-4edc-86e4-18301c40d8ab",
   "metadata": {},
   "outputs": [],
   "source": []
  }
 ],
 "metadata": {
  "kernelspec": {
   "display_name": "Python 3 (ipykernel)",
   "language": "python",
   "name": "python3"
  },
  "language_info": {
   "codemirror_mode": {
    "name": "ipython",
    "version": 3
   },
   "file_extension": ".py",
   "mimetype": "text/x-python",
   "name": "python",
   "nbconvert_exporter": "python",
   "pygments_lexer": "ipython3",
   "version": "3.11.4"
  }
 },
 "nbformat": 4,
 "nbformat_minor": 5
}
