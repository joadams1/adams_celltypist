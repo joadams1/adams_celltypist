{
 "cells": [
  {
   "cell_type": "markdown",
   "id": "e14bec32-8dd6-4a91-a998-bc42188c68b9",
   "metadata": {},
   "source": [
    "# Testing/Benchmarking Celltypist Models \n",
    "### List of Models (made in Making New Models.ipynb)\n",
    "1. Remove the feature selection from CellTypist (so it only trains the model once)\n",
    "2. Train the model with L1 regularization instead of L2\n",
    "3. Train the model only once with only Cytopus genes\n",
    "4. At the feature selection step, make sure the Cytopus genes are included in the list of top genes"
   ]
  },
  {
   "cell_type": "code",
   "execution_count": null,
   "id": "92be23f9-d464-482d-a464-a57f73417c28",
   "metadata": {},
   "outputs": [],
   "source": [
    "import scanpy as sc\n",
    "import pandas as pd\n",
    "import anndata as ad\n",
    "from anndata import AnnData\n",
    "import numpy as np\n",
    "from scipy.sparse import spmatrix\n",
    "from datetime import datetime\n",
    "import itertools\n",
    "\n",
    "import celltypist as ct\n",
    "from celltypist import models"
   ]
  },
  {
   "cell_type": "code",
   "execution_count": null,
   "id": "0b34f247-62ba-41fa-8fb0-832ec8975548",
   "metadata": {},
   "outputs": [],
   "source": [
    "#Import models \n",
    "##Celltypist default model \n",
    "models.download_models(model = 'Immune_All_Low.pkl')\n",
    "\n",
    "##New Models\n",
    "model_1 = models.Model.load('New Models/ct_model_1.pkl')\n",
    "model_2 = models.Model.load('New Models/ct_model_2.pkl')\n",
    "model_3 = models.Model.load('New Models/ct_model_3.pkl')\n",
    "model_4 = models.Model.load('New Models/ct_model_4.pkl')"
   ]
  },
  {
   "cell_type": "code",
   "execution_count": null,
   "id": "a3ba64c9-21ff-4c85-ab68-758792e2a13f",
   "metadata": {},
   "outputs": [],
   "source": [
    "#Import test data - subset of Celltypist data \n",
    "test= ad.read('../../SOMETHING.h5ad')"
   ]
  },
  {
   "cell_type": "markdown",
   "id": "9aad6ec5-4d53-4273-8378-d0edee9ec8ed",
   "metadata": {},
   "source": [
    "#### Get celltype predictions from each model\n",
    "Model 1"
   ]
  },
  {
   "cell_type": "code",
   "execution_count": null,
   "id": "10f9c155-ef72-43ff-b324-6472a14b1b4f",
   "metadata": {},
   "outputs": [],
   "source": [
    "predictions_1 = celltypist.annotate(tetst, model = model_1, majority_voting = True)"
   ]
  },
  {
   "cell_type": "code",
   "execution_count": null,
   "id": "e04da4d7-1c0b-4028-a054-53d72981cbc5",
   "metadata": {},
   "outputs": [],
   "source": [
    "pred_adata1 = predictions_1.to_adata()"
   ]
  },
  {
   "cell_type": "markdown",
   "id": "0b2e0318-a609-4e92-b905-92a87a7349b3",
   "metadata": {},
   "source": [
    "Model 2"
   ]
  },
  {
   "cell_type": "code",
   "execution_count": null,
   "id": "bd02f1ac-0a83-45ae-a80c-abbc23e444fe",
   "metadata": {},
   "outputs": [],
   "source": [
    "predictions_2 = celltypist.annotate(tetst, model = model_2, majority_voting = True)"
   ]
  },
  {
   "cell_type": "code",
   "execution_count": null,
   "id": "d58b2e88-5222-49e6-8895-9a79610066a3",
   "metadata": {},
   "outputs": [],
   "source": [
    "pred_adata2 = predictions_2.to_adata()"
   ]
  },
  {
   "cell_type": "markdown",
   "id": "f53e37b0-87dd-43e8-ab55-2025a2e6d2bd",
   "metadata": {},
   "source": [
    "Model 3"
   ]
  },
  {
   "cell_type": "code",
   "execution_count": null,
   "id": "a8a1b849-c873-458b-9f9f-5409db85891f",
   "metadata": {},
   "outputs": [],
   "source": [
    "predictions_3 = celltypist.annotate(tetst, model = model_3, majority_voting = True)"
   ]
  },
  {
   "cell_type": "code",
   "execution_count": null,
   "id": "279c60fc-3459-410b-a1ac-be1e8c83f507",
   "metadata": {},
   "outputs": [],
   "source": [
    "pred_adata3 = predictions_3.to_adata()"
   ]
  },
  {
   "cell_type": "markdown",
   "id": "001709b7-af33-425c-98ec-bc61cab1da1b",
   "metadata": {},
   "source": [
    "Model 4"
   ]
  },
  {
   "cell_type": "code",
   "execution_count": null,
   "id": "525d93af-53f8-43c7-943d-043a8a0acc2b",
   "metadata": {},
   "outputs": [],
   "source": [
    "predictions_4 = celltypist.annotate(tetst, model = model_4, majority_voting = True)"
   ]
  },
  {
   "cell_type": "code",
   "execution_count": null,
   "id": "8508ff81-9869-4b08-823a-ae057edfa88c",
   "metadata": {},
   "outputs": [],
   "source": [
    "pred_adata4 = predictions_4.to_adata()"
   ]
  }
 ],
 "metadata": {
  "kernelspec": {
   "display_name": "Python 3 (ipykernel)",
   "language": "python",
   "name": "python3"
  },
  "language_info": {
   "codemirror_mode": {
    "name": "ipython",
    "version": 3
   },
   "file_extension": ".py",
   "mimetype": "text/x-python",
   "name": "python",
   "nbconvert_exporter": "python",
   "pygments_lexer": "ipython3",
   "version": "3.8.16"
  }
 },
 "nbformat": 4,
 "nbformat_minor": 5
}
