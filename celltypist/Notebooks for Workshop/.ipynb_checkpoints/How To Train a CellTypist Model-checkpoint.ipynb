{
 "cells": [
  {
   "cell_type": "markdown",
   "id": "96e53ad5-a4f9-40af-93f1-0e5e3b10dbd6",
   "metadata": {},
   "source": [
    "# How to train a model with CellTypist"
   ]
  },
  {
   "cell_type": "markdown",
   "id": "6dde301a-6d1e-49d9-bac9-e3eb68320e05",
   "metadata": {},
   "source": [
    "In order to train a CellTypist model we need a dataset that has a couple necessary features. Most importantly, this dataset needs to have cell type annotations for each cell that the classifier will use when training the dataset. "
   ]
  },
  {
   "cell_type": "markdown",
   "id": "bedbaa96-8559-41c7-99af-d5c208849943",
   "metadata": {},
   "source": [
    "## SAIL train function vs the original CellTypist train function "
   ]
  },
  {
   "cell_type": "markdown",
   "id": "efbcc489-b8c1-4fa1-bf0a-4acd1b6ba74a",
   "metadata": {},
   "source": [
    "We added some features to the original CellTypist to add some desired functionality. The primary addition is that the new train function also returns the list of genes that were chosen during feature selection (if feature selection doesn't happen, an empty dataframe is returned). It has the option to integrate Cytopus genes into the feature selection step. Cytopus is a Knowledge base of immune cell types and some of the commonly associated genes for each cell type. This \n",
    "\n",
    "In terms of the actual model being made, it is the same: it is a Logistic Regression classifier with Standard gradient decent. It uses L2 regression and mini-batches during training, and performs feature selection on the top 300 genes for each cell type. "
   ]
  },
  {
   "cell_type": "markdown",
   "id": "f56c49bd-bdc1-4d21-9ea4-6995fe5904e8",
   "metadata": {},
   "source": [
    "## Our Recommendations"
   ]
  },
  {
   "cell_type": "markdown",
   "id": "f199da4c-ab12-4ac6-985f-4636dceda8b9",
   "metadata": {},
   "source": [
    "The easiest type of data to work with when building a CellTypist model is AnnData saved as an h5ad file. The cell type annotations need to be saved in a column in .obs. \n",
    "\n",
    "In terms of normalization, we recommend normalizing to median library size of your data (https://www.nature.com/articles/s41592-023-01814-1) and then log normalize. CellTypist expects you to normalize to 10,000 counts per cell (and also log normalize), so it will throw an error if the 'check_expression' argument is set to False and it isn't normalized to the expected value. "
   ]
  },
  {
   "cell_type": "code",
   "execution_count": null,
   "id": "260808b9-da61-4ce2-a931-7420c1d445e6",
   "metadata": {},
   "outputs": [],
   "source": []
  }
 ],
 "metadata": {
  "kernelspec": {
   "display_name": "Python 3 (ipykernel)",
   "language": "python",
   "name": "python3"
  },
  "language_info": {
   "codemirror_mode": {
    "name": "ipython",
    "version": 3
   },
   "file_extension": ".py",
   "mimetype": "text/x-python",
   "name": "python",
   "nbconvert_exporter": "python",
   "pygments_lexer": "ipython3",
   "version": "3.11.4"
  }
 },
 "nbformat": 4,
 "nbformat_minor": 5
}
