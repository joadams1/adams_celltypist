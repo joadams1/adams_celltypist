{
 "cells": [
  {
   "cell_type": "markdown",
   "id": "96e53ad5-a4f9-40af-93f1-0e5e3b10dbd6",
   "metadata": {},
   "source": [
    "# How to train a model with CellTypist"
   ]
  },
  {
   "cell_type": "markdown",
   "id": "6dde301a-6d1e-49d9-bac9-e3eb68320e05",
   "metadata": {},
   "source": [
    "There are a few key components to the Vanilla CellTypist model training: \n",
    "1. It is a Logistic Regression Classifier that uses Standard Gradient Dissent.\n",
    "2. The classifer uses L2 regression (which is the default for this function) \n",
    "3. The model is trained once on all the genes that are provided. Then it performs feature selection where the top 300 genes are selected for every cell type, based on the coefficents from the classifer. The model is then retrained on the union of the selected genes, which is then the final model. \n",
    "\n",
    "For a visual representation of this workflow, see figure 1c from the Conde et al. 2022 paper. \n",
    "\n",
    "In order to train a CellTypist model we need a dataset that has a couple necessary features. Most importantly, this dataset needs to have cell type annotations for each cell that the classifier will use when training the dataset. Additionally, CellTypist works with scRNAseq data so you will need a cellxgene matrix with the raw (or normalized) counts from scRNA sequencing. "
   ]
  },
  {
   "cell_type": "markdown",
   "id": "bedbaa96-8559-41c7-99af-d5c208849943",
   "metadata": {},
   "source": [
    "## SAIL train function vs the original CellTypist train function "
   ]
  },
  {
   "cell_type": "markdown",
   "id": "efbcc489-b8c1-4fa1-bf0a-4acd1b6ba74a",
   "metadata": {},
   "source": [
    "We added some features to the original CellTypist to add some desired functionality:\n",
    "1. The primary addition is that the new train function also returns the list of genes that were chosen during feature selection (if feature selection doesn't happen, an empty dataframe is returned). It has the option to integrate Cytopus genes into the feature selection step. Cytopus is a Knowledge base of immune cell types and some of the commonly associated genes for each cell type. By ensuring that Cytopus genes are included in the feature selection, we are incorperating some prior knowledge into our model. \n",
    "2. The new train function also has a second output: a pandas DataFrame that shows which 300 genes were chosen for each cell type during feature selection. \n",
    "3. When training the classifier, we can now choose which sort of regularization to use (eg L1 instead of L2). Additionally, we can use one kind of normalization for the pre-feature selection training and then switch to a different kind for post-feature section training (either L2 -> L1 or L1 -> L2).\n",
    "4. There is now the option to input raw data in AnnData form and then it will be normalized to median library size.\n",
    "\n",
    "\n",
    "In terms of the actual mathematics behind the model, it is pretty much the same."
   ]
  },
  {
   "cell_type": "markdown",
   "id": "f56c49bd-bdc1-4d21-9ea4-6995fe5904e8",
   "metadata": {},
   "source": [
    "## Our Recommendations"
   ]
  },
  {
   "cell_type": "markdown",
   "id": "f199da4c-ab12-4ac6-985f-4636dceda8b9",
   "metadata": {},
   "source": [
    "The easiest type of data to work with when building a CellTypist model is AnnData saved as an h5ad file. The cell type annotations need to be saved in a column in .obs. "
   ]
  },
  {
   "cell_type": "code",
   "execution_count": null,
   "id": "e65c9837-1cb7-4408-9f01-1855339b7dac",
   "metadata": {},
   "outputs": [],
   "source": [
    "#load the data\n",
    "adata = ad.read('')\n",
    "adata"
   ]
  },
  {
   "cell_type": "markdown",
   "id": "0fa0c53a-cf7f-4c3e-a0b4-d23f45c16211",
   "metadata": {},
   "source": [
    "Before fully committing to a model, we recommend setting aside a portion of the data to test on once the model is trained. To do this, you will need to randomly split your data into train and test data, which you can do with the `train_test_split()` function. By default, this model will split the data 70/30, but you can change the percentage you want for training using the `frac` argument. If you intend to train your model using a lsf job, you will need to save this data. "
   ]
  },
  {
   "cell_type": "code",
   "execution_count": null,
   "id": "33c68d57-612e-4277-b0e1-83783e3a59e5",
   "metadata": {},
   "outputs": [],
   "source": [
    "train, test = train_test_split(adata)\n",
    "\n",
    "#save - change to your own directory\n",
    "train.write_h5ad('')\n",
    "test.write_h5ad('')"
   ]
  },
  {
   "cell_type": "markdown",
   "id": "ee36ad7b-856f-42d2-8ec4-58d79893a035",
   "metadata": {},
   "source": [
    "In terms of normalization, we recommend normalizing to median library size of your data (https://www.nature.com/articles/s41592-023-01814-1) or to 10,000 counts per cell and then log normalize. CellTypist expects you to normalize to 10,000 counts per cell (and also log normalize), so it will throw an error if the `check_expression` argument is set to False and it isn't normalized to the expected value. The `check_expression` argument defaults to False. Alternaitvately, you can also imput the raw data and set the `normalize` argument to True (default False). This will normlaize your data to median library size and then log normalize so you do not need to worry about it. "
   ]
  },
  {
   "cell_type": "code",
   "execution_count": null,
   "id": "260808b9-da61-4ce2-a931-7420c1d445e6",
   "metadata": {},
   "outputs": [],
   "source": [
    "# one way to check the normalization of your data:\n",
    "np.expm1(adata.X[0]).sum() #the number this produces should be very close to the value you normalized to (just looking at the first cell)"
   ]
  },
  {
   "cell_type": "markdown",
   "id": "15567389-913e-48eb-b38d-ba6210f5d7bf",
   "metadata": {},
   "source": [
    "One more thing we recommend you check before moving onto model training is the names of the columns, which should be the gene names. Please ensure that your gene IDs are the actual gene names and not the Ensemble ID's or other similar ID forms. This will produce a model that is much more interperatable. To check, look at the `.var_names` of you adata. If the variable names are the ensemble IDs, the gene names are often saved in a column in .var."
   ]
  },
  {
   "cell_type": "code",
   "execution_count": null,
   "id": "c8b7ca05-03fb-4575-892a-0a66b2827a84",
   "metadata": {},
   "outputs": [],
   "source": [
    "adata.var_names\n",
    "#adata.var = adata.var.set_index('feature_name')"
   ]
  }
 ],
 "metadata": {
  "kernelspec": {
   "display_name": "Python 3 (ipykernel)",
   "language": "python",
   "name": "python3"
  },
  "language_info": {
   "codemirror_mode": {
    "name": "ipython",
    "version": 3
   },
   "file_extension": ".py",
   "mimetype": "text/x-python",
   "name": "python",
   "nbconvert_exporter": "python",
   "pygments_lexer": "ipython3",
   "version": "3.11.4"
  }
 },
 "nbformat": 4,
 "nbformat_minor": 5
}
