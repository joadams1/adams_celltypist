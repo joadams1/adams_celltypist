{
 "cells": [
  {
   "cell_type": "markdown",
   "id": "9f862e03-2e11-47f2-b2a9-a320320d3c5d",
   "metadata": {},
   "source": [
    "# Working with CellTypist Example"
   ]
  },
  {
   "cell_type": "markdown",
   "id": "a2251de5-0adc-4ef4-8514-88aaf3b46161",
   "metadata": {},
   "source": [
    "?"
   ]
  },
  {
   "cell_type": "code",
   "execution_count": null,
   "id": "60ef3973-9814-4e33-9827-3eb34cacfe70",
   "metadata": {},
   "outputs": [],
   "source": []
  }
 ],
 "metadata": {
  "kernelspec": {
   "display_name": "Python 3 (ipykernel)",
   "language": "python",
   "name": "python3"
  },
  "language_info": {
   "codemirror_mode": {
    "name": "ipython",
    "version": 3
   },
   "file_extension": ".py",
   "mimetype": "text/x-python",
   "name": "python",
   "nbconvert_exporter": "python",
   "pygments_lexer": "ipython3",
   "version": "3.11.4"
  }
 },
 "nbformat": 4,
 "nbformat_minor": 5
}
