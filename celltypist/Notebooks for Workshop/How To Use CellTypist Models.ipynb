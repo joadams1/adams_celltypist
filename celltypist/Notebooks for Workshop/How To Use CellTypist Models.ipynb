{
 "cells": [
  {
   "cell_type": "markdown",
   "id": "3af9eab2-b62a-46c6-8b9b-ae1c53ce63e8",
   "metadata": {},
   "source": [
    "# How to get and use CellTypist models to annotate data"
   ]
  },
  {
   "cell_type": "markdown",
   "id": "98636aa1-08ee-4562-bd98-eb56f7209e34",
   "metadata": {},
   "source": [
    "CellTypist provides a variety of models avaliable to download from https://www.celltypist.org/models. As of 9/19/23, there are 36 models avaliable. All models are for immune cells, sourced from multiple different tissues, and vary in health and diseases. Models are saved as pickle files.\n",
    "\n",
    "The models that are trained on the CellTypist data are Immune_All_Low.pkl and Immune_All_High.pkl. They are the same except for the granularity of the data; the Low model has 98 cell types ('low resolution') and the high model has 32 ('high resolution'). You can read more about them and the data they were trained on in original CellTypist paper (https://doi.org/10.1126/science.abl5197). "
   ]
  },
  {
   "cell_type": "code",
   "execution_count": null,
   "id": "cf690ecc-1253-415a-9250-5861c587c17a",
   "metadata": {},
   "outputs": [],
   "source": []
  }
 ],
 "metadata": {
  "kernelspec": {
   "display_name": "Python 3 (ipykernel)",
   "language": "python",
   "name": "python3"
  },
  "language_info": {
   "codemirror_mode": {
    "name": "ipython",
    "version": 3
   },
   "file_extension": ".py",
   "mimetype": "text/x-python",
   "name": "python",
   "nbconvert_exporter": "python",
   "pygments_lexer": "ipython3",
   "version": "3.11.4"
  }
 },
 "nbformat": 4,
 "nbformat_minor": 5
}
